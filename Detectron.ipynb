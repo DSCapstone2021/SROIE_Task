{
 "cells": [
  {
   "cell_type": "code",
   "execution_count": 2,
   "metadata": {},
   "outputs": [
    {
     "name": "stdout",
     "output_type": "stream",
     "text": [
      "Looking in links: https://download.pytorch.org/whl/cu101/torch_stable.html\n",
      "Collecting torch\n",
      "\u001b[?25l  Downloading https://files.pythonhosted.org/packages/96/5f/d2157c05a2ff941a5c221982c28311802e1cde3c1b0279fc5cac17b0f39f/torch-1.7.1-cp37-none-macosx_10_9_x86_64.whl (108.8MB)\n",
      "\u001b[K     |████████████████████████████████| 108.8MB 18.0MB/s eta 0:00:01\n",
      "\u001b[?25hCollecting torchvision\n",
      "  Using cached https://files.pythonhosted.org/packages/8a/8f/cc7e0b18d73663786f28d70eced98cf10288a849687a10fc8fb60dbf7674/torchvision-0.8.2-cp37-cp37m-macosx_10_9_x86_64.whl\n",
      "Requirement already satisfied, skipping upgrade: numpy in /Users/shakakanenobu/opt/anaconda3/lib/python3.7/site-packages (from torch) (1.17.2)\n",
      "Requirement already satisfied, skipping upgrade: typing-extensions in /Users/shakakanenobu/opt/anaconda3/lib/python3.7/site-packages (from torch) (3.7.4.3)\n",
      "Requirement already satisfied, skipping upgrade: pillow>=4.1.1 in /Users/shakakanenobu/opt/anaconda3/lib/python3.7/site-packages (from torchvision) (8.1.0)\n",
      "Installing collected packages: torch, torchvision\n",
      "  Found existing installation: torch 1.5.0\n",
      "    Uninstalling torch-1.5.0:\n",
      "      Successfully uninstalled torch-1.5.0\n",
      "  Found existing installation: torchvision 0.6.0\n",
      "    Uninstalling torchvision-0.6.0:\n",
      "      Successfully uninstalled torchvision-0.6.0\n",
      "Successfully installed torch-1.7.1 torchvision-0.8.2\n",
      "Requirement already satisfied: cython in /Users/shakakanenobu/opt/anaconda3/lib/python3.7/site-packages (0.29.13)\n",
      "Requirement already satisfied: pyyaml in /Users/shakakanenobu/opt/anaconda3/lib/python3.7/site-packages (5.1.2)\n",
      "Collecting git+https://github.com/cocodataset/cocoapi.git#subdirectory=PythonAPI\n",
      "  Cloning https://github.com/cocodataset/cocoapi.git to /private/var/folders/r3/rgdn4p411xn1rxd_4jfb725w0000gn/T/pip-req-build-5tef5511\n",
      "  Running command git clone -q https://github.com/cocodataset/cocoapi.git /private/var/folders/r3/rgdn4p411xn1rxd_4jfb725w0000gn/T/pip-req-build-5tef5511\n",
      "Requirement already satisfied, skipping upgrade: setuptools>=18.0 in /Users/shakakanenobu/opt/anaconda3/lib/python3.7/site-packages (from pycocotools==2.0) (41.4.0)\n",
      "Requirement already satisfied, skipping upgrade: cython>=0.27.3 in /Users/shakakanenobu/opt/anaconda3/lib/python3.7/site-packages (from pycocotools==2.0) (0.29.13)\n",
      "Requirement already satisfied, skipping upgrade: matplotlib>=2.1.0 in /Users/shakakanenobu/opt/anaconda3/lib/python3.7/site-packages (from pycocotools==2.0) (3.1.1)\n",
      "Requirement already satisfied, skipping upgrade: cycler>=0.10 in /Users/shakakanenobu/opt/anaconda3/lib/python3.7/site-packages (from matplotlib>=2.1.0->pycocotools==2.0) (0.10.0)\n",
      "Requirement already satisfied, skipping upgrade: kiwisolver>=1.0.1 in /Users/shakakanenobu/opt/anaconda3/lib/python3.7/site-packages (from matplotlib>=2.1.0->pycocotools==2.0) (1.1.0)\n",
      "Requirement already satisfied, skipping upgrade: pyparsing!=2.0.4,!=2.1.2,!=2.1.6,>=2.0.1 in /Users/shakakanenobu/opt/anaconda3/lib/python3.7/site-packages (from matplotlib>=2.1.0->pycocotools==2.0) (2.4.2)\n",
      "Requirement already satisfied, skipping upgrade: python-dateutil>=2.1 in /Users/shakakanenobu/opt/anaconda3/lib/python3.7/site-packages (from matplotlib>=2.1.0->pycocotools==2.0) (2.8.0)\n",
      "Requirement already satisfied, skipping upgrade: numpy>=1.11 in /Users/shakakanenobu/opt/anaconda3/lib/python3.7/site-packages (from matplotlib>=2.1.0->pycocotools==2.0) (1.17.2)\n",
      "Requirement already satisfied, skipping upgrade: six in /Users/shakakanenobu/opt/anaconda3/lib/python3.7/site-packages (from cycler>=0.10->matplotlib>=2.1.0->pycocotools==2.0) (1.12.0)\n",
      "Building wheels for collected packages: pycocotools\n",
      "  Building wheel for pycocotools (setup.py) ... \u001b[?25ldone\n",
      "\u001b[?25h  Created wheel for pycocotools: filename=pycocotools-2.0-cp37-cp37m-macosx_10_9_x86_64.whl size=93549 sha256=c88f3109dded89950167fc0264619ce7dbdd6314b6df7d754da53e8be891acde\n",
      "  Stored in directory: /private/var/folders/r3/rgdn4p411xn1rxd_4jfb725w0000gn/T/pip-ephem-wheel-cache-pbv3za6l/wheels/90/51/41/646daf401c3bc408ff10de34ec76587a9b3ebfac8d21ca5c3a\n",
      "Successfully built pycocotools\n",
      "\u001b[31mERROR: detectron2 0.3 has requirement pycocotools>=2.0.2, but you'll have pycocotools 2.0 which is incompatible.\u001b[0m\n",
      "Installing collected packages: pycocotools\n",
      "  Found existing installation: pycocotools 2.0\n",
      "    Uninstalling pycocotools-2.0:\n",
      "      Successfully uninstalled pycocotools-2.0\n",
      "Successfully installed pycocotools-2.0\n",
      "1.5.0 False\n",
      "Configured with: --prefix=/Applications/Xcode.app/Contents/Developer/usr --with-gxx-include-dir=/Applications/Xcode.app/Contents/Developer/Platforms/MacOSX.platform/Developer/SDKs/MacOSX.sdk/usr/include/c++/4.2.1\n",
      "Apple clang version 12.0.0 (clang-1200.0.32.29)\n",
      "Target: x86_64-apple-darwin20.2.0\n",
      "Thread model: posix\n",
      "InstalledDir: /Applications/Xcode.app/Contents/Developer/Toolchains/XcodeDefault.xctoolchain/usr/bin\n"
     ]
    }
   ],
   "source": [
    "!pip install -U torch torchvision -f https://download.pytorch.org/whl/cu101/torch_stable.html \n",
    "!pip install cython pyyaml\n",
    "!pip install -U 'git+https://github.com/cocodataset/cocoapi.git#subdirectory=PythonAPI'\n",
    "import torch, torchvision\n",
    "print(torch.__version__, torch.cuda.is_available())\n",
    "!gcc --version"
   ]
  },
  {
   "cell_type": "code",
   "execution_count": 4,
   "metadata": {},
   "outputs": [
    {
     "name": "stdout",
     "output_type": "stream",
     "text": [
      "Looking in links: https://dl.fbaipublicfiles.com/detectron2/wheels/cu101/torch1.5/index.html\n",
      "Requirement already satisfied: detectron2 in /Users/shakakanenobu/.local/lib/python3.7/site-packages (0.3)\n",
      "Requirement already satisfied: Pillow>=7.1 in /Users/shakakanenobu/opt/anaconda3/lib/python3.7/site-packages (from detectron2) (8.1.0)\n",
      "Requirement already satisfied: tabulate in /Users/shakakanenobu/opt/anaconda3/lib/python3.7/site-packages (from detectron2) (0.8.7)\n",
      "Requirement already satisfied: tensorboard in /Users/shakakanenobu/.local/lib/python3.7/site-packages (from detectron2) (2.4.1)\n",
      "Requirement already satisfied: cloudpickle in /Users/shakakanenobu/opt/anaconda3/lib/python3.7/site-packages (from detectron2) (1.2.2)\n",
      "Requirement already satisfied: fvcore<0.1.4,>=0.1.3 in /Users/shakakanenobu/.local/lib/python3.7/site-packages (from detectron2) (0.1.3.post20210204)\n",
      "Requirement already satisfied: iopath>=0.1.2 in /Users/shakakanenobu/.local/lib/python3.7/site-packages (from detectron2) (0.1.3)\n",
      "Requirement already satisfied: yacs>=0.1.6 in /Users/shakakanenobu/opt/anaconda3/lib/python3.7/site-packages (from detectron2) (0.1.8)\n",
      "Requirement already satisfied: termcolor>=1.1 in /Users/shakakanenobu/opt/anaconda3/lib/python3.7/site-packages (from detectron2) (1.1.0)\n",
      "Requirement already satisfied: pydot in /Users/shakakanenobu/.local/lib/python3.7/site-packages (from detectron2) (1.4.1)\n",
      "Collecting pycocotools>=2.0.2 (from detectron2)\n",
      "Requirement already satisfied: matplotlib in /Users/shakakanenobu/opt/anaconda3/lib/python3.7/site-packages (from detectron2) (3.1.1)\n",
      "Requirement already satisfied: future in /Users/shakakanenobu/opt/anaconda3/lib/python3.7/site-packages (from detectron2) (0.18.2)\n",
      "Requirement already satisfied: tqdm>4.29.0 in /Users/shakakanenobu/opt/anaconda3/lib/python3.7/site-packages (from detectron2) (4.36.1)\n",
      "Requirement already satisfied: google-auth<2,>=1.6.3 in /Users/shakakanenobu/.local/lib/python3.7/site-packages (from tensorboard->detectron2) (1.11.2)\n",
      "Requirement already satisfied: google-auth-oauthlib<0.5,>=0.4.1 in /Users/shakakanenobu/.local/lib/python3.7/site-packages (from tensorboard->detectron2) (0.4.2)\n",
      "Requirement already satisfied: absl-py>=0.4 in /Users/shakakanenobu/opt/anaconda3/lib/python3.7/site-packages (from tensorboard->detectron2) (0.11.0)\n",
      "Requirement already satisfied: six>=1.10.0 in /Users/shakakanenobu/opt/anaconda3/lib/python3.7/site-packages (from tensorboard->detectron2) (1.12.0)\n",
      "Requirement already satisfied: wheel>=0.26; python_version >= \"3\" in /Users/shakakanenobu/opt/anaconda3/lib/python3.7/site-packages (from tensorboard->detectron2) (0.33.6)\n",
      "Requirement already satisfied: grpcio>=1.24.3 in /Users/shakakanenobu/.local/lib/python3.7/site-packages (from tensorboard->detectron2) (1.27.2)\n",
      "Requirement already satisfied: requests<3,>=2.21.0 in /Users/shakakanenobu/.local/lib/python3.7/site-packages (from tensorboard->detectron2) (2.25.1)\n",
      "Requirement already satisfied: setuptools>=41.0.0 in /Users/shakakanenobu/opt/anaconda3/lib/python3.7/site-packages (from tensorboard->detectron2) (41.4.0)\n",
      "Requirement already satisfied: markdown>=2.6.8 in /Users/shakakanenobu/opt/anaconda3/lib/python3.7/site-packages (from tensorboard->detectron2) (3.3.3)\n",
      "Requirement already satisfied: numpy>=1.12.0 in /Users/shakakanenobu/opt/anaconda3/lib/python3.7/site-packages (from tensorboard->detectron2) (1.17.2)\n",
      "Requirement already satisfied: protobuf>=3.6.0 in /Users/shakakanenobu/opt/anaconda3/lib/python3.7/site-packages (from tensorboard->detectron2) (3.11.3)\n",
      "Requirement already satisfied: werkzeug>=0.11.15 in /Users/shakakanenobu/opt/anaconda3/lib/python3.7/site-packages (from tensorboard->detectron2) (0.16.0)\n",
      "Requirement already satisfied: tensorboard-plugin-wit>=1.6.0 in /Users/shakakanenobu/opt/anaconda3/lib/python3.7/site-packages (from tensorboard->detectron2) (1.8.0)\n",
      "Requirement already satisfied: pyyaml>=5.1 in /Users/shakakanenobu/opt/anaconda3/lib/python3.7/site-packages (from fvcore<0.1.4,>=0.1.3->detectron2) (5.1.2)\n",
      "Requirement already satisfied: portalocker in /Users/shakakanenobu/.local/lib/python3.7/site-packages (from iopath>=0.1.2->detectron2) (2.2.1)\n",
      "Requirement already satisfied: pyparsing>=2.1.4 in /Users/shakakanenobu/opt/anaconda3/lib/python3.7/site-packages (from pydot->detectron2) (2.4.2)\n",
      "Requirement already satisfied: cython>=0.27.3 in /Users/shakakanenobu/opt/anaconda3/lib/python3.7/site-packages (from pycocotools>=2.0.2->detectron2) (0.29.13)\n",
      "Requirement already satisfied: cycler>=0.10 in /Users/shakakanenobu/opt/anaconda3/lib/python3.7/site-packages (from matplotlib->detectron2) (0.10.0)\n",
      "Requirement already satisfied: kiwisolver>=1.0.1 in /Users/shakakanenobu/opt/anaconda3/lib/python3.7/site-packages (from matplotlib->detectron2) (1.1.0)\n",
      "Requirement already satisfied: python-dateutil>=2.1 in /Users/shakakanenobu/opt/anaconda3/lib/python3.7/site-packages (from matplotlib->detectron2) (2.8.0)\n",
      "Requirement already satisfied: cachetools<5.0,>=2.0.0 in /Users/shakakanenobu/opt/anaconda3/lib/python3.7/site-packages (from google-auth<2,>=1.6.3->tensorboard->detectron2) (4.0.0)\n",
      "Requirement already satisfied: pyasn1-modules>=0.2.1 in /Users/shakakanenobu/opt/anaconda3/lib/python3.7/site-packages (from google-auth<2,>=1.6.3->tensorboard->detectron2) (0.2.8)\n",
      "Requirement already satisfied: rsa<4.1,>=3.1.4 in /Users/shakakanenobu/opt/anaconda3/lib/python3.7/site-packages (from google-auth<2,>=1.6.3->tensorboard->detectron2) (4.0)\n",
      "Requirement already satisfied: requests-oauthlib>=0.7.0 in /Users/shakakanenobu/.local/lib/python3.7/site-packages (from google-auth-oauthlib<0.5,>=0.4.1->tensorboard->detectron2) (1.3.0)\n",
      "Requirement already satisfied: chardet<5,>=3.0.2 in /Users/shakakanenobu/opt/anaconda3/lib/python3.7/site-packages (from requests<3,>=2.21.0->tensorboard->detectron2) (3.0.4)\n",
      "Requirement already satisfied: urllib3<1.27,>=1.21.1 in /Users/shakakanenobu/opt/anaconda3/lib/python3.7/site-packages (from requests<3,>=2.21.0->tensorboard->detectron2) (1.24.2)\n",
      "Requirement already satisfied: idna<3,>=2.5 in /Users/shakakanenobu/opt/anaconda3/lib/python3.7/site-packages (from requests<3,>=2.21.0->tensorboard->detectron2) (2.8)\n",
      "Requirement already satisfied: certifi>=2017.4.17 in /Users/shakakanenobu/opt/anaconda3/lib/python3.7/site-packages (from requests<3,>=2.21.0->tensorboard->detectron2) (2019.9.11)\n",
      "Requirement already satisfied: importlib-metadata; python_version < \"3.8\" in /Users/shakakanenobu/opt/anaconda3/lib/python3.7/site-packages (from markdown>=2.6.8->tensorboard->detectron2) (0.23)\n",
      "Requirement already satisfied: pyasn1<0.5.0,>=0.4.6 in /Users/shakakanenobu/opt/anaconda3/lib/python3.7/site-packages (from pyasn1-modules>=0.2.1->google-auth<2,>=1.6.3->tensorboard->detectron2) (0.4.8)\n",
      "Requirement already satisfied: oauthlib>=3.0.0 in /Users/shakakanenobu/.local/lib/python3.7/site-packages (from requests-oauthlib>=0.7.0->google-auth-oauthlib<0.5,>=0.4.1->tensorboard->detectron2) (3.1.0)\n",
      "Requirement already satisfied: zipp>=0.5 in /Users/shakakanenobu/opt/anaconda3/lib/python3.7/site-packages (from importlib-metadata; python_version < \"3.8\"->markdown>=2.6.8->tensorboard->detectron2) (0.6.0)\n",
      "Requirement already satisfied: more-itertools in /Users/shakakanenobu/opt/anaconda3/lib/python3.7/site-packages (from zipp>=0.5->importlib-metadata; python_version < \"3.8\"->markdown>=2.6.8->tensorboard->detectron2) (7.2.0)\n",
      "Installing collected packages: pycocotools\n",
      "  Found existing installation: pycocotools 2.0\n",
      "    Uninstalling pycocotools-2.0:\n",
      "      Successfully uninstalled pycocotools-2.0\n",
      "Successfully installed pycocotools-2.0.2\n"
     ]
    }
   ],
   "source": [
    "# install detectron2:\n",
    "!pip install detectron2 -f https://dl.fbaipublicfiles.com/detectron2/wheels/cu101/torch1.5/index.html"
   ]
  },
  {
   "cell_type": "code",
   "execution_count": 6,
   "metadata": {},
   "outputs": [
    {
     "name": "stdout",
     "output_type": "stream",
     "text": [
      "Collecting opencv-python\n",
      "\u001b[?25l  Downloading https://files.pythonhosted.org/packages/81/44/8f37035f0558e597108e5aa7952f7b422a6eb1275b24f7d31027171700d0/opencv_python-4.5.1.48-cp37-cp37m-macosx_10_13_x86_64.whl (40.3MB)\n",
      "\u001b[K     |████████████████████████████████| 40.3MB 10.3MB/s eta 0:00:01\n",
      "\u001b[?25hRequirement already satisfied: numpy>=1.14.5 in /Users/shakakanenobu/opt/anaconda3/lib/python3.7/site-packages (from opencv-python) (1.17.2)\n",
      "Installing collected packages: opencv-python\n",
      "Successfully installed opencv-python-4.5.1.48\n"
     ]
    }
   ],
   "source": [
    "!pip install opencv-python\n",
    "# install detectron2:\n",
    "# !pip install detectron2 -f https://dl.fbaipublicfiles.com/detectron2/wheels/cu101/torch1.5/index.html"
   ]
  },
  {
   "cell_type": "code",
   "execution_count": 9,
   "metadata": {
    "scrolled": false
   },
   "outputs": [
    {
     "ename": "ImportError",
     "evalue": "dlopen(/Users/shakakanenobu/.local/lib/python3.7/site-packages/detectron2/_C.cpython-37m-darwin.so, 2): Symbol not found: __ZN2at5emptyEN3c108ArrayRefIxEERKNS0_13TensorOptionsENS0_8optionalINS0_12MemoryFormatEEE\n  Referenced from: /Users/shakakanenobu/.local/lib/python3.7/site-packages/detectron2/_C.cpython-37m-darwin.so\n  Expected in: /Users/shakakanenobu/opt/anaconda3/lib/python3.7/site-packages/torch/lib/libtorch_cpu.dylib\n in /Users/shakakanenobu/.local/lib/python3.7/site-packages/detectron2/_C.cpython-37m-darwin.so",
     "output_type": "error",
     "traceback": [
      "\u001b[0;31m---------------------------------------------------------------------------\u001b[0m",
      "\u001b[0;31mImportError\u001b[0m                               Traceback (most recent call last)",
      "\u001b[0;32m<ipython-input-9-095bbda2e9ba>\u001b[0m in \u001b[0;36m<module>\u001b[0;34m\u001b[0m\n\u001b[1;32m     12\u001b[0m \u001b[0;34m\u001b[0m\u001b[0m\n\u001b[1;32m     13\u001b[0m \u001b[0;31m# import some common detectron2 utilities\u001b[0m\u001b[0;34m\u001b[0m\u001b[0;34m\u001b[0m\u001b[0;34m\u001b[0m\u001b[0m\n\u001b[0;32m---> 14\u001b[0;31m \u001b[0;32mfrom\u001b[0m \u001b[0mdetectron2\u001b[0m \u001b[0;32mimport\u001b[0m \u001b[0mmodel_zoo\u001b[0m\u001b[0;34m\u001b[0m\u001b[0;34m\u001b[0m\u001b[0m\n\u001b[0m\u001b[1;32m     15\u001b[0m \u001b[0;32mfrom\u001b[0m \u001b[0mdetectron2\u001b[0m\u001b[0;34m.\u001b[0m\u001b[0mengine\u001b[0m \u001b[0;32mimport\u001b[0m \u001b[0mDefaultPredictor\u001b[0m\u001b[0;34m\u001b[0m\u001b[0;34m\u001b[0m\u001b[0m\n\u001b[1;32m     16\u001b[0m \u001b[0;32mfrom\u001b[0m \u001b[0mdetectron2\u001b[0m\u001b[0;34m.\u001b[0m\u001b[0mconfig\u001b[0m \u001b[0;32mimport\u001b[0m \u001b[0mget_cfg\u001b[0m\u001b[0;34m\u001b[0m\u001b[0;34m\u001b[0m\u001b[0m\n",
      "\u001b[0;32m~/.local/lib/python3.7/site-packages/detectron2/model_zoo/__init__.py\u001b[0m in \u001b[0;36m<module>\u001b[0;34m\u001b[0m\n\u001b[1;32m      6\u001b[0m \"\"\"\n\u001b[1;32m      7\u001b[0m \u001b[0;34m\u001b[0m\u001b[0m\n\u001b[0;32m----> 8\u001b[0;31m \u001b[0;32mfrom\u001b[0m \u001b[0;34m.\u001b[0m\u001b[0mmodel_zoo\u001b[0m \u001b[0;32mimport\u001b[0m \u001b[0mget\u001b[0m\u001b[0;34m,\u001b[0m \u001b[0mget_config_file\u001b[0m\u001b[0;34m,\u001b[0m \u001b[0mget_checkpoint_url\u001b[0m\u001b[0;34m,\u001b[0m \u001b[0mget_config\u001b[0m\u001b[0;34m\u001b[0m\u001b[0;34m\u001b[0m\u001b[0m\n\u001b[0m\u001b[1;32m      9\u001b[0m \u001b[0;34m\u001b[0m\u001b[0m\n\u001b[1;32m     10\u001b[0m \u001b[0m__all__\u001b[0m \u001b[0;34m=\u001b[0m \u001b[0;34m[\u001b[0m\u001b[0;34m\"get_checkpoint_url\"\u001b[0m\u001b[0;34m,\u001b[0m \u001b[0;34m\"get\"\u001b[0m\u001b[0;34m,\u001b[0m \u001b[0;34m\"get_config_file\"\u001b[0m\u001b[0;34m,\u001b[0m \u001b[0;34m\"get_config\"\u001b[0m\u001b[0;34m]\u001b[0m\u001b[0;34m\u001b[0m\u001b[0;34m\u001b[0m\u001b[0m\n",
      "\u001b[0;32m~/.local/lib/python3.7/site-packages/detectron2/model_zoo/model_zoo.py\u001b[0m in \u001b[0;36m<module>\u001b[0;34m\u001b[0m\n\u001b[1;32m      7\u001b[0m \u001b[0;32mfrom\u001b[0m \u001b[0mdetectron2\u001b[0m\u001b[0;34m.\u001b[0m\u001b[0mcheckpoint\u001b[0m \u001b[0;32mimport\u001b[0m \u001b[0mDetectionCheckpointer\u001b[0m\u001b[0;34m\u001b[0m\u001b[0;34m\u001b[0m\u001b[0m\n\u001b[1;32m      8\u001b[0m \u001b[0;32mfrom\u001b[0m \u001b[0mdetectron2\u001b[0m\u001b[0;34m.\u001b[0m\u001b[0mconfig\u001b[0m \u001b[0;32mimport\u001b[0m \u001b[0mget_cfg\u001b[0m\u001b[0;34m\u001b[0m\u001b[0;34m\u001b[0m\u001b[0m\n\u001b[0;32m----> 9\u001b[0;31m \u001b[0;32mfrom\u001b[0m \u001b[0mdetectron2\u001b[0m\u001b[0;34m.\u001b[0m\u001b[0mmodeling\u001b[0m \u001b[0;32mimport\u001b[0m \u001b[0mbuild_model\u001b[0m\u001b[0;34m\u001b[0m\u001b[0;34m\u001b[0m\u001b[0m\n\u001b[0m\u001b[1;32m     10\u001b[0m \u001b[0;34m\u001b[0m\u001b[0m\n\u001b[1;32m     11\u001b[0m \u001b[0;34m\u001b[0m\u001b[0m\n",
      "\u001b[0;32m~/.local/lib/python3.7/site-packages/detectron2/modeling/__init__.py\u001b[0m in \u001b[0;36m<module>\u001b[0;34m\u001b[0m\n\u001b[1;32m      1\u001b[0m \u001b[0;31m# Copyright (c) Facebook, Inc. and its affiliates.\u001b[0m\u001b[0;34m\u001b[0m\u001b[0;34m\u001b[0m\u001b[0;34m\u001b[0m\u001b[0m\n\u001b[0;32m----> 2\u001b[0;31m \u001b[0;32mfrom\u001b[0m \u001b[0mdetectron2\u001b[0m\u001b[0;34m.\u001b[0m\u001b[0mlayers\u001b[0m \u001b[0;32mimport\u001b[0m \u001b[0mShapeSpec\u001b[0m\u001b[0;34m\u001b[0m\u001b[0;34m\u001b[0m\u001b[0m\n\u001b[0m\u001b[1;32m      3\u001b[0m \u001b[0;34m\u001b[0m\u001b[0m\n\u001b[1;32m      4\u001b[0m \u001b[0;32mfrom\u001b[0m \u001b[0;34m.\u001b[0m\u001b[0manchor_generator\u001b[0m \u001b[0;32mimport\u001b[0m \u001b[0mbuild_anchor_generator\u001b[0m\u001b[0;34m,\u001b[0m \u001b[0mANCHOR_GENERATOR_REGISTRY\u001b[0m\u001b[0;34m\u001b[0m\u001b[0;34m\u001b[0m\u001b[0m\n\u001b[1;32m      5\u001b[0m from .backbone import (\n",
      "\u001b[0;32m~/.local/lib/python3.7/site-packages/detectron2/layers/__init__.py\u001b[0m in \u001b[0;36m<module>\u001b[0;34m\u001b[0m\n\u001b[1;32m      1\u001b[0m \u001b[0;31m# Copyright (c) Facebook, Inc. and its affiliates.\u001b[0m\u001b[0;34m\u001b[0m\u001b[0;34m\u001b[0m\u001b[0;34m\u001b[0m\u001b[0m\n\u001b[1;32m      2\u001b[0m \u001b[0;32mfrom\u001b[0m \u001b[0;34m.\u001b[0m\u001b[0mbatch_norm\u001b[0m \u001b[0;32mimport\u001b[0m \u001b[0mFrozenBatchNorm2d\u001b[0m\u001b[0;34m,\u001b[0m \u001b[0mget_norm\u001b[0m\u001b[0;34m,\u001b[0m \u001b[0mNaiveSyncBatchNorm\u001b[0m\u001b[0;34m\u001b[0m\u001b[0;34m\u001b[0m\u001b[0m\n\u001b[0;32m----> 3\u001b[0;31m \u001b[0;32mfrom\u001b[0m \u001b[0;34m.\u001b[0m\u001b[0mdeform_conv\u001b[0m \u001b[0;32mimport\u001b[0m \u001b[0mDeformConv\u001b[0m\u001b[0;34m,\u001b[0m \u001b[0mModulatedDeformConv\u001b[0m\u001b[0;34m\u001b[0m\u001b[0;34m\u001b[0m\u001b[0m\n\u001b[0m\u001b[1;32m      4\u001b[0m \u001b[0;32mfrom\u001b[0m \u001b[0;34m.\u001b[0m\u001b[0mmask_ops\u001b[0m \u001b[0;32mimport\u001b[0m \u001b[0mpaste_masks_in_image\u001b[0m\u001b[0;34m\u001b[0m\u001b[0;34m\u001b[0m\u001b[0m\n\u001b[1;32m      5\u001b[0m \u001b[0;32mfrom\u001b[0m \u001b[0;34m.\u001b[0m\u001b[0mnms\u001b[0m \u001b[0;32mimport\u001b[0m \u001b[0mbatched_nms\u001b[0m\u001b[0;34m,\u001b[0m \u001b[0mbatched_nms_rotated\u001b[0m\u001b[0;34m,\u001b[0m \u001b[0mnms\u001b[0m\u001b[0;34m,\u001b[0m \u001b[0mnms_rotated\u001b[0m\u001b[0;34m\u001b[0m\u001b[0;34m\u001b[0m\u001b[0m\n",
      "\u001b[0;32m~/.local/lib/python3.7/site-packages/detectron2/layers/deform_conv.py\u001b[0m in \u001b[0;36m<module>\u001b[0;34m\u001b[0m\n\u001b[1;32m      9\u001b[0m \u001b[0;32mfrom\u001b[0m \u001b[0mtorchvision\u001b[0m\u001b[0;34m.\u001b[0m\u001b[0mops\u001b[0m \u001b[0;32mimport\u001b[0m \u001b[0mdeform_conv2d\u001b[0m\u001b[0;34m\u001b[0m\u001b[0;34m\u001b[0m\u001b[0m\n\u001b[1;32m     10\u001b[0m \u001b[0;34m\u001b[0m\u001b[0m\n\u001b[0;32m---> 11\u001b[0;31m \u001b[0;32mfrom\u001b[0m \u001b[0mdetectron2\u001b[0m \u001b[0;32mimport\u001b[0m \u001b[0m_C\u001b[0m\u001b[0;34m\u001b[0m\u001b[0;34m\u001b[0m\u001b[0m\n\u001b[0m\u001b[1;32m     12\u001b[0m \u001b[0;34m\u001b[0m\u001b[0m\n\u001b[1;32m     13\u001b[0m \u001b[0;32mfrom\u001b[0m \u001b[0;34m.\u001b[0m\u001b[0mwrappers\u001b[0m \u001b[0;32mimport\u001b[0m \u001b[0m_NewEmptyTensorOp\u001b[0m\u001b[0;34m\u001b[0m\u001b[0;34m\u001b[0m\u001b[0m\n",
      "\u001b[0;31mImportError\u001b[0m: dlopen(/Users/shakakanenobu/.local/lib/python3.7/site-packages/detectron2/_C.cpython-37m-darwin.so, 2): Symbol not found: __ZN2at5emptyEN3c108ArrayRefIxEERKNS0_13TensorOptionsENS0_8optionalINS0_12MemoryFormatEEE\n  Referenced from: /Users/shakakanenobu/.local/lib/python3.7/site-packages/detectron2/_C.cpython-37m-darwin.so\n  Expected in: /Users/shakakanenobu/opt/anaconda3/lib/python3.7/site-packages/torch/lib/libtorch_cpu.dylib\n in /Users/shakakanenobu/.local/lib/python3.7/site-packages/detectron2/_C.cpython-37m-darwin.so"
     ]
    }
   ],
   "source": [
    "# You may need to restart your runtime prior to this, to let your installation take effect\n",
    "import detectron2\n",
    "from detectron2.utils.logger import setup_logger\n",
    "setup_logger()\n",
    "\n",
    "# import some common libraries\n",
    "import numpy as np\n",
    "import cv2\n",
    "import random\n",
    "# from google.colab.patches import cv2_imshow\n",
    "from matplotlib import pyplot as plt\n",
    "\n",
    "# import some common detectron2 utilities\n",
    "from detectron2 import model_zoo\n",
    "from detectron2.engine import DefaultPredictor\n",
    "from detectron2.config import get_cfg\n",
    "from detectron2.utils.visualizer import Visualizer\n",
    "from detectron2.data import MetadataCatalog"
   ]
  },
  {
   "cell_type": "code",
   "execution_count": null,
   "metadata": {},
   "outputs": [],
   "source": [
    "import json\n",
    "from detectron2.structures import BoxMode\n",
    "def get_board_dicts(imgdir):\n",
    "    json_file = imgdir+\"/dataset.json\"\n",
    "    with open(json_file) as f:\n",
    "        dataset_dicts = json.load(f)\n",
    "    for i in dataset_dicts:\n",
    "        filename = i[\"file_name\"] \n",
    "        i[\"file_name\"] = imgdir+\"/\"+filename \n",
    "        for j in i[\"annotations\"]:\n",
    "            j[\"bbox_mode\"] = BoxMode.XYWH_ABS\n",
    "            j[\"category_id\"] = int(j[\"category_id\"])\n",
    "    return dataset_dicts\n",
    "from detectron2.data import DatasetCatalog, MetadataCatalog\n",
    "for d in [\"train\", \"val\"]:\n",
    "    DatasetCatalog.register(\"boardetect_\" + d, lambda d=d: get_board_dicts(\"Text_Detection_Dataset_COCO_Format/\" + d))\n",
    "    MetadataCatalog.get(\"boardetect_\" + d).set(thing_classes=[\"HINDI\",\"ENGLISH\",\"OTHER\"])\n",
    "board_metadata = MetadataCatalog.get(\"boardetect_train\")"
   ]
  },
  {
   "cell_type": "code",
   "execution_count": null,
   "metadata": {},
   "outputs": [],
   "source": [
    "dataset_dicts = get_board_dicts(\"Text_Detection_Dataset_COCO_Format/train\")\n",
    "for d in random.sample(dataset_dicts, 3):\n",
    "    img = cv2.imread(d[\"file_name\"])\n",
    "    visualizer = Visualizer(img[:, :, ::-1], metadata=board_metadata)\n",
    "    vis = visualizer.draw_dataset_dict(d)\n",
    "    cv2_imshow(vis.get_image()[:, :, ::-1])"
   ]
  },
  {
   "cell_type": "code",
   "execution_count": null,
   "metadata": {},
   "outputs": [],
   "source": [
    "#We are importing our own Trainer Module here to use the COCO validation evaluation during training. Otherwise no validation eval occurs.\n",
    "\n",
    "from detectron2.engine import DefaultTrainer\n",
    "from detectron2.evaluation import COCOEvaluator\n",
    "\n",
    "class CocoTrainer(DefaultTrainer):\n",
    "\n",
    "  @classmethod\n",
    "  def build_evaluator(cls, cfg, dataset_name, output_folder=None):\n",
    "\n",
    "    if output_folder is None:\n",
    "        os.makedirs(\"coco_eval\", exist_ok=True)\n",
    "        output_folder = \"coco_eval\"\n",
    "\n",
    "    return COCOEvaluator(dataset_name, cfg, False, output_folder)"
   ]
  },
  {
   "cell_type": "code",
   "execution_count": null,
   "metadata": {},
   "outputs": [],
   "source": [
    "from detectron2.engine import DefaultTrainer\n",
    "from detectron2.config import get_cfg\n",
    "import os\n",
    "cfg = get_cfg()\n",
    "cfg.merge_from_file(model_zoo.get_config_file(\"COCO-Detection/faster_rcnn_R_50_FPN_3x.yaml\"))\n",
    "cfg.DATASETS.TRAIN = (\"boardetect_train\",)\n",
    "cfg.DATASETS.TEST = (\"boardetect_val\",)\n",
    "cfg.DATALOADER.NUM_WORKERS = 4\n",
    "cfg.MODEL.WEIGHTS = model_zoo.get_checkpoint_url(\"COCO-Detection/faster_rcnn_R_50_FPN_3x.yaml\")  # Let training initialize from model zoo\n",
    "cfg.SOLVER.IMS_PER_BATCH = 4\n",
    "cfg.SOLVER.BASE_LR = 0.0125  # pick a good LR\n",
    "cfg.SOLVER.MAX_ITER = 1500   \n",
    "cfg.MODEL.ROI_HEADS.BATCH_SIZE_PER_IMAGE = 256  \n",
    "cfg.MODEL.ROI_HEADS.NUM_CLASSES = 3 # No. of classes = [HINDI, ENGLISH, OTHER]\n",
    "cfg.TEST.EVAL_PERIOD = 500\n",
    "os.makedirs(cfg.OUTPUT_DIR, exist_ok=True)\n",
    "trainer = CocoTrainer(cfg) \n",
    "trainer.resume_or_load(resume=False)\n",
    "trainer.train()"
   ]
  },
  {
   "cell_type": "code",
   "execution_count": null,
   "metadata": {},
   "outputs": [],
   "source": [
    "cfg.MODEL.WEIGHTS = os.path.join(cfg.OUTPUT_DIR, \"model_final.pth\")\n",
    "cfg.MODEL.ROI_HEADS.SCORE_THRESH_TEST = 0.8  # set the testing threshold for this model\n",
    "cfg.DATASETS.TEST = (\"boardetect_val\", )\n",
    "predictor = DefaultPredictor(cfg)"
   ]
  },
  {
   "cell_type": "code",
   "execution_count": null,
   "metadata": {},
   "outputs": [],
   "source": [
    "from detectron2.utils.visualizer import ColorMode\n",
    "dataset_dicts = get_board_dicts(\"Text_Detection_Dataset_COCO_Format/Text_Detection_Dataset_COCO_Format/val\")\n",
    "for d in random.sample(dataset_dicts, 3):    \n",
    "    im = cv2.imread(d[\"file_name\"])\n",
    "    outputs = predictor(im)\n",
    "    v = Visualizer(im[:, :, ::-1],\n",
    "                   metadata=board_metadata, \n",
    "                   scale=0.8,\n",
    "                   instance_mode=ColorMode.IMAGE   # remove the colors of unsegmented pixels\n",
    "    )\n",
    "    v = v.draw_instance_predictions(outputs[\"instances\"].to(\"cpu\"))\n",
    "    cv2_imshow(v.get_image()[:, :, ::-1])"
   ]
  },
  {
   "cell_type": "code",
   "execution_count": null,
   "metadata": {},
   "outputs": [],
   "source": [
    "from detectron2.evaluation import COCOEvaluator, inference_on_dataset\n",
    "from detectron2.data import build_detection_test_loader\n",
    "evaluator = COCOEvaluator(\"boardetect4_val\", cfg, False, output_dir=\"/output/\")\n",
    "val_loader = build_detection_test_loader(cfg, \"boardetect4_val\")\n",
    "inference_on_dataset(predictor.model, val_loader, evaluator)\n",
    "# another equivalent way is to use trainer.test"
   ]
  }
 ],
 "metadata": {
  "kernelspec": {
   "display_name": "Python 3",
   "language": "python",
   "name": "python3"
  },
  "language_info": {
   "codemirror_mode": {
    "name": "ipython",
    "version": 3
   },
   "file_extension": ".py",
   "mimetype": "text/x-python",
   "name": "python",
   "nbconvert_exporter": "python",
   "pygments_lexer": "ipython3",
   "version": "3.7.4"
  }
 },
 "nbformat": 4,
 "nbformat_minor": 2
}
