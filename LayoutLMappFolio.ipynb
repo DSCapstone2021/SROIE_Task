{
  "nbformat": 4,
  "nbformat_minor": 0,
  "metadata": {
    "colab": {
      "name": "LayoutLMappFolio.ipynb",
      "provenance": [],
      "collapsed_sections": []
    },
    "kernelspec": {
      "name": "python3",
      "display_name": "Python 3"
    }
  },
  "cells": [
    {
      "cell_type": "code",
      "metadata": {
        "colab": {
          "base_uri": "https://localhost:8080/"
        },
        "id": "y_94XGeLz0dK",
        "outputId": "d2200029-f1c2-4fa8-abeb-b10df2c248cd"
      },
      "source": [
        "! pip install transformers\n"
      ],
      "execution_count": null,
      "outputs": [
        {
          "output_type": "stream",
          "text": [
            "Requirement already satisfied: transformers in /usr/local/lib/python3.7/dist-packages (4.3.3)\n",
            "Requirement already satisfied: filelock in /usr/local/lib/python3.7/dist-packages (from transformers) (3.0.12)\n",
            "Requirement already satisfied: sacremoses in /usr/local/lib/python3.7/dist-packages (from transformers) (0.0.43)\n",
            "Requirement already satisfied: tqdm>=4.27 in /usr/local/lib/python3.7/dist-packages (from transformers) (4.41.1)\n",
            "Requirement already satisfied: importlib-metadata; python_version < \"3.8\" in /usr/local/lib/python3.7/dist-packages (from transformers) (3.7.0)\n",
            "Requirement already satisfied: requests in /usr/local/lib/python3.7/dist-packages (from transformers) (2.23.0)\n",
            "Requirement already satisfied: packaging in /usr/local/lib/python3.7/dist-packages (from transformers) (20.9)\n",
            "Requirement already satisfied: numpy>=1.17 in /usr/local/lib/python3.7/dist-packages (from transformers) (1.19.5)\n",
            "Requirement already satisfied: tokenizers<0.11,>=0.10.1 in /usr/local/lib/python3.7/dist-packages (from transformers) (0.10.1)\n",
            "Requirement already satisfied: regex!=2019.12.17 in /usr/local/lib/python3.7/dist-packages (from transformers) (2019.12.20)\n",
            "Requirement already satisfied: six in /usr/local/lib/python3.7/dist-packages (from sacremoses->transformers) (1.15.0)\n",
            "Requirement already satisfied: joblib in /usr/local/lib/python3.7/dist-packages (from sacremoses->transformers) (1.0.1)\n",
            "Requirement already satisfied: click in /usr/local/lib/python3.7/dist-packages (from sacremoses->transformers) (7.1.2)\n",
            "Requirement already satisfied: zipp>=0.5 in /usr/local/lib/python3.7/dist-packages (from importlib-metadata; python_version < \"3.8\"->transformers) (3.4.0)\n",
            "Requirement already satisfied: typing-extensions>=3.6.4; python_version < \"3.8\" in /usr/local/lib/python3.7/dist-packages (from importlib-metadata; python_version < \"3.8\"->transformers) (3.7.4.3)\n",
            "Requirement already satisfied: chardet<4,>=3.0.2 in /usr/local/lib/python3.7/dist-packages (from requests->transformers) (3.0.4)\n",
            "Requirement already satisfied: urllib3!=1.25.0,!=1.25.1,<1.26,>=1.21.1 in /usr/local/lib/python3.7/dist-packages (from requests->transformers) (1.24.3)\n",
            "Requirement already satisfied: certifi>=2017.4.17 in /usr/local/lib/python3.7/dist-packages (from requests->transformers) (2020.12.5)\n",
            "Requirement already satisfied: idna<3,>=2.5 in /usr/local/lib/python3.7/dist-packages (from requests->transformers) (2.10)\n",
            "Requirement already satisfied: pyparsing>=2.0.2 in /usr/local/lib/python3.7/dist-packages (from packaging->transformers) (2.4.7)\n",
            "\u001b[31mERROR: Could not find a version that satisfies the requirement layoutlm (from versions: none)\u001b[0m\n",
            "\u001b[31mERROR: No matching distribution found for layoutlm\u001b[0m\n"
          ],
          "name": "stdout"
        }
      ]
    },
    {
      "cell_type": "code",
      "metadata": {
        "id": "IzRfdrQjz4wT",
        "colab": {
          "base_uri": "https://localhost:8080/"
        },
        "outputId": "3fe2e375-4dd2-4b1e-8409-26197b0ec997"
      },
      "source": [
        "from PIL import Image, ImageDraw, ImageFont\n",
        "\n",
        "labels = [\"Total\", \"Other\"]\n",
        "label_map = {i: label for i, label in enumerate(labels)}\n",
        "type(label_map)\n"
      ],
      "execution_count": null,
      "outputs": [
        {
          "output_type": "execute_result",
          "data": {
            "text/plain": [
              "dict"
            ]
          },
          "metadata": {
            "tags": []
          },
          "execution_count": 68
        }
      ]
    },
    {
      "cell_type": "code",
      "metadata": {
        "id": "XkDdxaXk0SUp"
      },
      "source": [
        "from transformers import LayoutLMModel, LayoutLMConfig, LayoutLMTokenizer\n",
        "\n",
        "# Define Tokenizer\n",
        "tokenizer = LayoutLMTokenizer.from_pretrained(\"microsoft/layoutlm-base-uncased\")\n"
      ],
      "execution_count": null,
      "outputs": []
    },
    {
      "cell_type": "code",
      "metadata": {
        "id": "oXWE6Kr72DLw"
      },
      "source": [
        "from torch.utils.data import Dataset, DataLoader\n",
        "\n",
        "# Define pytorch Dataset\n",
        "\n",
        "class InvoiceDataset(Dataset):\n",
        "\n",
        "    def __init__(self, csv_file, root_dir):\n",
        "        \n",
        "        self.annotations = pd.read_csv(csv_file)\n",
        "        self.root_dir = root_dir # Directory with all the images\n",
        "    \n",
        "    def __len__(self):\n",
        "        return len(self.annotations)\n",
        "    \n",
        "    def __getitem__(self, idx):\n",
        "        if torch.is_tensor(idx):\n",
        "            idx = idx.toList()\n",
        "        \n",
        "def normalize_bbox(bbox, width, height):\n",
        "     # Width and height correspond to those of the original image\n",
        "     return [\n",
        "         int(1000 * (bbox[0] / width)),\n",
        "         int(1000 * (bbox[1] / height)),\n",
        "         int(1000 * (bbox[2] / width)),\n",
        "         int(1000 * (bbox[3] / height)),\n",
        "     ]\n",
        "\n"
      ],
      "execution_count": null,
      "outputs": []
    },
    {
      "cell_type": "code",
      "metadata": {
        "id": "Cbsj7LKu0djV"
      },
      "source": [
        "from transformers import LayoutLMForTokenClassification\n",
        "import torch\n",
        "\n",
        "device = torch.device(\"cuda\" if torch.cuda.is_available() else \"cpu\")\n",
        "\n",
        "# Define model\n",
        "model = LayoutLMForTokenClassification.from_pretrained(\"microsoft/layoutlm-base-uncased\", num_labels=len(labels))\n",
        "model.to(device)"
      ],
      "execution_count": null,
      "outputs": []
    },
    {
      "cell_type": "code",
      "metadata": {
        "colab": {
          "base_uri": "https://localhost:8080/"
        },
        "id": "TC8EYmr3PbIS",
        "outputId": "b4583a15-60ac-49be-893e-9a0791304b3e"
      },
      "source": [
        "# Try forward pass with a single example\n",
        "sequence_length = 500\n",
        "bbox = [160, 301, 58, 113]\n",
        "content = \"TXU\"\n",
        "label = \"Other\"\n",
        "\n",
        "# bbox_pad = torch.zeros(4)\n",
        "bbox = normalize_bbox([160,301,58,13], 2000, 2600)\n",
        "bbox=[[[1,2,3,5], [1,2,45,2], [6,5,42,1], [7,52,12,9]]]\n",
        "\n",
        "bbox = torch.tensor(bbox, dtype=torch.long)\n",
        "# bbox_pad[:4] = bbox\n",
        "print(bbox)\n",
        "temp = tokenizer(content)\n",
        "print(tokenizer.decode(temp['input_ids']))\n",
        "input_ids = torch.tensor([temp['input_ids']], dtype=torch.long)\n",
        "token_type_ids = torch.tensor([temp['token_type_ids']], dtype=torch.long)\n",
        "labels = torch.tensor([[1, 0, 0, 0]])\n",
        "print(labels.shape)\n",
        "attention_mask = torch.tensor([temp['attention_mask']], dtype=torch.long)\n",
        "print(input_ids, token_type_ids, labels, attention_mask)\n",
        "\n",
        "print(bbox.shape, input_ids.shape, attention_mask.shape, token_type_ids.shape, labels.shape)\n",
        "# out = model(input_ids=input_ids, bbox=bbox, attention_mask=attention_mask, token_type_ids=token_type_ids, labels=labels)\n",
        "# out = model(input_ids = input_ids, labels = labels)\n",
        "print(out)"
      ],
      "execution_count": null,
      "outputs": [
        {
          "output_type": "stream",
          "text": [
            "tensor([[[ 1,  2,  3,  5],\n",
            "         [ 1,  2, 45,  2],\n",
            "         [ 6,  5, 42,  1],\n",
            "         [ 7, 52, 12,  9]]])\n",
            "[CLS] txu [SEP]\n",
            "torch.Size([1, 4])\n",
            "tensor([[  101, 19067,  2226,   102]]) tensor([[0, 0, 0, 0]]) tensor([[1, 0, 0, 0]]) tensor([[1, 1, 1, 1]])\n",
            "torch.Size([1, 4, 4]) torch.Size([1, 4]) torch.Size([1, 4]) torch.Size([1, 4]) torch.Size([1, 4])\n",
            "TokenClassifierOutput(loss=tensor(0.6273, grad_fn=<NllLossBackward>), logits=tensor([[[ 0.0989,  0.3598],\n",
            "         [ 0.5079, -0.0168],\n",
            "         [ 0.2693,  0.1612],\n",
            "         [ 0.0984,  0.3603]]], grad_fn=<AddBackward0>), hidden_states=None, attentions=None)\n"
          ],
          "name": "stdout"
        }
      ]
    },
    {
      "cell_type": "code",
      "metadata": {
        "colab": {
          "base_uri": "https://localhost:8080/"
        },
        "id": "fI-ZxThVcpOR",
        "outputId": "3491e142-0c6d-42e3-af58-0be5a9f5a73f"
      },
      "source": [
        "from transformers import LayoutLMTokenizer, LayoutLMModel\n",
        "import torch\n",
        "tokenizer = LayoutLMTokenizer.from_pretrained('microsoft/layoutlm-base-uncased')\n",
        "model = LayoutLMModel.from_pretrained('microsoft/layoutlm-base-uncased')\n",
        "words = [\"worthless\", \"world\"]\n",
        "normalized_word_boxes = [637, 773, 693, 782], [698, 773, 733, 782]\n",
        "token_boxes = []\n",
        "for word, box in zip(words, normalized_word_boxes):\n",
        "    word_tokens = tokenizer.tokenize(word)\n",
        "    token_boxes.extend([box] * len(word_tokens))\n",
        "# add bounding boxes of cls + sep tokens\n",
        "token_boxes = [[0, 0, 0, 0]] + token_boxes + [[1000, 1000, 1000, 1000]]\n",
        "encoding = tokenizer(' '.join(words), return_tensors=\"pt\")\n",
        "input_ids = encoding[\"input_ids\"]\n",
        "attention_mask = encoding[\"attention_mask\"]\n",
        "token_type_ids = encoding[\"token_type_ids\"]\n",
        "bbox = torch.tensor([token_boxes])\n",
        "outputs = model(input_ids=input_ids, bbox=bbox, attention_mask=attention_mask, token_type_ids=token_type_ids)\n",
        "last_hidden_states = outputs.last_hidden_state\n",
        "print(bbox, input_ids, attention_mask)"
      ],
      "execution_count": null,
      "outputs": [
        {
          "output_type": "stream",
          "text": [
            "tensor([[[   0,    0,    0,    0],\n",
            "         [ 637,  773,  693,  782],\n",
            "         [ 698,  773,  733,  782],\n",
            "         [1000, 1000, 1000, 1000]]]) tensor([[  101, 22692,  2088,   102]]) tensor([[1, 1, 1, 1]])\n"
          ],
          "name": "stdout"
        }
      ]
    },
    {
      "cell_type": "code",
      "metadata": {
        "id": "CHHCtTmE1iSL"
      },
      "source": [
        "# Training\n",
        "\n",
        "from transformers import AdamW\n",
        "from tqdm import tqdm\n",
        "\n",
        "optimizer = AdamW(model.parameters(), lr=5e-5)\n",
        "\n",
        "global_step = 0\n",
        "num_train_epochs = 5\n",
        "t_total = len(train_dataloader) * num_train_epochs # total number of training steps \n",
        "\n",
        "#put the model in training mode\n",
        "model.train()\n",
        "for epoch in range(num_train_epochs):\n",
        "  for batch in tqdm(train_dataloader, desc=\"Training\"):\n",
        "      input_ids = batch[0].to(device)\n",
        "      bbox = batch[4].to(device)\n",
        "      attention_mask = batch[1].to(device)\n",
        "      token_type_ids = batch[2].to(device)\n",
        "      labels = batch[3].to(device)\n",
        "\n",
        "      # forward pass\n",
        "      outputs = model(input_ids=input_ids, bbox=bbox, attention_mask=attention_mask, token_type_ids=token_type_ids,\n",
        "                      labels=labels)\n",
        "      loss = outputs.loss\n",
        "\n",
        "      # print loss every 100 steps\n",
        "      if global_step % 100 == 0:\n",
        "        print(f\"Loss after {global_step} steps: {loss.item()}\")\n",
        "\n",
        "      # backward pass to get the gradients \n",
        "      loss.backward()\n",
        "\n",
        "      #print(\"Gradients on classification head:\")\n",
        "      #print(model.classifier.weight.grad[6,:].sum())\n",
        "\n",
        "      # update\n",
        "      optimizer.step()\n",
        "      optimizer.zero_grad()\n",
        "      global_step += 1"
      ],
      "execution_count": null,
      "outputs": []
    },
    {
      "cell_type": "markdown",
      "metadata": {
        "id": "AVTS0zYw5jEg"
      },
      "source": [
        "# Legacy Code"
      ]
    },
    {
      "cell_type": "code",
      "metadata": {
        "id": "rh86s-_M5k_G"
      },
      "source": [
        "coordinates = [50, 80, 70, 100]\n",
        "sequence = \"total\"\n"
      ],
      "execution_count": null,
      "outputs": []
    }
  ]
}