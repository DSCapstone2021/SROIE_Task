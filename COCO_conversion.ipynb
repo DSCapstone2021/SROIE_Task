{
 "cells": [
  {
   "cell_type": "code",
   "execution_count": 1,
   "metadata": {},
   "outputs": [],
   "source": [
    "from glob import glob\n",
    "import json\n",
    "import cv2\n",
    "import os"
   ]
  },
  {
   "cell_type": "code",
   "execution_count": 2,
   "metadata": {},
   "outputs": [],
   "source": [
    "def find_dimensions(data):\n",
    "    left_x, right_x, top_y, bottom_y = float('inf'), 0, float('inf'), 0\n",
    "    for item in data['form']:\n",
    "        top_left = {\n",
    "            'x':item['bbox'][0][0],\n",
    "            'y':item['bbox'][0][1]\n",
    "        }\n",
    "        bottom_right = {\n",
    "            'x':item['bbox'][1][0],\n",
    "            'y':item['bbox'][1][1]\n",
    "        }\n",
    "        left_x = min(left_x, top_left['x'])\n",
    "        right_x = max(right_x, bottom_right['x'])\n",
    "        bottom_y = max(bottom_y, bottom_right['y'])\n",
    "        top_y = min(top_y, top_left['y'])\n",
    "    width = right_x - left_x\n",
    "    height = bottom_y - top_y\n",
    "    return width, height"
   ]
  },
  {
   "cell_type": "code",
   "execution_count": 3,
   "metadata": {},
   "outputs": [],
   "source": [
    "def crop_img(img_file):\n",
    "    img = cv2.imread(img_file)\n",
    "    crop_img = img[25:977, 27:443]\n",
    "#     filename = \"data.json\"\n",
    "    directory = \"data/training_data/cropped\"\n",
    "    filename = img_file.split('/')[-1]\n",
    "    cv2.imwrite(os.path.join(directory,filename), crop_img)\n",
    "    \n",
    "def change_label(a):\n",
    "    if a['label'] == 'other':\n",
    "        a['category_id'] = 0\n",
    "    elif a['label'] == 'total':\n",
    "        a['category_id'] = 1\n",
    "    width = a['bbox'][1][0] - a['bbox'][0][0]\n",
    "    height = a['bbox'][1][1] - a['bbox'][0][1]\n",
    "    a['bbox'] = [a['bbox'][0][0], a['bbox'][0][1], width, height]\n",
    "    \n",
    "    a.pop('label')\n",
    "    "
   ]
  },
  {
   "cell_type": "code",
   "execution_count": 4,
   "metadata": {},
   "outputs": [],
   "source": [
    "directory = \"data/training_data/images\"\n",
    "images = sorted(glob('data/training_data/images/*.jpg'))\n",
    "\n",
    "# for img in images:\n",
    "#     crop_img(img)\n",
    "\n",
    "\n",
    "\n",
    "\n",
    "\n",
    "# img = cv2.imread(test_files[0])\n",
    "# crop_img = img[25:977, 27:443]\n",
    "# cv2.imshow(\"cropped\", crop_img)\n",
    "# cv2.waitKey(0)\n",
    "\n",
    "# 416\n",
    "# 952"
   ]
  },
  {
   "cell_type": "code",
   "execution_count": 14,
   "metadata": {},
   "outputs": [
    {
     "name": "stdout",
     "output_type": "stream",
     "text": [
      "dumped\n"
     ]
    }
   ],
   "source": [
    "directory = \"data/training_data/annotations\"\n",
    "test_files = sorted(glob('data/training_data/annotations/*.json'))\n",
    "\n",
    "\n",
    "# test_files = sorted(glob('./test/*.txt'))\n",
    "dataset_array = []\n",
    "\n",
    "for idx, f in enumerate(test_files[1:]):\n",
    "    with open(f, \"r\") as file:\n",
    "        data = json.load(file)\n",
    "        width, height = find_dimensions(data)\n",
    "        data['image_id'] = idx\n",
    "        f_name = ''.join([f.split('/')[-1].split('.')[0], '.jpg'])\n",
    "        data['file_name'] = f_name\n",
    "        data['width'] = width\n",
    "        data['height'] = height\n",
    "        data['annotations'] = data.pop('form')\n",
    "        for i in range(len(data['annotations'])):\n",
    "            data['annotations'][i].pop('text')\n",
    "            change_label(data['annotations'][i])\n",
    "        \n",
    "\n",
    "    coco_directory = \"data/training_data/coco\"\n",
    "    filename = f.split('/')[-1]\n",
    "    dataset_array.append(data)\n",
    "\n",
    "    with open(os.path.join(coco_directory,filename), \"w\") as file:\n",
    "        json.dump(data, file)\n",
    "\n",
    "\n",
    "with open(\"data/training_data/coco_datas.json\", \"w+\") as file:\n",
    "    json.dump(dataset_array, file)\n",
    "    print(\"dumped\")\n",
    "# json.dumps(dataset_array)\n",
    "\n",
    "        \n",
    "# with open(test_files[0], \"r\") as file:\n",
    "#     print(file)\n",
    "#     data = json.load(file)\n",
    "# data\n",
    "    \n",
    "        \n",
    "    \n",
    "#     print(data['form'][0]['bbox'])\n",
    "# data\n",
    "# for idx, f in enumerate(test_files): \n",
    "#     with open( f, \"r\") as file: \n",
    "#         data = json.load(file)\n",
    "#         print(data)\n",
    "\n",
    "\n",
    "# with open('') as csv_file:\n",
    "#     csv_reader = csv.reader(csv_file, delimiter=',')\n",
    "#     for row in csv_reader:\n",
    "#         total = False\n",
    "#         if row[-1] == data['total']:\n",
    "#             total = True\n",
    "#         rows['form'].append({\n",
    "#             'bbox': get_start_end(row[:8]),\n",
    "#             'text': row[8:],\n",
    "#             'label': 'total' if total else 'other'\n",
    "#         })"
   ]
  },
  {
   "cell_type": "code",
   "execution_count": 14,
   "metadata": {},
   "outputs": [
    {
     "data": {
      "text/plain": [
       "'data/training_data/annotations/X00016469619.json'"
      ]
     },
     "execution_count": 14,
     "metadata": {},
     "output_type": "execute_result"
    }
   ],
   "source": [
    "test_files[1]"
   ]
  },
  {
   "cell_type": "code",
   "execution_count": null,
   "metadata": {},
   "outputs": [],
   "source": []
  }
 ],
 "metadata": {
  "kernelspec": {
   "display_name": "Python 3",
   "language": "python",
   "name": "python3"
  },
  "language_info": {
   "codemirror_mode": {
    "name": "ipython",
    "version": 3
   },
   "file_extension": ".py",
   "mimetype": "text/x-python",
   "name": "python",
   "nbconvert_exporter": "python",
   "pygments_lexer": "ipython3",
   "version": "3.7.4"
  }
 },
 "nbformat": 4,
 "nbformat_minor": 2
}
