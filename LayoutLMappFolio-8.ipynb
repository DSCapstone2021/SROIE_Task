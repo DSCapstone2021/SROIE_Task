{
  "nbformat": 4,
  "nbformat_minor": 0,
  "metadata": {
    "colab": {
      "name": "LayoutLMappFolio.ipynb",
      "provenance": [],
      "collapsed_sections": [],
      "toc_visible": true
    },
    "kernelspec": {
      "name": "python3",
      "display_name": "Python 3"
    },
    "widgets": {
      "application/vnd.jupyter.widget-state+json": {
        "1c17621dd64349408238b9cba073728e": {
          "model_module": "@jupyter-widgets/controls",
          "model_name": "HBoxModel",
          "state": {
            "_view_name": "HBoxView",
            "_dom_classes": [],
            "_model_name": "HBoxModel",
            "_view_module": "@jupyter-widgets/controls",
            "_model_module_version": "1.5.0",
            "_view_count": null,
            "_view_module_version": "1.5.0",
            "box_style": "",
            "layout": "IPY_MODEL_2a1a235c5f374a61a6805d8c251f5844",
            "_model_module": "@jupyter-widgets/controls",
            "children": [
              "IPY_MODEL_22cb3cb8a12f45aca800d74724ebff00",
              "IPY_MODEL_135b0066dfb24f37bc0ff09effb06ceb"
            ]
          }
        },
        "2a1a235c5f374a61a6805d8c251f5844": {
          "model_module": "@jupyter-widgets/base",
          "model_name": "LayoutModel",
          "state": {
            "_view_name": "LayoutView",
            "grid_template_rows": null,
            "right": null,
            "justify_content": null,
            "_view_module": "@jupyter-widgets/base",
            "overflow": null,
            "_model_module_version": "1.2.0",
            "_view_count": null,
            "flex_flow": null,
            "width": null,
            "min_width": null,
            "border": null,
            "align_items": null,
            "bottom": null,
            "_model_module": "@jupyter-widgets/base",
            "top": null,
            "grid_column": null,
            "overflow_y": null,
            "overflow_x": null,
            "grid_auto_flow": null,
            "grid_area": null,
            "grid_template_columns": null,
            "flex": null,
            "_model_name": "LayoutModel",
            "justify_items": null,
            "grid_row": null,
            "max_height": null,
            "align_content": null,
            "visibility": null,
            "align_self": null,
            "height": null,
            "min_height": null,
            "padding": null,
            "grid_auto_rows": null,
            "grid_gap": null,
            "max_width": null,
            "order": null,
            "_view_module_version": "1.2.0",
            "grid_template_areas": null,
            "object_position": null,
            "object_fit": null,
            "grid_auto_columns": null,
            "margin": null,
            "display": null,
            "left": null
          }
        },
        "22cb3cb8a12f45aca800d74724ebff00": {
          "model_module": "@jupyter-widgets/controls",
          "model_name": "FloatProgressModel",
          "state": {
            "_view_name": "ProgressView",
            "style": "IPY_MODEL_8d64bf0302ac477f8f05f4a6d185d84c",
            "_dom_classes": [],
            "description": "Downloading: 100%",
            "_model_name": "FloatProgressModel",
            "bar_style": "success",
            "max": 606,
            "_view_module": "@jupyter-widgets/controls",
            "_model_module_version": "1.5.0",
            "value": 606,
            "_view_count": null,
            "_view_module_version": "1.5.0",
            "orientation": "horizontal",
            "min": 0,
            "description_tooltip": null,
            "_model_module": "@jupyter-widgets/controls",
            "layout": "IPY_MODEL_8b74048a501542ad8902c824e5789c21"
          }
        },
        "135b0066dfb24f37bc0ff09effb06ceb": {
          "model_module": "@jupyter-widgets/controls",
          "model_name": "HTMLModel",
          "state": {
            "_view_name": "HTMLView",
            "style": "IPY_MODEL_fa8fea11271d4edc84ceac645f3d4d34",
            "_dom_classes": [],
            "description": "",
            "_model_name": "HTMLModel",
            "placeholder": "​",
            "_view_module": "@jupyter-widgets/controls",
            "_model_module_version": "1.5.0",
            "value": " 606/606 [00:10&lt;00:00, 58.4B/s]",
            "_view_count": null,
            "_view_module_version": "1.5.0",
            "description_tooltip": null,
            "_model_module": "@jupyter-widgets/controls",
            "layout": "IPY_MODEL_e593bdcfc17f42929cd1e04893d32fc9"
          }
        },
        "8d64bf0302ac477f8f05f4a6d185d84c": {
          "model_module": "@jupyter-widgets/controls",
          "model_name": "ProgressStyleModel",
          "state": {
            "_view_name": "StyleView",
            "_model_name": "ProgressStyleModel",
            "description_width": "initial",
            "_view_module": "@jupyter-widgets/base",
            "_model_module_version": "1.5.0",
            "_view_count": null,
            "_view_module_version": "1.2.0",
            "bar_color": null,
            "_model_module": "@jupyter-widgets/controls"
          }
        },
        "8b74048a501542ad8902c824e5789c21": {
          "model_module": "@jupyter-widgets/base",
          "model_name": "LayoutModel",
          "state": {
            "_view_name": "LayoutView",
            "grid_template_rows": null,
            "right": null,
            "justify_content": null,
            "_view_module": "@jupyter-widgets/base",
            "overflow": null,
            "_model_module_version": "1.2.0",
            "_view_count": null,
            "flex_flow": null,
            "width": null,
            "min_width": null,
            "border": null,
            "align_items": null,
            "bottom": null,
            "_model_module": "@jupyter-widgets/base",
            "top": null,
            "grid_column": null,
            "overflow_y": null,
            "overflow_x": null,
            "grid_auto_flow": null,
            "grid_area": null,
            "grid_template_columns": null,
            "flex": null,
            "_model_name": "LayoutModel",
            "justify_items": null,
            "grid_row": null,
            "max_height": null,
            "align_content": null,
            "visibility": null,
            "align_self": null,
            "height": null,
            "min_height": null,
            "padding": null,
            "grid_auto_rows": null,
            "grid_gap": null,
            "max_width": null,
            "order": null,
            "_view_module_version": "1.2.0",
            "grid_template_areas": null,
            "object_position": null,
            "object_fit": null,
            "grid_auto_columns": null,
            "margin": null,
            "display": null,
            "left": null
          }
        },
        "fa8fea11271d4edc84ceac645f3d4d34": {
          "model_module": "@jupyter-widgets/controls",
          "model_name": "DescriptionStyleModel",
          "state": {
            "_view_name": "StyleView",
            "_model_name": "DescriptionStyleModel",
            "description_width": "",
            "_view_module": "@jupyter-widgets/base",
            "_model_module_version": "1.5.0",
            "_view_count": null,
            "_view_module_version": "1.2.0",
            "_model_module": "@jupyter-widgets/controls"
          }
        },
        "e593bdcfc17f42929cd1e04893d32fc9": {
          "model_module": "@jupyter-widgets/base",
          "model_name": "LayoutModel",
          "state": {
            "_view_name": "LayoutView",
            "grid_template_rows": null,
            "right": null,
            "justify_content": null,
            "_view_module": "@jupyter-widgets/base",
            "overflow": null,
            "_model_module_version": "1.2.0",
            "_view_count": null,
            "flex_flow": null,
            "width": null,
            "min_width": null,
            "border": null,
            "align_items": null,
            "bottom": null,
            "_model_module": "@jupyter-widgets/base",
            "top": null,
            "grid_column": null,
            "overflow_y": null,
            "overflow_x": null,
            "grid_auto_flow": null,
            "grid_area": null,
            "grid_template_columns": null,
            "flex": null,
            "_model_name": "LayoutModel",
            "justify_items": null,
            "grid_row": null,
            "max_height": null,
            "align_content": null,
            "visibility": null,
            "align_self": null,
            "height": null,
            "min_height": null,
            "padding": null,
            "grid_auto_rows": null,
            "grid_gap": null,
            "max_width": null,
            "order": null,
            "_view_module_version": "1.2.0",
            "grid_template_areas": null,
            "object_position": null,
            "object_fit": null,
            "grid_auto_columns": null,
            "margin": null,
            "display": null,
            "left": null
          }
        },
        "6c343913eac441238c140cbad1ecac76": {
          "model_module": "@jupyter-widgets/controls",
          "model_name": "HBoxModel",
          "state": {
            "_view_name": "HBoxView",
            "_dom_classes": [],
            "_model_name": "HBoxModel",
            "_view_module": "@jupyter-widgets/controls",
            "_model_module_version": "1.5.0",
            "_view_count": null,
            "_view_module_version": "1.5.0",
            "box_style": "",
            "layout": "IPY_MODEL_f8fcc5aab49e41a3b268d2f88d66c621",
            "_model_module": "@jupyter-widgets/controls",
            "children": [
              "IPY_MODEL_376ffa6e494045bd97b7b88ebe7c56ab",
              "IPY_MODEL_b1182a521d2640b59dfee6fe8eba2018"
            ]
          }
        },
        "f8fcc5aab49e41a3b268d2f88d66c621": {
          "model_module": "@jupyter-widgets/base",
          "model_name": "LayoutModel",
          "state": {
            "_view_name": "LayoutView",
            "grid_template_rows": null,
            "right": null,
            "justify_content": null,
            "_view_module": "@jupyter-widgets/base",
            "overflow": null,
            "_model_module_version": "1.2.0",
            "_view_count": null,
            "flex_flow": null,
            "width": null,
            "min_width": null,
            "border": null,
            "align_items": null,
            "bottom": null,
            "_model_module": "@jupyter-widgets/base",
            "top": null,
            "grid_column": null,
            "overflow_y": null,
            "overflow_x": null,
            "grid_auto_flow": null,
            "grid_area": null,
            "grid_template_columns": null,
            "flex": null,
            "_model_name": "LayoutModel",
            "justify_items": null,
            "grid_row": null,
            "max_height": null,
            "align_content": null,
            "visibility": null,
            "align_self": null,
            "height": null,
            "min_height": null,
            "padding": null,
            "grid_auto_rows": null,
            "grid_gap": null,
            "max_width": null,
            "order": null,
            "_view_module_version": "1.2.0",
            "grid_template_areas": null,
            "object_position": null,
            "object_fit": null,
            "grid_auto_columns": null,
            "margin": null,
            "display": null,
            "left": null
          }
        },
        "376ffa6e494045bd97b7b88ebe7c56ab": {
          "model_module": "@jupyter-widgets/controls",
          "model_name": "FloatProgressModel",
          "state": {
            "_view_name": "ProgressView",
            "style": "IPY_MODEL_8e8623b0e8e844c89188620369cdbdda",
            "_dom_classes": [],
            "description": "Downloading: 100%",
            "_model_name": "FloatProgressModel",
            "bar_style": "success",
            "max": 453093832,
            "_view_module": "@jupyter-widgets/controls",
            "_model_module_version": "1.5.0",
            "value": 453093832,
            "_view_count": null,
            "_view_module_version": "1.5.0",
            "orientation": "horizontal",
            "min": 0,
            "description_tooltip": null,
            "_model_module": "@jupyter-widgets/controls",
            "layout": "IPY_MODEL_e3d671b2e74a43148611c9427bcbc158"
          }
        },
        "b1182a521d2640b59dfee6fe8eba2018": {
          "model_module": "@jupyter-widgets/controls",
          "model_name": "HTMLModel",
          "state": {
            "_view_name": "HTMLView",
            "style": "IPY_MODEL_b1e6587d32ca4f539979400ff341f665",
            "_dom_classes": [],
            "description": "",
            "_model_name": "HTMLModel",
            "placeholder": "​",
            "_view_module": "@jupyter-widgets/controls",
            "_model_module_version": "1.5.0",
            "value": " 453M/453M [00:09&lt;00:00, 46.0MB/s]",
            "_view_count": null,
            "_view_module_version": "1.5.0",
            "description_tooltip": null,
            "_model_module": "@jupyter-widgets/controls",
            "layout": "IPY_MODEL_d3c58aa9997c41d5b6eb3f061924b73d"
          }
        },
        "8e8623b0e8e844c89188620369cdbdda": {
          "model_module": "@jupyter-widgets/controls",
          "model_name": "ProgressStyleModel",
          "state": {
            "_view_name": "StyleView",
            "_model_name": "ProgressStyleModel",
            "description_width": "initial",
            "_view_module": "@jupyter-widgets/base",
            "_model_module_version": "1.5.0",
            "_view_count": null,
            "_view_module_version": "1.2.0",
            "bar_color": null,
            "_model_module": "@jupyter-widgets/controls"
          }
        },
        "e3d671b2e74a43148611c9427bcbc158": {
          "model_module": "@jupyter-widgets/base",
          "model_name": "LayoutModel",
          "state": {
            "_view_name": "LayoutView",
            "grid_template_rows": null,
            "right": null,
            "justify_content": null,
            "_view_module": "@jupyter-widgets/base",
            "overflow": null,
            "_model_module_version": "1.2.0",
            "_view_count": null,
            "flex_flow": null,
            "width": null,
            "min_width": null,
            "border": null,
            "align_items": null,
            "bottom": null,
            "_model_module": "@jupyter-widgets/base",
            "top": null,
            "grid_column": null,
            "overflow_y": null,
            "overflow_x": null,
            "grid_auto_flow": null,
            "grid_area": null,
            "grid_template_columns": null,
            "flex": null,
            "_model_name": "LayoutModel",
            "justify_items": null,
            "grid_row": null,
            "max_height": null,
            "align_content": null,
            "visibility": null,
            "align_self": null,
            "height": null,
            "min_height": null,
            "padding": null,
            "grid_auto_rows": null,
            "grid_gap": null,
            "max_width": null,
            "order": null,
            "_view_module_version": "1.2.0",
            "grid_template_areas": null,
            "object_position": null,
            "object_fit": null,
            "grid_auto_columns": null,
            "margin": null,
            "display": null,
            "left": null
          }
        },
        "b1e6587d32ca4f539979400ff341f665": {
          "model_module": "@jupyter-widgets/controls",
          "model_name": "DescriptionStyleModel",
          "state": {
            "_view_name": "StyleView",
            "_model_name": "DescriptionStyleModel",
            "description_width": "",
            "_view_module": "@jupyter-widgets/base",
            "_model_module_version": "1.5.0",
            "_view_count": null,
            "_view_module_version": "1.2.0",
            "_model_module": "@jupyter-widgets/controls"
          }
        },
        "d3c58aa9997c41d5b6eb3f061924b73d": {
          "model_module": "@jupyter-widgets/base",
          "model_name": "LayoutModel",
          "state": {
            "_view_name": "LayoutView",
            "grid_template_rows": null,
            "right": null,
            "justify_content": null,
            "_view_module": "@jupyter-widgets/base",
            "overflow": null,
            "_model_module_version": "1.2.0",
            "_view_count": null,
            "flex_flow": null,
            "width": null,
            "min_width": null,
            "border": null,
            "align_items": null,
            "bottom": null,
            "_model_module": "@jupyter-widgets/base",
            "top": null,
            "grid_column": null,
            "overflow_y": null,
            "overflow_x": null,
            "grid_auto_flow": null,
            "grid_area": null,
            "grid_template_columns": null,
            "flex": null,
            "_model_name": "LayoutModel",
            "justify_items": null,
            "grid_row": null,
            "max_height": null,
            "align_content": null,
            "visibility": null,
            "align_self": null,
            "height": null,
            "min_height": null,
            "padding": null,
            "grid_auto_rows": null,
            "grid_gap": null,
            "max_width": null,
            "order": null,
            "_view_module_version": "1.2.0",
            "grid_template_areas": null,
            "object_position": null,
            "object_fit": null,
            "grid_auto_columns": null,
            "margin": null,
            "display": null,
            "left": null
          }
        }
      }
    },
    "accelerator": "GPU"
  },
  "cells": [
    {
      "cell_type": "code",
      "metadata": {
        "id": "y_94XGeLz0dK",
        "colab": {
          "base_uri": "https://localhost:8080/"
        },
        "outputId": "a0bc026f-73e5-45c3-8ea8-cc9917e1c107"
      },
      "source": [
        "! pip install transformers"
      ],
      "execution_count": null,
      "outputs": [
        {
          "output_type": "stream",
          "text": [
            "Requirement already satisfied: transformers in /usr/local/lib/python3.7/dist-packages (4.4.2)\n",
            "Requirement already satisfied: numpy>=1.17 in /usr/local/lib/python3.7/dist-packages (from transformers) (1.19.5)\n",
            "Requirement already satisfied: requests in /usr/local/lib/python3.7/dist-packages (from transformers) (2.23.0)\n",
            "Requirement already satisfied: regex!=2019.12.17 in /usr/local/lib/python3.7/dist-packages (from transformers) (2019.12.20)\n",
            "Requirement already satisfied: filelock in /usr/local/lib/python3.7/dist-packages (from transformers) (3.0.12)\n",
            "Requirement already satisfied: importlib-metadata; python_version < \"3.8\" in /usr/local/lib/python3.7/dist-packages (from transformers) (3.8.1)\n",
            "Requirement already satisfied: sacremoses in /usr/local/lib/python3.7/dist-packages (from transformers) (0.0.43)\n",
            "Requirement already satisfied: tqdm>=4.27 in /usr/local/lib/python3.7/dist-packages (from transformers) (4.41.1)\n",
            "Requirement already satisfied: tokenizers<0.11,>=0.10.1 in /usr/local/lib/python3.7/dist-packages (from transformers) (0.10.1)\n",
            "Requirement already satisfied: packaging in /usr/local/lib/python3.7/dist-packages (from transformers) (20.9)\n",
            "Requirement already satisfied: idna<3,>=2.5 in /usr/local/lib/python3.7/dist-packages (from requests->transformers) (2.10)\n",
            "Requirement already satisfied: chardet<4,>=3.0.2 in /usr/local/lib/python3.7/dist-packages (from requests->transformers) (3.0.4)\n",
            "Requirement already satisfied: urllib3!=1.25.0,!=1.25.1,<1.26,>=1.21.1 in /usr/local/lib/python3.7/dist-packages (from requests->transformers) (1.24.3)\n",
            "Requirement already satisfied: certifi>=2017.4.17 in /usr/local/lib/python3.7/dist-packages (from requests->transformers) (2020.12.5)\n",
            "Requirement already satisfied: typing-extensions>=3.6.4; python_version < \"3.8\" in /usr/local/lib/python3.7/dist-packages (from importlib-metadata; python_version < \"3.8\"->transformers) (3.7.4.3)\n",
            "Requirement already satisfied: zipp>=0.5 in /usr/local/lib/python3.7/dist-packages (from importlib-metadata; python_version < \"3.8\"->transformers) (3.4.1)\n",
            "Requirement already satisfied: six in /usr/local/lib/python3.7/dist-packages (from sacremoses->transformers) (1.15.0)\n",
            "Requirement already satisfied: joblib in /usr/local/lib/python3.7/dist-packages (from sacremoses->transformers) (1.0.1)\n",
            "Requirement already satisfied: click in /usr/local/lib/python3.7/dist-packages (from sacremoses->transformers) (7.1.2)\n",
            "Requirement already satisfied: pyparsing>=2.0.2 in /usr/local/lib/python3.7/dist-packages (from packaging->transformers) (2.4.7)\n"
          ],
          "name": "stdout"
        }
      ]
    },
    {
      "cell_type": "markdown",
      "metadata": {
        "id": "Hj4z-chfegmu"
      },
      "source": [
        "# Using Cloud Storage"
      ]
    },
    {
      "cell_type": "markdown",
      "metadata": {
        "id": "ANiRVVzyfDW2"
      },
      "source": [
        "Authenticate with Google Account"
      ]
    },
    {
      "cell_type": "code",
      "metadata": {
        "id": "fzRoBb3Td4Z7"
      },
      "source": [
        "from google.colab import auth\n",
        "auth.authenticate_user()"
      ],
      "execution_count": null,
      "outputs": []
    },
    {
      "cell_type": "markdown",
      "metadata": {
        "id": "N1MSPwzifIQw"
      },
      "source": [
        "Install GCloud SDK"
      ]
    },
    {
      "cell_type": "code",
      "metadata": {
        "id": "cPXkuAIUd7yI",
        "colab": {
          "base_uri": "https://localhost:8080/"
        },
        "outputId": "192fee3a-0337-42c6-af5a-b8128a246776"
      },
      "source": [
        "!curl https://sdk.cloud.google.com | bash"
      ],
      "execution_count": null,
      "outputs": [
        {
          "output_type": "stream",
          "text": [
            "\u001b[1;30;43mStreaming output truncated to the last 5000 lines.\u001b[0m\n",
            "google-cloud-sdk/lib/surface/meta/cache/list.py\n",
            "google-cloud-sdk/lib/surface/meta/cli_trees/__init__.py\n",
            "google-cloud-sdk/lib/surface/meta/cli_trees/list.py\n",
            "google-cloud-sdk/lib/surface/meta/cli_trees/update.py\n",
            "google-cloud-sdk/lib/surface/meta/debug.py\n",
            "google-cloud-sdk/lib/surface/meta/gcloud_command_vocabulary.txt\n",
            "google-cloud-sdk/lib/surface/meta/generate_command.py\n",
            "google-cloud-sdk/lib/surface/meta/generate_help_docs.py\n",
            "google-cloud-sdk/lib/surface/meta/lint.py\n",
            "google-cloud-sdk/lib/surface/meta/list_commands.py\n",
            "google-cloud-sdk/lib/surface/meta/list_files_for_upload.py\n",
            "google-cloud-sdk/lib/surface/meta/list_from_json.py\n",
            "google-cloud-sdk/lib/surface/meta/list_gcloud.py\n",
            "google-cloud-sdk/lib/surface/meta/render_markdown.py\n",
            "google-cloud-sdk/lib/surface/meta/resources/__init__.py\n",
            "google-cloud-sdk/lib/surface/meta/resources/generate.py\n",
            "google-cloud-sdk/lib/surface/meta/resources/parse.py\n",
            "google-cloud-sdk/lib/surface/meta/test.py\n",
            "google-cloud-sdk/lib/surface/meta/validate_yaml.py\n",
            "google-cloud-sdk/lib/surface/metastore/__init__.py\n",
            "google-cloud-sdk/lib/surface/metastore/locations/__init__.py\n",
            "google-cloud-sdk/lib/surface/metastore/locations/describe.yaml\n",
            "google-cloud-sdk/lib/surface/metastore/locations/list.yaml\n",
            "google-cloud-sdk/lib/surface/metastore/operations/__init__.py\n",
            "google-cloud-sdk/lib/surface/metastore/operations/delete.py\n",
            "google-cloud-sdk/lib/surface/metastore/operations/describe.yaml\n",
            "google-cloud-sdk/lib/surface/metastore/operations/list.yaml\n",
            "google-cloud-sdk/lib/surface/metastore/operations/wait.yaml\n",
            "google-cloud-sdk/lib/surface/metastore/services/__init__.py\n",
            "google-cloud-sdk/lib/surface/metastore/services/add_iam_policy_binding.yaml\n",
            "google-cloud-sdk/lib/surface/metastore/services/backups/__init__.py\n",
            "google-cloud-sdk/lib/surface/metastore/services/backups/create.yaml\n",
            "google-cloud-sdk/lib/surface/metastore/services/backups/delete.yaml\n",
            "google-cloud-sdk/lib/surface/metastore/services/backups/describe.yaml\n",
            "google-cloud-sdk/lib/surface/metastore/services/backups/list.yaml\n",
            "google-cloud-sdk/lib/surface/metastore/services/create.yaml\n",
            "google-cloud-sdk/lib/surface/metastore/services/delete.py\n",
            "google-cloud-sdk/lib/surface/metastore/services/describe.yaml\n",
            "google-cloud-sdk/lib/surface/metastore/services/export/__init__.py\n",
            "google-cloud-sdk/lib/surface/metastore/services/export/gcs.yaml\n",
            "google-cloud-sdk/lib/surface/metastore/services/get_iam_policy.yaml\n",
            "google-cloud-sdk/lib/surface/metastore/services/import/__init__.py\n",
            "google-cloud-sdk/lib/surface/metastore/services/import/gcs.yaml\n",
            "google-cloud-sdk/lib/surface/metastore/services/imports/__init__.py\n",
            "google-cloud-sdk/lib/surface/metastore/services/imports/create.yaml\n",
            "google-cloud-sdk/lib/surface/metastore/services/imports/describe.yaml\n",
            "google-cloud-sdk/lib/surface/metastore/services/imports/list.yaml\n",
            "google-cloud-sdk/lib/surface/metastore/services/imports/update.yaml\n",
            "google-cloud-sdk/lib/surface/metastore/services/list.yaml\n",
            "google-cloud-sdk/lib/surface/metastore/services/remove_iam_policy_binding.yaml\n",
            "google-cloud-sdk/lib/surface/metastore/services/restore.yaml\n",
            "google-cloud-sdk/lib/surface/metastore/services/set_iam_policy.yaml\n",
            "google-cloud-sdk/lib/surface/metastore/services/update.yaml\n",
            "google-cloud-sdk/lib/surface/ml/__init__.py\n",
            "google-cloud-sdk/lib/surface/ml/language/__init__.py\n",
            "google-cloud-sdk/lib/surface/ml/language/__init__.yaml\n",
            "google-cloud-sdk/lib/surface/ml/language/analyze_entities.yaml\n",
            "google-cloud-sdk/lib/surface/ml/language/analyze_entity_sentiment.yaml\n",
            "google-cloud-sdk/lib/surface/ml/language/analyze_sentiment.yaml\n",
            "google-cloud-sdk/lib/surface/ml/language/analyze_syntax.yaml\n",
            "google-cloud-sdk/lib/surface/ml/language/classify_text.yaml\n",
            "google-cloud-sdk/lib/surface/ml/speech/__init__.py\n",
            "google-cloud-sdk/lib/surface/ml/speech/__init__.yaml\n",
            "google-cloud-sdk/lib/surface/ml/speech/operations/__init__.py\n",
            "google-cloud-sdk/lib/surface/ml/speech/operations/describe.yaml\n",
            "google-cloud-sdk/lib/surface/ml/speech/operations/wait.yaml\n",
            "google-cloud-sdk/lib/surface/ml/speech/recognize.yaml\n",
            "google-cloud-sdk/lib/surface/ml/speech/recognize_long_running.yaml\n",
            "google-cloud-sdk/lib/surface/ml/translate/__init__.py\n",
            "google-cloud-sdk/lib/surface/ml/translate/__init__.yaml\n",
            "google-cloud-sdk/lib/surface/ml/translate/batch_translate_text.yaml\n",
            "google-cloud-sdk/lib/surface/ml/translate/detect_language.yaml\n",
            "google-cloud-sdk/lib/surface/ml/translate/get_supported_languages.yaml\n",
            "google-cloud-sdk/lib/surface/ml/translate/translate_text.yaml\n",
            "google-cloud-sdk/lib/surface/ml/video/__init__.py\n",
            "google-cloud-sdk/lib/surface/ml/video/__init__.yaml\n",
            "google-cloud-sdk/lib/surface/ml/video/detect_explicit_content.yaml\n",
            "google-cloud-sdk/lib/surface/ml/video/detect_labels.yaml\n",
            "google-cloud-sdk/lib/surface/ml/video/detect_object.yaml\n",
            "google-cloud-sdk/lib/surface/ml/video/detect_shot_changes.yaml\n",
            "google-cloud-sdk/lib/surface/ml/video/detect_text.yaml\n",
            "google-cloud-sdk/lib/surface/ml/video/operations/__init__.py\n",
            "google-cloud-sdk/lib/surface/ml/video/operations/describe.yaml\n",
            "google-cloud-sdk/lib/surface/ml/video/operations/wait.yaml\n",
            "google-cloud-sdk/lib/surface/ml/video/transcribe_speech.yaml\n",
            "google-cloud-sdk/lib/surface/ml/vision/__init__.py\n",
            "google-cloud-sdk/lib/surface/ml/vision/__init__.yaml\n",
            "google-cloud-sdk/lib/surface/ml/vision/detect_document.yaml\n",
            "google-cloud-sdk/lib/surface/ml/vision/detect_faces.yaml\n",
            "google-cloud-sdk/lib/surface/ml/vision/detect_image_properties.yaml\n",
            "google-cloud-sdk/lib/surface/ml/vision/detect_labels.yaml\n",
            "google-cloud-sdk/lib/surface/ml/vision/detect_landmarks.yaml\n",
            "google-cloud-sdk/lib/surface/ml/vision/detect_logos.yaml\n",
            "google-cloud-sdk/lib/surface/ml/vision/detect_objects.yaml\n",
            "google-cloud-sdk/lib/surface/ml/vision/detect_product.yaml\n",
            "google-cloud-sdk/lib/surface/ml/vision/detect_safe_search.yaml\n",
            "google-cloud-sdk/lib/surface/ml/vision/detect_text.yaml\n",
            "google-cloud-sdk/lib/surface/ml/vision/detect_text_pdf.yaml\n",
            "google-cloud-sdk/lib/surface/ml/vision/detect_text_tiff.yaml\n",
            "google-cloud-sdk/lib/surface/ml/vision/detect_web.yaml\n",
            "google-cloud-sdk/lib/surface/ml/vision/operations/__init__.py\n",
            "google-cloud-sdk/lib/surface/ml/vision/operations/describe.yaml\n",
            "google-cloud-sdk/lib/surface/ml/vision/product_search/__init__.py\n",
            "google-cloud-sdk/lib/surface/ml/vision/product_search/images/__init__.py\n",
            "google-cloud-sdk/lib/surface/ml/vision/product_search/images/create.yaml\n",
            "google-cloud-sdk/lib/surface/ml/vision/product_search/images/delete.yaml\n",
            "google-cloud-sdk/lib/surface/ml/vision/product_search/images/describe.yaml\n",
            "google-cloud-sdk/lib/surface/ml/vision/product_search/images/list.yaml\n",
            "google-cloud-sdk/lib/surface/ml/vision/product_search/product_sets/__init__.py\n",
            "google-cloud-sdk/lib/surface/ml/vision/product_search/product_sets/add_product.yaml\n",
            "google-cloud-sdk/lib/surface/ml/vision/product_search/product_sets/create.yaml\n",
            "google-cloud-sdk/lib/surface/ml/vision/product_search/product_sets/delete.yaml\n",
            "google-cloud-sdk/lib/surface/ml/vision/product_search/product_sets/describe.yaml\n",
            "google-cloud-sdk/lib/surface/ml/vision/product_search/product_sets/import.yaml\n",
            "google-cloud-sdk/lib/surface/ml/vision/product_search/product_sets/list.yaml\n",
            "google-cloud-sdk/lib/surface/ml/vision/product_search/product_sets/list_products.yaml\n",
            "google-cloud-sdk/lib/surface/ml/vision/product_search/product_sets/remove_product.yaml\n",
            "google-cloud-sdk/lib/surface/ml/vision/product_search/product_sets/update.yaml\n",
            "google-cloud-sdk/lib/surface/ml/vision/product_search/products/__init__.py\n",
            "google-cloud-sdk/lib/surface/ml/vision/product_search/products/create.yaml\n",
            "google-cloud-sdk/lib/surface/ml/vision/product_search/products/delete.yaml\n",
            "google-cloud-sdk/lib/surface/ml/vision/product_search/products/delete_all.yaml\n",
            "google-cloud-sdk/lib/surface/ml/vision/product_search/products/describe.yaml\n",
            "google-cloud-sdk/lib/surface/ml/vision/product_search/products/list.yaml\n",
            "google-cloud-sdk/lib/surface/ml/vision/product_search/products/update.yaml\n",
            "google-cloud-sdk/lib/surface/ml/vision/suggest_crop.yaml\n",
            "google-cloud-sdk/lib/surface/monitoring/__init__.py\n",
            "google-cloud-sdk/lib/surface/monitoring/channel_descriptors/__init__.py\n",
            "google-cloud-sdk/lib/surface/monitoring/channel_descriptors/describe.yaml\n",
            "google-cloud-sdk/lib/surface/monitoring/channel_descriptors/list.yaml\n",
            "google-cloud-sdk/lib/surface/monitoring/channels/__init__.py\n",
            "google-cloud-sdk/lib/surface/monitoring/channels/create.py\n",
            "google-cloud-sdk/lib/surface/monitoring/channels/delete.yaml\n",
            "google-cloud-sdk/lib/surface/monitoring/channels/describe.yaml\n",
            "google-cloud-sdk/lib/surface/monitoring/channels/list.yaml\n",
            "google-cloud-sdk/lib/surface/monitoring/channels/update.py\n",
            "google-cloud-sdk/lib/surface/monitoring/dashboards/__init__.py\n",
            "google-cloud-sdk/lib/surface/monitoring/dashboards/create.yaml\n",
            "google-cloud-sdk/lib/surface/monitoring/dashboards/delete.yaml\n",
            "google-cloud-sdk/lib/surface/monitoring/dashboards/describe.yaml\n",
            "google-cloud-sdk/lib/surface/monitoring/dashboards/list.yaml\n",
            "google-cloud-sdk/lib/surface/monitoring/dashboards/update.yaml\n",
            "google-cloud-sdk/lib/surface/monitoring/policies/__init__.py\n",
            "google-cloud-sdk/lib/surface/monitoring/policies/conditions/__init__.py\n",
            "google-cloud-sdk/lib/surface/monitoring/policies/conditions/create.py\n",
            "google-cloud-sdk/lib/surface/monitoring/policies/conditions/delete.py\n",
            "google-cloud-sdk/lib/surface/monitoring/policies/conditions/describe.py\n",
            "google-cloud-sdk/lib/surface/monitoring/policies/conditions/update.py\n",
            "google-cloud-sdk/lib/surface/monitoring/policies/create.py\n",
            "google-cloud-sdk/lib/surface/monitoring/policies/delete.yaml\n",
            "google-cloud-sdk/lib/surface/monitoring/policies/describe.yaml\n",
            "google-cloud-sdk/lib/surface/monitoring/policies/list.yaml\n",
            "google-cloud-sdk/lib/surface/monitoring/policies/update.py\n",
            "google-cloud-sdk/lib/surface/network_connectivity/__init__.py\n",
            "google-cloud-sdk/lib/surface/network_connectivity/hubs/__init__.py\n",
            "google-cloud-sdk/lib/surface/network_connectivity/hubs/create.yaml\n",
            "google-cloud-sdk/lib/surface/network_connectivity/hubs/delete.yaml\n",
            "google-cloud-sdk/lib/surface/network_connectivity/hubs/describe.yaml\n",
            "google-cloud-sdk/lib/surface/network_connectivity/hubs/list.yaml\n",
            "google-cloud-sdk/lib/surface/network_connectivity/hubs/update.yaml\n",
            "google-cloud-sdk/lib/surface/network_connectivity/spokes/__init__.py\n",
            "google-cloud-sdk/lib/surface/network_connectivity/spokes/create.yaml\n",
            "google-cloud-sdk/lib/surface/network_connectivity/spokes/delete.yaml\n",
            "google-cloud-sdk/lib/surface/network_connectivity/spokes/describe.yaml\n",
            "google-cloud-sdk/lib/surface/network_connectivity/spokes/list.yaml\n",
            "google-cloud-sdk/lib/surface/network_connectivity/spokes/update.yaml\n",
            "google-cloud-sdk/lib/surface/network_management/__init__.py\n",
            "google-cloud-sdk/lib/surface/network_management/connectivity_tests/__init__.py\n",
            "google-cloud-sdk/lib/surface/network_management/connectivity_tests/create.yaml\n",
            "google-cloud-sdk/lib/surface/network_management/connectivity_tests/delete.yaml\n",
            "google-cloud-sdk/lib/surface/network_management/connectivity_tests/describe.yaml\n",
            "google-cloud-sdk/lib/surface/network_management/connectivity_tests/list.yaml\n",
            "google-cloud-sdk/lib/surface/network_management/connectivity_tests/rerun.yaml\n",
            "google-cloud-sdk/lib/surface/network_management/connectivity_tests/update.yaml\n",
            "google-cloud-sdk/lib/surface/network_management/operations/__init__.py\n",
            "google-cloud-sdk/lib/surface/network_management/operations/describe.yaml\n",
            "google-cloud-sdk/lib/surface/network_management/operations/list.yaml\n",
            "google-cloud-sdk/lib/surface/network_security/__init__.py\n",
            "google-cloud-sdk/lib/surface/network_security/authorization_policies/__init__.py\n",
            "google-cloud-sdk/lib/surface/network_security/authorization_policies/delete.yaml\n",
            "google-cloud-sdk/lib/surface/network_security/authorization_policies/export.yaml\n",
            "google-cloud-sdk/lib/surface/network_security/authorization_policies/import.yaml\n",
            "google-cloud-sdk/lib/surface/network_security/authorization_policies/list.yaml\n",
            "google-cloud-sdk/lib/surface/network_security/client_tls_policies/__init__.py\n",
            "google-cloud-sdk/lib/surface/network_security/client_tls_policies/delete.yaml\n",
            "google-cloud-sdk/lib/surface/network_security/client_tls_policies/export.yaml\n",
            "google-cloud-sdk/lib/surface/network_security/client_tls_policies/import.yaml\n",
            "google-cloud-sdk/lib/surface/network_security/client_tls_policies/list.yaml\n",
            "google-cloud-sdk/lib/surface/network_security/server_tls_policies/__init__.py\n",
            "google-cloud-sdk/lib/surface/network_security/server_tls_policies/delete.yaml\n",
            "google-cloud-sdk/lib/surface/network_security/server_tls_policies/export.yaml\n",
            "google-cloud-sdk/lib/surface/network_security/server_tls_policies/import.yaml\n",
            "google-cloud-sdk/lib/surface/network_security/server_tls_policies/list.yaml\n",
            "google-cloud-sdk/lib/surface/network_services/__init__.py\n",
            "google-cloud-sdk/lib/surface/network_services/endpoint_config_selectors/__init__.py\n",
            "google-cloud-sdk/lib/surface/network_services/endpoint_config_selectors/delete.yaml\n",
            "google-cloud-sdk/lib/surface/network_services/endpoint_config_selectors/export.yaml\n",
            "google-cloud-sdk/lib/surface/network_services/endpoint_config_selectors/import.yaml\n",
            "google-cloud-sdk/lib/surface/network_services/endpoint_config_selectors/list.yaml\n",
            "google-cloud-sdk/lib/surface/network_services/http_filters/__init__.py\n",
            "google-cloud-sdk/lib/surface/network_services/http_filters/delete.yaml\n",
            "google-cloud-sdk/lib/surface/network_services/http_filters/export.yaml\n",
            "google-cloud-sdk/lib/surface/network_services/http_filters/import.yaml\n",
            "google-cloud-sdk/lib/surface/network_services/http_filters/list.yaml\n",
            "google-cloud-sdk/lib/surface/notebooks/__init__.py\n",
            "google-cloud-sdk/lib/surface/notebooks/environments/__init__.py\n",
            "google-cloud-sdk/lib/surface/notebooks/environments/create.py\n",
            "google-cloud-sdk/lib/surface/notebooks/environments/delete.py\n",
            "google-cloud-sdk/lib/surface/notebooks/environments/describe.py\n",
            "google-cloud-sdk/lib/surface/notebooks/environments/list.py\n",
            "google-cloud-sdk/lib/surface/notebooks/instances/__init__.py\n",
            "google-cloud-sdk/lib/surface/notebooks/instances/add_iam_policy_binding.yaml\n",
            "google-cloud-sdk/lib/surface/notebooks/instances/create.py\n",
            "google-cloud-sdk/lib/surface/notebooks/instances/delete.py\n",
            "google-cloud-sdk/lib/surface/notebooks/instances/describe.py\n",
            "google-cloud-sdk/lib/surface/notebooks/instances/get_iam_policy.yaml\n",
            "google-cloud-sdk/lib/surface/notebooks/instances/is_upgradeable.py\n",
            "google-cloud-sdk/lib/surface/notebooks/instances/list.py\n",
            "google-cloud-sdk/lib/surface/notebooks/instances/register.py\n",
            "google-cloud-sdk/lib/surface/notebooks/instances/remove_iam_policy_binding.yaml\n",
            "google-cloud-sdk/lib/surface/notebooks/instances/reset.py\n",
            "google-cloud-sdk/lib/surface/notebooks/instances/set_iam_policy.yaml\n",
            "google-cloud-sdk/lib/surface/notebooks/instances/start.py\n",
            "google-cloud-sdk/lib/surface/notebooks/instances/stop.py\n",
            "google-cloud-sdk/lib/surface/notebooks/instances/update.py\n",
            "google-cloud-sdk/lib/surface/notebooks/instances/upgrade.py\n",
            "google-cloud-sdk/lib/surface/notebooks/locations/__init__.py\n",
            "google-cloud-sdk/lib/surface/notebooks/locations/list.py\n",
            "google-cloud-sdk/lib/surface/org_policies/__init__.py\n",
            "google-cloud-sdk/lib/surface/org_policies/allow.py\n",
            "google-cloud-sdk/lib/surface/org_policies/delete.py\n",
            "google-cloud-sdk/lib/surface/org_policies/deny.py\n",
            "google-cloud-sdk/lib/surface/org_policies/describe.py\n",
            "google-cloud-sdk/lib/surface/org_policies/disable_enforce.py\n",
            "google-cloud-sdk/lib/surface/org_policies/disable_inherit.py\n",
            "google-cloud-sdk/lib/surface/org_policies/enable_enforce.py\n",
            "google-cloud-sdk/lib/surface/org_policies/enable_inherit.py\n",
            "google-cloud-sdk/lib/surface/org_policies/list.py\n",
            "google-cloud-sdk/lib/surface/org_policies/reset.py\n",
            "google-cloud-sdk/lib/surface/org_policies/set_policy.py\n",
            "google-cloud-sdk/lib/surface/organizations/__init__.py\n",
            "google-cloud-sdk/lib/surface/organizations/add_iam_policy_binding.yaml\n",
            "google-cloud-sdk/lib/surface/organizations/describe.py\n",
            "google-cloud-sdk/lib/surface/organizations/get_iam_policy.py\n",
            "google-cloud-sdk/lib/surface/organizations/get_iam_policy.yaml\n",
            "google-cloud-sdk/lib/surface/organizations/list.py\n",
            "google-cloud-sdk/lib/surface/organizations/remove_iam_policy_binding.yaml\n",
            "google-cloud-sdk/lib/surface/organizations/set_iam_policy.py\n",
            "google-cloud-sdk/lib/surface/policy_troubleshoot/__init__.py\n",
            "google-cloud-sdk/lib/surface/policy_troubleshoot/iam.yaml\n",
            "google-cloud-sdk/lib/surface/privateca/__init__.py\n",
            "google-cloud-sdk/lib/surface/privateca/certificates/__init__.py\n",
            "google-cloud-sdk/lib/surface/privateca/certificates/create.py\n",
            "google-cloud-sdk/lib/surface/privateca/certificates/describe.yaml\n",
            "google-cloud-sdk/lib/surface/privateca/certificates/export.py\n",
            "google-cloud-sdk/lib/surface/privateca/certificates/list.py\n",
            "google-cloud-sdk/lib/surface/privateca/certificates/revoke.py\n",
            "google-cloud-sdk/lib/surface/privateca/certificates/update.py\n",
            "google-cloud-sdk/lib/surface/privateca/locations/__init__.py\n",
            "google-cloud-sdk/lib/surface/privateca/locations/list.yaml\n",
            "google-cloud-sdk/lib/surface/privateca/reusable_configs/__init__.py\n",
            "google-cloud-sdk/lib/surface/privateca/reusable_configs/describe.py\n",
            "google-cloud-sdk/lib/surface/privateca/reusable_configs/list.py\n",
            "google-cloud-sdk/lib/surface/privateca/roots/__init__.py\n",
            "google-cloud-sdk/lib/surface/privateca/roots/add_iam_policy_binding.yaml\n",
            "google-cloud-sdk/lib/surface/privateca/roots/create.py\n",
            "google-cloud-sdk/lib/surface/privateca/roots/delete.py\n",
            "google-cloud-sdk/lib/surface/privateca/roots/describe.yaml\n",
            "google-cloud-sdk/lib/surface/privateca/roots/disable.py\n",
            "google-cloud-sdk/lib/surface/privateca/roots/enable.py\n",
            "google-cloud-sdk/lib/surface/privateca/roots/get_iam_policy.yaml\n",
            "google-cloud-sdk/lib/surface/privateca/roots/list.py\n",
            "google-cloud-sdk/lib/surface/privateca/roots/remove_iam_policy_binding.yaml\n",
            "google-cloud-sdk/lib/surface/privateca/roots/restore.py\n",
            "google-cloud-sdk/lib/surface/privateca/roots/set_iam_policy.yaml\n",
            "google-cloud-sdk/lib/surface/privateca/roots/update.py\n",
            "google-cloud-sdk/lib/surface/privateca/subordinates/__init__.py\n",
            "google-cloud-sdk/lib/surface/privateca/subordinates/activate.py\n",
            "google-cloud-sdk/lib/surface/privateca/subordinates/add_iam_policy_binding.yaml\n",
            "google-cloud-sdk/lib/surface/privateca/subordinates/create.py\n",
            "google-cloud-sdk/lib/surface/privateca/subordinates/delete.py\n",
            "google-cloud-sdk/lib/surface/privateca/subordinates/describe.yaml\n",
            "google-cloud-sdk/lib/surface/privateca/subordinates/disable.py\n",
            "google-cloud-sdk/lib/surface/privateca/subordinates/enable.py\n",
            "google-cloud-sdk/lib/surface/privateca/subordinates/get_csr.py\n",
            "google-cloud-sdk/lib/surface/privateca/subordinates/get_iam_policy.yaml\n",
            "google-cloud-sdk/lib/surface/privateca/subordinates/list.py\n",
            "google-cloud-sdk/lib/surface/privateca/subordinates/remove_iam_policy_binding.yaml\n",
            "google-cloud-sdk/lib/surface/privateca/subordinates/restore.py\n",
            "google-cloud-sdk/lib/surface/privateca/subordinates/set_iam_policy.yaml\n",
            "google-cloud-sdk/lib/surface/privateca/subordinates/update.py\n",
            "google-cloud-sdk/lib/surface/projects/__init__.py\n",
            "google-cloud-sdk/lib/surface/projects/add_iam_policy_binding.yaml\n",
            "google-cloud-sdk/lib/surface/projects/create.py\n",
            "google-cloud-sdk/lib/surface/projects/delete.py\n",
            "google-cloud-sdk/lib/surface/projects/describe.py\n",
            "google-cloud-sdk/lib/surface/projects/get_ancestors.yaml\n",
            "google-cloud-sdk/lib/surface/projects/get_ancestors_iam_policy.py\n",
            "google-cloud-sdk/lib/surface/projects/get_iam_policy.py\n",
            "google-cloud-sdk/lib/surface/projects/get_iam_policy.yaml\n",
            "google-cloud-sdk/lib/surface/projects/list.py\n",
            "google-cloud-sdk/lib/surface/projects/move.py\n",
            "google-cloud-sdk/lib/surface/projects/remove_iam_policy_binding.yaml\n",
            "google-cloud-sdk/lib/surface/projects/set_iam_policy.py\n",
            "google-cloud-sdk/lib/surface/projects/set_iam_policy.yaml\n",
            "google-cloud-sdk/lib/surface/projects/undelete.py\n",
            "google-cloud-sdk/lib/surface/projects/update.py\n",
            "google-cloud-sdk/lib/surface/publicca/__init__.py\n",
            "google-cloud-sdk/lib/surface/publicca/external_account_keys/__init__.py\n",
            "google-cloud-sdk/lib/surface/publicca/external_account_keys/create.py\n",
            "google-cloud-sdk/lib/surface/pubsub/__init__.py\n",
            "google-cloud-sdk/lib/surface/pubsub/lite_subscriptions/__init__.py\n",
            "google-cloud-sdk/lib/surface/pubsub/lite_subscriptions/create.yaml\n",
            "google-cloud-sdk/lib/surface/pubsub/lite_subscriptions/delete.yaml\n",
            "google-cloud-sdk/lib/surface/pubsub/lite_subscriptions/describe.yaml\n",
            "google-cloud-sdk/lib/surface/pubsub/lite_subscriptions/list.yaml\n",
            "google-cloud-sdk/lib/surface/pubsub/lite_subscriptions/update.yaml\n",
            "google-cloud-sdk/lib/surface/pubsub/lite_topics/__init__.py\n",
            "google-cloud-sdk/lib/surface/pubsub/lite_topics/create.yaml\n",
            "google-cloud-sdk/lib/surface/pubsub/lite_topics/delete.yaml\n",
            "google-cloud-sdk/lib/surface/pubsub/lite_topics/describe.yaml\n",
            "google-cloud-sdk/lib/surface/pubsub/lite_topics/list.yaml\n",
            "google-cloud-sdk/lib/surface/pubsub/lite_topics/list_subscriptions.yaml\n",
            "google-cloud-sdk/lib/surface/pubsub/lite_topics/update.yaml\n",
            "google-cloud-sdk/lib/surface/pubsub/schemas/__init__.py\n",
            "google-cloud-sdk/lib/surface/pubsub/schemas/create.yaml\n",
            "google-cloud-sdk/lib/surface/pubsub/schemas/delete.yaml\n",
            "google-cloud-sdk/lib/surface/pubsub/schemas/describe.yaml\n",
            "google-cloud-sdk/lib/surface/pubsub/schemas/list.yaml\n",
            "google-cloud-sdk/lib/surface/pubsub/schemas/validate_message.yaml\n",
            "google-cloud-sdk/lib/surface/pubsub/schemas/validate_schema.yaml\n",
            "google-cloud-sdk/lib/surface/pubsub/snapshots/__init__.py\n",
            "google-cloud-sdk/lib/surface/pubsub/snapshots/create.py\n",
            "google-cloud-sdk/lib/surface/pubsub/snapshots/delete.py\n",
            "google-cloud-sdk/lib/surface/pubsub/snapshots/describe.py\n",
            "google-cloud-sdk/lib/surface/pubsub/snapshots/list.py\n",
            "google-cloud-sdk/lib/surface/pubsub/subscriptions/__init__.py\n",
            "google-cloud-sdk/lib/surface/pubsub/subscriptions/ack.py\n",
            "google-cloud-sdk/lib/surface/pubsub/subscriptions/add_iam_policy_binding.yaml\n",
            "google-cloud-sdk/lib/surface/pubsub/subscriptions/create.py\n",
            "google-cloud-sdk/lib/surface/pubsub/subscriptions/delete.py\n",
            "google-cloud-sdk/lib/surface/pubsub/subscriptions/describe.py\n",
            "google-cloud-sdk/lib/surface/pubsub/subscriptions/get_iam_policy.py\n",
            "google-cloud-sdk/lib/surface/pubsub/subscriptions/get_iam_policy.yaml\n",
            "google-cloud-sdk/lib/surface/pubsub/subscriptions/list.py\n",
            "google-cloud-sdk/lib/surface/pubsub/subscriptions/modify_ack_deadline.py\n",
            "google-cloud-sdk/lib/surface/pubsub/subscriptions/modify_message_ack_deadline.py\n",
            "google-cloud-sdk/lib/surface/pubsub/subscriptions/modify_push_config.py\n",
            "google-cloud-sdk/lib/surface/pubsub/subscriptions/pull.py\n",
            "google-cloud-sdk/lib/surface/pubsub/subscriptions/remove_iam_policy_binding.yaml\n",
            "google-cloud-sdk/lib/surface/pubsub/subscriptions/seek.py\n",
            "google-cloud-sdk/lib/surface/pubsub/subscriptions/set_iam_policy.py\n",
            "google-cloud-sdk/lib/surface/pubsub/subscriptions/set_iam_policy.yaml\n",
            "google-cloud-sdk/lib/surface/pubsub/subscriptions/update.py\n",
            "google-cloud-sdk/lib/surface/pubsub/topics/__init__.py\n",
            "google-cloud-sdk/lib/surface/pubsub/topics/add_iam_policy_binding.yaml\n",
            "google-cloud-sdk/lib/surface/pubsub/topics/create.py\n",
            "google-cloud-sdk/lib/surface/pubsub/topics/delete.py\n",
            "google-cloud-sdk/lib/surface/pubsub/topics/describe.py\n",
            "google-cloud-sdk/lib/surface/pubsub/topics/detach_subscription.py\n",
            "google-cloud-sdk/lib/surface/pubsub/topics/get_iam_policy.py\n",
            "google-cloud-sdk/lib/surface/pubsub/topics/get_iam_policy.yaml\n",
            "google-cloud-sdk/lib/surface/pubsub/topics/list.py\n",
            "google-cloud-sdk/lib/surface/pubsub/topics/list_snapshots.py\n",
            "google-cloud-sdk/lib/surface/pubsub/topics/list_subscriptions.py\n",
            "google-cloud-sdk/lib/surface/pubsub/topics/publish.py\n",
            "google-cloud-sdk/lib/surface/pubsub/topics/remove_iam_policy_binding.yaml\n",
            "google-cloud-sdk/lib/surface/pubsub/topics/set_iam_policy.py\n",
            "google-cloud-sdk/lib/surface/pubsub/topics/set_iam_policy.yaml\n",
            "google-cloud-sdk/lib/surface/pubsub/topics/update.py\n",
            "google-cloud-sdk/lib/surface/recaptcha/__init__.py\n",
            "google-cloud-sdk/lib/surface/recaptcha/keys/__init__.py\n",
            "google-cloud-sdk/lib/surface/recaptcha/keys/create.yaml\n",
            "google-cloud-sdk/lib/surface/recaptcha/keys/delete.yaml\n",
            "google-cloud-sdk/lib/surface/recaptcha/keys/describe.yaml\n",
            "google-cloud-sdk/lib/surface/recaptcha/keys/list.yaml\n",
            "google-cloud-sdk/lib/surface/recaptcha/keys/update.yaml\n",
            "google-cloud-sdk/lib/surface/recommender/__init__.py\n",
            "google-cloud-sdk/lib/surface/recommender/insights/__init__.py\n",
            "google-cloud-sdk/lib/surface/recommender/insights/describe.py\n",
            "google-cloud-sdk/lib/surface/recommender/insights/list.py\n",
            "google-cloud-sdk/lib/surface/recommender/insights/mark_accepted.py\n",
            "google-cloud-sdk/lib/surface/recommender/insights/mark_active.py\n",
            "google-cloud-sdk/lib/surface/recommender/insights/mark_dismissed.py\n",
            "google-cloud-sdk/lib/surface/recommender/recommendations/__init__.py\n",
            "google-cloud-sdk/lib/surface/recommender/recommendations/describe.py\n",
            "google-cloud-sdk/lib/surface/recommender/recommendations/list.py\n",
            "google-cloud-sdk/lib/surface/recommender/recommendations/mark_active.py\n",
            "google-cloud-sdk/lib/surface/recommender/recommendations/mark_claimed.py\n",
            "google-cloud-sdk/lib/surface/recommender/recommendations/mark_dismissed.py\n",
            "google-cloud-sdk/lib/surface/recommender/recommendations/mark_failed.py\n",
            "google-cloud-sdk/lib/surface/recommender/recommendations/mark_succeeded.py\n",
            "google-cloud-sdk/lib/surface/recommender/recommender_configs/__init__.py\n",
            "google-cloud-sdk/lib/surface/recommender/recommender_configs/describe.py\n",
            "google-cloud-sdk/lib/surface/redis/__init__.py\n",
            "google-cloud-sdk/lib/surface/redis/instances/__init__.py\n",
            "google-cloud-sdk/lib/surface/redis/instances/create.yaml\n",
            "google-cloud-sdk/lib/surface/redis/instances/delete.yaml\n",
            "google-cloud-sdk/lib/surface/redis/instances/describe.yaml\n",
            "google-cloud-sdk/lib/surface/redis/instances/export.yaml\n",
            "google-cloud-sdk/lib/surface/redis/instances/failover.yaml\n",
            "google-cloud-sdk/lib/surface/redis/instances/get_auth_string.yaml\n",
            "google-cloud-sdk/lib/surface/redis/instances/import.yaml\n",
            "google-cloud-sdk/lib/surface/redis/instances/list.yaml\n",
            "google-cloud-sdk/lib/surface/redis/instances/reschedule_maintenance.yaml\n",
            "google-cloud-sdk/lib/surface/redis/instances/update.yaml\n",
            "google-cloud-sdk/lib/surface/redis/instances/upgrade.yaml\n",
            "google-cloud-sdk/lib/surface/redis/operations/__init__.py\n",
            "google-cloud-sdk/lib/surface/redis/operations/cancel.yaml\n",
            "google-cloud-sdk/lib/surface/redis/operations/describe.yaml\n",
            "google-cloud-sdk/lib/surface/redis/operations/list.yaml\n",
            "google-cloud-sdk/lib/surface/redis/regions/__init__.py\n",
            "google-cloud-sdk/lib/surface/redis/regions/describe.yaml\n",
            "google-cloud-sdk/lib/surface/redis/regions/list.yaml\n",
            "google-cloud-sdk/lib/surface/redis/zones/__init__.py\n",
            "google-cloud-sdk/lib/surface/redis/zones/list.yaml\n",
            "google-cloud-sdk/lib/surface/remote_build_execution/__init__.py\n",
            "google-cloud-sdk/lib/surface/remote_build_execution/instances/__init__.py\n",
            "google-cloud-sdk/lib/surface/remote_build_execution/instances/__init__.yaml\n",
            "google-cloud-sdk/lib/surface/remote_build_execution/instances/create.yaml\n",
            "google-cloud-sdk/lib/surface/remote_build_execution/instances/delete.yaml\n",
            "google-cloud-sdk/lib/surface/remote_build_execution/instances/delete_feature_policy.yaml\n",
            "google-cloud-sdk/lib/surface/remote_build_execution/instances/describe.yaml\n",
            "google-cloud-sdk/lib/surface/remote_build_execution/instances/list.yaml\n",
            "google-cloud-sdk/lib/surface/remote_build_execution/instances/set_feature_policy.yaml\n",
            "google-cloud-sdk/lib/surface/remote_build_execution/worker_pools/__init__.py\n",
            "google-cloud-sdk/lib/surface/remote_build_execution/worker_pools/__init__.yaml\n",
            "google-cloud-sdk/lib/surface/remote_build_execution/worker_pools/create.yaml\n",
            "google-cloud-sdk/lib/surface/remote_build_execution/worker_pools/delete.yaml\n",
            "google-cloud-sdk/lib/surface/remote_build_execution/worker_pools/describe.yaml\n",
            "google-cloud-sdk/lib/surface/remote_build_execution/worker_pools/list.yaml\n",
            "google-cloud-sdk/lib/surface/remote_build_execution/worker_pools/update.yaml\n",
            "google-cloud-sdk/lib/surface/resource_config/__init__.py\n",
            "google-cloud-sdk/lib/surface/resource_config/bulk_export.py\n",
            "google-cloud-sdk/lib/surface/resource_config/list_resources.py\n",
            "google-cloud-sdk/lib/surface/resource_manager/__init__.py\n",
            "google-cloud-sdk/lib/surface/resource_manager/folders/__init__.py\n",
            "google-cloud-sdk/lib/surface/resource_manager/folders/add_iam_policy_binding.yaml\n",
            "google-cloud-sdk/lib/surface/resource_manager/folders/create.py\n",
            "google-cloud-sdk/lib/surface/resource_manager/folders/delete.py\n",
            "google-cloud-sdk/lib/surface/resource_manager/folders/describe.py\n",
            "google-cloud-sdk/lib/surface/resource_manager/folders/get_ancestors_iam_policy.py\n",
            "google-cloud-sdk/lib/surface/resource_manager/folders/get_iam_policy.py\n",
            "google-cloud-sdk/lib/surface/resource_manager/folders/get_iam_policy.yaml\n",
            "google-cloud-sdk/lib/surface/resource_manager/folders/list.py\n",
            "google-cloud-sdk/lib/surface/resource_manager/folders/move.py\n",
            "google-cloud-sdk/lib/surface/resource_manager/folders/remove_iam_policy_binding.yaml\n",
            "google-cloud-sdk/lib/surface/resource_manager/folders/set_iam_policy.py\n",
            "google-cloud-sdk/lib/surface/resource_manager/folders/undelete.py\n",
            "google-cloud-sdk/lib/surface/resource_manager/folders/update.py\n",
            "google-cloud-sdk/lib/surface/resource_manager/liens/__init__.py\n",
            "google-cloud-sdk/lib/surface/resource_manager/liens/create.py\n",
            "google-cloud-sdk/lib/surface/resource_manager/liens/delete.py\n",
            "google-cloud-sdk/lib/surface/resource_manager/liens/list.py\n",
            "google-cloud-sdk/lib/surface/resource_manager/operations/__init__.py\n",
            "google-cloud-sdk/lib/surface/resource_manager/operations/describe.py\n",
            "google-cloud-sdk/lib/surface/resource_manager/org_policies/__init__.py\n",
            "google-cloud-sdk/lib/surface/resource_manager/org_policies/allow.py\n",
            "google-cloud-sdk/lib/surface/resource_manager/org_policies/delete.py\n",
            "google-cloud-sdk/lib/surface/resource_manager/org_policies/deny.py\n",
            "google-cloud-sdk/lib/surface/resource_manager/org_policies/describe.py\n",
            "google-cloud-sdk/lib/surface/resource_manager/org_policies/disable_enforce.py\n",
            "google-cloud-sdk/lib/surface/resource_manager/org_policies/enable_enforce.py\n",
            "google-cloud-sdk/lib/surface/resource_manager/org_policies/list.py\n",
            "google-cloud-sdk/lib/surface/resource_manager/org_policies/set_policy.py\n",
            "google-cloud-sdk/lib/surface/resource_manager/tags/__init__.py\n",
            "google-cloud-sdk/lib/surface/resource_manager/tags/bindings/__init__.py\n",
            "google-cloud-sdk/lib/surface/resource_manager/tags/bindings/create.py\n",
            "google-cloud-sdk/lib/surface/resource_manager/tags/bindings/delete.py\n",
            "google-cloud-sdk/lib/surface/resource_manager/tags/bindings/list.py\n",
            "google-cloud-sdk/lib/surface/resource_manager/tags/keys/__init__.py\n",
            "google-cloud-sdk/lib/surface/resource_manager/tags/keys/add_iam_policy_binding.py\n",
            "google-cloud-sdk/lib/surface/resource_manager/tags/keys/create.py\n",
            "google-cloud-sdk/lib/surface/resource_manager/tags/keys/delete.py\n",
            "google-cloud-sdk/lib/surface/resource_manager/tags/keys/describe.py\n",
            "google-cloud-sdk/lib/surface/resource_manager/tags/keys/get_iam_policy.py\n",
            "google-cloud-sdk/lib/surface/resource_manager/tags/keys/list.py\n",
            "google-cloud-sdk/lib/surface/resource_manager/tags/keys/remove_iam_policy_binding.py\n",
            "google-cloud-sdk/lib/surface/resource_manager/tags/keys/set_iam_policy.py\n",
            "google-cloud-sdk/lib/surface/resource_manager/tags/keys/update.py\n",
            "google-cloud-sdk/lib/surface/resource_manager/tags/values/__init__.py\n",
            "google-cloud-sdk/lib/surface/resource_manager/tags/values/add_iam_policy_binding.py\n",
            "google-cloud-sdk/lib/surface/resource_manager/tags/values/create.py\n",
            "google-cloud-sdk/lib/surface/resource_manager/tags/values/delete.py\n",
            "google-cloud-sdk/lib/surface/resource_manager/tags/values/describe.py\n",
            "google-cloud-sdk/lib/surface/resource_manager/tags/values/get_iam_policy.py\n",
            "google-cloud-sdk/lib/surface/resource_manager/tags/values/list.py\n",
            "google-cloud-sdk/lib/surface/resource_manager/tags/values/remove_iam_policy_binding.py\n",
            "google-cloud-sdk/lib/surface/resource_manager/tags/values/set_iam_policy.py\n",
            "google-cloud-sdk/lib/surface/resource_manager/tags/values/update.py\n",
            "google-cloud-sdk/lib/surface/resource_settings/__init__.py\n",
            "google-cloud-sdk/lib/surface/resource_settings/describe.py\n",
            "google-cloud-sdk/lib/surface/resource_settings/list.py\n",
            "google-cloud-sdk/lib/surface/resource_settings/list_values.py\n",
            "google-cloud-sdk/lib/surface/resource_settings/set_value.py\n",
            "google-cloud-sdk/lib/surface/resource_settings/unset_value.py\n",
            "google-cloud-sdk/lib/surface/run/__init__.py\n",
            "google-cloud-sdk/lib/surface/run/configurations/__init__.py\n",
            "google-cloud-sdk/lib/surface/run/configurations/describe.py\n",
            "google-cloud-sdk/lib/surface/run/configurations/list.py\n",
            "google-cloud-sdk/lib/surface/run/deploy.py\n",
            "google-cloud-sdk/lib/surface/run/domain_mappings/__init__.py\n",
            "google-cloud-sdk/lib/surface/run/domain_mappings/create.py\n",
            "google-cloud-sdk/lib/surface/run/domain_mappings/delete.py\n",
            "google-cloud-sdk/lib/surface/run/domain_mappings/describe.py\n",
            "google-cloud-sdk/lib/surface/run/domain_mappings/list.py\n",
            "google-cloud-sdk/lib/surface/run/jobs/__init__.py\n",
            "google-cloud-sdk/lib/surface/run/jobs/create.py\n",
            "google-cloud-sdk/lib/surface/run/jobs/delete.py\n",
            "google-cloud-sdk/lib/surface/run/jobs/describe.py\n",
            "google-cloud-sdk/lib/surface/run/jobs/list.py\n",
            "google-cloud-sdk/lib/surface/run/regions/__init__.py\n",
            "google-cloud-sdk/lib/surface/run/regions/list.py\n",
            "google-cloud-sdk/lib/surface/run/revisions/__init__.py\n",
            "google-cloud-sdk/lib/surface/run/revisions/delete.py\n",
            "google-cloud-sdk/lib/surface/run/revisions/describe.py\n",
            "google-cloud-sdk/lib/surface/run/revisions/list.py\n",
            "google-cloud-sdk/lib/surface/run/revisions/logs/__init__.py\n",
            "google-cloud-sdk/lib/surface/run/revisions/logs/read.py\n",
            "google-cloud-sdk/lib/surface/run/routes/__init__.py\n",
            "google-cloud-sdk/lib/surface/run/routes/describe.py\n",
            "google-cloud-sdk/lib/surface/run/routes/list.py\n",
            "google-cloud-sdk/lib/surface/run/services/__init__.py\n",
            "google-cloud-sdk/lib/surface/run/services/add_iam_policy_binding.yaml\n",
            "google-cloud-sdk/lib/surface/run/services/delete.py\n",
            "google-cloud-sdk/lib/surface/run/services/describe.py\n",
            "google-cloud-sdk/lib/surface/run/services/get_iam_policy.yaml\n",
            "google-cloud-sdk/lib/surface/run/services/list.py\n",
            "google-cloud-sdk/lib/surface/run/services/logs/__init__.py\n",
            "google-cloud-sdk/lib/surface/run/services/logs/read.py\n",
            "google-cloud-sdk/lib/surface/run/services/remove_iam_policy_binding.yaml\n",
            "google-cloud-sdk/lib/surface/run/services/replace.py\n",
            "google-cloud-sdk/lib/surface/run/services/set_iam_policy.yaml\n",
            "google-cloud-sdk/lib/surface/run/services/update.py\n",
            "google-cloud-sdk/lib/surface/run/services/update_traffic.py\n",
            "google-cloud-sdk/lib/surface/runtime_config/__init__.py\n",
            "google-cloud-sdk/lib/surface/runtime_config/configs/__init__.py\n",
            "google-cloud-sdk/lib/surface/runtime_config/configs/create.py\n",
            "google-cloud-sdk/lib/surface/runtime_config/configs/delete.py\n",
            "google-cloud-sdk/lib/surface/runtime_config/configs/describe.py\n",
            "google-cloud-sdk/lib/surface/runtime_config/configs/list.py\n",
            "google-cloud-sdk/lib/surface/runtime_config/configs/update.py\n",
            "google-cloud-sdk/lib/surface/runtime_config/configs/variables/__init__.py\n",
            "google-cloud-sdk/lib/surface/runtime_config/configs/variables/describe.py\n",
            "google-cloud-sdk/lib/surface/runtime_config/configs/variables/get_value.py\n",
            "google-cloud-sdk/lib/surface/runtime_config/configs/variables/list.py\n",
            "google-cloud-sdk/lib/surface/runtime_config/configs/variables/set.py\n",
            "google-cloud-sdk/lib/surface/runtime_config/configs/variables/unset.py\n",
            "google-cloud-sdk/lib/surface/runtime_config/configs/variables/watch.py\n",
            "google-cloud-sdk/lib/surface/runtime_config/configs/waiters/__init__.py\n",
            "google-cloud-sdk/lib/surface/runtime_config/configs/waiters/create.py\n",
            "google-cloud-sdk/lib/surface/runtime_config/configs/waiters/delete.py\n",
            "google-cloud-sdk/lib/surface/runtime_config/configs/waiters/describe.py\n",
            "google-cloud-sdk/lib/surface/runtime_config/configs/waiters/list.py\n",
            "google-cloud-sdk/lib/surface/runtime_config/configs/waiters/wait.py\n",
            "google-cloud-sdk/lib/surface/scc/__init__.py\n",
            "google-cloud-sdk/lib/surface/scc/assets/__init__.py\n",
            "google-cloud-sdk/lib/surface/scc/assets/describe.yaml\n",
            "google-cloud-sdk/lib/surface/scc/assets/get_parent.yaml\n",
            "google-cloud-sdk/lib/surface/scc/assets/get_project.yaml\n",
            "google-cloud-sdk/lib/surface/scc/assets/group.yaml\n",
            "google-cloud-sdk/lib/surface/scc/assets/list.yaml\n",
            "google-cloud-sdk/lib/surface/scc/assets/list_marks.yaml\n",
            "google-cloud-sdk/lib/surface/scc/assets/run_discovery.yaml\n",
            "google-cloud-sdk/lib/surface/scc/assets/update_marks.yaml\n",
            "google-cloud-sdk/lib/surface/scc/findings/__init__.py\n",
            "google-cloud-sdk/lib/surface/scc/findings/create.yaml\n",
            "google-cloud-sdk/lib/surface/scc/findings/group.yaml\n",
            "google-cloud-sdk/lib/surface/scc/findings/list.yaml\n",
            "google-cloud-sdk/lib/surface/scc/findings/list_marks.yaml\n",
            "google-cloud-sdk/lib/surface/scc/findings/update.yaml\n",
            "google-cloud-sdk/lib/surface/scc/findings/update_marks.yaml\n",
            "google-cloud-sdk/lib/surface/scc/notifications/__init__.py\n",
            "google-cloud-sdk/lib/surface/scc/notifications/create.yaml\n",
            "google-cloud-sdk/lib/surface/scc/notifications/delete.yaml\n",
            "google-cloud-sdk/lib/surface/scc/notifications/describe.yaml\n",
            "google-cloud-sdk/lib/surface/scc/notifications/list.yaml\n",
            "google-cloud-sdk/lib/surface/scc/notifications/update.yaml\n",
            "google-cloud-sdk/lib/surface/scc/operations/__init__.py\n",
            "google-cloud-sdk/lib/surface/scc/operations/describe.yaml\n",
            "google-cloud-sdk/lib/surface/scc/settings/__init__.py\n",
            "google-cloud-sdk/lib/surface/scc/settings/describe_explicit.py\n",
            "google-cloud-sdk/lib/surface/scc/settings/services/__init__.py\n",
            "google-cloud-sdk/lib/surface/scc/settings/services/describe.py\n",
            "google-cloud-sdk/lib/surface/scc/settings/services/describe_explicit.py\n",
            "google-cloud-sdk/lib/surface/scc/settings/services/disable.py\n",
            "google-cloud-sdk/lib/surface/scc/settings/services/enable.py\n",
            "google-cloud-sdk/lib/surface/scc/settings/services/modules/__init__.py\n",
            "google-cloud-sdk/lib/surface/scc/settings/services/modules/describe.py\n",
            "google-cloud-sdk/lib/surface/scc/settings/services/modules/describe_explicit.py\n",
            "google-cloud-sdk/lib/surface/scc/settings/services/modules/disable.py\n",
            "google-cloud-sdk/lib/surface/scc/settings/services/modules/enable.py\n",
            "google-cloud-sdk/lib/surface/scc/sources/__init__.py\n",
            "google-cloud-sdk/lib/surface/scc/sources/describe.yaml\n",
            "google-cloud-sdk/lib/surface/scheduler/__init__.py\n",
            "google-cloud-sdk/lib/surface/scheduler/jobs/__init__.py\n",
            "google-cloud-sdk/lib/surface/scheduler/jobs/create/__init__.py\n",
            "google-cloud-sdk/lib/surface/scheduler/jobs/create/app_engine.yaml\n",
            "google-cloud-sdk/lib/surface/scheduler/jobs/create/http.yaml\n",
            "google-cloud-sdk/lib/surface/scheduler/jobs/create/pubsub.yaml\n",
            "google-cloud-sdk/lib/surface/scheduler/jobs/delete.yaml\n",
            "google-cloud-sdk/lib/surface/scheduler/jobs/describe.yaml\n",
            "google-cloud-sdk/lib/surface/scheduler/jobs/list.yaml\n",
            "google-cloud-sdk/lib/surface/scheduler/jobs/pause.yaml\n",
            "google-cloud-sdk/lib/surface/scheduler/jobs/resume.yaml\n",
            "google-cloud-sdk/lib/surface/scheduler/jobs/run.yaml\n",
            "google-cloud-sdk/lib/surface/scheduler/jobs/update/__init__.py\n",
            "google-cloud-sdk/lib/surface/scheduler/jobs/update/app_engine.yaml\n",
            "google-cloud-sdk/lib/surface/scheduler/jobs/update/http.yaml\n",
            "google-cloud-sdk/lib/surface/scheduler/jobs/update/pubsub.yaml\n",
            "google-cloud-sdk/lib/surface/secrets/__init__.py\n",
            "google-cloud-sdk/lib/surface/secrets/add_iam_policy_binding.yaml\n",
            "google-cloud-sdk/lib/surface/secrets/create.py\n",
            "google-cloud-sdk/lib/surface/secrets/delete.py\n",
            "google-cloud-sdk/lib/surface/secrets/describe.py\n",
            "google-cloud-sdk/lib/surface/secrets/get_iam_policy.yaml\n",
            "google-cloud-sdk/lib/surface/secrets/list.py\n",
            "google-cloud-sdk/lib/surface/secrets/locations/__init__.py\n",
            "google-cloud-sdk/lib/surface/secrets/locations/describe.py\n",
            "google-cloud-sdk/lib/surface/secrets/locations/list.py\n",
            "google-cloud-sdk/lib/surface/secrets/remove_iam_policy_binding.yaml\n",
            "google-cloud-sdk/lib/surface/secrets/replication/__init__.py\n",
            "google-cloud-sdk/lib/surface/secrets/replication/get.py\n",
            "google-cloud-sdk/lib/surface/secrets/replication/set.py\n",
            "google-cloud-sdk/lib/surface/secrets/replication/update.py\n",
            "google-cloud-sdk/lib/surface/secrets/set_iam_policy.yaml\n",
            "google-cloud-sdk/lib/surface/secrets/update.py\n",
            "google-cloud-sdk/lib/surface/secrets/versions/__init__.py\n",
            "google-cloud-sdk/lib/surface/secrets/versions/access.py\n",
            "google-cloud-sdk/lib/surface/secrets/versions/add.py\n",
            "google-cloud-sdk/lib/surface/secrets/versions/describe.py\n",
            "google-cloud-sdk/lib/surface/secrets/versions/destroy.py\n",
            "google-cloud-sdk/lib/surface/secrets/versions/disable.py\n",
            "google-cloud-sdk/lib/surface/secrets/versions/enable.py\n",
            "google-cloud-sdk/lib/surface/secrets/versions/list.py\n",
            "google-cloud-sdk/lib/surface/service_directory/__init__.py\n",
            "google-cloud-sdk/lib/surface/service_directory/endpoints/__init__.py\n",
            "google-cloud-sdk/lib/surface/service_directory/endpoints/create.py\n",
            "google-cloud-sdk/lib/surface/service_directory/endpoints/delete.py\n",
            "google-cloud-sdk/lib/surface/service_directory/endpoints/describe.py\n",
            "google-cloud-sdk/lib/surface/service_directory/endpoints/list.py\n",
            "google-cloud-sdk/lib/surface/service_directory/endpoints/update.py\n",
            "google-cloud-sdk/lib/surface/service_directory/locations/__init__.py\n",
            "google-cloud-sdk/lib/surface/service_directory/locations/describe.py\n",
            "google-cloud-sdk/lib/surface/service_directory/locations/list.py\n",
            "google-cloud-sdk/lib/surface/service_directory/namespaces/__init__.py\n",
            "google-cloud-sdk/lib/surface/service_directory/namespaces/add_iam_policy_binding.py\n",
            "google-cloud-sdk/lib/surface/service_directory/namespaces/create.py\n",
            "google-cloud-sdk/lib/surface/service_directory/namespaces/delete.py\n",
            "google-cloud-sdk/lib/surface/service_directory/namespaces/describe.py\n",
            "google-cloud-sdk/lib/surface/service_directory/namespaces/get_iam_policy.py\n",
            "google-cloud-sdk/lib/surface/service_directory/namespaces/list.py\n",
            "google-cloud-sdk/lib/surface/service_directory/namespaces/remove_iam_policy_binding.py\n",
            "google-cloud-sdk/lib/surface/service_directory/namespaces/set_iam_policy.py\n",
            "google-cloud-sdk/lib/surface/service_directory/namespaces/update.py\n",
            "google-cloud-sdk/lib/surface/service_directory/services/__init__.py\n",
            "google-cloud-sdk/lib/surface/service_directory/services/add_iam_policy_binding.py\n",
            "google-cloud-sdk/lib/surface/service_directory/services/create.py\n",
            "google-cloud-sdk/lib/surface/service_directory/services/delete.py\n",
            "google-cloud-sdk/lib/surface/service_directory/services/describe.py\n",
            "google-cloud-sdk/lib/surface/service_directory/services/get_iam_policy.py\n",
            "google-cloud-sdk/lib/surface/service_directory/services/list.py\n",
            "google-cloud-sdk/lib/surface/service_directory/services/remove_iam_policy_binding.py\n",
            "google-cloud-sdk/lib/surface/service_directory/services/resolve.py\n",
            "google-cloud-sdk/lib/surface/service_directory/services/set_iam_policy.py\n",
            "google-cloud-sdk/lib/surface/service_directory/services/update.py\n",
            "google-cloud-sdk/lib/surface/services/__init__.py\n",
            "google-cloud-sdk/lib/surface/services/api_keys/__init__.py\n",
            "google-cloud-sdk/lib/surface/services/api_keys/clone.py\n",
            "google-cloud-sdk/lib/surface/services/api_keys/create.py\n",
            "google-cloud-sdk/lib/surface/services/api_keys/delete.py\n",
            "google-cloud-sdk/lib/surface/services/api_keys/describe.py\n",
            "google-cloud-sdk/lib/surface/services/api_keys/get_key_string.py\n",
            "google-cloud-sdk/lib/surface/services/api_keys/list.py\n",
            "google-cloud-sdk/lib/surface/services/api_keys/lookup.py\n",
            "google-cloud-sdk/lib/surface/services/api_keys/undelete.py\n",
            "google-cloud-sdk/lib/surface/services/api_keys/update.py\n",
            "google-cloud-sdk/lib/surface/services/disable.py\n",
            "google-cloud-sdk/lib/surface/services/enable.py\n",
            "google-cloud-sdk/lib/surface/services/identity/__init__.py\n",
            "google-cloud-sdk/lib/surface/services/identity/create.py\n",
            "google-cloud-sdk/lib/surface/services/list.py\n",
            "google-cloud-sdk/lib/surface/services/operations/__init__.py\n",
            "google-cloud-sdk/lib/surface/services/operations/describe.py\n",
            "google-cloud-sdk/lib/surface/services/operations/wait.py\n",
            "google-cloud-sdk/lib/surface/services/peered_dns_domains/__init__.py\n",
            "google-cloud-sdk/lib/surface/services/peered_dns_domains/create.py\n",
            "google-cloud-sdk/lib/surface/services/peered_dns_domains/delete.py\n",
            "google-cloud-sdk/lib/surface/services/peered_dns_domains/list.py\n",
            "google-cloud-sdk/lib/surface/services/quota/__init__.py\n",
            "google-cloud-sdk/lib/surface/services/quota/create.py\n",
            "google-cloud-sdk/lib/surface/services/quota/delete.py\n",
            "google-cloud-sdk/lib/surface/services/quota/list.py\n",
            "google-cloud-sdk/lib/surface/services/quota/update.py\n",
            "google-cloud-sdk/lib/surface/services/vpc_peerings/__init__.py\n",
            "google-cloud-sdk/lib/surface/services/vpc_peerings/connect.py\n",
            "google-cloud-sdk/lib/surface/services/vpc_peerings/disable_vpc_service_controls.py\n",
            "google-cloud-sdk/lib/surface/services/vpc_peerings/enable_vpc_service_controls.py\n",
            "google-cloud-sdk/lib/surface/services/vpc_peerings/list.py\n",
            "google-cloud-sdk/lib/surface/services/vpc_peerings/operations/__init__.py\n",
            "google-cloud-sdk/lib/surface/services/vpc_peerings/operations/describe.py\n",
            "google-cloud-sdk/lib/surface/services/vpc_peerings/operations/wait.py\n",
            "google-cloud-sdk/lib/surface/services/vpc_peerings/update.py\n",
            "google-cloud-sdk/lib/surface/source/__init__.py\n",
            "google-cloud-sdk/lib/surface/source/project_configs/__init__.py\n",
            "google-cloud-sdk/lib/surface/source/project_configs/describe.yaml\n",
            "google-cloud-sdk/lib/surface/source/project_configs/update.py\n",
            "google-cloud-sdk/lib/surface/source/repos/__init__.py\n",
            "google-cloud-sdk/lib/surface/source/repos/clone.py\n",
            "google-cloud-sdk/lib/surface/source/repos/create.py\n",
            "google-cloud-sdk/lib/surface/source/repos/delete.py\n",
            "google-cloud-sdk/lib/surface/source/repos/describe.py\n",
            "google-cloud-sdk/lib/surface/source/repos/get_iam_policy.py\n",
            "google-cloud-sdk/lib/surface/source/repos/list.py\n",
            "google-cloud-sdk/lib/surface/source/repos/set_iam_policy.py\n",
            "google-cloud-sdk/lib/surface/source/repos/update.py\n",
            "google-cloud-sdk/lib/surface/spanner/__init__.py\n",
            "google-cloud-sdk/lib/surface/spanner/backups/__init__.py\n",
            "google-cloud-sdk/lib/surface/spanner/backups/add_iam_policy_binding.yaml\n",
            "google-cloud-sdk/lib/surface/spanner/backups/create.py\n",
            "google-cloud-sdk/lib/surface/spanner/backups/delete.yaml\n",
            "google-cloud-sdk/lib/surface/spanner/backups/describe.yaml\n",
            "google-cloud-sdk/lib/surface/spanner/backups/get_iam_policy.yaml\n",
            "google-cloud-sdk/lib/surface/spanner/backups/list.yaml\n",
            "google-cloud-sdk/lib/surface/spanner/backups/remove_iam_policy_binding.yaml\n",
            "google-cloud-sdk/lib/surface/spanner/backups/set_iam_policy.yaml\n",
            "google-cloud-sdk/lib/surface/spanner/backups/update_metadata.yaml\n",
            "google-cloud-sdk/lib/surface/spanner/databases/__init__.py\n",
            "google-cloud-sdk/lib/surface/spanner/databases/add_iam_policy_binding.yaml\n",
            "google-cloud-sdk/lib/surface/spanner/databases/create.py\n",
            "google-cloud-sdk/lib/surface/spanner/databases/ddl/__init__.py\n",
            "google-cloud-sdk/lib/surface/spanner/databases/ddl/describe.py\n",
            "google-cloud-sdk/lib/surface/spanner/databases/ddl/update.py\n",
            "google-cloud-sdk/lib/surface/spanner/databases/delete.py\n",
            "google-cloud-sdk/lib/surface/spanner/databases/describe.py\n",
            "google-cloud-sdk/lib/surface/spanner/databases/execute_sql.py\n",
            "google-cloud-sdk/lib/surface/spanner/databases/get_iam_policy.py\n",
            "google-cloud-sdk/lib/surface/spanner/databases/get_iam_policy.yaml\n",
            "google-cloud-sdk/lib/surface/spanner/databases/list.py\n",
            "google-cloud-sdk/lib/surface/spanner/databases/remove_iam_policy_binding.yaml\n",
            "google-cloud-sdk/lib/surface/spanner/databases/restore.py\n",
            "google-cloud-sdk/lib/surface/spanner/databases/sessions/__init__.py\n",
            "google-cloud-sdk/lib/surface/spanner/databases/sessions/delete.py\n",
            "google-cloud-sdk/lib/surface/spanner/databases/sessions/list.py\n",
            "google-cloud-sdk/lib/surface/spanner/databases/set_iam_policy.py\n",
            "google-cloud-sdk/lib/surface/spanner/instance_configs/__init__.py\n",
            "google-cloud-sdk/lib/surface/spanner/instance_configs/describe.py\n",
            "google-cloud-sdk/lib/surface/spanner/instance_configs/list.py\n",
            "google-cloud-sdk/lib/surface/spanner/instances/__init__.py\n",
            "google-cloud-sdk/lib/surface/spanner/instances/add_iam_policy_binding.yaml\n",
            "google-cloud-sdk/lib/surface/spanner/instances/create.py\n",
            "google-cloud-sdk/lib/surface/spanner/instances/delete.py\n",
            "google-cloud-sdk/lib/surface/spanner/instances/describe.py\n",
            "google-cloud-sdk/lib/surface/spanner/instances/get_iam_policy.yaml\n",
            "google-cloud-sdk/lib/surface/spanner/instances/list.py\n",
            "google-cloud-sdk/lib/surface/spanner/instances/remove_iam_policy_binding.yaml\n",
            "google-cloud-sdk/lib/surface/spanner/instances/set_iam_policy.yaml\n",
            "google-cloud-sdk/lib/surface/spanner/instances/update.py\n",
            "google-cloud-sdk/lib/surface/spanner/operations/__init__.py\n",
            "google-cloud-sdk/lib/surface/spanner/operations/cancel.py\n",
            "google-cloud-sdk/lib/surface/spanner/operations/describe.py\n",
            "google-cloud-sdk/lib/surface/spanner/operations/list.py\n",
            "google-cloud-sdk/lib/surface/spanner/rows/__init__.py\n",
            "google-cloud-sdk/lib/surface/spanner/rows/delete.py\n",
            "google-cloud-sdk/lib/surface/spanner/rows/insert.py\n",
            "google-cloud-sdk/lib/surface/spanner/rows/update.py\n",
            "google-cloud-sdk/lib/surface/sql/__init__.py\n",
            "google-cloud-sdk/lib/surface/sql/backups/__init__.py\n",
            "google-cloud-sdk/lib/surface/sql/backups/create.py\n",
            "google-cloud-sdk/lib/surface/sql/backups/delete.py\n",
            "google-cloud-sdk/lib/surface/sql/backups/describe.py\n",
            "google-cloud-sdk/lib/surface/sql/backups/list.py\n",
            "google-cloud-sdk/lib/surface/sql/backups/restore.py\n",
            "google-cloud-sdk/lib/surface/sql/connect.py\n",
            "google-cloud-sdk/lib/surface/sql/databases/__init__.py\n",
            "google-cloud-sdk/lib/surface/sql/databases/create.py\n",
            "google-cloud-sdk/lib/surface/sql/databases/delete.py\n",
            "google-cloud-sdk/lib/surface/sql/databases/describe.py\n",
            "google-cloud-sdk/lib/surface/sql/databases/list.py\n",
            "google-cloud-sdk/lib/surface/sql/databases/patch.py\n",
            "google-cloud-sdk/lib/surface/sql/export/__init__.py\n",
            "google-cloud-sdk/lib/surface/sql/export/bak.py\n",
            "google-cloud-sdk/lib/surface/sql/export/csv.py\n",
            "google-cloud-sdk/lib/surface/sql/export/sql.py\n",
            "google-cloud-sdk/lib/surface/sql/flags/__init__.py\n",
            "google-cloud-sdk/lib/surface/sql/flags/list.py\n",
            "google-cloud-sdk/lib/surface/sql/import/__init__.py\n",
            "google-cloud-sdk/lib/surface/sql/import/bak.py\n",
            "google-cloud-sdk/lib/surface/sql/import/csv.py\n",
            "google-cloud-sdk/lib/surface/sql/import/sql.py\n",
            "google-cloud-sdk/lib/surface/sql/instances/__init__.py\n",
            "google-cloud-sdk/lib/surface/sql/instances/clone.py\n",
            "google-cloud-sdk/lib/surface/sql/instances/create.py\n",
            "google-cloud-sdk/lib/surface/sql/instances/delete.py\n",
            "google-cloud-sdk/lib/surface/sql/instances/describe.py\n",
            "google-cloud-sdk/lib/surface/sql/instances/export.py\n",
            "google-cloud-sdk/lib/surface/sql/instances/failover.py\n",
            "google-cloud-sdk/lib/surface/sql/instances/import.py\n",
            "google-cloud-sdk/lib/surface/sql/instances/list.py\n",
            "google-cloud-sdk/lib/surface/sql/instances/patch.py\n",
            "google-cloud-sdk/lib/surface/sql/instances/promote_replica.py\n",
            "google-cloud-sdk/lib/surface/sql/instances/reset_ssl_config.py\n",
            "google-cloud-sdk/lib/surface/sql/instances/restart.py\n",
            "google-cloud-sdk/lib/surface/sql/instances/restore_backup.py\n",
            "google-cloud-sdk/lib/surface/sql/operations/__init__.py\n",
            "google-cloud-sdk/lib/surface/sql/operations/describe.py\n",
            "google-cloud-sdk/lib/surface/sql/operations/list.py\n",
            "google-cloud-sdk/lib/surface/sql/operations/wait.py\n",
            "google-cloud-sdk/lib/surface/sql/reschedule_maintenance.py\n",
            "google-cloud-sdk/lib/surface/sql/ssl/__init__.py\n",
            "google-cloud-sdk/lib/surface/sql/ssl/client_certs/__init__.py\n",
            "google-cloud-sdk/lib/surface/sql/ssl/client_certs/create.py\n",
            "google-cloud-sdk/lib/surface/sql/ssl/client_certs/delete.py\n",
            "google-cloud-sdk/lib/surface/sql/ssl/client_certs/describe.py\n",
            "google-cloud-sdk/lib/surface/sql/ssl/client_certs/list.py\n",
            "google-cloud-sdk/lib/surface/sql/ssl/server_ca_certs/__init__.py\n",
            "google-cloud-sdk/lib/surface/sql/ssl/server_ca_certs/create.py\n",
            "google-cloud-sdk/lib/surface/sql/ssl/server_ca_certs/list.py\n",
            "google-cloud-sdk/lib/surface/sql/ssl/server_ca_certs/rollback.py\n",
            "google-cloud-sdk/lib/surface/sql/ssl/server_ca_certs/rotate.py\n",
            "google-cloud-sdk/lib/surface/sql/ssl_certs/__init__.py\n",
            "google-cloud-sdk/lib/surface/sql/ssl_certs/create.py\n",
            "google-cloud-sdk/lib/surface/sql/ssl_certs/delete.py\n",
            "google-cloud-sdk/lib/surface/sql/ssl_certs/describe.py\n",
            "google-cloud-sdk/lib/surface/sql/ssl_certs/list.py\n",
            "google-cloud-sdk/lib/surface/sql/tiers/__init__.py\n",
            "google-cloud-sdk/lib/surface/sql/tiers/list.py\n",
            "google-cloud-sdk/lib/surface/sql/users/__init__.py\n",
            "google-cloud-sdk/lib/surface/sql/users/create.py\n",
            "google-cloud-sdk/lib/surface/sql/users/delete.py\n",
            "google-cloud-sdk/lib/surface/sql/users/list.py\n",
            "google-cloud-sdk/lib/surface/sql/users/set_password.py\n",
            "google-cloud-sdk/lib/surface/storage/__init__.py\n",
            "google-cloud-sdk/lib/surface/storage/buckets/__init__.py\n",
            "google-cloud-sdk/lib/surface/storage/buckets/create.yaml\n",
            "google-cloud-sdk/lib/surface/storage/buckets/delete.yaml\n",
            "google-cloud-sdk/lib/surface/storage/buckets/describe.yaml\n",
            "google-cloud-sdk/lib/surface/storage/buckets/list.yaml\n",
            "google-cloud-sdk/lib/surface/storage/buckets/update.yaml\n",
            "google-cloud-sdk/lib/surface/storage/copy.py\n",
            "google-cloud-sdk/lib/surface/storage/cp.py\n",
            "google-cloud-sdk/lib/surface/storage/delete.py\n",
            "google-cloud-sdk/lib/surface/storage/list.py\n",
            "google-cloud-sdk/lib/surface/storage/ls.py\n",
            "google-cloud-sdk/lib/surface/storage/mb.py\n",
            "google-cloud-sdk/lib/surface/survey.py\n",
            "google-cloud-sdk/lib/surface/tasks/__init__.py\n",
            "google-cloud-sdk/lib/surface/tasks/acknowledge.py\n",
            "google-cloud-sdk/lib/surface/tasks/cancel_lease.py\n",
            "google-cloud-sdk/lib/surface/tasks/create_app_engine_task.py\n",
            "google-cloud-sdk/lib/surface/tasks/create_http_task.py\n",
            "google-cloud-sdk/lib/surface/tasks/create_pull_task.py\n",
            "google-cloud-sdk/lib/surface/tasks/delete.py\n",
            "google-cloud-sdk/lib/surface/tasks/describe.py\n",
            "google-cloud-sdk/lib/surface/tasks/lease.py\n",
            "google-cloud-sdk/lib/surface/tasks/list.py\n",
            "google-cloud-sdk/lib/surface/tasks/locations/__init__.py\n",
            "google-cloud-sdk/lib/surface/tasks/locations/describe.py\n",
            "google-cloud-sdk/lib/surface/tasks/locations/list.py\n",
            "google-cloud-sdk/lib/surface/tasks/queues/__init__.py\n",
            "google-cloud-sdk/lib/surface/tasks/queues/add_iam_policy_binding.yaml\n",
            "google-cloud-sdk/lib/surface/tasks/queues/create.py\n",
            "google-cloud-sdk/lib/surface/tasks/queues/create_app_engine_queue.py\n",
            "google-cloud-sdk/lib/surface/tasks/queues/create_pull_queue.py\n",
            "google-cloud-sdk/lib/surface/tasks/queues/delete.py\n",
            "google-cloud-sdk/lib/surface/tasks/queues/describe.py\n",
            "google-cloud-sdk/lib/surface/tasks/queues/get_iam_policy.yaml\n",
            "google-cloud-sdk/lib/surface/tasks/queues/list.py\n",
            "google-cloud-sdk/lib/surface/tasks/queues/pause.py\n",
            "google-cloud-sdk/lib/surface/tasks/queues/purge.py\n",
            "google-cloud-sdk/lib/surface/tasks/queues/remove_iam_policy_binding.yaml\n",
            "google-cloud-sdk/lib/surface/tasks/queues/resume.py\n",
            "google-cloud-sdk/lib/surface/tasks/queues/set_iam_policy.yaml\n",
            "google-cloud-sdk/lib/surface/tasks/queues/update.py\n",
            "google-cloud-sdk/lib/surface/tasks/queues/update_app_engine_queue.py\n",
            "google-cloud-sdk/lib/surface/tasks/queues/update_pull_queue.py\n",
            "google-cloud-sdk/lib/surface/tasks/renew_lease.py\n",
            "google-cloud-sdk/lib/surface/tasks/run.py\n",
            "google-cloud-sdk/lib/surface/topic/__init__.py\n",
            "google-cloud-sdk/lib/surface/topic/accessibility.py\n",
            "google-cloud-sdk/lib/surface/topic/arg_files.py\n",
            "google-cloud-sdk/lib/surface/topic/cli_trees.py\n",
            "google-cloud-sdk/lib/surface/topic/client_certificate.py\n",
            "google-cloud-sdk/lib/surface/topic/command_conventions.py\n",
            "google-cloud-sdk/lib/surface/topic/configurations.py\n",
            "google-cloud-sdk/lib/surface/topic/datetimes.py\n",
            "google-cloud-sdk/lib/surface/topic/escaping.py\n",
            "google-cloud-sdk/lib/surface/topic/filters.py\n",
            "google-cloud-sdk/lib/surface/topic/flags_file.py\n",
            "google-cloud-sdk/lib/surface/topic/formats.py\n",
            "google-cloud-sdk/lib/surface/topic/gcloudignore.py\n",
            "google-cloud-sdk/lib/surface/topic/offline_help.py\n",
            "google-cloud-sdk/lib/surface/topic/projections.py\n",
            "google-cloud-sdk/lib/surface/topic/resource_keys.py\n",
            "google-cloud-sdk/lib/surface/topic/startup.py\n",
            "google-cloud-sdk/lib/surface/topic/uninstall.py\n",
            "google-cloud-sdk/lib/surface/trace/__init__.py\n",
            "google-cloud-sdk/lib/surface/trace/sinks/__init__.py\n",
            "google-cloud-sdk/lib/surface/trace/sinks/create.py\n",
            "google-cloud-sdk/lib/surface/trace/sinks/delete.py\n",
            "google-cloud-sdk/lib/surface/trace/sinks/describe.py\n",
            "google-cloud-sdk/lib/surface/trace/sinks/list.py\n",
            "google-cloud-sdk/lib/surface/trace/sinks/update.py\n",
            "google-cloud-sdk/lib/surface/transcoder/__init__.py\n",
            "google-cloud-sdk/lib/surface/transcoder/jobs/__init__.py\n",
            "google-cloud-sdk/lib/surface/transcoder/jobs/create.py\n",
            "google-cloud-sdk/lib/surface/transcoder/jobs/delete.py\n",
            "google-cloud-sdk/lib/surface/transcoder/jobs/describe.py\n",
            "google-cloud-sdk/lib/surface/transcoder/jobs/list.py\n",
            "google-cloud-sdk/lib/surface/transcoder/templates/__init__.py\n",
            "google-cloud-sdk/lib/surface/transcoder/templates/create.py\n",
            "google-cloud-sdk/lib/surface/transcoder/templates/delete.py\n",
            "google-cloud-sdk/lib/surface/transcoder/templates/describe.py\n",
            "google-cloud-sdk/lib/surface/transcoder/templates/list.py\n",
            "google-cloud-sdk/lib/surface/version.py\n",
            "google-cloud-sdk/lib/surface/vmware/__init__.py\n",
            "google-cloud-sdk/lib/surface/vmware/clusters/__init__.py\n",
            "google-cloud-sdk/lib/surface/vmware/clusters/addnodes.py\n",
            "google-cloud-sdk/lib/surface/vmware/clusters/create.py\n",
            "google-cloud-sdk/lib/surface/vmware/clusters/delete.py\n",
            "google-cloud-sdk/lib/surface/vmware/clusters/describe.py\n",
            "google-cloud-sdk/lib/surface/vmware/clusters/list.py\n",
            "google-cloud-sdk/lib/surface/vmware/clusters/removenodes.py\n",
            "google-cloud-sdk/lib/surface/vmware/ipaddresses/__init__.py\n",
            "google-cloud-sdk/lib/surface/vmware/ipaddresses/create.py\n",
            "google-cloud-sdk/lib/surface/vmware/ipaddresses/delete.py\n",
            "google-cloud-sdk/lib/surface/vmware/ipaddresses/describe.py\n",
            "google-cloud-sdk/lib/surface/vmware/ipaddresses/list.py\n",
            "google-cloud-sdk/lib/surface/vmware/privateclouds/__init__.py\n",
            "google-cloud-sdk/lib/surface/vmware/privateclouds/create.py\n",
            "google-cloud-sdk/lib/surface/vmware/privateclouds/delete.py\n",
            "google-cloud-sdk/lib/surface/vmware/privateclouds/describe.py\n",
            "google-cloud-sdk/lib/surface/vmware/privateclouds/list.py\n",
            "google-cloud-sdk/lib/surface/vmware/privateclouds/update.py\n",
            "google-cloud-sdk/lib/surface/web_security_scanner/__init__.py\n",
            "google-cloud-sdk/lib/surface/web_security_scanner/scan_configs/__init__.py\n",
            "google-cloud-sdk/lib/surface/web_security_scanner/scan_configs/create.yaml\n",
            "google-cloud-sdk/lib/surface/web_security_scanner/scan_configs/delete.yaml\n",
            "google-cloud-sdk/lib/surface/web_security_scanner/scan_configs/describe.yaml\n",
            "google-cloud-sdk/lib/surface/web_security_scanner/scan_configs/list.yaml\n",
            "google-cloud-sdk/lib/surface/web_security_scanner/scan_configs/update.yaml\n",
            "google-cloud-sdk/lib/surface/web_security_scanner/scan_runs/__init__.py\n",
            "google-cloud-sdk/lib/surface/web_security_scanner/scan_runs/describe.yaml\n",
            "google-cloud-sdk/lib/surface/web_security_scanner/scan_runs/findings/__init__.py\n",
            "google-cloud-sdk/lib/surface/web_security_scanner/scan_runs/findings/list.py\n",
            "google-cloud-sdk/lib/surface/web_security_scanner/scan_runs/list.yaml\n",
            "google-cloud-sdk/lib/surface/web_security_scanner/scan_runs/list_crawled_urls.yaml\n",
            "google-cloud-sdk/lib/surface/web_security_scanner/scan_runs/start.yaml\n",
            "google-cloud-sdk/lib/surface/web_security_scanner/scan_runs/stop.yaml\n",
            "google-cloud-sdk/lib/surface/workflows/__init__.py\n",
            "google-cloud-sdk/lib/surface/workflows/delete.yaml\n",
            "google-cloud-sdk/lib/surface/workflows/deploy.py\n",
            "google-cloud-sdk/lib/surface/workflows/describe.yaml\n",
            "google-cloud-sdk/lib/surface/workflows/execute.yaml\n",
            "google-cloud-sdk/lib/surface/workflows/executions/__init__.py\n",
            "google-cloud-sdk/lib/surface/workflows/executions/cancel.yaml\n",
            "google-cloud-sdk/lib/surface/workflows/executions/describe.yaml\n",
            "google-cloud-sdk/lib/surface/workflows/executions/describe_last.py\n",
            "google-cloud-sdk/lib/surface/workflows/executions/list.yaml\n",
            "google-cloud-sdk/lib/surface/workflows/executions/wait.py\n",
            "google-cloud-sdk/lib/surface/workflows/executions/wait_last.py\n",
            "google-cloud-sdk/lib/surface/workflows/list.yaml\n",
            "google-cloud-sdk/lib/surface/workflows/run.py\n",
            "google-cloud-sdk/lib/surface/workspace_add_ons/__init__.py\n",
            "google-cloud-sdk/lib/surface/workspace_add_ons/deployments/__init__.py\n",
            "google-cloud-sdk/lib/surface/workspace_add_ons/deployments/create.yaml\n",
            "google-cloud-sdk/lib/surface/workspace_add_ons/deployments/delete.yaml\n",
            "google-cloud-sdk/lib/surface/workspace_add_ons/deployments/describe.yaml\n",
            "google-cloud-sdk/lib/surface/workspace_add_ons/deployments/install.yaml\n",
            "google-cloud-sdk/lib/surface/workspace_add_ons/deployments/install_status.yaml\n",
            "google-cloud-sdk/lib/surface/workspace_add_ons/deployments/list.yaml\n",
            "google-cloud-sdk/lib/surface/workspace_add_ons/deployments/replace.yaml\n",
            "google-cloud-sdk/lib/surface/workspace_add_ons/deployments/uninstall.yaml\n",
            "google-cloud-sdk/lib/surface/workspace_add_ons/get_authorization.yaml\n",
            "google-cloud-sdk/lib/third_party/antlr3/LICENSE\n",
            "google-cloud-sdk/lib/third_party/antlr3/__init__.py\n",
            "google-cloud-sdk/lib/third_party/antlr3/compat.py\n",
            "google-cloud-sdk/lib/third_party/antlr3/constants.py\n",
            "google-cloud-sdk/lib/third_party/antlr3/dfa.py\n",
            "google-cloud-sdk/lib/third_party/antlr3/dottreegen.py\n",
            "google-cloud-sdk/lib/third_party/antlr3/exceptions.py\n",
            "google-cloud-sdk/lib/third_party/antlr3/extras.py\n",
            "google-cloud-sdk/lib/third_party/antlr3/main.py\n",
            "google-cloud-sdk/lib/third_party/antlr3/recognizers.py\n",
            "google-cloud-sdk/lib/third_party/antlr3/streams.py\n",
            "google-cloud-sdk/lib/third_party/antlr3/tokens.py\n",
            "google-cloud-sdk/lib/third_party/antlr3/tree.py\n",
            "google-cloud-sdk/lib/third_party/antlr3/treewizard.py\n",
            "google-cloud-sdk/lib/third_party/apitools/LICENSE\n",
            "google-cloud-sdk/lib/third_party/apitools/__init__.py\n",
            "google-cloud-sdk/lib/third_party/apitools/base/__init__.py\n",
            "google-cloud-sdk/lib/third_party/apitools/base/protorpclite/__init__.py\n",
            "google-cloud-sdk/lib/third_party/apitools/base/protorpclite/descriptor.py\n",
            "google-cloud-sdk/lib/third_party/apitools/base/protorpclite/message_types.py\n",
            "google-cloud-sdk/lib/third_party/apitools/base/protorpclite/messages.py\n",
            "google-cloud-sdk/lib/third_party/apitools/base/protorpclite/protojson.py\n",
            "google-cloud-sdk/lib/third_party/apitools/base/protorpclite/test_util.py\n",
            "google-cloud-sdk/lib/third_party/apitools/base/protorpclite/util.py\n",
            "google-cloud-sdk/lib/third_party/apitools/base/py/__init__.py\n",
            "google-cloud-sdk/lib/third_party/apitools/base/py/all.py\n",
            "google-cloud-sdk/lib/third_party/apitools/base/py/base_api.py\n",
            "google-cloud-sdk/lib/third_party/apitools/base/py/batch.py\n",
            "google-cloud-sdk/lib/third_party/apitools/base/py/buffered_stream.py\n",
            "google-cloud-sdk/lib/third_party/apitools/base/py/compression.py\n",
            "google-cloud-sdk/lib/third_party/apitools/base/py/credentials_lib.py\n",
            "google-cloud-sdk/lib/third_party/apitools/base/py/encoding.py\n",
            "google-cloud-sdk/lib/third_party/apitools/base/py/encoding_helper.py\n",
            "google-cloud-sdk/lib/third_party/apitools/base/py/exceptions.py\n",
            "google-cloud-sdk/lib/third_party/apitools/base/py/extra_types.py\n",
            "google-cloud-sdk/lib/third_party/apitools/base/py/gzip.py\n",
            "google-cloud-sdk/lib/third_party/apitools/base/py/http_wrapper.py\n",
            "google-cloud-sdk/lib/third_party/apitools/base/py/list_pager.py\n",
            "google-cloud-sdk/lib/third_party/apitools/base/py/stream_slice.py\n",
            "google-cloud-sdk/lib/third_party/apitools/base/py/testing/__init__.py\n",
            "google-cloud-sdk/lib/third_party/apitools/base/py/testing/mock.py\n",
            "google-cloud-sdk/lib/third_party/apitools/base/py/transfer.py\n",
            "google-cloud-sdk/lib/third_party/apitools/base/py/util.py\n",
            "google-cloud-sdk/lib/third_party/apitools/gen/__init__.py\n",
            "google-cloud-sdk/lib/third_party/apitools/gen/extended_descriptor.py\n",
            "google-cloud-sdk/lib/third_party/apitools/gen/gen_client.py\n",
            "google-cloud-sdk/lib/third_party/apitools/gen/gen_client_lib.py\n",
            "google-cloud-sdk/lib/third_party/apitools/gen/message_registry.py\n",
            "google-cloud-sdk/lib/third_party/apitools/gen/service_registry.py\n",
            "google-cloud-sdk/lib/third_party/apitools/gen/test_utils.py\n",
            "google-cloud-sdk/lib/third_party/apitools/gen/util.py\n",
            "google-cloud-sdk/lib/third_party/appdirs/LICENSE\n",
            "google-cloud-sdk/lib/third_party/appdirs/__init__.py\n",
            "google-cloud-sdk/lib/third_party/argcomplete/LICENSE\n",
            "google-cloud-sdk/lib/third_party/argcomplete/__init__.py\n",
            "google-cloud-sdk/lib/third_party/argcomplete/compat.py\n",
            "google-cloud-sdk/lib/third_party/argcomplete/completers.py\n",
            "google-cloud-sdk/lib/third_party/argcomplete/my_argparse.py\n",
            "google-cloud-sdk/lib/third_party/argcomplete/my_shlex.py\n",
            "google-cloud-sdk/lib/third_party/argcomplete/scripts/activate-global-python-argcomplete\n",
            "google-cloud-sdk/lib/third_party/argcomplete/scripts/python-argcomplete-check-easy-install-script\n",
            "google-cloud-sdk/lib/third_party/argcomplete/scripts/python-argcomplete-tcsh\n",
            "google-cloud-sdk/lib/third_party/argcomplete/scripts/register-python-argcomplete\n",
            "google-cloud-sdk/lib/third_party/argcomplete/shellintegration.py\n",
            "google-cloud-sdk/lib/third_party/argparse/LICENSE.txt\n",
            "google-cloud-sdk/lib/third_party/argparse/NEWS.txt\n",
            "google-cloud-sdk/lib/third_party/argparse/README.txt\n",
            "google-cloud-sdk/lib/third_party/argparse/__init__.py\n",
            "google-cloud-sdk/lib/third_party/backports/__init__.py\n",
            "google-cloud-sdk/lib/third_party/backports/ssl_match_hostname/LICENSE\n",
            "google-cloud-sdk/lib/third_party/backports/ssl_match_hostname/__init__.py\n",
            "google-cloud-sdk/lib/third_party/boto3/LICENSE\n",
            "google-cloud-sdk/lib/third_party/boto3/__init__.py\n",
            "google-cloud-sdk/lib/third_party/boto3/compat.py\n",
            "google-cloud-sdk/lib/third_party/boto3/data/cloudformation/2010-05-15/resources-1.json\n",
            "google-cloud-sdk/lib/third_party/boto3/data/cloudwatch/2010-08-01/resources-1.json\n",
            "google-cloud-sdk/lib/third_party/boto3/data/dynamodb/2012-08-10/resources-1.json\n",
            "google-cloud-sdk/lib/third_party/boto3/data/ec2/2014-10-01/resources-1.json\n",
            "google-cloud-sdk/lib/third_party/boto3/data/ec2/2015-03-01/resources-1.json\n",
            "google-cloud-sdk/lib/third_party/boto3/data/ec2/2015-04-15/resources-1.json\n",
            "google-cloud-sdk/lib/third_party/boto3/data/ec2/2015-10-01/resources-1.json\n",
            "google-cloud-sdk/lib/third_party/boto3/data/ec2/2016-04-01/resources-1.json\n",
            "google-cloud-sdk/lib/third_party/boto3/data/ec2/2016-09-15/resources-1.json\n",
            "google-cloud-sdk/lib/third_party/boto3/data/ec2/2016-11-15/resources-1.json\n",
            "google-cloud-sdk/lib/third_party/boto3/data/glacier/2012-06-01/resources-1.json\n",
            "google-cloud-sdk/lib/third_party/boto3/data/iam/2010-05-08/resources-1.json\n",
            "google-cloud-sdk/lib/third_party/boto3/data/opsworks/2013-02-18/resources-1.json\n",
            "google-cloud-sdk/lib/third_party/boto3/data/s3/2006-03-01/resources-1.json\n",
            "google-cloud-sdk/lib/third_party/boto3/data/sns/2010-03-31/resources-1.json\n",
            "google-cloud-sdk/lib/third_party/boto3/data/sqs/2012-11-05/resources-1.json\n",
            "google-cloud-sdk/lib/third_party/boto3/docs/__init__.py\n",
            "google-cloud-sdk/lib/third_party/boto3/docs/action.py\n",
            "google-cloud-sdk/lib/third_party/boto3/docs/attr.py\n",
            "google-cloud-sdk/lib/third_party/boto3/docs/base.py\n",
            "google-cloud-sdk/lib/third_party/boto3/docs/client.py\n",
            "google-cloud-sdk/lib/third_party/boto3/docs/collection.py\n",
            "google-cloud-sdk/lib/third_party/boto3/docs/docstring.py\n",
            "google-cloud-sdk/lib/third_party/boto3/docs/method.py\n",
            "google-cloud-sdk/lib/third_party/boto3/docs/resource.py\n",
            "google-cloud-sdk/lib/third_party/boto3/docs/service.py\n",
            "google-cloud-sdk/lib/third_party/boto3/docs/subresource.py\n",
            "google-cloud-sdk/lib/third_party/boto3/docs/utils.py\n",
            "google-cloud-sdk/lib/third_party/boto3/docs/waiter.py\n",
            "google-cloud-sdk/lib/third_party/boto3/dynamodb/__init__.py\n",
            "google-cloud-sdk/lib/third_party/boto3/dynamodb/conditions.py\n",
            "google-cloud-sdk/lib/third_party/boto3/dynamodb/table.py\n",
            "google-cloud-sdk/lib/third_party/boto3/dynamodb/transform.py\n",
            "google-cloud-sdk/lib/third_party/boto3/dynamodb/types.py\n",
            "google-cloud-sdk/lib/third_party/boto3/ec2/__init__.py\n",
            "google-cloud-sdk/lib/third_party/boto3/ec2/createtags.py\n",
            "google-cloud-sdk/lib/third_party/boto3/ec2/deletetags.py\n",
            "google-cloud-sdk/lib/third_party/boto3/examples/cloudfront.rst\n",
            "google-cloud-sdk/lib/third_party/boto3/examples/s3.rst\n",
            "google-cloud-sdk/lib/third_party/boto3/exceptions.py\n",
            "google-cloud-sdk/lib/third_party/boto3/resources/__init__.py\n",
            "google-cloud-sdk/lib/third_party/boto3/resources/action.py\n",
            "google-cloud-sdk/lib/third_party/boto3/resources/base.py\n",
            "google-cloud-sdk/lib/third_party/boto3/resources/collection.py\n",
            "google-cloud-sdk/lib/third_party/boto3/resources/factory.py\n",
            "google-cloud-sdk/lib/third_party/boto3/resources/model.py\n",
            "google-cloud-sdk/lib/third_party/boto3/resources/params.py\n",
            "google-cloud-sdk/lib/third_party/boto3/resources/response.py\n",
            "google-cloud-sdk/lib/third_party/boto3/s3/__init__.py\n",
            "google-cloud-sdk/lib/third_party/boto3/s3/inject.py\n",
            "google-cloud-sdk/lib/third_party/boto3/s3/transfer.py\n",
            "google-cloud-sdk/lib/third_party/boto3/session.py\n",
            "google-cloud-sdk/lib/third_party/boto3/utils.py\n",
            "google-cloud-sdk/lib/third_party/botocore/LICENSE\n",
            "google-cloud-sdk/lib/third_party/botocore/__init__.py\n",
            "google-cloud-sdk/lib/third_party/botocore/args.py\n",
            "google-cloud-sdk/lib/third_party/botocore/auth.py\n",
            "google-cloud-sdk/lib/third_party/botocore/awsrequest.py\n",
            "google-cloud-sdk/lib/third_party/botocore/cacert.pem\n",
            "google-cloud-sdk/lib/third_party/botocore/client.py\n",
            "google-cloud-sdk/lib/third_party/botocore/compat.py\n",
            "google-cloud-sdk/lib/third_party/botocore/config.py\n",
            "google-cloud-sdk/lib/third_party/botocore/configloader.py\n",
            "google-cloud-sdk/lib/third_party/botocore/configprovider.py\n",
            "google-cloud-sdk/lib/third_party/botocore/credentials.py\n",
            "google-cloud-sdk/lib/third_party/botocore/data/_retry.json\n",
            "google-cloud-sdk/lib/third_party/botocore/data/accessanalyzer/2019-11-01/paginators-1.json\n",
            "google-cloud-sdk/lib/third_party/botocore/data/accessanalyzer/2019-11-01/service-2.json\n",
            "google-cloud-sdk/lib/third_party/botocore/data/acm-pca/2017-08-22/examples-1.json\n",
            "google-cloud-sdk/lib/third_party/botocore/data/acm-pca/2017-08-22/paginators-1.json\n",
            "google-cloud-sdk/lib/third_party/botocore/data/acm-pca/2017-08-22/service-2.json\n",
            "google-cloud-sdk/lib/third_party/botocore/data/acm-pca/2017-08-22/waiters-2.json\n",
            "google-cloud-sdk/lib/third_party/botocore/data/acm/2015-12-08/examples-1.json\n",
            "google-cloud-sdk/lib/third_party/botocore/data/acm/2015-12-08/paginators-1.json\n",
            "google-cloud-sdk/lib/third_party/botocore/data/acm/2015-12-08/service-2.json\n",
            "google-cloud-sdk/lib/third_party/botocore/data/acm/2015-12-08/waiters-2.json\n",
            "google-cloud-sdk/lib/third_party/botocore/data/alexaforbusiness/2017-11-09/examples-1.json\n",
            "google-cloud-sdk/lib/third_party/botocore/data/alexaforbusiness/2017-11-09/paginators-1.json\n",
            "google-cloud-sdk/lib/third_party/botocore/data/alexaforbusiness/2017-11-09/service-2.json\n",
            "google-cloud-sdk/lib/third_party/botocore/data/amplify/2017-07-25/paginators-1.json\n",
            "google-cloud-sdk/lib/third_party/botocore/data/amplify/2017-07-25/service-2.json\n",
            "google-cloud-sdk/lib/third_party/botocore/data/apigateway/2015-07-09/examples-1.json\n",
            "google-cloud-sdk/lib/third_party/botocore/data/apigateway/2015-07-09/paginators-1.json\n",
            "google-cloud-sdk/lib/third_party/botocore/data/apigateway/2015-07-09/service-2.json\n",
            "google-cloud-sdk/lib/third_party/botocore/data/apigatewaymanagementapi/2018-11-29/paginators-1.json\n",
            "google-cloud-sdk/lib/third_party/botocore/data/apigatewaymanagementapi/2018-11-29/service-2.json\n",
            "google-cloud-sdk/lib/third_party/botocore/data/apigatewayv2/2018-11-29/paginators-1.json\n",
            "google-cloud-sdk/lib/third_party/botocore/data/apigatewayv2/2018-11-29/service-2.json\n",
            "google-cloud-sdk/lib/third_party/botocore/data/appconfig/2019-10-09/paginators-1.json\n",
            "google-cloud-sdk/lib/third_party/botocore/data/appconfig/2019-10-09/service-2.json\n",
            "google-cloud-sdk/lib/third_party/botocore/data/application-autoscaling/2016-02-06/examples-1.json\n",
            "google-cloud-sdk/lib/third_party/botocore/data/application-autoscaling/2016-02-06/paginators-1.json\n",
            "google-cloud-sdk/lib/third_party/botocore/data/application-autoscaling/2016-02-06/service-2.json\n",
            "google-cloud-sdk/lib/third_party/botocore/data/application-insights/2018-11-25/paginators-1.json\n",
            "google-cloud-sdk/lib/third_party/botocore/data/application-insights/2018-11-25/service-2.json\n",
            "google-cloud-sdk/lib/third_party/botocore/data/appmesh/2018-10-01/paginators-1.json\n",
            "google-cloud-sdk/lib/third_party/botocore/data/appmesh/2018-10-01/service-2.json\n",
            "google-cloud-sdk/lib/third_party/botocore/data/appmesh/2019-01-25/paginators-1.json\n",
            "google-cloud-sdk/lib/third_party/botocore/data/appmesh/2019-01-25/service-2.json\n",
            "google-cloud-sdk/lib/third_party/botocore/data/appstream/2016-12-01/examples-1.json\n",
            "google-cloud-sdk/lib/third_party/botocore/data/appstream/2016-12-01/paginators-1.json\n",
            "google-cloud-sdk/lib/third_party/botocore/data/appstream/2016-12-01/service-2.json\n",
            "google-cloud-sdk/lib/third_party/botocore/data/appstream/2016-12-01/waiters-2.json\n",
            "google-cloud-sdk/lib/third_party/botocore/data/appsync/2017-07-25/examples-1.json\n",
            "google-cloud-sdk/lib/third_party/botocore/data/appsync/2017-07-25/paginators-1.json\n",
            "google-cloud-sdk/lib/third_party/botocore/data/appsync/2017-07-25/service-2.json\n",
            "google-cloud-sdk/lib/third_party/botocore/data/athena/2017-05-18/examples-1.json\n",
            "google-cloud-sdk/lib/third_party/botocore/data/athena/2017-05-18/paginators-1.json\n",
            "google-cloud-sdk/lib/third_party/botocore/data/athena/2017-05-18/service-2.json\n",
            "google-cloud-sdk/lib/third_party/botocore/data/autoscaling-plans/2018-01-06/examples-1.json\n",
            "google-cloud-sdk/lib/third_party/botocore/data/autoscaling-plans/2018-01-06/paginators-1.json\n",
            "google-cloud-sdk/lib/third_party/botocore/data/autoscaling-plans/2018-01-06/service-2.json\n",
            "google-cloud-sdk/lib/third_party/botocore/data/autoscaling/2011-01-01/examples-1.json\n",
            "google-cloud-sdk/lib/third_party/botocore/data/autoscaling/2011-01-01/paginators-1.json\n",
            "google-cloud-sdk/lib/third_party/botocore/data/autoscaling/2011-01-01/service-2.json\n",
            "google-cloud-sdk/lib/third_party/botocore/data/backup/2018-11-15/paginators-1.json\n",
            "google-cloud-sdk/lib/third_party/botocore/data/backup/2018-11-15/service-2.json\n",
            "google-cloud-sdk/lib/third_party/botocore/data/batch/2016-08-10/examples-1.json\n",
            "google-cloud-sdk/lib/third_party/botocore/data/batch/2016-08-10/paginators-1.json\n",
            "google-cloud-sdk/lib/third_party/botocore/data/batch/2016-08-10/service-2.json\n",
            "google-cloud-sdk/lib/third_party/botocore/data/budgets/2016-10-20/examples-1.json\n",
            "google-cloud-sdk/lib/third_party/botocore/data/budgets/2016-10-20/paginators-1.json\n",
            "google-cloud-sdk/lib/third_party/botocore/data/budgets/2016-10-20/service-2.json\n",
            "google-cloud-sdk/lib/third_party/botocore/data/ce/2017-10-25/examples-1.json\n",
            "google-cloud-sdk/lib/third_party/botocore/data/ce/2017-10-25/paginators-1.json\n",
            "google-cloud-sdk/lib/third_party/botocore/data/ce/2017-10-25/service-2.json\n",
            "google-cloud-sdk/lib/third_party/botocore/data/chime/2018-05-01/paginators-1.json\n",
            "google-cloud-sdk/lib/third_party/botocore/data/chime/2018-05-01/service-2.json\n",
            "google-cloud-sdk/lib/third_party/botocore/data/cloud9/2017-09-23/examples-1.json\n",
            "google-cloud-sdk/lib/third_party/botocore/data/cloud9/2017-09-23/paginators-1.json\n",
            "google-cloud-sdk/lib/third_party/botocore/data/cloud9/2017-09-23/service-2.json\n",
            "google-cloud-sdk/lib/third_party/botocore/data/clouddirectory/2016-05-10/paginators-1.json\n",
            "google-cloud-sdk/lib/third_party/botocore/data/clouddirectory/2016-05-10/service-2.json\n",
            "google-cloud-sdk/lib/third_party/botocore/data/clouddirectory/2017-01-11/examples-1.json\n",
            "google-cloud-sdk/lib/third_party/botocore/data/clouddirectory/2017-01-11/paginators-1.json\n",
            "google-cloud-sdk/lib/third_party/botocore/data/clouddirectory/2017-01-11/service-2.json\n",
            "google-cloud-sdk/lib/third_party/botocore/data/cloudformation/2010-05-15/examples-1.json\n",
            "google-cloud-sdk/lib/third_party/botocore/data/cloudformation/2010-05-15/paginators-1.json\n",
            "google-cloud-sdk/lib/third_party/botocore/data/cloudformation/2010-05-15/service-2.json\n",
            "google-cloud-sdk/lib/third_party/botocore/data/cloudformation/2010-05-15/waiters-2.json\n",
            "google-cloud-sdk/lib/third_party/botocore/data/cloudfront/2014-05-31/paginators-1.json\n",
            "google-cloud-sdk/lib/third_party/botocore/data/cloudfront/2014-05-31/service-2.json\n",
            "google-cloud-sdk/lib/third_party/botocore/data/cloudfront/2014-05-31/waiters-2.json\n",
            "google-cloud-sdk/lib/third_party/botocore/data/cloudfront/2014-10-21/paginators-1.json\n",
            "google-cloud-sdk/lib/third_party/botocore/data/cloudfront/2014-10-21/service-2.json\n",
            "google-cloud-sdk/lib/third_party/botocore/data/cloudfront/2014-10-21/waiters-2.json\n",
            "google-cloud-sdk/lib/third_party/botocore/data/cloudfront/2014-11-06/paginators-1.json\n",
            "google-cloud-sdk/lib/third_party/botocore/data/cloudfront/2014-11-06/service-2.json\n",
            "google-cloud-sdk/lib/third_party/botocore/data/cloudfront/2014-11-06/waiters-2.json\n",
            "google-cloud-sdk/lib/third_party/botocore/data/cloudfront/2015-04-17/paginators-1.json\n",
            "google-cloud-sdk/lib/third_party/botocore/data/cloudfront/2015-04-17/service-2.json\n",
            "google-cloud-sdk/lib/third_party/botocore/data/cloudfront/2015-04-17/waiters-2.json\n",
            "google-cloud-sdk/lib/third_party/botocore/data/cloudfront/2015-07-27/paginators-1.json\n",
            "google-cloud-sdk/lib/third_party/botocore/data/cloudfront/2015-07-27/service-2.json\n",
            "google-cloud-sdk/lib/third_party/botocore/data/cloudfront/2015-07-27/waiters-2.json\n",
            "google-cloud-sdk/lib/third_party/botocore/data/cloudfront/2015-09-17/paginators-1.json\n",
            "google-cloud-sdk/lib/third_party/botocore/data/cloudfront/2015-09-17/service-2.json\n",
            "google-cloud-sdk/lib/third_party/botocore/data/cloudfront/2015-09-17/waiters-2.json\n",
            "google-cloud-sdk/lib/third_party/botocore/data/cloudfront/2016-01-13/paginators-1.json\n",
            "google-cloud-sdk/lib/third_party/botocore/data/cloudfront/2016-01-13/service-2.json\n",
            "google-cloud-sdk/lib/third_party/botocore/data/cloudfront/2016-01-13/waiters-2.json\n",
            "google-cloud-sdk/lib/third_party/botocore/data/cloudfront/2016-01-28/paginators-1.json\n",
            "google-cloud-sdk/lib/third_party/botocore/data/cloudfront/2016-01-28/service-2.json\n",
            "google-cloud-sdk/lib/third_party/botocore/data/cloudfront/2016-01-28/waiters-2.json\n",
            "google-cloud-sdk/lib/third_party/botocore/data/cloudfront/2016-08-01/paginators-1.json\n",
            "google-cloud-sdk/lib/third_party/botocore/data/cloudfront/2016-08-01/service-2.json\n",
            "google-cloud-sdk/lib/third_party/botocore/data/cloudfront/2016-08-01/waiters-2.json\n",
            "google-cloud-sdk/lib/third_party/botocore/data/cloudfront/2016-08-20/paginators-1.json\n",
            "google-cloud-sdk/lib/third_party/botocore/data/cloudfront/2016-08-20/service-2.json\n",
            "google-cloud-sdk/lib/third_party/botocore/data/cloudfront/2016-08-20/waiters-2.json\n",
            "google-cloud-sdk/lib/third_party/botocore/data/cloudfront/2016-09-07/paginators-1.json\n",
            "google-cloud-sdk/lib/third_party/botocore/data/cloudfront/2016-09-07/service-2.json\n",
            "google-cloud-sdk/lib/third_party/botocore/data/cloudfront/2016-09-07/waiters-2.json\n",
            "google-cloud-sdk/lib/third_party/botocore/data/cloudfront/2016-09-29/paginators-1.json\n",
            "google-cloud-sdk/lib/third_party/botocore/data/cloudfront/2016-09-29/service-2.json\n",
            "google-cloud-sdk/lib/third_party/botocore/data/cloudfront/2016-09-29/waiters-2.json\n",
            "google-cloud-sdk/lib/third_party/botocore/data/cloudfront/2016-11-25/examples-1.json\n",
            "google-cloud-sdk/lib/third_party/botocore/data/cloudfront/2016-11-25/paginators-1.json\n",
            "google-cloud-sdk/lib/third_party/botocore/data/cloudfront/2016-11-25/service-2.json\n",
            "google-cloud-sdk/lib/third_party/botocore/data/cloudfront/2016-11-25/waiters-2.json\n",
            "google-cloud-sdk/lib/third_party/botocore/data/cloudfront/2017-03-25/examples-1.json\n",
            "google-cloud-sdk/lib/third_party/botocore/data/cloudfront/2017-03-25/paginators-1.json\n",
            "google-cloud-sdk/lib/third_party/botocore/data/cloudfront/2017-03-25/service-2.json\n",
            "google-cloud-sdk/lib/third_party/botocore/data/cloudfront/2017-03-25/waiters-2.json\n",
            "google-cloud-sdk/lib/third_party/botocore/data/cloudfront/2017-10-30/examples-1.json\n",
            "google-cloud-sdk/lib/third_party/botocore/data/cloudfront/2017-10-30/paginators-1.json\n",
            "google-cloud-sdk/lib/third_party/botocore/data/cloudfront/2017-10-30/service-2.json\n",
            "google-cloud-sdk/lib/third_party/botocore/data/cloudfront/2017-10-30/waiters-2.json\n",
            "google-cloud-sdk/lib/third_party/botocore/data/cloudfront/2018-06-18/examples-1.json\n",
            "google-cloud-sdk/lib/third_party/botocore/data/cloudfront/2018-06-18/paginators-1.json\n",
            "google-cloud-sdk/lib/third_party/botocore/data/cloudfront/2018-06-18/service-2.json\n",
            "google-cloud-sdk/lib/third_party/botocore/data/cloudfront/2018-06-18/waiters-2.json\n",
            "google-cloud-sdk/lib/third_party/botocore/data/cloudfront/2018-11-05/examples-1.json\n",
            "google-cloud-sdk/lib/third_party/botocore/data/cloudfront/2018-11-05/paginators-1.json\n",
            "google-cloud-sdk/lib/third_party/botocore/data/cloudfront/2018-11-05/service-2.json\n",
            "google-cloud-sdk/lib/third_party/botocore/data/cloudfront/2018-11-05/waiters-2.json\n",
            "google-cloud-sdk/lib/third_party/botocore/data/cloudfront/2019-03-26/examples-1.json\n",
            "google-cloud-sdk/lib/third_party/botocore/data/cloudfront/2019-03-26/paginators-1.json\n",
            "google-cloud-sdk/lib/third_party/botocore/data/cloudfront/2019-03-26/service-2.json\n",
            "google-cloud-sdk/lib/third_party/botocore/data/cloudfront/2019-03-26/waiters-2.json\n",
            "google-cloud-sdk/lib/third_party/botocore/data/cloudhsm/2014-05-30/examples-1.json\n",
            "google-cloud-sdk/lib/third_party/botocore/data/cloudhsm/2014-05-30/paginators-1.json\n",
            "google-cloud-sdk/lib/third_party/botocore/data/cloudhsm/2014-05-30/service-2.json\n",
            "google-cloud-sdk/lib/third_party/botocore/data/cloudhsmv2/2017-04-28/examples-1.json\n",
            "google-cloud-sdk/lib/third_party/botocore/data/cloudhsmv2/2017-04-28/paginators-1.json\n",
            "google-cloud-sdk/lib/third_party/botocore/data/cloudhsmv2/2017-04-28/service-2.json\n",
            "google-cloud-sdk/lib/third_party/botocore/data/cloudsearch/2011-02-01/service-2.json\n",
            "google-cloud-sdk/lib/third_party/botocore/data/cloudsearch/2013-01-01/paginators-1.json\n",
            "google-cloud-sdk/lib/third_party/botocore/data/cloudsearch/2013-01-01/service-2.json\n",
            "google-cloud-sdk/lib/third_party/botocore/data/cloudsearchdomain/2013-01-01/examples-1.json\n",
            "google-cloud-sdk/lib/third_party/botocore/data/cloudsearchdomain/2013-01-01/service-2.json\n",
            "google-cloud-sdk/lib/third_party/botocore/data/cloudtrail/2013-11-01/examples-1.json\n",
            "google-cloud-sdk/lib/third_party/botocore/data/cloudtrail/2013-11-01/paginators-1.json\n",
            "google-cloud-sdk/lib/third_party/botocore/data/cloudtrail/2013-11-01/service-2.json\n",
            "google-cloud-sdk/lib/third_party/botocore/data/cloudwatch/2010-08-01/examples-1.json\n",
            "google-cloud-sdk/lib/third_party/botocore/data/cloudwatch/2010-08-01/paginators-1.json\n",
            "google-cloud-sdk/lib/third_party/botocore/data/cloudwatch/2010-08-01/service-2.json\n",
            "google-cloud-sdk/lib/third_party/botocore/data/cloudwatch/2010-08-01/waiters-2.json\n",
            "google-cloud-sdk/lib/third_party/botocore/data/codeartifact/2018-09-22/paginators-1.json\n",
            "google-cloud-sdk/lib/third_party/botocore/data/codeartifact/2018-09-22/paginators-1.sdk-extras.json\n",
            "google-cloud-sdk/lib/third_party/botocore/data/codeartifact/2018-09-22/service-2.json\n",
            "google-cloud-sdk/lib/third_party/botocore/data/codebuild/2016-10-06/examples-1.json\n",
            "google-cloud-sdk/lib/third_party/botocore/data/codebuild/2016-10-06/paginators-1.json\n",
            "google-cloud-sdk/lib/third_party/botocore/data/codebuild/2016-10-06/service-2.json\n",
            "google-cloud-sdk/lib/third_party/botocore/data/codecommit/2015-04-13/examples-1.json\n",
            "google-cloud-sdk/lib/third_party/botocore/data/codecommit/2015-04-13/paginators-1.json\n",
            "google-cloud-sdk/lib/third_party/botocore/data/codecommit/2015-04-13/service-2.json\n",
            "google-cloud-sdk/lib/third_party/botocore/data/codedeploy/2014-10-06/examples-1.json\n",
            "google-cloud-sdk/lib/third_party/botocore/data/codedeploy/2014-10-06/paginators-1.json\n",
            "google-cloud-sdk/lib/third_party/botocore/data/codedeploy/2014-10-06/service-2.json\n",
            "google-cloud-sdk/lib/third_party/botocore/data/codedeploy/2014-10-06/waiters-2.json\n",
            "google-cloud-sdk/lib/third_party/botocore/data/codeguru-reviewer/2019-09-19/paginators-1.json\n",
            "google-cloud-sdk/lib/third_party/botocore/data/codeguru-reviewer/2019-09-19/service-2.json\n",
            "google-cloud-sdk/lib/third_party/botocore/data/codeguruprofiler/2019-07-18/paginators-1.json\n",
            "google-cloud-sdk/lib/third_party/botocore/data/codeguruprofiler/2019-07-18/service-2.json\n",
            "google-cloud-sdk/lib/third_party/botocore/data/codepipeline/2015-07-09/examples-1.json\n",
            "google-cloud-sdk/lib/third_party/botocore/data/codepipeline/2015-07-09/paginators-1.json\n",
            "google-cloud-sdk/lib/third_party/botocore/data/codepipeline/2015-07-09/service-2.json\n",
            "google-cloud-sdk/lib/third_party/botocore/data/codestar-connections/2019-12-01/paginators-1.json\n",
            "google-cloud-sdk/lib/third_party/botocore/data/codestar-connections/2019-12-01/service-2.json\n",
            "google-cloud-sdk/lib/third_party/botocore/data/codestar-notifications/2019-10-15/paginators-1.json\n",
            "google-cloud-sdk/lib/third_party/botocore/data/codestar-notifications/2019-10-15/service-2.json\n",
            "google-cloud-sdk/lib/third_party/botocore/data/codestar/2017-04-19/examples-1.json\n",
            "google-cloud-sdk/lib/third_party/botocore/data/codestar/2017-04-19/paginators-1.json\n",
            "google-cloud-sdk/lib/third_party/botocore/data/codestar/2017-04-19/service-2.json\n",
            "google-cloud-sdk/lib/third_party/botocore/data/cognito-identity/2014-06-30/examples-1.json\n",
            "google-cloud-sdk/lib/third_party/botocore/data/cognito-identity/2014-06-30/paginators-1.json\n",
            "google-cloud-sdk/lib/third_party/botocore/data/cognito-identity/2014-06-30/service-2.json\n",
            "google-cloud-sdk/lib/third_party/botocore/data/cognito-idp/2016-04-18/examples-1.json\n",
            "google-cloud-sdk/lib/third_party/botocore/data/cognito-idp/2016-04-18/paginators-1.json\n",
            "google-cloud-sdk/lib/third_party/botocore/data/cognito-idp/2016-04-18/service-2.json\n",
            "google-cloud-sdk/lib/third_party/botocore/data/cognito-sync/2014-06-30/service-2.json\n",
            "google-cloud-sdk/lib/third_party/botocore/data/comprehend/2017-11-27/examples-1.json\n",
            "google-cloud-sdk/lib/third_party/botocore/data/comprehend/2017-11-27/paginators-1.json\n",
            "google-cloud-sdk/lib/third_party/botocore/data/comprehend/2017-11-27/service-2.json\n",
            "google-cloud-sdk/lib/third_party/botocore/data/comprehendmedical/2018-10-30/paginators-1.json\n",
            "google-cloud-sdk/lib/third_party/botocore/data/comprehendmedical/2018-10-30/service-2.json\n",
            "google-cloud-sdk/lib/third_party/botocore/data/compute-optimizer/2019-11-01/paginators-1.json\n",
            "google-cloud-sdk/lib/third_party/botocore/data/compute-optimizer/2019-11-01/service-2.json\n",
            "google-cloud-sdk/lib/third_party/botocore/data/config/2014-11-12/examples-1.json\n",
            "google-cloud-sdk/lib/third_party/botocore/data/config/2014-11-12/paginators-1.json\n",
            "google-cloud-sdk/lib/third_party/botocore/data/config/2014-11-12/service-2.json\n",
            "google-cloud-sdk/lib/third_party/botocore/data/connect/2017-08-08/examples-1.json\n",
            "google-cloud-sdk/lib/third_party/botocore/data/connect/2017-08-08/paginators-1.json\n",
            "google-cloud-sdk/lib/third_party/botocore/data/connect/2017-08-08/service-2.json\n",
            "google-cloud-sdk/lib/third_party/botocore/data/connectparticipant/2018-09-07/paginators-1.json\n",
            "google-cloud-sdk/lib/third_party/botocore/data/connectparticipant/2018-09-07/service-2.json\n",
            "google-cloud-sdk/lib/third_party/botocore/data/cur/2017-01-06/examples-1.json\n",
            "google-cloud-sdk/lib/third_party/botocore/data/cur/2017-01-06/paginators-1.json\n",
            "google-cloud-sdk/lib/third_party/botocore/data/cur/2017-01-06/service-2.json\n",
            "google-cloud-sdk/lib/third_party/botocore/data/dataexchange/2017-07-25/paginators-1.json\n",
            "google-cloud-sdk/lib/third_party/botocore/data/dataexchange/2017-07-25/service-2.json\n",
            "google-cloud-sdk/lib/third_party/botocore/data/datapipeline/2012-10-29/paginators-1.json\n",
            "google-cloud-sdk/lib/third_party/botocore/data/datapipeline/2012-10-29/service-2.json\n",
            "google-cloud-sdk/lib/third_party/botocore/data/datasync/2018-11-09/paginators-1.json\n",
            "google-cloud-sdk/lib/third_party/botocore/data/datasync/2018-11-09/service-2.json\n",
            "google-cloud-sdk/lib/third_party/botocore/data/dax/2017-04-19/examples-1.json\n",
            "google-cloud-sdk/lib/third_party/botocore/data/dax/2017-04-19/paginators-1.json\n",
            "google-cloud-sdk/lib/third_party/botocore/data/dax/2017-04-19/service-2.json\n",
            "google-cloud-sdk/lib/third_party/botocore/data/detective/2018-10-26/paginators-1.json\n",
            "google-cloud-sdk/lib/third_party/botocore/data/detective/2018-10-26/service-2.json\n",
            "google-cloud-sdk/lib/third_party/botocore/data/devicefarm/2015-06-23/examples-1.json\n",
            "google-cloud-sdk/lib/third_party/botocore/data/devicefarm/2015-06-23/paginators-1.json\n",
            "google-cloud-sdk/lib/third_party/botocore/data/devicefarm/2015-06-23/service-2.json\n",
            "google-cloud-sdk/lib/third_party/botocore/data/directconnect/2012-10-25/examples-1.json\n",
            "google-cloud-sdk/lib/third_party/botocore/data/directconnect/2012-10-25/paginators-1.json\n",
            "google-cloud-sdk/lib/third_party/botocore/data/directconnect/2012-10-25/service-2.json\n",
            "google-cloud-sdk/lib/third_party/botocore/data/discovery/2015-11-01/examples-1.json\n",
            "google-cloud-sdk/lib/third_party/botocore/data/discovery/2015-11-01/paginators-1.json\n",
            "google-cloud-sdk/lib/third_party/botocore/data/discovery/2015-11-01/service-2.json\n",
            "google-cloud-sdk/lib/third_party/botocore/data/dlm/2018-01-12/examples-1.json\n",
            "google-cloud-sdk/lib/third_party/botocore/data/dlm/2018-01-12/paginators-1.json\n",
            "google-cloud-sdk/lib/third_party/botocore/data/dlm/2018-01-12/service-2.json\n",
            "google-cloud-sdk/lib/third_party/botocore/data/dms/2016-01-01/examples-1.json\n",
            "google-cloud-sdk/lib/third_party/botocore/data/dms/2016-01-01/paginators-1.json\n",
            "google-cloud-sdk/lib/third_party/botocore/data/dms/2016-01-01/service-2.json\n",
            "google-cloud-sdk/lib/third_party/botocore/data/dms/2016-01-01/waiters-2.json\n",
            "google-cloud-sdk/lib/third_party/botocore/data/docdb/2014-10-31/paginators-1.json\n",
            "google-cloud-sdk/lib/third_party/botocore/data/docdb/2014-10-31/service-2.json\n",
            "google-cloud-sdk/lib/third_party/botocore/data/docdb/2014-10-31/service-2.sdk-extras.json\n",
            "google-cloud-sdk/lib/third_party/botocore/data/docdb/2014-10-31/waiters-2.json\n",
            "google-cloud-sdk/lib/third_party/botocore/data/ds/2015-04-16/examples-1.json\n",
            "google-cloud-sdk/lib/third_party/botocore/data/ds/2015-04-16/paginators-1.json\n",
            "google-cloud-sdk/lib/third_party/botocore/data/ds/2015-04-16/service-2.json\n",
            "google-cloud-sdk/lib/third_party/botocore/data/dynamodb/2012-08-10/examples-1.json\n",
            "google-cloud-sdk/lib/third_party/botocore/data/dynamodb/2012-08-10/paginators-1.json\n",
            "google-cloud-sdk/lib/third_party/botocore/data/dynamodb/2012-08-10/service-2.json\n",
            "google-cloud-sdk/lib/third_party/botocore/data/dynamodb/2012-08-10/waiters-2.json\n",
            "google-cloud-sdk/lib/third_party/botocore/data/dynamodbstreams/2012-08-10/examples-1.json\n",
            "google-cloud-sdk/lib/third_party/botocore/data/dynamodbstreams/2012-08-10/paginators-1.json\n",
            "google-cloud-sdk/lib/third_party/botocore/data/dynamodbstreams/2012-08-10/service-2.json\n",
            "google-cloud-sdk/lib/third_party/botocore/data/ebs/2019-11-02/paginators-1.json\n",
            "google-cloud-sdk/lib/third_party/botocore/data/ebs/2019-11-02/service-2.json\n",
            "google-cloud-sdk/lib/third_party/botocore/data/ec2-instance-connect/2018-04-02/paginators-1.json\n",
            "google-cloud-sdk/lib/third_party/botocore/data/ec2-instance-connect/2018-04-02/service-2.json\n",
            "google-cloud-sdk/lib/third_party/botocore/data/ec2/2014-09-01/paginators-1.json\n",
            "google-cloud-sdk/lib/third_party/botocore/data/ec2/2014-09-01/service-2.json\n",
            "google-cloud-sdk/lib/third_party/botocore/data/ec2/2014-09-01/waiters-2.json\n",
            "google-cloud-sdk/lib/third_party/botocore/data/ec2/2014-10-01/paginators-1.json\n",
            "google-cloud-sdk/lib/third_party/botocore/data/ec2/2014-10-01/service-2.json\n",
            "google-cloud-sdk/lib/third_party/botocore/data/ec2/2014-10-01/waiters-2.json\n",
            "google-cloud-sdk/lib/third_party/botocore/data/ec2/2015-03-01/paginators-1.json\n",
            "google-cloud-sdk/lib/third_party/botocore/data/ec2/2015-03-01/service-2.json\n",
            "google-cloud-sdk/lib/third_party/botocore/data/ec2/2015-03-01/waiters-2.json\n",
            "google-cloud-sdk/lib/third_party/botocore/data/ec2/2015-04-15/paginators-1.json\n",
            "google-cloud-sdk/lib/third_party/botocore/data/ec2/2015-04-15/service-2.json\n",
            "google-cloud-sdk/lib/third_party/botocore/data/ec2/2015-04-15/waiters-2.json\n",
            "google-cloud-sdk/lib/third_party/botocore/data/ec2/2015-10-01/paginators-1.json\n",
            "google-cloud-sdk/lib/third_party/botocore/data/ec2/2015-10-01/service-2.json\n",
            "google-cloud-sdk/lib/third_party/botocore/data/ec2/2015-10-01/waiters-2.json\n",
            "google-cloud-sdk/lib/third_party/botocore/data/ec2/2016-04-01/paginators-1.json\n",
            "google-cloud-sdk/lib/third_party/botocore/data/ec2/2016-04-01/service-2.json\n",
            "google-cloud-sdk/lib/third_party/botocore/data/ec2/2016-04-01/waiters-2.json\n",
            "google-cloud-sdk/lib/third_party/botocore/data/ec2/2016-09-15/examples-1.json\n",
            "google-cloud-sdk/lib/third_party/botocore/data/ec2/2016-09-15/paginators-1.json\n",
            "google-cloud-sdk/lib/third_party/botocore/data/ec2/2016-09-15/service-2.json\n",
            "google-cloud-sdk/lib/third_party/botocore/data/ec2/2016-09-15/waiters-2.json\n",
            "google-cloud-sdk/lib/third_party/botocore/data/ec2/2016-11-15/examples-1.json\n",
            "google-cloud-sdk/lib/third_party/botocore/data/ec2/2016-11-15/paginators-1.json\n",
            "google-cloud-sdk/lib/third_party/botocore/data/ec2/2016-11-15/service-2.json\n",
            "google-cloud-sdk/lib/third_party/botocore/data/ec2/2016-11-15/waiters-2.json\n",
            "google-cloud-sdk/lib/third_party/botocore/data/ecr/2015-09-21/examples-1.json\n",
            "google-cloud-sdk/lib/third_party/botocore/data/ecr/2015-09-21/paginators-1.json\n",
            "google-cloud-sdk/lib/third_party/botocore/data/ecr/2015-09-21/service-2.json\n",
            "google-cloud-sdk/lib/third_party/botocore/data/ecr/2015-09-21/waiters-2.json\n",
            "google-cloud-sdk/lib/third_party/botocore/data/ecs/2014-11-13/examples-1.json\n",
            "google-cloud-sdk/lib/third_party/botocore/data/ecs/2014-11-13/paginators-1.json\n",
            "google-cloud-sdk/lib/third_party/botocore/data/ecs/2014-11-13/service-2.json\n",
            "google-cloud-sdk/lib/third_party/botocore/data/ecs/2014-11-13/waiters-2.json\n",
            "google-cloud-sdk/lib/third_party/botocore/data/efs/2015-02-01/examples-1.json\n",
            "google-cloud-sdk/lib/third_party/botocore/data/efs/2015-02-01/paginators-1.json\n",
            "google-cloud-sdk/lib/third_party/botocore/data/efs/2015-02-01/service-2.json\n",
            "google-cloud-sdk/lib/third_party/botocore/data/eks/2017-11-01/examples-1.json\n",
            "google-cloud-sdk/lib/third_party/botocore/data/eks/2017-11-01/paginators-1.json\n",
            "google-cloud-sdk/lib/third_party/botocore/data/eks/2017-11-01/service-2.json\n",
            "google-cloud-sdk/lib/third_party/botocore/data/eks/2017-11-01/service-2.sdk-extras.json\n",
            "google-cloud-sdk/lib/third_party/botocore/data/eks/2017-11-01/waiters-2.json\n",
            "google-cloud-sdk/lib/third_party/botocore/data/elastic-inference/2017-07-25/paginators-1.json\n",
            "google-cloud-sdk/lib/third_party/botocore/data/elastic-inference/2017-07-25/service-2.json\n",
            "google-cloud-sdk/lib/third_party/botocore/data/elasticache/2014-09-30/paginators-1.json\n",
            "google-cloud-sdk/lib/third_party/botocore/data/elasticache/2014-09-30/service-2.json\n",
            "google-cloud-sdk/lib/third_party/botocore/data/elasticache/2014-09-30/waiters-2.json\n",
            "google-cloud-sdk/lib/third_party/botocore/data/elasticache/2015-02-02/examples-1.json\n",
            "google-cloud-sdk/lib/third_party/botocore/data/elasticache/2015-02-02/paginators-1.json\n",
            "google-cloud-sdk/lib/third_party/botocore/data/elasticache/2015-02-02/service-2.json\n",
            "google-cloud-sdk/lib/third_party/botocore/data/elasticache/2015-02-02/waiters-2.json\n",
            "google-cloud-sdk/lib/third_party/botocore/data/elasticbeanstalk/2010-12-01/examples-1.json\n",
            "google-cloud-sdk/lib/third_party/botocore/data/elasticbeanstalk/2010-12-01/paginators-1.json\n",
            "google-cloud-sdk/lib/third_party/botocore/data/elasticbeanstalk/2010-12-01/service-2.json\n",
            "google-cloud-sdk/lib/third_party/botocore/data/elastictranscoder/2012-09-25/examples-1.json\n",
            "google-cloud-sdk/lib/third_party/botocore/data/elastictranscoder/2012-09-25/paginators-1.json\n",
            "google-cloud-sdk/lib/third_party/botocore/data/elastictranscoder/2012-09-25/service-2.json\n",
            "google-cloud-sdk/lib/third_party/botocore/data/elastictranscoder/2012-09-25/waiters-2.json\n",
            "google-cloud-sdk/lib/third_party/botocore/data/elb/2012-06-01/examples-1.json\n",
            "google-cloud-sdk/lib/third_party/botocore/data/elb/2012-06-01/paginators-1.json\n",
            "google-cloud-sdk/lib/third_party/botocore/data/elb/2012-06-01/service-2.json\n",
            "google-cloud-sdk/lib/third_party/botocore/data/elb/2012-06-01/waiters-2.json\n",
            "google-cloud-sdk/lib/third_party/botocore/data/elbv2/2015-12-01/examples-1.json\n",
            "google-cloud-sdk/lib/third_party/botocore/data/elbv2/2015-12-01/paginators-1.json\n",
            "google-cloud-sdk/lib/third_party/botocore/data/elbv2/2015-12-01/service-2.json\n",
            "google-cloud-sdk/lib/third_party/botocore/data/elbv2/2015-12-01/waiters-2.json\n",
            "google-cloud-sdk/lib/third_party/botocore/data/emr/2009-03-31/examples-1.json\n",
            "google-cloud-sdk/lib/third_party/botocore/data/emr/2009-03-31/paginators-1.json\n",
            "google-cloud-sdk/lib/third_party/botocore/data/emr/2009-03-31/service-2.json\n",
            "google-cloud-sdk/lib/third_party/botocore/data/emr/2009-03-31/waiters-2.json\n",
            "google-cloud-sdk/lib/third_party/botocore/data/endpoints.json\n",
            "google-cloud-sdk/lib/third_party/botocore/data/es/2015-01-01/examples-1.json\n",
            "google-cloud-sdk/lib/third_party/botocore/data/es/2015-01-01/paginators-1.json\n",
            "google-cloud-sdk/lib/third_party/botocore/data/es/2015-01-01/service-2.json\n",
            "google-cloud-sdk/lib/third_party/botocore/data/events/2014-02-03/service-2.json\n",
            "google-cloud-sdk/lib/third_party/botocore/data/events/2015-10-07/examples-1.json\n",
            "google-cloud-sdk/lib/third_party/botocore/data/events/2015-10-07/paginators-1.json\n",
            "google-cloud-sdk/lib/third_party/botocore/data/events/2015-10-07/service-2.json\n",
            "google-cloud-sdk/lib/third_party/botocore/data/firehose/2015-08-04/examples-1.json\n",
            "google-cloud-sdk/lib/third_party/botocore/data/firehose/2015-08-04/paginators-1.json\n",
            "google-cloud-sdk/lib/third_party/botocore/data/firehose/2015-08-04/service-2.json\n",
            "google-cloud-sdk/lib/third_party/botocore/data/fms/2018-01-01/examples-1.json\n",
            "google-cloud-sdk/lib/third_party/botocore/data/fms/2018-01-01/paginators-1.json\n",
            "google-cloud-sdk/lib/third_party/botocore/data/fms/2018-01-01/service-2.json\n",
            "google-cloud-sdk/lib/third_party/botocore/data/forecast/2018-06-26/paginators-1.json\n",
            "google-cloud-sdk/lib/third_party/botocore/data/forecast/2018-06-26/service-2.json\n",
            "google-cloud-sdk/lib/third_party/botocore/data/forecastquery/2018-06-26/paginators-1.json\n",
            "google-cloud-sdk/lib/third_party/botocore/data/forecastquery/2018-06-26/service-2.json\n",
            "google-cloud-sdk/lib/third_party/botocore/data/frauddetector/2019-11-15/paginators-1.json\n",
            "google-cloud-sdk/lib/third_party/botocore/data/frauddetector/2019-11-15/service-2.json\n",
            "google-cloud-sdk/lib/third_party/botocore/data/fsx/2018-03-01/paginators-1.json\n",
            "google-cloud-sdk/lib/third_party/botocore/data/fsx/2018-03-01/service-2.json\n",
            "google-cloud-sdk/lib/third_party/botocore/data/gamelift/2015-10-01/examples-1.json\n",
            "google-cloud-sdk/lib/third_party/botocore/data/gamelift/2015-10-01/paginators-1.json\n",
            "google-cloud-sdk/lib/third_party/botocore/data/gamelift/2015-10-01/service-2.json\n",
            "google-cloud-sdk/lib/third_party/botocore/data/glacier/2012-06-01/examples-1.json\n",
            "google-cloud-sdk/lib/third_party/botocore/data/glacier/2012-06-01/paginators-1.json\n",
            "google-cloud-sdk/lib/third_party/botocore/data/glacier/2012-06-01/service-2.json\n",
            "google-cloud-sdk/lib/third_party/botocore/data/glacier/2012-06-01/waiters-2.json\n",
            "google-cloud-sdk/lib/third_party/botocore/data/globalaccelerator/2018-08-08/paginators-1.json\n",
            "google-cloud-sdk/lib/third_party/botocore/data/globalaccelerator/2018-08-08/service-2.json\n",
            "google-cloud-sdk/lib/third_party/botocore/data/glue/2017-03-31/examples-1.json\n",
            "google-cloud-sdk/lib/third_party/botocore/data/glue/2017-03-31/paginators-1.json\n",
            "google-cloud-sdk/lib/third_party/botocore/data/glue/2017-03-31/service-2.json\n",
            "google-cloud-sdk/lib/third_party/botocore/data/greengrass/2017-06-07/paginators-1.json\n",
            "google-cloud-sdk/lib/third_party/botocore/data/greengrass/2017-06-07/service-2.json\n",
            "google-cloud-sdk/lib/third_party/botocore/data/groundstation/2019-05-23/paginators-1.json\n",
            "google-cloud-sdk/lib/third_party/botocore/data/groundstation/2019-05-23/service-2.json\n",
            "google-cloud-sdk/lib/third_party/botocore/data/guardduty/2017-11-28/paginators-1.json\n",
            "google-cloud-sdk/lib/third_party/botocore/data/guardduty/2017-11-28/service-2.json\n",
            "google-cloud-sdk/lib/third_party/botocore/data/health/2016-08-04/examples-1.json\n",
            "google-cloud-sdk/lib/third_party/botocore/data/health/2016-08-04/paginators-1.json\n",
            "google-cloud-sdk/lib/third_party/botocore/data/health/2016-08-04/service-2.json\n",
            "google-cloud-sdk/lib/third_party/botocore/data/honeycode/2020-03-01/paginators-1.json\n",
            "google-cloud-sdk/lib/third_party/botocore/data/honeycode/2020-03-01/service-2.json\n",
            "google-cloud-sdk/lib/third_party/botocore/data/iam/2010-05-08/examples-1.json\n",
            "google-cloud-sdk/lib/third_party/botocore/data/iam/2010-05-08/paginators-1.json\n",
            "google-cloud-sdk/lib/third_party/botocore/data/iam/2010-05-08/service-2.json\n",
            "google-cloud-sdk/lib/third_party/botocore/data/iam/2010-05-08/waiters-2.json\n",
            "google-cloud-sdk/lib/third_party/botocore/data/imagebuilder/2019-12-02/paginators-1.json\n",
            "google-cloud-sdk/lib/third_party/botocore/data/imagebuilder/2019-12-02/service-2.json\n",
            "google-cloud-sdk/lib/third_party/botocore/data/importexport/2010-06-01/paginators-1.json\n",
            "google-cloud-sdk/lib/third_party/botocore/data/importexport/2010-06-01/service-2.json\n",
            "google-cloud-sdk/lib/third_party/botocore/data/inspector/2015-08-18/service-2.json\n",
            "google-cloud-sdk/lib/third_party/botocore/data/inspector/2016-02-16/examples-1.json\n",
            "google-cloud-sdk/lib/third_party/botocore/data/inspector/2016-02-16/paginators-1.json\n",
            "google-cloud-sdk/lib/third_party/botocore/data/inspector/2016-02-16/service-2.json\n",
            "google-cloud-sdk/lib/third_party/botocore/data/iot-data/2015-05-28/paginators-1.json\n",
            "google-cloud-sdk/lib/third_party/botocore/data/iot-data/2015-05-28/service-2.json\n",
            "google-cloud-sdk/lib/third_party/botocore/data/iot-jobs-data/2017-09-29/examples-1.json\n",
            "google-cloud-sdk/lib/third_party/botocore/data/iot-jobs-data/2017-09-29/paginators-1.json\n",
            "google-cloud-sdk/lib/third_party/botocore/data/iot-jobs-data/2017-09-29/service-2.json\n",
            "google-cloud-sdk/lib/third_party/botocore/data/iot/2015-05-28/examples-1.json\n",
            "google-cloud-sdk/lib/third_party/botocore/data/iot/2015-05-28/paginators-1.json\n",
            "google-cloud-sdk/lib/third_party/botocore/data/iot/2015-05-28/service-2.json\n",
            "google-cloud-sdk/lib/third_party/botocore/data/iot1click-devices/2018-05-14/paginators-1.json\n",
            "google-cloud-sdk/lib/third_party/botocore/data/iot1click-devices/2018-05-14/service-2.json\n",
            "google-cloud-sdk/lib/third_party/botocore/data/iot1click-projects/2018-05-14/examples-1.json\n",
            "google-cloud-sdk/lib/third_party/botocore/data/iot1click-projects/2018-05-14/paginators-1.json\n",
            "google-cloud-sdk/lib/third_party/botocore/data/iot1click-projects/2018-05-14/service-2.json\n",
            "google-cloud-sdk/lib/third_party/botocore/data/iotanalytics/2017-11-27/examples-1.json\n",
            "google-cloud-sdk/lib/third_party/botocore/data/iotanalytics/2017-11-27/paginators-1.json\n",
            "google-cloud-sdk/lib/third_party/botocore/data/iotanalytics/2017-11-27/service-2.json\n",
            "google-cloud-sdk/lib/third_party/botocore/data/iotevents-data/2018-10-23/paginators-1.json\n",
            "google-cloud-sdk/lib/third_party/botocore/data/iotevents-data/2018-10-23/service-2.json\n",
            "google-cloud-sdk/lib/third_party/botocore/data/iotevents/2018-07-27/paginators-1.json\n",
            "google-cloud-sdk/lib/third_party/botocore/data/iotevents/2018-07-27/service-2.json\n",
            "google-cloud-sdk/lib/third_party/botocore/data/iotsecuretunneling/2018-10-05/paginators-1.json\n",
            "google-cloud-sdk/lib/third_party/botocore/data/iotsecuretunneling/2018-10-05/service-2.json\n",
            "google-cloud-sdk/lib/third_party/botocore/data/iotsitewise/2019-12-02/paginators-1.json\n",
            "google-cloud-sdk/lib/third_party/botocore/data/iotsitewise/2019-12-02/service-2.json\n",
            "google-cloud-sdk/lib/third_party/botocore/data/iotsitewise/2019-12-02/waiters-2.json\n",
            "google-cloud-sdk/lib/third_party/botocore/data/iotthingsgraph/2018-09-06/paginators-1.json\n",
            "google-cloud-sdk/lib/third_party/botocore/data/iotthingsgraph/2018-09-06/service-2.json\n",
            "google-cloud-sdk/lib/third_party/botocore/data/kafka/2018-11-14/paginators-1.json\n",
            "google-cloud-sdk/lib/third_party/botocore/data/kafka/2018-11-14/service-2.json\n",
            "google-cloud-sdk/lib/third_party/botocore/data/kendra/2019-02-03/paginators-1.json\n",
            "google-cloud-sdk/lib/third_party/botocore/data/kendra/2019-02-03/service-2.json\n",
            "google-cloud-sdk/lib/third_party/botocore/data/kinesis-video-archived-media/2017-09-30/examples-1.json\n",
            "google-cloud-sdk/lib/third_party/botocore/data/kinesis-video-archived-media/2017-09-30/paginators-1.json\n",
            "google-cloud-sdk/lib/third_party/botocore/data/kinesis-video-archived-media/2017-09-30/service-2.json\n",
            "google-cloud-sdk/lib/third_party/botocore/data/kinesis-video-media/2017-09-30/examples-1.json\n",
            "google-cloud-sdk/lib/third_party/botocore/data/kinesis-video-media/2017-09-30/paginators-1.json\n",
            "google-cloud-sdk/lib/third_party/botocore/data/kinesis-video-media/2017-09-30/service-2.json\n",
            "google-cloud-sdk/lib/third_party/botocore/data/kinesis-video-signaling/2019-12-04/paginators-1.json\n",
            "google-cloud-sdk/lib/third_party/botocore/data/kinesis-video-signaling/2019-12-04/service-2.json\n",
            "google-cloud-sdk/lib/third_party/botocore/data/kinesis/2013-12-02/examples-1.json\n",
            "google-cloud-sdk/lib/third_party/botocore/data/kinesis/2013-12-02/paginators-1.json\n",
            "google-cloud-sdk/lib/third_party/botocore/data/kinesis/2013-12-02/service-2.json\n",
            "google-cloud-sdk/lib/third_party/botocore/data/kinesis/2013-12-02/waiters-2.json\n",
            "google-cloud-sdk/lib/third_party/botocore/data/kinesisanalytics/2015-08-14/examples-1.json\n",
            "google-cloud-sdk/lib/third_party/botocore/data/kinesisanalytics/2015-08-14/paginators-1.json\n",
            "google-cloud-sdk/lib/third_party/botocore/data/kinesisanalytics/2015-08-14/service-2.json\n",
            "google-cloud-sdk/lib/third_party/botocore/data/kinesisanalyticsv2/2018-05-23/paginators-1.json\n",
            "google-cloud-sdk/lib/third_party/botocore/data/kinesisanalyticsv2/2018-05-23/service-2.json\n",
            "google-cloud-sdk/lib/third_party/botocore/data/kinesisvideo/2017-09-30/examples-1.json\n",
            "google-cloud-sdk/lib/third_party/botocore/data/kinesisvideo/2017-09-30/paginators-1.json\n",
            "google-cloud-sdk/lib/third_party/botocore/data/kinesisvideo/2017-09-30/service-2.json\n",
            "google-cloud-sdk/lib/third_party/botocore/data/kms/2014-11-01/examples-1.json\n",
            "google-cloud-sdk/lib/third_party/botocore/data/kms/2014-11-01/paginators-1.json\n",
            "google-cloud-sdk/lib/third_party/botocore/data/kms/2014-11-01/service-2.json\n",
            "google-cloud-sdk/lib/third_party/botocore/data/lakeformation/2017-03-31/paginators-1.json\n",
            "google-cloud-sdk/lib/third_party/botocore/data/lakeformation/2017-03-31/service-2.json\n",
            "google-cloud-sdk/lib/third_party/botocore/data/lambda/2014-11-11/service-2.json\n",
            "google-cloud-sdk/lib/third_party/botocore/data/lambda/2015-03-31/examples-1.json\n",
            "google-cloud-sdk/lib/third_party/botocore/data/lambda/2015-03-31/paginators-1.json\n",
            "google-cloud-sdk/lib/third_party/botocore/data/lambda/2015-03-31/service-2.json\n",
            "google-cloud-sdk/lib/third_party/botocore/data/lambda/2015-03-31/waiters-2.json\n",
            "google-cloud-sdk/lib/third_party/botocore/data/lex-models/2017-04-19/examples-1.json\n",
            "google-cloud-sdk/lib/third_party/botocore/data/lex-models/2017-04-19/paginators-1.json\n",
            "google-cloud-sdk/lib/third_party/botocore/data/lex-models/2017-04-19/service-2.json\n",
            "google-cloud-sdk/lib/third_party/botocore/data/lex-runtime/2016-11-28/examples-1.json\n",
            "google-cloud-sdk/lib/third_party/botocore/data/lex-runtime/2016-11-28/paginators-1.json\n",
            "google-cloud-sdk/lib/third_party/botocore/data/lex-runtime/2016-11-28/service-2.json\n",
            "google-cloud-sdk/lib/third_party/botocore/data/license-manager/2018-08-01/paginators-1.json\n",
            "google-cloud-sdk/lib/third_party/botocore/data/license-manager/2018-08-01/service-2.json\n",
            "google-cloud-sdk/lib/third_party/botocore/data/lightsail/2016-11-28/examples-1.json\n",
            "google-cloud-sdk/lib/third_party/botocore/data/lightsail/2016-11-28/paginators-1.json\n",
            "google-cloud-sdk/lib/third_party/botocore/data/lightsail/2016-11-28/service-2.json\n",
            "google-cloud-sdk/lib/third_party/botocore/data/logs/2014-03-28/examples-1.json\n",
            "google-cloud-sdk/lib/third_party/botocore/data/logs/2014-03-28/paginators-1.json\n",
            "google-cloud-sdk/lib/third_party/botocore/data/logs/2014-03-28/service-2.json\n",
            "google-cloud-sdk/lib/third_party/botocore/data/machinelearning/2014-12-12/examples-1.json\n",
            "google-cloud-sdk/lib/third_party/botocore/data/machinelearning/2014-12-12/paginators-1.json\n",
            "google-cloud-sdk/lib/third_party/botocore/data/machinelearning/2014-12-12/service-2.json\n",
            "google-cloud-sdk/lib/third_party/botocore/data/machinelearning/2014-12-12/waiters-2.json\n",
            "google-cloud-sdk/lib/third_party/botocore/data/macie/2017-12-19/examples-1.json\n",
            "google-cloud-sdk/lib/third_party/botocore/data/macie/2017-12-19/paginators-1.json\n",
            "google-cloud-sdk/lib/third_party/botocore/data/macie/2017-12-19/service-2.json\n",
            "google-cloud-sdk/lib/third_party/botocore/data/macie2/2020-01-01/paginators-1.json\n",
            "google-cloud-sdk/lib/third_party/botocore/data/macie2/2020-01-01/service-2.json\n",
            "google-cloud-sdk/lib/third_party/botocore/data/managedblockchain/2018-09-24/paginators-1.json\n",
            "google-cloud-sdk/lib/third_party/botocore/data/managedblockchain/2018-09-24/service-2.json\n",
            "google-cloud-sdk/lib/third_party/botocore/data/marketplace-catalog/2018-09-17/paginators-1.json\n",
            "google-cloud-sdk/lib/third_party/botocore/data/marketplace-catalog/2018-09-17/service-2.json\n",
            "google-cloud-sdk/lib/third_party/botocore/data/marketplace-entitlement/2017-01-11/examples-1.json\n",
            "google-cloud-sdk/lib/third_party/botocore/data/marketplace-entitlement/2017-01-11/paginators-1.json\n",
            "google-cloud-sdk/lib/third_party/botocore/data/marketplace-entitlement/2017-01-11/service-2.json\n",
            "google-cloud-sdk/lib/third_party/botocore/data/marketplacecommerceanalytics/2015-07-01/examples-1.json\n",
            "google-cloud-sdk/lib/third_party/botocore/data/marketplacecommerceanalytics/2015-07-01/paginators-1.json\n",
            "google-cloud-sdk/lib/third_party/botocore/data/marketplacecommerceanalytics/2015-07-01/service-2.json\n",
            "google-cloud-sdk/lib/third_party/botocore/data/mediaconnect/2018-11-14/paginators-1.json\n",
            "google-cloud-sdk/lib/third_party/botocore/data/mediaconnect/2018-11-14/service-2.json\n",
            "google-cloud-sdk/lib/third_party/botocore/data/mediaconvert/2017-08-29/paginators-1.json\n",
            "google-cloud-sdk/lib/third_party/botocore/data/mediaconvert/2017-08-29/service-2.json\n",
            "google-cloud-sdk/lib/third_party/botocore/data/medialive/2017-10-14/paginators-1.json\n",
            "google-cloud-sdk/lib/third_party/botocore/data/medialive/2017-10-14/service-2.json\n",
            "google-cloud-sdk/lib/third_party/botocore/data/medialive/2017-10-14/waiters-2.json\n",
            "google-cloud-sdk/lib/third_party/botocore/data/mediapackage-vod/2018-11-07/paginators-1.json\n",
            "google-cloud-sdk/lib/third_party/botocore/data/mediapackage-vod/2018-11-07/service-2.json\n",
            "google-cloud-sdk/lib/third_party/botocore/data/mediapackage/2017-10-12/paginators-1.json\n",
            "google-cloud-sdk/lib/third_party/botocore/data/mediapackage/2017-10-12/service-2.json\n",
            "google-cloud-sdk/lib/third_party/botocore/data/mediastore-data/2017-09-01/examples-1.json\n",
            "google-cloud-sdk/lib/third_party/botocore/data/mediastore-data/2017-09-01/paginators-1.json\n",
            "google-cloud-sdk/lib/third_party/botocore/data/mediastore-data/2017-09-01/service-2.json\n",
            "google-cloud-sdk/lib/third_party/botocore/data/mediastore/2017-09-01/examples-1.json\n",
            "google-cloud-sdk/lib/third_party/botocore/data/mediastore/2017-09-01/paginators-1.json\n",
            "google-cloud-sdk/lib/third_party/botocore/data/mediastore/2017-09-01/service-2.json\n",
            "google-cloud-sdk/lib/third_party/botocore/data/mediatailor/2018-04-23/paginators-1.json\n",
            "google-cloud-sdk/lib/third_party/botocore/data/mediatailor/2018-04-23/service-2.json\n",
            "google-cloud-sdk/lib/third_party/botocore/data/meteringmarketplace/2016-01-14/examples-1.json\n",
            "google-cloud-sdk/lib/third_party/botocore/data/meteringmarketplace/2016-01-14/paginators-1.json\n",
            "google-cloud-sdk/lib/third_party/botocore/data/meteringmarketplace/2016-01-14/service-2.json\n",
            "google-cloud-sdk/lib/third_party/botocore/data/mgh/2017-05-31/examples-1.json\n",
            "google-cloud-sdk/lib/third_party/botocore/data/mgh/2017-05-31/paginators-1.json\n",
            "google-cloud-sdk/lib/third_party/botocore/data/mgh/2017-05-31/service-2.json\n",
            "google-cloud-sdk/lib/third_party/botocore/data/migrationhub-config/2019-06-30/paginators-1.json\n",
            "google-cloud-sdk/lib/third_party/botocore/data/migrationhub-config/2019-06-30/service-2.json\n",
            "google-cloud-sdk/lib/third_party/botocore/data/mobile/2017-07-01/examples-1.json\n",
            "google-cloud-sdk/lib/third_party/botocore/data/mobile/2017-07-01/paginators-1.json\n",
            "google-cloud-sdk/lib/third_party/botocore/data/mobile/2017-07-01/service-2.json\n",
            "google-cloud-sdk/lib/third_party/botocore/data/mq/2017-11-27/paginators-1.json\n",
            "google-cloud-sdk/lib/third_party/botocore/data/mq/2017-11-27/service-2.json\n",
            "google-cloud-sdk/lib/third_party/botocore/data/mturk/2017-01-17/examples-1.json\n",
            "google-cloud-sdk/lib/third_party/botocore/data/mturk/2017-01-17/paginators-1.json\n",
            "google-cloud-sdk/lib/third_party/botocore/data/mturk/2017-01-17/service-2.json\n",
            "google-cloud-sdk/lib/third_party/botocore/data/neptune/2014-10-31/examples-1.json\n",
            "google-cloud-sdk/lib/third_party/botocore/data/neptune/2014-10-31/paginators-1.json\n",
            "google-cloud-sdk/lib/third_party/botocore/data/neptune/2014-10-31/service-2.json\n",
            "google-cloud-sdk/lib/third_party/botocore/data/neptune/2014-10-31/service-2.sdk-extras.json\n",
            "google-cloud-sdk/lib/third_party/botocore/data/neptune/2014-10-31/waiters-2.json\n",
            "google-cloud-sdk/lib/third_party/botocore/data/networkmanager/2019-07-05/paginators-1.json\n",
            "google-cloud-sdk/lib/third_party/botocore/data/networkmanager/2019-07-05/service-2.json\n",
            "google-cloud-sdk/lib/third_party/botocore/data/opsworks/2013-02-18/examples-1.json\n",
            "google-cloud-sdk/lib/third_party/botocore/data/opsworks/2013-02-18/paginators-1.json\n",
            "google-cloud-sdk/lib/third_party/botocore/data/opsworks/2013-02-18/service-2.json\n",
            "google-cloud-sdk/lib/third_party/botocore/data/opsworks/2013-02-18/waiters-2.json\n",
            "google-cloud-sdk/lib/third_party/botocore/data/opsworkscm/2016-11-01/examples-1.json\n",
            "google-cloud-sdk/lib/third_party/botocore/data/opsworkscm/2016-11-01/paginators-1.json\n",
            "google-cloud-sdk/lib/third_party/botocore/data/opsworkscm/2016-11-01/service-2.json\n",
            "google-cloud-sdk/lib/third_party/botocore/data/opsworkscm/2016-11-01/waiters-2.json\n",
            "google-cloud-sdk/lib/third_party/botocore/data/organizations/2016-11-28/examples-1.json\n",
            "google-cloud-sdk/lib/third_party/botocore/data/organizations/2016-11-28/paginators-1.json\n",
            "google-cloud-sdk/lib/third_party/botocore/data/organizations/2016-11-28/service-2.json\n",
            "google-cloud-sdk/lib/third_party/botocore/data/outposts/2019-12-03/paginators-1.json\n",
            "google-cloud-sdk/lib/third_party/botocore/data/outposts/2019-12-03/service-2.json\n",
            "google-cloud-sdk/lib/third_party/botocore/data/personalize-events/2018-03-22/paginators-1.json\n",
            "google-cloud-sdk/lib/third_party/botocore/data/personalize-events/2018-03-22/service-2.json\n",
            "google-cloud-sdk/lib/third_party/botocore/data/personalize-runtime/2018-05-22/paginators-1.json\n",
            "google-cloud-sdk/lib/third_party/botocore/data/personalize-runtime/2018-05-22/service-2.json\n",
            "google-cloud-sdk/lib/third_party/botocore/data/personalize/2018-05-22/paginators-1.json\n",
            "google-cloud-sdk/lib/third_party/botocore/data/personalize/2018-05-22/service-2.json\n",
            "google-cloud-sdk/lib/third_party/botocore/data/pi/2018-02-27/examples-1.json\n",
            "google-cloud-sdk/lib/third_party/botocore/data/pi/2018-02-27/paginators-1.json\n",
            "google-cloud-sdk/lib/third_party/botocore/data/pi/2018-02-27/service-2.json\n",
            "google-cloud-sdk/lib/third_party/botocore/data/pinpoint-email/2018-07-26/paginators-1.json\n",
            "google-cloud-sdk/lib/third_party/botocore/data/pinpoint-email/2018-07-26/service-2.json\n",
            "google-cloud-sdk/lib/third_party/botocore/data/pinpoint-sms-voice/2018-09-05/service-2.json\n",
            "google-cloud-sdk/lib/third_party/botocore/data/pinpoint/2016-12-01/examples-1.json\n",
            "google-cloud-sdk/lib/third_party/botocore/data/pinpoint/2016-12-01/service-2.json\n",
            "google-cloud-sdk/lib/third_party/botocore/data/polly/2016-06-10/examples-1.json\n",
            "google-cloud-sdk/lib/third_party/botocore/data/polly/2016-06-10/paginators-1.json\n",
            "google-cloud-sdk/lib/third_party/botocore/data/polly/2016-06-10/service-2.json\n",
            "google-cloud-sdk/lib/third_party/botocore/data/pricing/2017-10-15/examples-1.json\n",
            "google-cloud-sdk/lib/third_party/botocore/data/pricing/2017-10-15/paginators-1.json\n",
            "google-cloud-sdk/lib/third_party/botocore/data/pricing/2017-10-15/service-2.json\n",
            "google-cloud-sdk/lib/third_party/botocore/data/qldb-session/2019-07-11/paginators-1.json\n",
            "google-cloud-sdk/lib/third_party/botocore/data/qldb-session/2019-07-11/service-2.json\n",
            "google-cloud-sdk/lib/third_party/botocore/data/qldb/2019-01-02/paginators-1.json\n",
            "google-cloud-sdk/lib/third_party/botocore/data/qldb/2019-01-02/service-2.json\n",
            "google-cloud-sdk/lib/third_party/botocore/data/quicksight/2018-04-01/paginators-1.json\n",
            "google-cloud-sdk/lib/third_party/botocore/data/quicksight/2018-04-01/service-2.json\n",
            "google-cloud-sdk/lib/third_party/botocore/data/ram/2018-01-04/paginators-1.json\n",
            "google-cloud-sdk/lib/third_party/botocore/data/ram/2018-01-04/service-2.json\n",
            "google-cloud-sdk/lib/third_party/botocore/data/rds-data/2018-08-01/paginators-1.json\n",
            "google-cloud-sdk/lib/third_party/botocore/data/rds-data/2018-08-01/service-2.json\n",
            "google-cloud-sdk/lib/third_party/botocore/data/rds/2014-09-01/paginators-1.json\n",
            "google-cloud-sdk/lib/third_party/botocore/data/rds/2014-09-01/service-2.json\n",
            "google-cloud-sdk/lib/third_party/botocore/data/rds/2014-09-01/waiters-2.json\n",
            "google-cloud-sdk/lib/third_party/botocore/data/rds/2014-10-31/examples-1.json\n",
            "google-cloud-sdk/lib/third_party/botocore/data/rds/2014-10-31/paginators-1.json\n",
            "google-cloud-sdk/lib/third_party/botocore/data/rds/2014-10-31/service-2.json\n",
            "google-cloud-sdk/lib/third_party/botocore/data/rds/2014-10-31/service-2.sdk-extras.json\n",
            "google-cloud-sdk/lib/third_party/botocore/data/rds/2014-10-31/waiters-2.json\n",
            "google-cloud-sdk/lib/third_party/botocore/data/redshift/2012-12-01/examples-1.json\n",
            "google-cloud-sdk/lib/third_party/botocore/data/redshift/2012-12-01/paginators-1.json\n",
            "google-cloud-sdk/lib/third_party/botocore/data/redshift/2012-12-01/service-2.json\n",
            "google-cloud-sdk/lib/third_party/botocore/data/redshift/2012-12-01/waiters-2.json\n",
            "google-cloud-sdk/lib/third_party/botocore/data/rekognition/2016-06-27/examples-1.json\n",
            "google-cloud-sdk/lib/third_party/botocore/data/rekognition/2016-06-27/paginators-1.json\n",
            "google-cloud-sdk/lib/third_party/botocore/data/rekognition/2016-06-27/service-2.json\n",
            "google-cloud-sdk/lib/third_party/botocore/data/rekognition/2016-06-27/waiters-2.json\n",
            "google-cloud-sdk/lib/third_party/botocore/data/resource-groups/2017-11-27/examples-1.json\n",
            "google-cloud-sdk/lib/third_party/botocore/data/resource-groups/2017-11-27/paginators-1.json\n",
            "google-cloud-sdk/lib/third_party/botocore/data/resource-groups/2017-11-27/service-2.json\n",
            "google-cloud-sdk/lib/third_party/botocore/data/resourcegroupstaggingapi/2017-01-26/examples-1.json\n",
            "google-cloud-sdk/lib/third_party/botocore/data/resourcegroupstaggingapi/2017-01-26/paginators-1.json\n",
            "google-cloud-sdk/lib/third_party/botocore/data/resourcegroupstaggingapi/2017-01-26/service-2.json\n",
            "google-cloud-sdk/lib/third_party/botocore/data/robomaker/2018-06-29/paginators-1.json\n",
            "google-cloud-sdk/lib/third_party/botocore/data/robomaker/2018-06-29/service-2.json\n",
            "google-cloud-sdk/lib/third_party/botocore/data/route53/2013-04-01/examples-1.json\n",
            "google-cloud-sdk/lib/third_party/botocore/data/route53/2013-04-01/paginators-1.json\n",
            "google-cloud-sdk/lib/third_party/botocore/data/route53/2013-04-01/service-2.json\n",
            "google-cloud-sdk/lib/third_party/botocore/data/route53/2013-04-01/waiters-2.json\n",
            "google-cloud-sdk/lib/third_party/botocore/data/route53domains/2014-05-15/examples-1.json\n",
            "google-cloud-sdk/lib/third_party/botocore/data/route53domains/2014-05-15/paginators-1.json\n",
            "google-cloud-sdk/lib/third_party/botocore/data/route53domains/2014-05-15/service-2.json\n",
            "google-cloud-sdk/lib/third_party/botocore/data/route53resolver/2018-04-01/paginators-1.json\n",
            "google-cloud-sdk/lib/third_party/botocore/data/route53resolver/2018-04-01/service-2.json\n",
            "google-cloud-sdk/lib/third_party/botocore/data/s3/2006-03-01/examples-1.json\n",
            "google-cloud-sdk/lib/third_party/botocore/data/s3/2006-03-01/paginators-1.json\n",
            "google-cloud-sdk/lib/third_party/botocore/data/s3/2006-03-01/service-2.json\n",
            "google-cloud-sdk/lib/third_party/botocore/data/s3/2006-03-01/waiters-2.json\n",
            "google-cloud-sdk/lib/third_party/botocore/data/s3control/2018-08-20/paginators-1.json\n",
            "google-cloud-sdk/lib/third_party/botocore/data/s3control/2018-08-20/service-2.json\n",
            "google-cloud-sdk/lib/third_party/botocore/data/sagemaker-a2i-runtime/2019-11-07/paginators-1.json\n",
            "google-cloud-sdk/lib/third_party/botocore/data/sagemaker-a2i-runtime/2019-11-07/service-2.json\n",
            "google-cloud-sdk/lib/third_party/botocore/data/sagemaker-runtime/2017-05-13/examples-1.json\n",
            "google-cloud-sdk/lib/third_party/botocore/data/sagemaker-runtime/2017-05-13/paginators-1.json\n",
            "google-cloud-sdk/lib/third_party/botocore/data/sagemaker-runtime/2017-05-13/service-2.json\n",
            "google-cloud-sdk/lib/third_party/botocore/data/sagemaker/2017-07-24/examples-1.json\n",
            "google-cloud-sdk/lib/third_party/botocore/data/sagemaker/2017-07-24/paginators-1.json\n",
            "google-cloud-sdk/lib/third_party/botocore/data/sagemaker/2017-07-24/service-2.json\n",
            "google-cloud-sdk/lib/third_party/botocore/data/sagemaker/2017-07-24/waiters-2.json\n",
            "google-cloud-sdk/lib/third_party/botocore/data/savingsplans/2019-06-28/paginators-1.json\n",
            "google-cloud-sdk/lib/third_party/botocore/data/savingsplans/2019-06-28/service-2.json\n",
            "google-cloud-sdk/lib/third_party/botocore/data/schemas/2019-12-02/paginators-1.json\n",
            "google-cloud-sdk/lib/third_party/botocore/data/schemas/2019-12-02/service-2.json\n",
            "google-cloud-sdk/lib/third_party/botocore/data/schemas/2019-12-02/waiters-2.json\n",
            "google-cloud-sdk/lib/third_party/botocore/data/sdb/2009-04-15/paginators-1.json\n",
            "google-cloud-sdk/lib/third_party/botocore/data/sdb/2009-04-15/service-2.json\n",
            "google-cloud-sdk/lib/third_party/botocore/data/secretsmanager/2017-10-17/examples-1.json\n",
            "google-cloud-sdk/lib/third_party/botocore/data/secretsmanager/2017-10-17/paginators-1.json\n",
            "google-cloud-sdk/lib/third_party/botocore/data/secretsmanager/2017-10-17/service-2.json\n",
            "google-cloud-sdk/lib/third_party/botocore/data/secretsmanager/2017-10-17/service-2.sdk-extras.json\n",
            "google-cloud-sdk/lib/third_party/botocore/data/securityhub/2018-10-26/paginators-1.json\n",
            "google-cloud-sdk/lib/third_party/botocore/data/securityhub/2018-10-26/service-2.json\n",
            "google-cloud-sdk/lib/third_party/botocore/data/serverlessrepo/2017-09-08/paginators-1.json\n",
            "google-cloud-sdk/lib/third_party/botocore/data/serverlessrepo/2017-09-08/service-2.json\n",
            "google-cloud-sdk/lib/third_party/botocore/data/service-quotas/2019-06-24/paginators-1.json\n",
            "google-cloud-sdk/lib/third_party/botocore/data/service-quotas/2019-06-24/service-2.json\n",
            "google-cloud-sdk/lib/third_party/botocore/data/servicecatalog/2015-12-10/examples-1.json\n",
            "google-cloud-sdk/lib/third_party/botocore/data/servicecatalog/2015-12-10/paginators-1.json\n",
            "google-cloud-sdk/lib/third_party/botocore/data/servicecatalog/2015-12-10/service-2.json\n",
            "google-cloud-sdk/lib/third_party/botocore/data/servicediscovery/2017-03-14/examples-1.json\n",
            "google-cloud-sdk/lib/third_party/botocore/data/servicediscovery/2017-03-14/paginators-1.json\n",
            "google-cloud-sdk/lib/third_party/botocore/data/servicediscovery/2017-03-14/service-2.json\n",
            "google-cloud-sdk/lib/third_party/botocore/data/ses/2010-12-01/examples-1.json\n",
            "google-cloud-sdk/lib/third_party/botocore/data/ses/2010-12-01/paginators-1.json\n",
            "google-cloud-sdk/lib/third_party/botocore/data/ses/2010-12-01/service-2.json\n",
            "google-cloud-sdk/lib/third_party/botocore/data/ses/2010-12-01/waiters-2.json\n",
            "google-cloud-sdk/lib/third_party/botocore/data/sesv2/2019-09-27/paginators-1.json\n",
            "google-cloud-sdk/lib/third_party/botocore/data/sesv2/2019-09-27/service-2.json\n",
            "google-cloud-sdk/lib/third_party/botocore/data/shield/2016-06-02/examples-1.json\n",
            "google-cloud-sdk/lib/third_party/botocore/data/shield/2016-06-02/paginators-1.json\n",
            "google-cloud-sdk/lib/third_party/botocore/data/shield/2016-06-02/service-2.json\n",
            "google-cloud-sdk/lib/third_party/botocore/data/signer/2017-08-25/examples-1.json\n",
            "google-cloud-sdk/lib/third_party/botocore/data/signer/2017-08-25/paginators-1.json\n",
            "google-cloud-sdk/lib/third_party/botocore/data/signer/2017-08-25/service-2.json\n",
            "google-cloud-sdk/lib/third_party/botocore/data/signer/2017-08-25/waiters-2.json\n",
            "google-cloud-sdk/lib/third_party/botocore/data/sms-voice/2018-09-05/service-2.json\n",
            "google-cloud-sdk/lib/third_party/botocore/data/sms/2016-10-24/examples-1.json\n",
            "google-cloud-sdk/lib/third_party/botocore/data/sms/2016-10-24/paginators-1.json\n",
            "google-cloud-sdk/lib/third_party/botocore/data/sms/2016-10-24/service-2.json\n",
            "google-cloud-sdk/lib/third_party/botocore/data/snowball/2016-06-30/examples-1.json\n",
            "google-cloud-sdk/lib/third_party/botocore/data/snowball/2016-06-30/paginators-1.json\n",
            "google-cloud-sdk/lib/third_party/botocore/data/snowball/2016-06-30/service-2.json\n",
            "google-cloud-sdk/lib/third_party/botocore/data/sns/2010-03-31/examples-1.json\n",
            "google-cloud-sdk/lib/third_party/botocore/data/sns/2010-03-31/paginators-1.json\n",
            "google-cloud-sdk/lib/third_party/botocore/data/sns/2010-03-31/service-2.json\n",
            "google-cloud-sdk/lib/third_party/botocore/data/sqs/2012-11-05/examples-1.json\n",
            "google-cloud-sdk/lib/third_party/botocore/data/sqs/2012-11-05/paginators-1.json\n",
            "google-cloud-sdk/lib/third_party/botocore/data/sqs/2012-11-05/service-2.json\n",
            "google-cloud-sdk/lib/third_party/botocore/data/ssm/2014-11-06/examples-1.json\n",
            "google-cloud-sdk/lib/third_party/botocore/data/ssm/2014-11-06/paginators-1.json\n",
            "google-cloud-sdk/lib/third_party/botocore/data/ssm/2014-11-06/service-2.json\n",
            "google-cloud-sdk/lib/third_party/botocore/data/sso-oidc/2019-06-10/paginators-1.json\n",
            "google-cloud-sdk/lib/third_party/botocore/data/sso-oidc/2019-06-10/service-2.json\n",
            "google-cloud-sdk/lib/third_party/botocore/data/sso/2019-06-10/paginators-1.json\n",
            "google-cloud-sdk/lib/third_party/botocore/data/sso/2019-06-10/service-2.json\n",
            "google-cloud-sdk/lib/third_party/botocore/data/stepfunctions/2016-11-23/examples-1.json\n",
            "google-cloud-sdk/lib/third_party/botocore/data/stepfunctions/2016-11-23/paginators-1.json\n",
            "google-cloud-sdk/lib/third_party/botocore/data/stepfunctions/2016-11-23/service-2.json\n",
            "google-cloud-sdk/lib/third_party/botocore/data/storagegateway/2013-06-30/examples-1.json\n",
            "google-cloud-sdk/lib/third_party/botocore/data/storagegateway/2013-06-30/paginators-1.json\n",
            "google-cloud-sdk/lib/third_party/botocore/data/storagegateway/2013-06-30/service-2.json\n",
            "google-cloud-sdk/lib/third_party/botocore/data/sts/2011-06-15/examples-1.json\n",
            "google-cloud-sdk/lib/third_party/botocore/data/sts/2011-06-15/paginators-1.json\n",
            "google-cloud-sdk/lib/third_party/botocore/data/sts/2011-06-15/service-2.json\n",
            "google-cloud-sdk/lib/third_party/botocore/data/support/2013-04-15/examples-1.json\n",
            "google-cloud-sdk/lib/third_party/botocore/data/support/2013-04-15/paginators-1.json\n",
            "google-cloud-sdk/lib/third_party/botocore/data/support/2013-04-15/service-2.json\n",
            "google-cloud-sdk/lib/third_party/botocore/data/swf/2012-01-25/examples-1.json\n",
            "google-cloud-sdk/lib/third_party/botocore/data/swf/2012-01-25/paginators-1.json\n",
            "google-cloud-sdk/lib/third_party/botocore/data/swf/2012-01-25/service-2.json\n",
            "google-cloud-sdk/lib/third_party/botocore/data/synthetics/2017-10-11/paginators-1.json\n",
            "google-cloud-sdk/lib/third_party/botocore/data/synthetics/2017-10-11/service-2.json\n",
            "google-cloud-sdk/lib/third_party/botocore/data/textract/2018-06-27/paginators-1.json\n",
            "google-cloud-sdk/lib/third_party/botocore/data/textract/2018-06-27/service-2.json\n",
            "google-cloud-sdk/lib/third_party/botocore/data/transcribe/2017-10-26/examples-1.json\n",
            "google-cloud-sdk/lib/third_party/botocore/data/transcribe/2017-10-26/paginators-1.json\n",
            "google-cloud-sdk/lib/third_party/botocore/data/transcribe/2017-10-26/service-2.json\n",
            "google-cloud-sdk/lib/third_party/botocore/data/transfer/2018-11-05/paginators-1.json\n",
            "google-cloud-sdk/lib/third_party/botocore/data/transfer/2018-11-05/service-2.json\n",
            "google-cloud-sdk/lib/third_party/botocore/data/translate/2017-07-01/examples-1.json\n",
            "google-cloud-sdk/lib/third_party/botocore/data/translate/2017-07-01/paginators-1.json\n",
            "google-cloud-sdk/lib/third_party/botocore/data/translate/2017-07-01/service-2.json\n",
            "google-cloud-sdk/lib/third_party/botocore/data/waf-regional/2016-11-28/examples-1.json\n",
            "google-cloud-sdk/lib/third_party/botocore/data/waf-regional/2016-11-28/paginators-1.json\n",
            "google-cloud-sdk/lib/third_party/botocore/data/waf-regional/2016-11-28/service-2.json\n",
            "google-cloud-sdk/lib/third_party/botocore/data/waf/2015-08-24/examples-1.json\n",
            "google-cloud-sdk/lib/third_party/botocore/data/waf/2015-08-24/paginators-1.json\n",
            "google-cloud-sdk/lib/third_party/botocore/data/waf/2015-08-24/service-2.json\n",
            "google-cloud-sdk/lib/third_party/botocore/data/wafv2/2019-07-29/paginators-1.json\n",
            "google-cloud-sdk/lib/third_party/botocore/data/wafv2/2019-07-29/service-2.json\n",
            "google-cloud-sdk/lib/third_party/botocore/data/workdocs/2016-05-01/examples-1.json\n",
            "google-cloud-sdk/lib/third_party/botocore/data/workdocs/2016-05-01/paginators-1.json\n",
            "google-cloud-sdk/lib/third_party/botocore/data/workdocs/2016-05-01/service-2.json\n",
            "google-cloud-sdk/lib/third_party/botocore/data/worklink/2018-09-25/paginators-1.json\n",
            "google-cloud-sdk/lib/third_party/botocore/data/worklink/2018-09-25/service-2.json\n",
            "google-cloud-sdk/lib/third_party/botocore/data/workmail/2017-10-01/examples-1.json\n",
            "google-cloud-sdk/lib/third_party/botocore/data/workmail/2017-10-01/paginators-1.json\n",
            "google-cloud-sdk/lib/third_party/botocore/data/workmail/2017-10-01/service-2.json\n",
            "google-cloud-sdk/lib/third_party/botocore/data/workmailmessageflow/2019-05-01/paginators-1.json\n",
            "google-cloud-sdk/lib/third_party/botocore/data/workmailmessageflow/2019-05-01/service-2.json\n",
            "google-cloud-sdk/lib/third_party/botocore/data/workspaces/2015-04-08/examples-1.json\n",
            "google-cloud-sdk/lib/third_party/botocore/data/workspaces/2015-04-08/paginators-1.json\n",
            "google-cloud-sdk/lib/third_party/botocore/data/workspaces/2015-04-08/service-2.json\n",
            "google-cloud-sdk/lib/third_party/botocore/data/xray/2016-04-12/examples-1.json\n",
            "google-cloud-sdk/lib/third_party/botocore/data/xray/2016-04-12/paginators-1.json\n",
            "google-cloud-sdk/lib/third_party/botocore/data/xray/2016-04-12/service-2.json\n",
            "google-cloud-sdk/lib/third_party/botocore/discovery.py\n",
            "google-cloud-sdk/lib/third_party/botocore/docs/__init__.py\n",
            "google-cloud-sdk/lib/third_party/botocore/docs/bcdoc/__init__.py\n",
            "google-cloud-sdk/lib/third_party/botocore/docs/bcdoc/docevents.py\n",
            "google-cloud-sdk/lib/third_party/botocore/docs/bcdoc/docstringparser.py\n",
            "google-cloud-sdk/lib/third_party/botocore/docs/bcdoc/restdoc.py\n",
            "google-cloud-sdk/lib/third_party/botocore/docs/bcdoc/style.py\n",
            "google-cloud-sdk/lib/third_party/botocore/docs/bcdoc/textwriter.py\n",
            "google-cloud-sdk/lib/third_party/botocore/docs/client.py\n",
            "google-cloud-sdk/lib/third_party/botocore/docs/docstring.py\n",
            "google-cloud-sdk/lib/third_party/botocore/docs/example.py\n",
            "google-cloud-sdk/lib/third_party/botocore/docs/method.py\n",
            "google-cloud-sdk/lib/third_party/botocore/docs/paginator.py\n",
            "google-cloud-sdk/lib/third_party/botocore/docs/params.py\n",
            "google-cloud-sdk/lib/third_party/botocore/docs/service.py\n",
            "google-cloud-sdk/lib/third_party/botocore/docs/shape.py\n",
            "google-cloud-sdk/lib/third_party/botocore/docs/sharedexample.py\n",
            "google-cloud-sdk/lib/third_party/botocore/docs/utils.py\n",
            "google-cloud-sdk/lib/third_party/botocore/docs/waiter.py\n",
            "google-cloud-sdk/lib/third_party/botocore/endpoint.py\n",
            "google-cloud-sdk/lib/third_party/botocore/errorfactory.py\n",
            "google-cloud-sdk/lib/third_party/botocore/eventstream.py\n",
            "google-cloud-sdk/lib/third_party/botocore/exceptions.py\n",
            "google-cloud-sdk/lib/third_party/botocore/handlers.py\n",
            "google-cloud-sdk/lib/third_party/botocore/history.py\n",
            "google-cloud-sdk/lib/third_party/botocore/hooks.py\n",
            "google-cloud-sdk/lib/third_party/botocore/httpsession.py\n",
            "google-cloud-sdk/lib/third_party/botocore/loaders.py\n",
            "google-cloud-sdk/lib/third_party/botocore/model.py\n",
            "google-cloud-sdk/lib/third_party/botocore/monitoring.py\n",
            "google-cloud-sdk/lib/third_party/botocore/paginate.py\n",
            "google-cloud-sdk/lib/third_party/botocore/parsers.py\n",
            "google-cloud-sdk/lib/third_party/botocore/regions.py\n",
            "google-cloud-sdk/lib/third_party/botocore/response.py\n",
            "google-cloud-sdk/lib/third_party/botocore/retries/__init__.py\n",
            "google-cloud-sdk/lib/third_party/botocore/retries/adaptive.py\n",
            "google-cloud-sdk/lib/third_party/botocore/retries/base.py\n",
            "google-cloud-sdk/lib/third_party/botocore/retries/bucket.py\n",
            "google-cloud-sdk/lib/third_party/botocore/retries/quota.py\n",
            "google-cloud-sdk/lib/third_party/botocore/retries/special.py\n",
            "google-cloud-sdk/lib/third_party/botocore/retries/standard.py\n",
            "google-cloud-sdk/lib/third_party/botocore/retries/throttling.py\n",
            "google-cloud-sdk/lib/third_party/botocore/retryhandler.py\n",
            "google-cloud-sdk/lib/third_party/botocore/serialize.py\n",
            "google-cloud-sdk/lib/third_party/botocore/session.py\n",
            "google-cloud-sdk/lib/third_party/botocore/signers.py\n",
            "google-cloud-sdk/lib/third_party/botocore/stub.py\n",
            "google-cloud-sdk/lib/third_party/botocore/translate.py\n",
            "google-cloud-sdk/lib/third_party/botocore/utils.py\n",
            "google-cloud-sdk/lib/third_party/botocore/validate.py\n",
            "google-cloud-sdk/lib/third_party/botocore/vendored/__init__.py\n",
            "google-cloud-sdk/lib/third_party/botocore/vendored/requests/__init__.py\n",
            "google-cloud-sdk/lib/third_party/botocore/vendored/requests/exceptions.py\n",
            "google-cloud-sdk/lib/third_party/botocore/vendored/requests/packages/__init__.py\n",
            "google-cloud-sdk/lib/third_party/botocore/vendored/requests/packages/urllib3/__init__.py\n",
            "google-cloud-sdk/lib/third_party/botocore/vendored/requests/packages/urllib3/exceptions.py\n",
            "google-cloud-sdk/lib/third_party/botocore/vendored/six.py\n",
            "google-cloud-sdk/lib/third_party/botocore/waiter.py\n",
            "google-cloud-sdk/lib/third_party/cachetools/LICENSE\n",
            "google-cloud-sdk/lib/third_party/cachetools/__init__.py\n",
            "google-cloud-sdk/lib/third_party/cachetools/abc.py\n",
            "google-cloud-sdk/lib/third_party/cachetools/cache.py\n",
            "google-cloud-sdk/lib/third_party/cachetools/func.py\n",
            "google-cloud-sdk/lib/third_party/cachetools/keys.py\n",
            "google-cloud-sdk/lib/third_party/cachetools/lfu.py\n",
            "google-cloud-sdk/lib/third_party/cachetools/lru.py\n",
            "google-cloud-sdk/lib/third_party/cachetools/rr.py\n",
            "google-cloud-sdk/lib/third_party/cachetools/ttl.py\n",
            "google-cloud-sdk/lib/third_party/certifi/LICENSE\n",
            "google-cloud-sdk/lib/third_party/certifi/__init__.py\n",
            "google-cloud-sdk/lib/third_party/certifi/__main__.py\n",
            "google-cloud-sdk/lib/third_party/certifi/cacert.pem\n",
            "google-cloud-sdk/lib/third_party/certifi/core.py\n",
            "google-cloud-sdk/lib/third_party/chardet/LICENSE\n",
            "google-cloud-sdk/lib/third_party/chardet/__init__.py\n",
            "google-cloud-sdk/lib/third_party/chardet/big5freq.py\n",
            "google-cloud-sdk/lib/third_party/chardet/big5prober.py\n",
            "google-cloud-sdk/lib/third_party/chardet/chardistribution.py\n",
            "google-cloud-sdk/lib/third_party/chardet/charsetgroupprober.py\n",
            "google-cloud-sdk/lib/third_party/chardet/charsetprober.py\n",
            "google-cloud-sdk/lib/third_party/chardet/cli/__init__.py\n",
            "google-cloud-sdk/lib/third_party/chardet/cli/chardetect.py\n",
            "google-cloud-sdk/lib/third_party/chardet/codingstatemachine.py\n",
            "google-cloud-sdk/lib/third_party/chardet/compat.py\n",
            "google-cloud-sdk/lib/third_party/chardet/cp949prober.py\n",
            "google-cloud-sdk/lib/third_party/chardet/enums.py\n",
            "google-cloud-sdk/lib/third_party/chardet/escprober.py\n",
            "google-cloud-sdk/lib/third_party/chardet/escsm.py\n",
            "google-cloud-sdk/lib/third_party/chardet/eucjpprober.py\n",
            "google-cloud-sdk/lib/third_party/chardet/euckrfreq.py\n",
            "google-cloud-sdk/lib/third_party/chardet/euckrprober.py\n",
            "google-cloud-sdk/lib/third_party/chardet/euctwfreq.py\n",
            "google-cloud-sdk/lib/third_party/chardet/euctwprober.py\n",
            "google-cloud-sdk/lib/third_party/chardet/gb2312freq.py\n",
            "google-cloud-sdk/lib/third_party/chardet/gb2312prober.py\n",
            "google-cloud-sdk/lib/third_party/chardet/hebrewprober.py\n",
            "google-cloud-sdk/lib/third_party/chardet/jisfreq.py\n",
            "google-cloud-sdk/lib/third_party/chardet/jpcntx.py\n",
            "google-cloud-sdk/lib/third_party/chardet/langbulgarianmodel.py\n",
            "google-cloud-sdk/lib/third_party/chardet/langcyrillicmodel.py\n",
            "google-cloud-sdk/lib/third_party/chardet/langgreekmodel.py\n",
            "google-cloud-sdk/lib/third_party/chardet/langhebrewmodel.py\n",
            "google-cloud-sdk/lib/third_party/chardet/langhungarianmodel.py\n",
            "google-cloud-sdk/lib/third_party/chardet/langthaimodel.py\n",
            "google-cloud-sdk/lib/third_party/chardet/langturkishmodel.py\n",
            "google-cloud-sdk/lib/third_party/chardet/latin1prober.py\n",
            "google-cloud-sdk/lib/third_party/chardet/mbcharsetprober.py\n",
            "google-cloud-sdk/lib/third_party/chardet/mbcsgroupprober.py\n",
            "google-cloud-sdk/lib/third_party/chardet/mbcssm.py\n",
            "google-cloud-sdk/lib/third_party/chardet/sbcharsetprober.py\n",
            "google-cloud-sdk/lib/third_party/chardet/sbcsgroupprober.py\n",
            "google-cloud-sdk/lib/third_party/chardet/sjisprober.py\n",
            "google-cloud-sdk/lib/third_party/chardet/universaldetector.py\n",
            "google-cloud-sdk/lib/third_party/chardet/utf8prober.py\n",
            "google-cloud-sdk/lib/third_party/chardet/version.py\n",
            "google-cloud-sdk/lib/third_party/concurrent/LICENSE\n",
            "google-cloud-sdk/lib/third_party/concurrent/__init__.py\n",
            "google-cloud-sdk/lib/third_party/concurrent/futures/__init__.py\n",
            "google-cloud-sdk/lib/third_party/concurrent/futures/_base.py\n",
            "google-cloud-sdk/lib/third_party/concurrent/futures/thread.py\n",
            "google-cloud-sdk/lib/third_party/concurrent/python2/__init__.py\n",
            "google-cloud-sdk/lib/third_party/concurrent/python2/concurrent/__init__.py\n",
            "google-cloud-sdk/lib/third_party/concurrent/python2/concurrent/futures/__init__.py\n",
            "google-cloud-sdk/lib/third_party/concurrent/python2/concurrent/futures/_base.py\n",
            "google-cloud-sdk/lib/third_party/concurrent/python2/concurrent/futures/process.py\n",
            "google-cloud-sdk/lib/third_party/concurrent/python2/concurrent/futures/thread.py\n",
            "google-cloud-sdk/lib/third_party/containerregistry/LICENSE\n",
            "google-cloud-sdk/lib/third_party/containerregistry/__init__.py\n",
            "google-cloud-sdk/lib/third_party/containerregistry/client/__init__.py\n",
            "google-cloud-sdk/lib/third_party/containerregistry/client/docker_creds_.py\n",
            "google-cloud-sdk/lib/third_party/containerregistry/client/docker_name_.py\n",
            "google-cloud-sdk/lib/third_party/containerregistry/client/monitor_.py\n",
            "google-cloud-sdk/lib/third_party/containerregistry/client/v1/__init__.py\n",
            "google-cloud-sdk/lib/third_party/containerregistry/client/v1/docker_creds_.py\n",
            "google-cloud-sdk/lib/third_party/containerregistry/client/v1/docker_http_.py\n",
            "google-cloud-sdk/lib/third_party/containerregistry/client/v1/docker_image_.py\n",
            "google-cloud-sdk/lib/third_party/containerregistry/client/v1/docker_session_.py\n",
            "google-cloud-sdk/lib/third_party/containerregistry/client/v1/save_.py\n",
            "google-cloud-sdk/lib/third_party/containerregistry/client/v2/__init__.py\n",
            "google-cloud-sdk/lib/third_party/containerregistry/client/v2/append_.py\n",
            "google-cloud-sdk/lib/third_party/containerregistry/client/v2/docker_creds_.py\n",
            "google-cloud-sdk/lib/third_party/containerregistry/client/v2/docker_digest_.py\n",
            "google-cloud-sdk/lib/third_party/containerregistry/client/v2/docker_http_.py\n",
            "google-cloud-sdk/lib/third_party/containerregistry/client/v2/docker_image_.py\n",
            "google-cloud-sdk/lib/third_party/containerregistry/client/v2/docker_session_.py\n",
            "google-cloud-sdk/lib/third_party/containerregistry/client/v2/util_.py\n",
            "google-cloud-sdk/lib/third_party/containerregistry/client/v2/v1_compat_.py\n",
            "google-cloud-sdk/lib/third_party/containerregistry/client/v2_2/__init__.py\n",
            "google-cloud-sdk/lib/third_party/containerregistry/client/v2_2/append_.py\n",
            "google-cloud-sdk/lib/third_party/containerregistry/client/v2_2/docker_creds_.py\n",
            "google-cloud-sdk/lib/third_party/containerregistry/client/v2_2/docker_digest_.py\n",
            "google-cloud-sdk/lib/third_party/containerregistry/client/v2_2/docker_http_.py\n",
            "google-cloud-sdk/lib/third_party/containerregistry/client/v2_2/docker_image_.py\n",
            "google-cloud-sdk/lib/third_party/containerregistry/client/v2_2/docker_image_list_.py\n",
            "google-cloud-sdk/lib/third_party/containerregistry/client/v2_2/docker_session_.py\n",
            "google-cloud-sdk/lib/third_party/containerregistry/client/v2_2/oci_compat_.py\n",
            "google-cloud-sdk/lib/third_party/containerregistry/client/v2_2/save_.py\n",
            "google-cloud-sdk/lib/third_party/containerregistry/client/v2_2/v2_compat_.py\n",
            "google-cloud-sdk/lib/third_party/containerregistry/tools/__init__.py\n",
            "google-cloud-sdk/lib/third_party/containerregistry/tools/docker_appender_.py\n",
            "google-cloud-sdk/lib/third_party/containerregistry/tools/docker_puller_.py\n",
            "google-cloud-sdk/lib/third_party/containerregistry/tools/docker_pusher_.py\n",
            "google-cloud-sdk/lib/third_party/containerregistry/tools/fast_flatten_.py\n",
            "google-cloud-sdk/lib/third_party/containerregistry/tools/fast_importer_.py\n",
            "google-cloud-sdk/lib/third_party/containerregistry/tools/fast_puller_.py\n",
            "google-cloud-sdk/lib/third_party/containerregistry/tools/fast_pusher_.py\n",
            "google-cloud-sdk/lib/third_party/containerregistry/tools/image_digester_.py\n",
            "google-cloud-sdk/lib/third_party/containerregistry/tools/logging_setup_.py\n",
            "google-cloud-sdk/lib/third_party/containerregistry/tools/patched_.py\n",
            "google-cloud-sdk/lib/third_party/containerregistry/tools/platform_args_.py\n",
            "google-cloud-sdk/lib/third_party/containerregistry/transform/__init__.py\n",
            "google-cloud-sdk/lib/third_party/containerregistry/transform/v1/__init__.py\n",
            "google-cloud-sdk/lib/third_party/containerregistry/transform/v1/metadata_.py\n",
            "google-cloud-sdk/lib/third_party/containerregistry/transform/v2_2/__init__.py\n",
            "google-cloud-sdk/lib/third_party/containerregistry/transform/v2_2/metadata_.py\n",
            "google-cloud-sdk/lib/third_party/containerregistry/transport/__init__.py\n",
            "google-cloud-sdk/lib/third_party/containerregistry/transport/nested_.py\n",
            "google-cloud-sdk/lib/third_party/containerregistry/transport/retry_.py\n",
            "google-cloud-sdk/lib/third_party/containerregistry/transport/transport_pool_.py\n",
            "google-cloud-sdk/lib/third_party/contextlib2/LICENSE\n",
            "google-cloud-sdk/lib/third_party/contextlib2/__init__.py\n",
            "google-cloud-sdk/lib/third_party/dateutil/LICENSE\n",
            "google-cloud-sdk/lib/third_party/dateutil/__init__.py\n",
            "google-cloud-sdk/lib/third_party/dateutil/_common.py\n",
            "google-cloud-sdk/lib/third_party/dateutil/_version.py\n",
            "google-cloud-sdk/lib/third_party/dateutil/easter.py\n",
            "google-cloud-sdk/lib/third_party/dateutil/parser/__init__.py\n",
            "google-cloud-sdk/lib/third_party/dateutil/parser/_parser.py\n",
            "google-cloud-sdk/lib/third_party/dateutil/parser/isoparser.py\n",
            "google-cloud-sdk/lib/third_party/dateutil/relativedelta.py\n",
            "google-cloud-sdk/lib/third_party/dateutil/rrule.py\n",
            "google-cloud-sdk/lib/third_party/dateutil/tz/__init__.py\n",
            "google-cloud-sdk/lib/third_party/dateutil/tz/_common.py\n",
            "google-cloud-sdk/lib/third_party/dateutil/tz/_factories.py\n",
            "google-cloud-sdk/lib/third_party/dateutil/tz/tz.py\n",
            "google-cloud-sdk/lib/third_party/dateutil/tz/win.py\n",
            "google-cloud-sdk/lib/third_party/dateutil/tzwin.py\n",
            "google-cloud-sdk/lib/third_party/dateutil/utils.py\n",
            "google-cloud-sdk/lib/third_party/dns/LICENSE\n",
            "google-cloud-sdk/lib/third_party/dns/__init__.py\n",
            "google-cloud-sdk/lib/third_party/dns/_compat.py\n",
            "google-cloud-sdk/lib/third_party/dns/dnssec.py\n",
            "google-cloud-sdk/lib/third_party/dns/e164.py\n",
            "google-cloud-sdk/lib/third_party/dns/edns.py\n",
            "google-cloud-sdk/lib/third_party/dns/entropy.py\n",
            "google-cloud-sdk/lib/third_party/dns/exception.py\n",
            "google-cloud-sdk/lib/third_party/dns/flags.py\n",
            "google-cloud-sdk/lib/third_party/dns/grange.py\n",
            "google-cloud-sdk/lib/third_party/dns/hash.py\n",
            "google-cloud-sdk/lib/third_party/dns/inet.py\n",
            "google-cloud-sdk/lib/third_party/dns/ipv4.py\n",
            "google-cloud-sdk/lib/third_party/dns/ipv6.py\n",
            "google-cloud-sdk/lib/third_party/dns/message.py\n",
            "google-cloud-sdk/lib/third_party/dns/name.py\n",
            "google-cloud-sdk/lib/third_party/dns/namedict.py\n",
            "google-cloud-sdk/lib/third_party/dns/node.py\n",
            "google-cloud-sdk/lib/third_party/dns/opcode.py\n",
            "google-cloud-sdk/lib/third_party/dns/query.py\n",
            "google-cloud-sdk/lib/third_party/dns/rcode.py\n",
            "google-cloud-sdk/lib/third_party/dns/rdata.py\n",
            "google-cloud-sdk/lib/third_party/dns/rdataclass.py\n",
            "google-cloud-sdk/lib/third_party/dns/rdataset.py\n",
            "google-cloud-sdk/lib/third_party/dns/rdatatype.py\n",
            "google-cloud-sdk/lib/third_party/dns/rdtypes/ANY/AFSDB.py\n",
            "google-cloud-sdk/lib/third_party/dns/rdtypes/ANY/AVC.py\n",
            "google-cloud-sdk/lib/third_party/dns/rdtypes/ANY/CAA.py\n",
            "google-cloud-sdk/lib/third_party/dns/rdtypes/ANY/CDNSKEY.py\n",
            "google-cloud-sdk/lib/third_party/dns/rdtypes/ANY/CDS.py\n",
            "google-cloud-sdk/lib/third_party/dns/rdtypes/ANY/CERT.py\n",
            "google-cloud-sdk/lib/third_party/dns/rdtypes/ANY/CNAME.py\n",
            "google-cloud-sdk/lib/third_party/dns/rdtypes/ANY/CSYNC.py\n",
            "google-cloud-sdk/lib/third_party/dns/rdtypes/ANY/DLV.py\n",
            "google-cloud-sdk/lib/third_party/dns/rdtypes/ANY/DNAME.py\n",
            "google-cloud-sdk/lib/third_party/dns/rdtypes/ANY/DNSKEY.py\n",
            "google-cloud-sdk/lib/third_party/dns/rdtypes/ANY/DS.py\n",
            "google-cloud-sdk/lib/third_party/dns/rdtypes/ANY/EUI48.py\n",
            "google-cloud-sdk/lib/third_party/dns/rdtypes/ANY/EUI64.py\n",
            "google-cloud-sdk/lib/third_party/dns/rdtypes/ANY/GPOS.py\n",
            "google-cloud-sdk/lib/third_party/dns/rdtypes/ANY/HINFO.py\n",
            "google-cloud-sdk/lib/third_party/dns/rdtypes/ANY/HIP.py\n",
            "google-cloud-sdk/lib/third_party/dns/rdtypes/ANY/ISDN.py\n",
            "google-cloud-sdk/lib/third_party/dns/rdtypes/ANY/LOC.py\n",
            "google-cloud-sdk/lib/third_party/dns/rdtypes/ANY/MX.py\n",
            "google-cloud-sdk/lib/third_party/dns/rdtypes/ANY/NS.py\n",
            "google-cloud-sdk/lib/third_party/dns/rdtypes/ANY/NSEC.py\n",
            "google-cloud-sdk/lib/third_party/dns/rdtypes/ANY/NSEC3.py\n",
            "google-cloud-sdk/lib/third_party/dns/rdtypes/ANY/NSEC3PARAM.py\n",
            "google-cloud-sdk/lib/third_party/dns/rdtypes/ANY/OPENPGPKEY.py\n",
            "google-cloud-sdk/lib/third_party/dns/rdtypes/ANY/PTR.py\n",
            "google-cloud-sdk/lib/third_party/dns/rdtypes/ANY/RP.py\n",
            "google-cloud-sdk/lib/third_party/dns/rdtypes/ANY/RRSIG.py\n",
            "google-cloud-sdk/lib/third_party/dns/rdtypes/ANY/RT.py\n",
            "google-cloud-sdk/lib/third_party/dns/rdtypes/ANY/SOA.py\n",
            "google-cloud-sdk/lib/third_party/dns/rdtypes/ANY/SPF.py\n",
            "google-cloud-sdk/lib/third_party/dns/rdtypes/ANY/SSHFP.py\n",
            "google-cloud-sdk/lib/third_party/dns/rdtypes/ANY/TLSA.py\n",
            "google-cloud-sdk/lib/third_party/dns/rdtypes/ANY/TXT.py\n",
            "google-cloud-sdk/lib/third_party/dns/rdtypes/ANY/URI.py\n",
            "google-cloud-sdk/lib/third_party/dns/rdtypes/ANY/X25.py\n",
            "google-cloud-sdk/lib/third_party/dns/rdtypes/ANY/__init__.py\n",
            "google-cloud-sdk/lib/third_party/dns/rdtypes/CH/A.py\n",
            "google-cloud-sdk/lib/third_party/dns/rdtypes/CH/__init__.py\n",
            "google-cloud-sdk/lib/third_party/dns/rdtypes/IN/A.py\n",
            "google-cloud-sdk/lib/third_party/dns/rdtypes/IN/AAAA.py\n",
            "google-cloud-sdk/lib/third_party/dns/rdtypes/IN/APL.py\n",
            "google-cloud-sdk/lib/third_party/dns/rdtypes/IN/DHCID.py\n",
            "google-cloud-sdk/lib/third_party/dns/rdtypes/IN/IPSECKEY.py\n",
            "google-cloud-sdk/lib/third_party/dns/rdtypes/IN/KX.py\n",
            "google-cloud-sdk/lib/third_party/dns/rdtypes/IN/NAPTR.py\n",
            "google-cloud-sdk/lib/third_party/dns/rdtypes/IN/NSAP.py\n",
            "google-cloud-sdk/lib/third_party/dns/rdtypes/IN/NSAP_PTR.py\n",
            "google-cloud-sdk/lib/third_party/dns/rdtypes/IN/PX.py\n",
            "google-cloud-sdk/lib/third_party/dns/rdtypes/IN/SRV.py\n",
            "google-cloud-sdk/lib/third_party/dns/rdtypes/IN/WKS.py\n",
            "google-cloud-sdk/lib/third_party/dns/rdtypes/IN/__init__.py\n",
            "google-cloud-sdk/lib/third_party/dns/rdtypes/__init__.py\n",
            "google-cloud-sdk/lib/third_party/dns/rdtypes/dnskeybase.py\n",
            "google-cloud-sdk/lib/third_party/dns/rdtypes/dsbase.py\n",
            "google-cloud-sdk/lib/third_party/dns/rdtypes/euibase.py\n",
            "google-cloud-sdk/lib/third_party/dns/rdtypes/mxbase.py\n",
            "google-cloud-sdk/lib/third_party/dns/rdtypes/nsbase.py\n",
            "google-cloud-sdk/lib/third_party/dns/rdtypes/txtbase.py\n",
            "google-cloud-sdk/lib/third_party/dns/renderer.py\n",
            "google-cloud-sdk/lib/third_party/dns/resolver.py\n",
            "google-cloud-sdk/lib/third_party/dns/reversename.py\n",
            "google-cloud-sdk/lib/third_party/dns/rrset.py\n",
            "google-cloud-sdk/lib/third_party/dns/set.py\n",
            "google-cloud-sdk/lib/third_party/dns/tokenizer.py\n",
            "google-cloud-sdk/lib/third_party/dns/tsig.py\n",
            "google-cloud-sdk/lib/third_party/dns/tsigkeyring.py\n",
            "google-cloud-sdk/lib/third_party/dns/ttl.py\n",
            "google-cloud-sdk/lib/third_party/dns/update.py\n",
            "google-cloud-sdk/lib/third_party/dns/version.py\n",
            "google-cloud-sdk/lib/third_party/dns/wiredata.py\n",
            "google-cloud-sdk/lib/third_party/dns/zone.py\n",
            "google-cloud-sdk/lib/third_party/docker/LICENSE\n",
            "google-cloud-sdk/lib/third_party/docker/__init__.py\n",
            "google-cloud-sdk/lib/third_party/docker/api/__init__.py\n",
            "google-cloud-sdk/lib/third_party/docker/api/build.py\n",
            "google-cloud-sdk/lib/third_party/docker/api/client.py\n",
            "google-cloud-sdk/lib/third_party/docker/api/config.py\n",
            "google-cloud-sdk/lib/third_party/docker/api/container.py\n",
            "google-cloud-sdk/lib/third_party/docker/api/daemon.py\n",
            "google-cloud-sdk/lib/third_party/docker/api/exec_api.py\n",
            "google-cloud-sdk/lib/third_party/docker/api/image.py\n",
            "google-cloud-sdk/lib/third_party/docker/api/network.py\n",
            "google-cloud-sdk/lib/third_party/docker/api/plugin.py\n",
            "google-cloud-sdk/lib/third_party/docker/api/secret.py\n",
            "google-cloud-sdk/lib/third_party/docker/api/service.py\n",
            "google-cloud-sdk/lib/third_party/docker/api/swarm.py\n",
            "google-cloud-sdk/lib/third_party/docker/api/volume.py\n",
            "google-cloud-sdk/lib/third_party/docker/auth.py\n",
            "google-cloud-sdk/lib/third_party/docker/client.py\n",
            "google-cloud-sdk/lib/third_party/docker/constants.py\n",
            "google-cloud-sdk/lib/third_party/docker/context/__init__.py\n",
            "google-cloud-sdk/lib/third_party/docker/context/api.py\n",
            "google-cloud-sdk/lib/third_party/docker/context/config.py\n",
            "google-cloud-sdk/lib/third_party/docker/context/context.py\n",
            "google-cloud-sdk/lib/third_party/docker/credentials/__init__.py\n",
            "google-cloud-sdk/lib/third_party/docker/credentials/constants.py\n",
            "google-cloud-sdk/lib/third_party/docker/credentials/errors.py\n",
            "google-cloud-sdk/lib/third_party/docker/credentials/store.py\n",
            "google-cloud-sdk/lib/third_party/docker/credentials/utils.py\n",
            "google-cloud-sdk/lib/third_party/docker/errors.py\n",
            "google-cloud-sdk/lib/third_party/docker/models/__init__.py\n",
            "google-cloud-sdk/lib/third_party/docker/models/configs.py\n",
            "google-cloud-sdk/lib/third_party/docker/models/containers.py\n",
            "google-cloud-sdk/lib/third_party/docker/models/images.py\n",
            "google-cloud-sdk/lib/third_party/docker/models/networks.py\n",
            "google-cloud-sdk/lib/third_party/docker/models/nodes.py\n",
            "google-cloud-sdk/lib/third_party/docker/models/plugins.py\n",
            "google-cloud-sdk/lib/third_party/docker/models/resource.py\n",
            "google-cloud-sdk/lib/third_party/docker/models/secrets.py\n",
            "google-cloud-sdk/lib/third_party/docker/models/services.py\n",
            "google-cloud-sdk/lib/third_party/docker/models/swarm.py\n",
            "google-cloud-sdk/lib/third_party/docker/models/volumes.py\n",
            "google-cloud-sdk/lib/third_party/docker/tls.py\n",
            "google-cloud-sdk/lib/third_party/docker/transport/__init__.py\n",
            "google-cloud-sdk/lib/third_party/docker/transport/basehttpadapter.py\n",
            "google-cloud-sdk/lib/third_party/docker/transport/npipeconn.py\n",
            "google-cloud-sdk/lib/third_party/docker/transport/npipesocket.py\n",
            "google-cloud-sdk/lib/third_party/docker/transport/sshconn.py\n",
            "google-cloud-sdk/lib/third_party/docker/transport/ssladapter.py\n",
            "google-cloud-sdk/lib/third_party/docker/transport/unixconn.py\n",
            "google-cloud-sdk/lib/third_party/docker/types/__init__.py\n",
            "google-cloud-sdk/lib/third_party/docker/types/base.py\n",
            "google-cloud-sdk/lib/third_party/docker/types/containers.py\n",
            "google-cloud-sdk/lib/third_party/docker/types/daemon.py\n",
            "google-cloud-sdk/lib/third_party/docker/types/healthcheck.py\n",
            "google-cloud-sdk/lib/third_party/docker/types/networks.py\n",
            "google-cloud-sdk/lib/third_party/docker/types/services.py\n",
            "google-cloud-sdk/lib/third_party/docker/types/swarm.py\n",
            "google-cloud-sdk/lib/third_party/docker/utils/__init__.py\n",
            "google-cloud-sdk/lib/third_party/docker/utils/build.py\n",
            "google-cloud-sdk/lib/third_party/docker/utils/config.py\n",
            "google-cloud-sdk/lib/third_party/docker/utils/decorators.py\n",
            "google-cloud-sdk/lib/third_party/docker/utils/fnmatch.py\n",
            "google-cloud-sdk/lib/third_party/docker/utils/json_stream.py\n",
            "google-cloud-sdk/lib/third_party/docker/utils/ports.py\n",
            "google-cloud-sdk/lib/third_party/docker/utils/proxy.py\n",
            "google-cloud-sdk/lib/third_party/docker/utils/socket.py\n",
            "google-cloud-sdk/lib/third_party/docker/utils/utils.py\n",
            "google-cloud-sdk/lib/third_party/docker/version.py\n",
            "google-cloud-sdk/lib/third_party/dulwich/__init__.py\n",
            "google-cloud-sdk/lib/third_party/dulwich/stable/LICENSE\n",
            "google-cloud-sdk/lib/third_party/easy_install.py\n",
            "google-cloud-sdk/lib/third_party/enum/LICENSE\n",
            "google-cloud-sdk/lib/third_party/enum/__init__.py\n",
            "google-cloud-sdk/lib/third_party/enum/less_than_python_3_4/__init__.py\n",
            "google-cloud-sdk/lib/third_party/fancy_urllib/LICENSE\n",
            "google-cloud-sdk/lib/third_party/fancy_urllib/__init__.py\n",
            "google-cloud-sdk/lib/third_party/fasteners/LICENSE\n",
            "google-cloud-sdk/lib/third_party/fasteners/__init__.py\n",
            "google-cloud-sdk/lib/third_party/fasteners/_utils.py\n",
            "google-cloud-sdk/lib/third_party/fasteners/lock.py\n",
            "google-cloud-sdk/lib/third_party/fasteners/process_lock.py\n",
            "google-cloud-sdk/lib/third_party/fasteners/version.py\n",
            "google-cloud-sdk/lib/third_party/frozendict/LICENSE\n",
            "google-cloud-sdk/lib/third_party/frozendict/__init__.py\n",
            "google-cloud-sdk/lib/third_party/functools32/LICENSE\n",
            "google-cloud-sdk/lib/third_party/functools32/__init__.py\n",
            "google-cloud-sdk/lib/third_party/functools32/_dummy_thread32.py\n",
            "google-cloud-sdk/lib/third_party/functools32/functools32.py\n",
            "google-cloud-sdk/lib/third_party/functools32/reprlib32.py\n",
            "google-cloud-sdk/lib/third_party/gae_ext_runtime/LICENSE\n",
            "google-cloud-sdk/lib/third_party/gae_ext_runtime/__init__.py\n",
            "google-cloud-sdk/lib/third_party/gae_ext_runtime/comm.py\n",
            "google-cloud-sdk/lib/third_party/gae_ext_runtime/ext_runtime.py\n",
            "google-cloud-sdk/lib/third_party/gae_ext_runtime/testutil.py\n",
            "google-cloud-sdk/lib/third_party/gcloud_crcmod/LICENSE\n",
            "google-cloud-sdk/lib/third_party/gcloud_crcmod/__init__.py\n",
            "google-cloud-sdk/lib/third_party/gcloud_crcmod/python2/__init__.py\n",
            "google-cloud-sdk/lib/third_party/gcloud_crcmod/python2/_crcfunpy.py\n",
            "google-cloud-sdk/lib/third_party/gcloud_crcmod/python2/crcmod.py\n",
            "google-cloud-sdk/lib/third_party/gcloud_crcmod/python2/predefined.py\n",
            "google-cloud-sdk/lib/third_party/gcloud_crcmod/python3/__init__.py\n",
            "google-cloud-sdk/lib/third_party/gcloud_crcmod/python3/_crcfunpy.py\n",
            "google-cloud-sdk/lib/third_party/gcloud_crcmod/python3/crcmod.py\n",
            "google-cloud-sdk/lib/third_party/gcloud_crcmod/python3/predefined.py\n",
            "google-cloud-sdk/lib/third_party/google/LICENSE\n",
            "google-cloud-sdk/lib/third_party/google/__init__.py\n",
            "google-cloud-sdk/lib/third_party/google/api/__init__.py\n",
            "google-cloud-sdk/lib/third_party/google/api/annotations.proto\n",
            "google-cloud-sdk/lib/third_party/google/api/annotations_pb2.py\n",
            "google-cloud-sdk/lib/third_party/google/api/annotations_pb2_grpc.py\n",
            "google-cloud-sdk/lib/third_party/google/api/auth_pb2.py\n",
            "google-cloud-sdk/lib/third_party/google/api/backend_pb2.py\n",
            "google-cloud-sdk/lib/third_party/google/api/billing_pb2.py\n",
            "google-cloud-sdk/lib/third_party/google/api/client_pb2.py\n",
            "google-cloud-sdk/lib/third_party/google/api/config_change_pb2.py\n",
            "google-cloud-sdk/lib/third_party/google/api/consumer_pb2.py\n",
            "google-cloud-sdk/lib/third_party/google/api/context_pb2.py\n",
            "google-cloud-sdk/lib/third_party/google/api/control_pb2.py\n",
            "google-cloud-sdk/lib/third_party/google/api/distribution_pb2.py\n",
            "google-cloud-sdk/lib/third_party/google/api/documentation_pb2.py\n",
            "google-cloud-sdk/lib/third_party/google/api/endpoint_pb2.py\n",
            "google-cloud-sdk/lib/third_party/google/api/field_behavior_pb2.py\n",
            "google-cloud-sdk/lib/third_party/google/api/http.proto\n",
            "google-cloud-sdk/lib/third_party/google/api/http_pb2.py\n",
            "google-cloud-sdk/lib/third_party/google/api/http_pb2_grpc.py\n",
            "google-cloud-sdk/lib/third_party/google/api/httpbody_pb2.py\n",
            "google-cloud-sdk/lib/third_party/google/api/label_pb2.py\n",
            "google-cloud-sdk/lib/third_party/google/api/launch_stage_pb2.py\n",
            "google-cloud-sdk/lib/third_party/google/api/log_pb2.py\n",
            "google-cloud-sdk/lib/third_party/google/api/logging_pb2.py\n",
            "google-cloud-sdk/lib/third_party/google/api/metric_pb2.py\n",
            "google-cloud-sdk/lib/third_party/google/api/monitored_resource_pb2.py\n",
            "google-cloud-sdk/lib/third_party/google/api/monitoring_pb2.py\n",
            "google-cloud-sdk/lib/third_party/google/api/quota_pb2.py\n",
            "google-cloud-sdk/lib/third_party/google/api/resource_pb2.py\n",
            "google-cloud-sdk/lib/third_party/google/api/service_pb2.py\n",
            "google-cloud-sdk/lib/third_party/google/api/source_info_pb2.py\n",
            "google-cloud-sdk/lib/third_party/google/api/system_parameter_pb2.py\n",
            "google-cloud-sdk/lib/third_party/google/api/usage_pb2.py\n",
            "google-cloud-sdk/lib/third_party/google/api_core/__init__.py\n",
            "google-cloud-sdk/lib/third_party/google/api_core/bidi.py\n",
            "google-cloud-sdk/lib/third_party/google/api_core/client_info.py\n",
            "google-cloud-sdk/lib/third_party/google/api_core/client_options.py\n",
            "google-cloud-sdk/lib/third_party/google/api_core/datetime_helpers.py\n",
            "google-cloud-sdk/lib/third_party/google/api_core/exceptions.py\n",
            "google-cloud-sdk/lib/third_party/google/api_core/future/__init__.py\n",
            "google-cloud-sdk/lib/third_party/google/api_core/future/_helpers.py\n",
            "google-cloud-sdk/lib/third_party/google/api_core/future/async_future.py\n",
            "google-cloud-sdk/lib/third_party/google/api_core/future/base.py\n",
            "google-cloud-sdk/lib/third_party/google/api_core/future/polling.py\n",
            "google-cloud-sdk/lib/third_party/google/api_core/gapic_v1/__init__.py\n",
            "google-cloud-sdk/lib/third_party/google/api_core/gapic_v1/client_info.py\n",
            "google-cloud-sdk/lib/third_party/google/api_core/gapic_v1/config.py\n",
            "google-cloud-sdk/lib/third_party/google/api_core/gapic_v1/config_async.py\n",
            "google-cloud-sdk/lib/third_party/google/api_core/gapic_v1/method.py\n",
            "google-cloud-sdk/lib/third_party/google/api_core/gapic_v1/method_async.py\n",
            "google-cloud-sdk/lib/third_party/google/api_core/gapic_v1/routing_header.py\n",
            "google-cloud-sdk/lib/third_party/google/api_core/general_helpers.py\n",
            "google-cloud-sdk/lib/third_party/google/api_core/grpc_helpers.py\n",
            "google-cloud-sdk/lib/third_party/google/api_core/grpc_helpers_async.py\n",
            "google-cloud-sdk/lib/third_party/google/api_core/iam.py\n",
            "google-cloud-sdk/lib/third_party/google/api_core/operation.py\n",
            "google-cloud-sdk/lib/third_party/google/api_core/operation_async.py\n",
            "google-cloud-sdk/lib/third_party/google/api_core/operations_v1/__init__.py\n",
            "google-cloud-sdk/lib/third_party/google/api_core/operations_v1/operations_async_client.py\n",
            "google-cloud-sdk/lib/third_party/google/api_core/operations_v1/operations_client.py\n",
            "google-cloud-sdk/lib/third_party/google/api_core/operations_v1/operations_client_config.py\n",
            "google-cloud-sdk/lib/third_party/google/api_core/page_iterator.py\n",
            "google-cloud-sdk/lib/third_party/google/api_core/page_iterator_async.py\n",
            "google-cloud-sdk/lib/third_party/google/api_core/path_template.py\n",
            "google-cloud-sdk/lib/third_party/google/api_core/protobuf_helpers.py\n",
            "google-cloud-sdk/lib/third_party/google/api_core/retry.py\n",
            "google-cloud-sdk/lib/third_party/google/api_core/retry_async.py\n",
            "google-cloud-sdk/lib/third_party/google/api_core/timeout.py\n",
            "google-cloud-sdk/lib/third_party/google/api_core/version.py\n",
            "google-cloud-sdk/lib/third_party/google/appengine/__init__.py\n",
            "google-cloud-sdk/lib/third_party/google/appengine/logging/__init__.py\n",
            "google-cloud-sdk/lib/third_party/google/appengine/logging/v1/__init__.py\n",
            "google-cloud-sdk/lib/third_party/google/appengine/logging/v1/request_log_pb2.py\n",
            "google-cloud-sdk/lib/third_party/google/auth/LICENSE\n",
            "google-cloud-sdk/lib/third_party/google/auth/__init__.py\n",
            "google-cloud-sdk/lib/third_party/google/auth/_cloud_sdk.py\n",
            "google-cloud-sdk/lib/third_party/google/auth/_credentials_async.py\n",
            "google-cloud-sdk/lib/third_party/google/auth/_default.py\n",
            "google-cloud-sdk/lib/third_party/google/auth/_default_async.py\n",
            "google-cloud-sdk/lib/third_party/google/auth/_helpers.py\n",
            "google-cloud-sdk/lib/third_party/google/auth/_jwt_async.py\n",
            "google-cloud-sdk/lib/third_party/google/auth/_oauth2client.py\n",
            "google-cloud-sdk/lib/third_party/google/auth/_service_account_info.py\n",
            "google-cloud-sdk/lib/third_party/google/auth/app_engine.py\n",
            "google-cloud-sdk/lib/third_party/google/auth/aws.py\n",
            "google-cloud-sdk/lib/third_party/google/auth/compute_engine/__init__.py\n",
            "google-cloud-sdk/lib/third_party/google/auth/compute_engine/_metadata.py\n",
            "google-cloud-sdk/lib/third_party/google/auth/compute_engine/credentials.py\n",
            "google-cloud-sdk/lib/third_party/google/auth/credentials.py\n",
            "google-cloud-sdk/lib/third_party/google/auth/crypt/__init__.py\n",
            "google-cloud-sdk/lib/third_party/google/auth/crypt/_cryptography_rsa.py\n",
            "google-cloud-sdk/lib/third_party/google/auth/crypt/_helpers.py\n",
            "google-cloud-sdk/lib/third_party/google/auth/crypt/_python_rsa.py\n",
            "google-cloud-sdk/lib/third_party/google/auth/crypt/base.py\n",
            "google-cloud-sdk/lib/third_party/google/auth/crypt/es256.py\n",
            "google-cloud-sdk/lib/third_party/google/auth/crypt/rsa.py\n",
            "google-cloud-sdk/lib/third_party/google/auth/environment_vars.py\n",
            "google-cloud-sdk/lib/third_party/google/auth/exceptions.py\n",
            "google-cloud-sdk/lib/third_party/google/auth/external_account.py\n",
            "google-cloud-sdk/lib/third_party/google/auth/iam.py\n",
            "google-cloud-sdk/lib/third_party/google/auth/identity_pool.py\n",
            "google-cloud-sdk/lib/third_party/google/auth/impersonated_credentials.py\n",
            "google-cloud-sdk/lib/third_party/google/auth/jwt.py\n",
            "google-cloud-sdk/lib/third_party/google/auth/transport/__init__.py\n",
            "google-cloud-sdk/lib/third_party/google/auth/transport/_aiohttp_requests.py\n",
            "google-cloud-sdk/lib/third_party/google/auth/transport/_http_client.py\n",
            "google-cloud-sdk/lib/third_party/google/auth/transport/_mtls_helper.py\n",
            "google-cloud-sdk/lib/third_party/google/auth/transport/grpc.py\n",
            "google-cloud-sdk/lib/third_party/google/auth/transport/mtls.py\n",
            "google-cloud-sdk/lib/third_party/google/auth/transport/requests.py\n",
            "google-cloud-sdk/lib/third_party/google/auth/transport/urllib3.py\n",
            "google-cloud-sdk/lib/third_party/google/auth/version.py\n",
            "google-cloud-sdk/lib/third_party/google/bigtable/__init__.py\n",
            "google-cloud-sdk/lib/third_party/google/bigtable/admin/__init__.py\n",
            "google-cloud-sdk/lib/third_party/google/bigtable/admin/v2/__init__.py\n",
            "google-cloud-sdk/lib/third_party/google/bigtable/admin/v2/bigtable_instance_admin.proto\n",
            "google-cloud-sdk/lib/third_party/google/bigtable/admin/v2/bigtable_instance_admin_pb2.py\n",
            "google-cloud-sdk/lib/third_party/google/bigtable/admin/v2/bigtable_instance_admin_pb2_grpc.py\n",
            "google-cloud-sdk/lib/third_party/google/bigtable/admin/v2/bigtable_table_admin.proto\n",
            "google-cloud-sdk/lib/third_party/google/bigtable/admin/v2/bigtable_table_admin_pb2.py\n",
            "google-cloud-sdk/lib/third_party/google/bigtable/admin/v2/bigtable_table_admin_pb2_grpc.py\n",
            "google-cloud-sdk/lib/third_party/google/bigtable/admin/v2/common.proto\n",
            "google-cloud-sdk/lib/third_party/google/bigtable/admin/v2/common_pb2.py\n",
            "google-cloud-sdk/lib/third_party/google/bigtable/admin/v2/common_pb2_grpc.py\n",
            "google-cloud-sdk/lib/third_party/google/bigtable/admin/v2/instance.proto\n",
            "google-cloud-sdk/lib/third_party/google/bigtable/admin/v2/instance_pb2.py\n",
            "google-cloud-sdk/lib/third_party/google/bigtable/admin/v2/instance_pb2_grpc.py\n",
            "google-cloud-sdk/lib/third_party/google/bigtable/admin/v2/table.proto\n",
            "google-cloud-sdk/lib/third_party/google/bigtable/admin/v2/table_pb2.py\n",
            "google-cloud-sdk/lib/third_party/google/bigtable/admin/v2/table_pb2_grpc.py\n",
            "google-cloud-sdk/lib/third_party/google/bigtable/v2/__init__.py\n",
            "google-cloud-sdk/lib/third_party/google/bigtable/v2/bigtable.proto\n",
            "google-cloud-sdk/lib/third_party/google/bigtable/v2/bigtable_pb2.py\n",
            "google-cloud-sdk/lib/third_party/google/bigtable/v2/bigtable_pb2_grpc.py\n",
            "google-cloud-sdk/lib/third_party/google/bigtable/v2/data.proto\n",
            "google-cloud-sdk/lib/third_party/google/bigtable/v2/data_pb2.py\n",
            "google-cloud-sdk/lib/third_party/google/bigtable/v2/data_pb2_grpc.py\n",
            "google-cloud-sdk/lib/third_party/google/cloud/__init__.py\n",
            "google-cloud-sdk/lib/third_party/google/cloud/appengine_legacy/proto/audit_data_pb2.py\n",
            "google-cloud-sdk/lib/third_party/google/cloud/appengine_v1/proto/app_yaml_pb2.py\n",
            "google-cloud-sdk/lib/third_party/google/cloud/appengine_v1/proto/appengine_pb2.py\n",
            "google-cloud-sdk/lib/third_party/google/cloud/appengine_v1/proto/application_pb2.py\n",
            "google-cloud-sdk/lib/third_party/google/cloud/appengine_v1/proto/audit_data_pb2.py\n",
            "google-cloud-sdk/lib/third_party/google/cloud/appengine_v1/proto/certificate_pb2.py\n",
            "google-cloud-sdk/lib/third_party/google/cloud/appengine_v1/proto/deploy_pb2.py\n",
            "google-cloud-sdk/lib/third_party/google/cloud/appengine_v1/proto/deployed_files_pb2.py\n",
            "google-cloud-sdk/lib/third_party/google/cloud/appengine_v1/proto/domain_mapping_pb2.py\n",
            "google-cloud-sdk/lib/third_party/google/cloud/appengine_v1/proto/domain_pb2.py\n",
            "google-cloud-sdk/lib/third_party/google/cloud/appengine_v1/proto/firewall_pb2.py\n",
            "google-cloud-sdk/lib/third_party/google/cloud/appengine_v1/proto/instance_pb2.py\n",
            "google-cloud-sdk/lib/third_party/google/cloud/appengine_v1/proto/location_pb2.py\n",
            "google-cloud-sdk/lib/third_party/google/cloud/appengine_v1/proto/network_settings_pb2.py\n",
            "google-cloud-sdk/lib/third_party/google/cloud/appengine_v1/proto/operation_pb2.py\n",
            "google-cloud-sdk/lib/third_party/google/cloud/appengine_v1/proto/service_pb2.py\n",
            "google-cloud-sdk/lib/third_party/google/cloud/appengine_v1/proto/version_pb2.py\n",
            "google-cloud-sdk/lib/third_party/google/cloud/appengine_v1alpha/proto/app_yaml_pb2.py\n",
            "google-cloud-sdk/lib/third_party/google/cloud/appengine_v1alpha/proto/appengine_pb2.py\n",
            "google-cloud-sdk/lib/third_party/google/cloud/appengine_v1alpha/proto/application_pb2.py\n",
            "google-cloud-sdk/lib/third_party/google/cloud/appengine_v1alpha/proto/audit_data_pb2.py\n",
            "google-cloud-sdk/lib/third_party/google/cloud/appengine_v1alpha/proto/certificate_pb2.py\n",
            "google-cloud-sdk/lib/third_party/google/cloud/appengine_v1alpha/proto/deploy_pb2.py\n",
            "google-cloud-sdk/lib/third_party/google/cloud/appengine_v1alpha/proto/deployed_files_pb2.py\n",
            "google-cloud-sdk/lib/third_party/google/cloud/appengine_v1alpha/proto/domain_mapping_pb2.py\n",
            "google-cloud-sdk/lib/third_party/google/cloud/appengine_v1alpha/proto/domain_pb2.py\n",
            "google-cloud-sdk/lib/third_party/google/cloud/appengine_v1alpha/proto/firewall_pb2.py\n",
            "google-cloud-sdk/lib/third_party/google/cloud/appengine_v1alpha/proto/instance_pb2.py\n",
            "google-cloud-sdk/lib/third_party/google/cloud/appengine_v1alpha/proto/location_pb2.py\n",
            "google-cloud-sdk/lib/third_party/google/cloud/appengine_v1alpha/proto/network_settings_pb2.py\n",
            "google-cloud-sdk/lib/third_party/google/cloud/appengine_v1alpha/proto/operation_pb2.py\n",
            "google-cloud-sdk/lib/third_party/google/cloud/appengine_v1alpha/proto/service_pb2.py\n",
            "google-cloud-sdk/lib/third_party/google/cloud/appengine_v1alpha/proto/version_pb2.py\n",
            "google-cloud-sdk/lib/third_party/google/cloud/appengine_v1beta/proto/app_yaml_pb2.py\n",
            "google-cloud-sdk/lib/third_party/google/cloud/appengine_v1beta/proto/appengine_pb2.py\n",
            "google-cloud-sdk/lib/third_party/google/cloud/appengine_v1beta/proto/application_pb2.py\n",
            "google-cloud-sdk/lib/third_party/google/cloud/appengine_v1beta/proto/audit_data_pb2.py\n",
            "google-cloud-sdk/lib/third_party/google/cloud/appengine_v1beta/proto/certificate_pb2.py\n",
            "google-cloud-sdk/lib/third_party/google/cloud/appengine_v1beta/proto/deploy_pb2.py\n",
            "google-cloud-sdk/lib/third_party/google/cloud/appengine_v1beta/proto/deployed_files_pb2.py\n",
            "google-cloud-sdk/lib/third_party/google/cloud/appengine_v1beta/proto/domain_mapping_pb2.py\n",
            "google-cloud-sdk/lib/third_party/google/cloud/appengine_v1beta/proto/domain_pb2.py\n",
            "google-cloud-sdk/lib/third_party/google/cloud/appengine_v1beta/proto/firewall_pb2.py\n",
            "google-cloud-sdk/lib/third_party/google/cloud/appengine_v1beta/proto/instance_pb2.py\n",
            "google-cloud-sdk/lib/third_party/google/cloud/appengine_v1beta/proto/location_pb2.py\n",
            "google-cloud-sdk/lib/third_party/google/cloud/appengine_v1beta/proto/network_settings_pb2.py\n",
            "google-cloud-sdk/lib/third_party/google/cloud/appengine_v1beta/proto/operation_pb2.py\n",
            "google-cloud-sdk/lib/third_party/google/cloud/appengine_v1beta/proto/service_pb2.py\n",
            "google-cloud-sdk/lib/third_party/google/cloud/appengine_v1beta/proto/version_pb2.py\n",
            "google-cloud-sdk/lib/third_party/google/cloud/bigquery_logging_v1/proto/audit_data_pb2.py\n",
            "google-cloud-sdk/lib/third_party/google/cloud/cloud_audit/proto/audit_log_pb2.py\n",
            "google-cloud-sdk/lib/third_party/google/cloud/iam_admin_v1/proto/audit_data_pb2.py\n",
            "google-cloud-sdk/lib/third_party/google/cloud/iam_admin_v1/proto/iam_pb2.py\n",
            "google-cloud-sdk/lib/third_party/google/cloud/pubsub/__init__.py\n",
            "google-cloud-sdk/lib/third_party/google/cloud/pubsub_v1/__init__.py\n",
            "google-cloud-sdk/lib/third_party/google/cloud/pubsub_v1/_gapic.py\n",
            "google-cloud-sdk/lib/third_party/google/cloud/pubsub_v1/exceptions.py\n",
            "google-cloud-sdk/lib/third_party/google/cloud/pubsub_v1/futures.py\n",
            "google-cloud-sdk/lib/third_party/google/cloud/pubsub_v1/proto/pubsub.proto\n",
            "google-cloud-sdk/lib/third_party/google/cloud/pubsub_v1/proto/schema.proto\n",
            "google-cloud-sdk/lib/third_party/google/cloud/pubsub_v1/publisher/__init__.py\n",
            "google-cloud-sdk/lib/third_party/google/cloud/pubsub_v1/publisher/_batch/__init__.py\n",
            "google-cloud-sdk/lib/third_party/google/cloud/pubsub_v1/publisher/_batch/base.py\n",
            "google-cloud-sdk/lib/third_party/google/cloud/pubsub_v1/publisher/_batch/thread.py\n",
            "google-cloud-sdk/lib/third_party/google/cloud/pubsub_v1/publisher/_sequencer/__init__.py\n",
            "google-cloud-sdk/lib/third_party/google/cloud/pubsub_v1/publisher/_sequencer/base.py\n",
            "google-cloud-sdk/lib/third_party/google/cloud/pubsub_v1/publisher/_sequencer/ordered_sequencer.py\n",
            "google-cloud-sdk/lib/third_party/google/cloud/pubsub_v1/publisher/_sequencer/unordered_sequencer.py\n",
            "google-cloud-sdk/lib/third_party/google/cloud/pubsub_v1/publisher/client.py\n",
            "google-cloud-sdk/lib/third_party/google/cloud/pubsub_v1/publisher/exceptions.py\n",
            "google-cloud-sdk/lib/third_party/google/cloud/pubsub_v1/publisher/flow_controller.py\n",
            "google-cloud-sdk/lib/third_party/google/cloud/pubsub_v1/publisher/futures.py\n",
            "google-cloud-sdk/lib/third_party/google/cloud/pubsub_v1/subscriber/__init__.py\n",
            "google-cloud-sdk/lib/third_party/google/cloud/pubsub_v1/subscriber/_protocol/__init__.py\n",
            "google-cloud-sdk/lib/third_party/google/cloud/pubsub_v1/subscriber/_protocol/dispatcher.py\n",
            "google-cloud-sdk/lib/third_party/google/cloud/pubsub_v1/subscriber/_protocol/heartbeater.py\n",
            "google-cloud-sdk/lib/third_party/google/cloud/pubsub_v1/subscriber/_protocol/helper_threads.py\n",
            "google-cloud-sdk/lib/third_party/google/cloud/pubsub_v1/subscriber/_protocol/histogram.py\n",
            "google-cloud-sdk/lib/third_party/google/cloud/pubsub_v1/subscriber/_protocol/leaser.py\n",
            "google-cloud-sdk/lib/third_party/google/cloud/pubsub_v1/subscriber/_protocol/messages_on_hold.py\n",
            "google-cloud-sdk/lib/third_party/google/cloud/pubsub_v1/subscriber/_protocol/requests.py\n",
            "google-cloud-sdk/lib/third_party/google/cloud/pubsub_v1/subscriber/_protocol/streaming_pull_manager.py\n",
            "google-cloud-sdk/lib/third_party/google/cloud/pubsub_v1/subscriber/client.py\n",
            "google-cloud-sdk/lib/third_party/google/cloud/pubsub_v1/subscriber/futures.py\n",
            "google-cloud-sdk/lib/third_party/google/cloud/pubsub_v1/subscriber/message.py\n",
            "google-cloud-sdk/lib/third_party/google/cloud/pubsub_v1/subscriber/scheduler.py\n",
            "google-cloud-sdk/lib/third_party/google/cloud/pubsub_v1/types.py\n",
            "google-cloud-sdk/lib/third_party/google/cloud/rpc_context/proto/attribute_context_pb2.py\n",
            "google-cloud-sdk/lib/third_party/google/iam/v1/iam_policy_pb2.py\n",
            "google-cloud-sdk/lib/third_party/google/iam/v1/logging/audit_data_pb2.py\n",
            "google-cloud-sdk/lib/third_party/google/iam/v1/options_pb2.py\n",
            "google-cloud-sdk/lib/third_party/google/iam/v1/policy_pb2.py\n",
            "google-cloud-sdk/lib/third_party/google/logging/__init__.py\n",
            "google-cloud-sdk/lib/third_party/google/logging/type/__init__.py\n",
            "google-cloud-sdk/lib/third_party/google/logging/type/http_request_pb2.py\n",
            "google-cloud-sdk/lib/third_party/google/logging/type/log_severity_pb2.py\n",
            "google-cloud-sdk/lib/third_party/google/longrunning/__init__.py\n",
            "google-cloud-sdk/lib/third_party/google/longrunning/operations.proto\n",
            "google-cloud-sdk/lib/third_party/google/longrunning/operations_pb2.py\n",
            "google-cloud-sdk/lib/third_party/google/longrunning/operations_pb2_grpc.py\n",
            "google-cloud-sdk/lib/third_party/google/oauth2/__init__.py\n",
            "google-cloud-sdk/lib/third_party/google/oauth2/_client.py\n",
            "google-cloud-sdk/lib/third_party/google/oauth2/_client_async.py\n",
            "google-cloud-sdk/lib/third_party/google/oauth2/_credentials_async.py\n",
            "google-cloud-sdk/lib/third_party/google/oauth2/_id_token_async.py\n",
            "google-cloud-sdk/lib/third_party/google/oauth2/_service_account_async.py\n",
            "google-cloud-sdk/lib/third_party/google/oauth2/credentials.py\n",
            "google-cloud-sdk/lib/third_party/google/oauth2/id_token.py\n",
            "google-cloud-sdk/lib/third_party/google/oauth2/service_account.py\n",
            "google-cloud-sdk/lib/third_party/google/oauth2/sts.py\n",
            "google-cloud-sdk/lib/third_party/google/oauth2/utils.py\n",
            "google-cloud-sdk/lib/third_party/google/protobuf/LICENSE\n",
            "google-cloud-sdk/lib/third_party/google/protobuf/__init__.py\n",
            "google-cloud-sdk/lib/third_party/google/protobuf/any_pb2.py\n",
            "google-cloud-sdk/lib/third_party/google/protobuf/any_test_pb2.py\n",
            "google-cloud-sdk/lib/third_party/google/protobuf/api_pb2.py\n",
            "google-cloud-sdk/lib/third_party/google/protobuf/compiler/__init__.py\n",
            "google-cloud-sdk/lib/third_party/google/protobuf/compiler/plugin_pb2.py\n",
            "google-cloud-sdk/lib/third_party/google/protobuf/descriptor.py\n",
            "google-cloud-sdk/lib/third_party/google/protobuf/descriptor_database.py\n",
            "google-cloud-sdk/lib/third_party/google/protobuf/descriptor_pb2.py\n",
            "google-cloud-sdk/lib/third_party/google/protobuf/descriptor_pool.py\n",
            "google-cloud-sdk/lib/third_party/google/protobuf/duration_pb2.py\n",
            "google-cloud-sdk/lib/third_party/google/protobuf/empty_pb2.py\n",
            "google-cloud-sdk/lib/third_party/google/protobuf/field_mask_pb2.py\n",
            "google-cloud-sdk/lib/third_party/google/protobuf/internal/__init__.py\n",
            "google-cloud-sdk/lib/third_party/google/protobuf/internal/_parameterized.py\n",
            "google-cloud-sdk/lib/third_party/google/protobuf/internal/any_test_pb2.py\n",
            "google-cloud-sdk/lib/third_party/google/protobuf/internal/api_implementation.py\n",
            "google-cloud-sdk/lib/third_party/google/protobuf/internal/containers.py\n",
            "google-cloud-sdk/lib/third_party/google/protobuf/internal/decoder.py\n",
            "google-cloud-sdk/lib/third_party/google/protobuf/internal/descriptor_database_test.py\n",
            "google-cloud-sdk/lib/third_party/google/protobuf/internal/descriptor_pool_test.py\n",
            "google-cloud-sdk/lib/third_party/google/protobuf/internal/descriptor_pool_test1_pb2.py\n",
            "google-cloud-sdk/lib/third_party/google/protobuf/internal/descriptor_pool_test2_pb2.py\n",
            "google-cloud-sdk/lib/third_party/google/protobuf/internal/descriptor_test.py\n",
            "google-cloud-sdk/lib/third_party/google/protobuf/internal/encoder.py\n",
            "google-cloud-sdk/lib/third_party/google/protobuf/internal/enum_type_wrapper.py\n",
            "google-cloud-sdk/lib/third_party/google/protobuf/internal/extension_dict.py\n",
            "google-cloud-sdk/lib/third_party/google/protobuf/internal/factory_test1_pb2.py\n",
            "google-cloud-sdk/lib/third_party/google/protobuf/internal/factory_test2_pb2.py\n",
            "google-cloud-sdk/lib/third_party/google/protobuf/internal/file_options_test_pb2.py\n",
            "google-cloud-sdk/lib/third_party/google/protobuf/internal/generator_test.py\n",
            "google-cloud-sdk/lib/third_party/google/protobuf/internal/json_format_test.py\n",
            "google-cloud-sdk/lib/third_party/google/protobuf/internal/keywords_test.py\n",
            "google-cloud-sdk/lib/third_party/google/protobuf/internal/message_factory_test.py\n",
            "google-cloud-sdk/lib/third_party/google/protobuf/internal/message_listener.py\n",
            "google-cloud-sdk/lib/third_party/google/protobuf/internal/message_set_extensions_pb2.py\n",
            "google-cloud-sdk/lib/third_party/google/protobuf/internal/message_test.py\n",
            "google-cloud-sdk/lib/third_party/google/protobuf/internal/missing_enum_values_pb2.py\n",
            "google-cloud-sdk/lib/third_party/google/protobuf/internal/more_extensions_dynamic_pb2.py\n",
            "google-cloud-sdk/lib/third_party/google/protobuf/internal/more_extensions_pb2.py\n",
            "google-cloud-sdk/lib/third_party/google/protobuf/internal/more_messages_pb2.py\n",
            "google-cloud-sdk/lib/third_party/google/protobuf/internal/no_package_pb2.py\n",
            "google-cloud-sdk/lib/third_party/google/protobuf/internal/packed_field_test_pb2.py\n",
            "google-cloud-sdk/lib/third_party/google/protobuf/internal/proto_builder_test.py\n",
            "google-cloud-sdk/lib/third_party/google/protobuf/internal/python_message.py\n",
            "google-cloud-sdk/lib/third_party/google/protobuf/internal/reflection_test.py\n",
            "google-cloud-sdk/lib/third_party/google/protobuf/internal/service_reflection_test.py\n",
            "google-cloud-sdk/lib/third_party/google/protobuf/internal/symbol_database_test.py\n",
            "google-cloud-sdk/lib/third_party/google/protobuf/internal/test_bad_identifiers_pb2.py\n",
            "google-cloud-sdk/lib/third_party/google/protobuf/internal/test_proto3_optional_pb2.py\n",
            "google-cloud-sdk/lib/third_party/google/protobuf/internal/test_util.py\n",
            "google-cloud-sdk/lib/third_party/google/protobuf/internal/testing_refleaks.py\n",
            "google-cloud-sdk/lib/third_party/google/protobuf/internal/text_encoding_test.py\n",
            "google-cloud-sdk/lib/third_party/google/protobuf/internal/text_format_test.py\n",
            "google-cloud-sdk/lib/third_party/google/protobuf/internal/type_checkers.py\n",
            "google-cloud-sdk/lib/third_party/google/protobuf/internal/unknown_fields_test.py\n",
            "google-cloud-sdk/lib/third_party/google/protobuf/internal/well_known_types.py\n",
            "google-cloud-sdk/lib/third_party/google/protobuf/internal/well_known_types_test.py\n",
            "google-cloud-sdk/lib/third_party/google/protobuf/internal/wire_format.py\n",
            "google-cloud-sdk/lib/third_party/google/protobuf/internal/wire_format_test.py\n",
            "google-cloud-sdk/lib/third_party/google/protobuf/json_format.py\n",
            "google-cloud-sdk/lib/third_party/google/protobuf/map_proto2_unittest_pb2.py\n",
            "google-cloud-sdk/lib/third_party/google/protobuf/map_unittest_pb2.py\n",
            "google-cloud-sdk/lib/third_party/google/protobuf/message.py\n",
            "google-cloud-sdk/lib/third_party/google/protobuf/message_factory.py\n",
            "google-cloud-sdk/lib/third_party/google/protobuf/proto_builder.py\n",
            "google-cloud-sdk/lib/third_party/google/protobuf/reflection.py\n",
            "google-cloud-sdk/lib/third_party/google/protobuf/service.py\n",
            "google-cloud-sdk/lib/third_party/google/protobuf/service_reflection.py\n",
            "google-cloud-sdk/lib/third_party/google/protobuf/source_context_pb2.py\n",
            "google-cloud-sdk/lib/third_party/google/protobuf/struct_pb2.py\n",
            "google-cloud-sdk/lib/third_party/google/protobuf/symbol_database.py\n",
            "google-cloud-sdk/lib/third_party/google/protobuf/test_messages_proto2_pb2.py\n",
            "google-cloud-sdk/lib/third_party/google/protobuf/test_messages_proto3_pb2.py\n",
            "google-cloud-sdk/lib/third_party/google/protobuf/text_encoding.py\n",
            "google-cloud-sdk/lib/third_party/google/protobuf/text_format.py\n",
            "google-cloud-sdk/lib/third_party/google/protobuf/timestamp_pb2.py\n",
            "google-cloud-sdk/lib/third_party/google/protobuf/type_pb2.py\n",
            "google-cloud-sdk/lib/third_party/google/protobuf/unittest_arena_pb2.py\n",
            "google-cloud-sdk/lib/third_party/google/protobuf/unittest_custom_options_pb2.py\n",
            "google-cloud-sdk/lib/third_party/google/protobuf/unittest_import_pb2.py\n",
            "google-cloud-sdk/lib/third_party/google/protobuf/unittest_import_public_pb2.py\n",
            "google-cloud-sdk/lib/third_party/google/protobuf/unittest_mset_pb2.py\n",
            "google-cloud-sdk/lib/third_party/google/protobuf/unittest_mset_wire_format_pb2.py\n",
            "google-cloud-sdk/lib/third_party/google/protobuf/unittest_no_arena_import_pb2.py\n",
            "google-cloud-sdk/lib/third_party/google/protobuf/unittest_no_arena_pb2.py\n",
            "google-cloud-sdk/lib/third_party/google/protobuf/unittest_no_generic_services_pb2.py\n",
            "google-cloud-sdk/lib/third_party/google/protobuf/unittest_pb2.py\n",
            "google-cloud-sdk/lib/third_party/google/protobuf/unittest_proto3_arena_pb2.py\n",
            "google-cloud-sdk/lib/third_party/google/protobuf/util/__init__.py\n",
            "google-cloud-sdk/lib/third_party/google/protobuf/util/json_format_pb2.py\n",
            "google-cloud-sdk/lib/third_party/google/protobuf/util/json_format_proto3_pb2.py\n",
            "google-cloud-sdk/lib/third_party/google/protobuf/wrappers_pb2.py\n",
            "google-cloud-sdk/lib/third_party/google/pubsub/LICENSE\n",
            "google-cloud-sdk/lib/third_party/google/pubsub/__init__.py\n",
            "google-cloud-sdk/lib/third_party/google/pubsub/py.typed\n",
            "google-cloud-sdk/lib/third_party/google/pubsub_v1/__init__.py\n",
            "google-cloud-sdk/lib/third_party/google/pubsub_v1/py.typed\n",
            "google-cloud-sdk/lib/third_party/google/pubsub_v1/services/__init__.py\n",
            "google-cloud-sdk/lib/third_party/google/pubsub_v1/services/publisher/__init__.py\n",
            "google-cloud-sdk/lib/third_party/google/pubsub_v1/services/publisher/async_client.py\n",
            "google-cloud-sdk/lib/third_party/google/pubsub_v1/services/publisher/client.py\n",
            "google-cloud-sdk/lib/third_party/google/pubsub_v1/services/publisher/pagers.py\n",
            "google-cloud-sdk/lib/third_party/google/pubsub_v1/services/publisher/transports/__init__.py\n",
            "google-cloud-sdk/lib/third_party/google/pubsub_v1/services/publisher/transports/base.py\n",
            "google-cloud-sdk/lib/third_party/google/pubsub_v1/services/publisher/transports/grpc.py\n",
            "google-cloud-sdk/lib/third_party/google/pubsub_v1/services/publisher/transports/grpc_asyncio.py\n",
            "google-cloud-sdk/lib/third_party/google/pubsub_v1/services/schema_service/__init__.py\n",
            "google-cloud-sdk/lib/third_party/google/pubsub_v1/services/schema_service/async_client.py\n",
            "google-cloud-sdk/lib/third_party/google/pubsub_v1/services/schema_service/client.py\n",
            "google-cloud-sdk/lib/third_party/google/pubsub_v1/services/schema_service/pagers.py\n",
            "google-cloud-sdk/lib/third_party/google/pubsub_v1/services/schema_service/transports/__init__.py\n",
            "google-cloud-sdk/lib/third_party/google/pubsub_v1/services/schema_service/transports/base.py\n",
            "google-cloud-sdk/lib/third_party/google/pubsub_v1/services/schema_service/transports/grpc.py\n",
            "google-cloud-sdk/lib/third_party/google/pubsub_v1/services/schema_service/transports/grpc_asyncio.py\n",
            "google-cloud-sdk/lib/third_party/google/pubsub_v1/services/subscriber/__init__.py\n",
            "google-cloud-sdk/lib/third_party/google/pubsub_v1/services/subscriber/async_client.py\n",
            "google-cloud-sdk/lib/third_party/google/pubsub_v1/services/subscriber/client.py\n",
            "google-cloud-sdk/lib/third_party/google/pubsub_v1/services/subscriber/pagers.py\n",
            "google-cloud-sdk/lib/third_party/google/pubsub_v1/services/subscriber/transports/__init__.py\n",
            "google-cloud-sdk/lib/third_party/google/pubsub_v1/services/subscriber/transports/base.py\n",
            "google-cloud-sdk/lib/third_party/google/pubsub_v1/services/subscriber/transports/grpc.py\n",
            "google-cloud-sdk/lib/third_party/google/pubsub_v1/services/subscriber/transports/grpc_asyncio.py\n",
            "google-cloud-sdk/lib/third_party/google/pubsub_v1/types/__init__.py\n",
            "google-cloud-sdk/lib/third_party/google/pubsub_v1/types/pubsub.py\n",
            "google-cloud-sdk/lib/third_party/google/pubsub_v1/types/schema.py\n",
            "google-cloud-sdk/lib/third_party/google/rpc/__init__.py\n",
            "google-cloud-sdk/lib/third_party/google/rpc/context/attribute_context_pb2.py\n",
            "google-cloud-sdk/lib/third_party/google/rpc/status.proto\n",
            "google-cloud-sdk/lib/third_party/google/rpc/status_pb2.py\n",
            "google-cloud-sdk/lib/third_party/google/rpc/status_pb2_grpc.py\n",
            "google-cloud-sdk/lib/third_party/google/type/expr_pb2.py\n",
            "google-cloud-sdk/lib/third_party/google/type/money_pb2.py\n",
            "google-cloud-sdk/lib/third_party/google_auth_httplib2/LICENSE\n",
            "google-cloud-sdk/lib/third_party/google_auth_httplib2/__init__.py\n",
            "google-cloud-sdk/lib/third_party/google_auth_oauthlib/LICENSE\n",
            "google-cloud-sdk/lib/third_party/google_auth_oauthlib/__init__.py\n",
            "google-cloud-sdk/lib/third_party/google_auth_oauthlib/flow.py\n",
            "google-cloud-sdk/lib/third_party/google_auth_oauthlib/helpers.py\n",
            "google-cloud-sdk/lib/third_party/google_auth_oauthlib/interactive.py\n",
            "google-cloud-sdk/lib/third_party/httplib2/LICENSE\n",
            "google-cloud-sdk/lib/third_party/httplib2/__init__.py\n",
            "google-cloud-sdk/lib/third_party/httplib2/python2/__init__.py\n",
            "google-cloud-sdk/lib/third_party/httplib2/python2/httplib2/__init__.py\n",
            "google-cloud-sdk/lib/third_party/httplib2/python2/httplib2/cacerts.txt\n",
            "google-cloud-sdk/lib/third_party/httplib2/python2/httplib2/certs.py\n",
            "google-cloud-sdk/lib/third_party/httplib2/python2/httplib2/iri2uri.py\n",
            "google-cloud-sdk/lib/third_party/httplib2/python2/httplib2/socks.py\n",
            "google-cloud-sdk/lib/third_party/httplib2/python3/__init__.py\n",
            "google-cloud-sdk/lib/third_party/httplib2/python3/httplib2/__init__.py\n",
            "google-cloud-sdk/lib/third_party/httplib2/python3/httplib2/cacerts.txt\n",
            "google-cloud-sdk/lib/third_party/httplib2/python3/httplib2/certs.py\n",
            "google-cloud-sdk/lib/third_party/httplib2/python3/httplib2/iri2uri.py\n",
            "google-cloud-sdk/lib/third_party/httplib2/python3/httplib2/socks.py\n",
            "google-cloud-sdk/lib/third_party/httplib2shim/LICENSE\n",
            "google-cloud-sdk/lib/third_party/httplib2shim/__init__.py\n",
            "google-cloud-sdk/lib/third_party/idna/LICENSE\n",
            "google-cloud-sdk/lib/third_party/idna/__init__.py\n",
            "google-cloud-sdk/lib/third_party/idna/codec.py\n",
            "google-cloud-sdk/lib/third_party/idna/compat.py\n",
            "google-cloud-sdk/lib/third_party/idna/core.py\n",
            "google-cloud-sdk/lib/third_party/idna/idnadata.py\n",
            "google-cloud-sdk/lib/third_party/idna/intranges.py\n",
            "google-cloud-sdk/lib/third_party/idna/package_data.py\n",
            "google-cloud-sdk/lib/third_party/idna/uts46data.py\n",
            "google-cloud-sdk/lib/third_party/ipaddr/LICENSE\n",
            "google-cloud-sdk/lib/third_party/ipaddr/__init__.py\n",
            "google-cloud-sdk/lib/third_party/ipaddress/LICENSE\n",
            "google-cloud-sdk/lib/third_party/ipaddress/__init__.py\n",
            "google-cloud-sdk/lib/third_party/jmespath/LICENSE\n",
            "google-cloud-sdk/lib/third_party/jmespath/__init__.py\n",
            "google-cloud-sdk/lib/third_party/jmespath/ast.py\n",
            "google-cloud-sdk/lib/third_party/jmespath/compat.py\n",
            "google-cloud-sdk/lib/third_party/jmespath/exceptions.py\n",
            "google-cloud-sdk/lib/third_party/jmespath/functions.py\n",
            "google-cloud-sdk/lib/third_party/jmespath/lexer.py\n",
            "google-cloud-sdk/lib/third_party/jmespath/parser.py\n",
            "google-cloud-sdk/lib/third_party/jmespath/visitor.py\n",
            "google-cloud-sdk/lib/third_party/jsonschema/LICENSE\n",
            "google-cloud-sdk/lib/third_party/jsonschema/__init__.py\n",
            "google-cloud-sdk/lib/third_party/jsonschema/__main__.py\n",
            "google-cloud-sdk/lib/third_party/jsonschema/_format.py\n",
            "google-cloud-sdk/lib/third_party/jsonschema/_reflect.py\n",
            "google-cloud-sdk/lib/third_party/jsonschema/_utils.py\n",
            "google-cloud-sdk/lib/third_party/jsonschema/_validators.py\n",
            "google-cloud-sdk/lib/third_party/jsonschema/_version.py\n",
            "google-cloud-sdk/lib/third_party/jsonschema/cli.py\n",
            "google-cloud-sdk/lib/third_party/jsonschema/compat.py\n",
            "google-cloud-sdk/lib/third_party/jsonschema/exceptions.py\n",
            "google-cloud-sdk/lib/third_party/jsonschema/schemas/draft3.json\n",
            "google-cloud-sdk/lib/third_party/jsonschema/schemas/draft4.json\n",
            "google-cloud-sdk/lib/third_party/jsonschema/validators.py\n",
            "google-cloud-sdk/lib/third_party/kubernetes/LICENSE\n",
            "google-cloud-sdk/lib/third_party/kubernetes/__init__.py\n",
            "google-cloud-sdk/lib/third_party/kubernetes/client/__init__.py\n",
            "google-cloud-sdk/lib/third_party/kubernetes/client/api_client.py\n",
            "google-cloud-sdk/lib/third_party/kubernetes/client/apis/__init__.py\n",
            "google-cloud-sdk/lib/third_party/kubernetes/client/apis/admissionregistration_api.py\n",
            "google-cloud-sdk/lib/third_party/kubernetes/client/apis/admissionregistration_v1beta1_api.py\n",
            "google-cloud-sdk/lib/third_party/kubernetes/client/apis/apiextensions_api.py\n",
            "google-cloud-sdk/lib/third_party/kubernetes/client/apis/apiextensions_v1beta1_api.py\n",
            "google-cloud-sdk/lib/third_party/kubernetes/client/apis/apiregistration_api.py\n",
            "google-cloud-sdk/lib/third_party/kubernetes/client/apis/apiregistration_v1_api.py\n",
            "google-cloud-sdk/lib/third_party/kubernetes/client/apis/apiregistration_v1beta1_api.py\n",
            "google-cloud-sdk/lib/third_party/kubernetes/client/apis/apis_api.py\n",
            "google-cloud-sdk/lib/third_party/kubernetes/client/apis/apps_api.py\n",
            "google-cloud-sdk/lib/third_party/kubernetes/client/apis/apps_v1_api.py\n",
            "google-cloud-sdk/lib/third_party/kubernetes/client/apis/apps_v1beta1_api.py\n",
            "google-cloud-sdk/lib/third_party/kubernetes/client/apis/apps_v1beta2_api.py\n",
            "google-cloud-sdk/lib/third_party/kubernetes/client/apis/auditregistration_api.py\n",
            "google-cloud-sdk/lib/third_party/kubernetes/client/apis/auditregistration_v1alpha1_api.py\n",
            "google-cloud-sdk/lib/third_party/kubernetes/client/apis/authentication_api.py\n",
            "google-cloud-sdk/lib/third_party/kubernetes/client/apis/authentication_v1_api.py\n",
            "google-cloud-sdk/lib/third_party/kubernetes/client/apis/authentication_v1beta1_api.py\n",
            "google-cloud-sdk/lib/third_party/kubernetes/client/apis/authorization_api.py\n",
            "google-cloud-sdk/lib/third_party/kubernetes/client/apis/authorization_v1_api.py\n",
            "google-cloud-sdk/lib/third_party/kubernetes/client/apis/authorization_v1beta1_api.py\n",
            "google-cloud-sdk/lib/third_party/kubernetes/client/apis/autoscaling_api.py\n",
            "google-cloud-sdk/lib/third_party/kubernetes/client/apis/autoscaling_v1_api.py\n",
            "google-cloud-sdk/lib/third_party/kubernetes/client/apis/autoscaling_v2beta1_api.py\n",
            "google-cloud-sdk/lib/third_party/kubernetes/client/apis/autoscaling_v2beta2_api.py\n",
            "google-cloud-sdk/lib/third_party/kubernetes/client/apis/batch_api.py\n",
            "google-cloud-sdk/lib/third_party/kubernetes/client/apis/batch_v1_api.py\n",
            "google-cloud-sdk/lib/third_party/kubernetes/client/apis/batch_v1beta1_api.py\n",
            "google-cloud-sdk/lib/third_party/kubernetes/client/apis/batch_v2alpha1_api.py\n",
            "google-cloud-sdk/lib/third_party/kubernetes/client/apis/certificates_api.py\n",
            "google-cloud-sdk/lib/third_party/kubernetes/client/apis/certificates_v1beta1_api.py\n",
            "google-cloud-sdk/lib/third_party/kubernetes/client/apis/coordination_api.py\n",
            "google-cloud-sdk/lib/third_party/kubernetes/client/apis/coordination_v1_api.py\n",
            "google-cloud-sdk/lib/third_party/kubernetes/client/apis/coordination_v1beta1_api.py\n",
            "google-cloud-sdk/lib/third_party/kubernetes/client/apis/core_api.py\n",
            "google-cloud-sdk/lib/third_party/kubernetes/client/apis/core_v1_api.py\n",
            "google-cloud-sdk/lib/third_party/kubernetes/client/apis/custom_objects_api.py\n",
            "google-cloud-sdk/lib/third_party/kubernetes/client/apis/events_api.py\n",
            "google-cloud-sdk/lib/third_party/kubernetes/client/apis/events_v1beta1_api.py\n",
            "google-cloud-sdk/lib/third_party/kubernetes/client/apis/extensions_api.py\n",
            "google-cloud-sdk/lib/third_party/kubernetes/client/apis/extensions_v1beta1_api.py\n",
            "google-cloud-sdk/lib/third_party/kubernetes/client/apis/logs_api.py\n",
            "google-cloud-sdk/lib/third_party/kubernetes/client/apis/networking_api.py\n",
            "google-cloud-sdk/lib/third_party/kubernetes/client/apis/networking_v1_api.py\n",
            "google-cloud-sdk/lib/third_party/kubernetes/client/apis/networking_v1beta1_api.py\n",
            "google-cloud-sdk/lib/third_party/kubernetes/client/apis/node_api.py\n",
            "google-cloud-sdk/lib/third_party/kubernetes/client/apis/node_v1alpha1_api.py\n",
            "google-cloud-sdk/lib/third_party/kubernetes/client/apis/node_v1beta1_api.py\n",
            "google-cloud-sdk/lib/third_party/kubernetes/client/apis/policy_api.py\n",
            "google-cloud-sdk/lib/third_party/kubernetes/client/apis/policy_v1beta1_api.py\n",
            "google-cloud-sdk/lib/third_party/kubernetes/client/apis/rbac_authorization_api.py\n",
            "google-cloud-sdk/lib/third_party/kubernetes/client/apis/rbac_authorization_v1_api.py\n",
            "google-cloud-sdk/lib/third_party/kubernetes/client/apis/rbac_authorization_v1alpha1_api.py\n",
            "google-cloud-sdk/lib/third_party/kubernetes/client/apis/rbac_authorization_v1beta1_api.py\n",
            "google-cloud-sdk/lib/third_party/kubernetes/client/apis/scheduling_api.py\n",
            "google-cloud-sdk/lib/third_party/kubernetes/client/apis/scheduling_v1_api.py\n",
            "google-cloud-sdk/lib/third_party/kubernetes/client/apis/scheduling_v1alpha1_api.py\n",
            "google-cloud-sdk/lib/third_party/kubernetes/client/apis/scheduling_v1beta1_api.py\n",
            "google-cloud-sdk/lib/third_party/kubernetes/client/apis/settings_api.py\n",
            "google-cloud-sdk/lib/third_party/kubernetes/client/apis/settings_v1alpha1_api.py\n",
            "google-cloud-sdk/lib/third_party/kubernetes/client/apis/storage_api.py\n",
            "google-cloud-sdk/lib/third_party/kubernetes/client/apis/storage_v1_api.py\n",
            "google-cloud-sdk/lib/third_party/kubernetes/client/apis/storage_v1alpha1_api.py\n",
            "google-cloud-sdk/lib/third_party/kubernetes/client/apis/storage_v1beta1_api.py\n",
            "google-cloud-sdk/lib/third_party/kubernetes/client/apis/version_api.py\n",
            "google-cloud-sdk/lib/third_party/kubernetes/client/configuration.py\n",
            "google-cloud-sdk/lib/third_party/kubernetes/client/models/__init__.py\n",
            "google-cloud-sdk/lib/third_party/kubernetes/client/models/admissionregistration_v1beta1_service_reference.py\n",
            "google-cloud-sdk/lib/third_party/kubernetes/client/models/admissionregistration_v1beta1_webhook_client_config.py\n",
            "google-cloud-sdk/lib/third_party/kubernetes/client/models/apiextensions_v1beta1_service_reference.py\n",
            "google-cloud-sdk/lib/third_party/kubernetes/client/models/apiextensions_v1beta1_webhook_client_config.py\n",
            "google-cloud-sdk/lib/third_party/kubernetes/client/models/apiregistration_v1beta1_service_reference.py\n",
            "google-cloud-sdk/lib/third_party/kubernetes/client/models/apps_v1beta1_deployment.py\n",
            "google-cloud-sdk/lib/third_party/kubernetes/client/models/apps_v1beta1_deployment_condition.py\n",
            "google-cloud-sdk/lib/third_party/kubernetes/client/models/apps_v1beta1_deployment_list.py\n",
            "google-cloud-sdk/lib/third_party/kubernetes/client/models/apps_v1beta1_deployment_rollback.py\n",
            "google-cloud-sdk/lib/third_party/kubernetes/client/models/apps_v1beta1_deployment_spec.py\n",
            "google-cloud-sdk/lib/third_party/kubernetes/client/models/apps_v1beta1_deployment_status.py\n",
            "google-cloud-sdk/lib/third_party/kubernetes/client/models/apps_v1beta1_deployment_strategy.py\n",
            "google-cloud-sdk/lib/third_party/kubernetes/client/models/apps_v1beta1_rollback_config.py\n",
            "google-cloud-sdk/lib/third_party/kubernetes/client/models/apps_v1beta1_rolling_update_deployment.py\n",
            "google-cloud-sdk/lib/third_party/kubernetes/client/models/apps_v1beta1_scale.py\n",
            "google-cloud-sdk/lib/third_party/kubernetes/client/models/apps_v1beta1_scale_spec.py\n",
            "google-cloud-sdk/lib/third_party/kubernetes/client/models/apps_v1beta1_scale_status.py\n",
            "google-cloud-sdk/lib/third_party/kubernetes/client/models/extensions_v1beta1_allowed_csi_driver.py\n",
            "google-cloud-sdk/lib/third_party/kubernetes/client/models/extensions_v1beta1_allowed_flex_volume.py\n",
            "google-cloud-sdk/lib/third_party/kubernetes/client/models/extensions_v1beta1_allowed_host_path.py\n",
            "google-cloud-sdk/lib/third_party/kubernetes/client/models/extensions_v1beta1_deployment.py\n",
            "google-cloud-sdk/lib/third_party/kubernetes/client/models/extensions_v1beta1_deployment_condition.py\n",
            "google-cloud-sdk/lib/third_party/kubernetes/client/models/extensions_v1beta1_deployment_list.py\n",
            "google-cloud-sdk/lib/third_party/kubernetes/client/models/extensions_v1beta1_deployment_rollback.py\n",
            "google-cloud-sdk/lib/third_party/kubernetes/client/models/extensions_v1beta1_deployment_spec.py\n",
            "google-cloud-sdk/lib/third_party/kubernetes/client/models/extensions_v1beta1_deployment_status.py\n",
            "google-cloud-sdk/lib/third_party/kubernetes/client/models/extensions_v1beta1_deployment_strategy.py\n",
            "google-cloud-sdk/lib/third_party/kubernetes/client/models/extensions_v1beta1_fs_group_strategy_options.py\n",
            "google-cloud-sdk/lib/third_party/kubernetes/client/models/extensions_v1beta1_host_port_range.py\n",
            "google-cloud-sdk/lib/third_party/kubernetes/client/models/extensions_v1beta1_http_ingress_path.py\n",
            "google-cloud-sdk/lib/third_party/kubernetes/client/models/extensions_v1beta1_http_ingress_rule_value.py\n",
            "google-cloud-sdk/lib/third_party/kubernetes/client/models/extensions_v1beta1_id_range.py\n",
            "google-cloud-sdk/lib/third_party/kubernetes/client/models/extensions_v1beta1_ingress.py\n",
            "google-cloud-sdk/lib/third_party/kubernetes/client/models/extensions_v1beta1_ingress_backend.py\n",
            "google-cloud-sdk/lib/third_party/kubernetes/client/models/extensions_v1beta1_ingress_list.py\n",
            "google-cloud-sdk/lib/third_party/kubernetes/client/models/extensions_v1beta1_ingress_rule.py\n",
            "google-cloud-sdk/lib/third_party/kubernetes/client/models/extensions_v1beta1_ingress_spec.py\n",
            "google-cloud-sdk/lib/third_party/kubernetes/client/models/extensions_v1beta1_ingress_status.py\n",
            "google-cloud-sdk/lib/third_party/kubernetes/client/models/extensions_v1beta1_ingress_tls.py\n",
            "google-cloud-sdk/lib/third_party/kubernetes/client/models/extensions_v1beta1_pod_security_policy.py\n",
            "google-cloud-sdk/lib/third_party/kubernetes/client/models/extensions_v1beta1_pod_security_policy_list.py\n",
            "google-cloud-sdk/lib/third_party/kubernetes/client/models/extensions_v1beta1_pod_security_policy_spec.py\n",
            "google-cloud-sdk/lib/third_party/kubernetes/client/models/extensions_v1beta1_rollback_config.py\n",
            "google-cloud-sdk/lib/third_party/kubernetes/client/models/extensions_v1beta1_rolling_update_deployment.py\n",
            "google-cloud-sdk/lib/third_party/kubernetes/client/models/extensions_v1beta1_run_as_group_strategy_options.py\n",
            "google-cloud-sdk/lib/third_party/kubernetes/client/models/extensions_v1beta1_run_as_user_strategy_options.py\n",
            "google-cloud-sdk/lib/third_party/kubernetes/client/models/extensions_v1beta1_scale.py\n",
            "google-cloud-sdk/lib/third_party/kubernetes/client/models/extensions_v1beta1_scale_spec.py\n",
            "google-cloud-sdk/lib/third_party/kubernetes/client/models/extensions_v1beta1_scale_status.py\n",
            "google-cloud-sdk/lib/third_party/kubernetes/client/models/extensions_v1beta1_se_linux_strategy_options.py\n",
            "google-cloud-sdk/lib/third_party/kubernetes/client/models/extensions_v1beta1_supplemental_groups_strategy_options.py\n",
            "google-cloud-sdk/lib/third_party/kubernetes/client/models/networking_v1beta1_http_ingress_path.py\n",
            "google-cloud-sdk/lib/third_party/kubernetes/client/models/networking_v1beta1_http_ingress_rule_value.py\n",
            "google-cloud-sdk/lib/third_party/kubernetes/client/models/networking_v1beta1_ingress.py\n",
            "google-cloud-sdk/lib/third_party/kubernetes/client/models/networking_v1beta1_ingress_backend.py\n",
            "google-cloud-sdk/lib/third_party/kubernetes/client/models/networking_v1beta1_ingress_list.py\n",
            "google-cloud-sdk/lib/third_party/kubernetes/client/models/networking_v1beta1_ingress_rule.py\n",
            "google-cloud-sdk/lib/third_party/kubernetes/client/models/networking_v1beta1_ingress_spec.py\n",
            "google-cloud-sdk/lib/third_party/kubernetes/client/models/networking_v1beta1_ingress_status.py\n",
            "google-cloud-sdk/lib/third_party/kubernetes/client/models/networking_v1beta1_ingress_tls.py\n",
            "google-cloud-sdk/lib/third_party/kubernetes/client/models/policy_v1beta1_allowed_csi_driver.py\n",
            "google-cloud-sdk/lib/third_party/kubernetes/client/models/policy_v1beta1_allowed_flex_volume.py\n",
            "google-cloud-sdk/lib/third_party/kubernetes/client/models/policy_v1beta1_allowed_host_path.py\n",
            "google-cloud-sdk/lib/third_party/kubernetes/client/models/policy_v1beta1_fs_group_strategy_options.py\n",
            "google-cloud-sdk/lib/third_party/kubernetes/client/models/policy_v1beta1_host_port_range.py\n",
            "google-cloud-sdk/lib/third_party/kubernetes/client/models/policy_v1beta1_id_range.py\n",
            "google-cloud-sdk/lib/third_party/kubernetes/client/models/policy_v1beta1_pod_security_policy.py\n",
            "google-cloud-sdk/lib/third_party/kubernetes/client/models/policy_v1beta1_pod_security_policy_list.py\n",
            "google-cloud-sdk/lib/third_party/kubernetes/client/models/policy_v1beta1_pod_security_policy_spec.py\n",
            "google-cloud-sdk/lib/third_party/kubernetes/client/models/policy_v1beta1_run_as_group_strategy_options.py\n",
            "google-cloud-sdk/lib/third_party/kubernetes/client/models/policy_v1beta1_run_as_user_strategy_options.py\n",
            "google-cloud-sdk/lib/third_party/kubernetes/client/models/policy_v1beta1_se_linux_strategy_options.py\n",
            "google-cloud-sdk/lib/third_party/kubernetes/client/models/policy_v1beta1_supplemental_groups_strategy_options.py\n",
            "google-cloud-sdk/lib/third_party/kubernetes/client/models/runtime_raw_extension.py\n",
            "google-cloud-sdk/lib/third_party/kubernetes/client/models/v1_affinity.py\n",
            "google-cloud-sdk/lib/third_party/kubernetes/client/models/v1_aggregation_rule.py\n",
            "google-cloud-sdk/lib/third_party/kubernetes/client/models/v1_api_group.py\n",
            "google-cloud-sdk/lib/third_party/kubernetes/client/models/v1_api_group_list.py\n",
            "google-cloud-sdk/lib/third_party/kubernetes/client/models/v1_api_resource.py\n",
            "google-cloud-sdk/lib/third_party/kubernetes/client/models/v1_api_resource_list.py\n",
            "google-cloud-sdk/lib/third_party/kubernetes/client/models/v1_api_service.py\n",
            "google-cloud-sdk/lib/third_party/kubernetes/client/models/v1_api_service_condition.py\n",
            "google-cloud-sdk/lib/third_party/kubernetes/client/models/v1_api_service_list.py\n",
            "google-cloud-sdk/lib/third_party/kubernetes/client/models/v1_api_service_spec.py\n",
            "google-cloud-sdk/lib/third_party/kubernetes/client/models/v1_api_service_status.py\n",
            "google-cloud-sdk/lib/third_party/kubernetes/client/models/v1_api_versions.py\n",
            "google-cloud-sdk/lib/third_party/kubernetes/client/models/v1_attached_volume.py\n",
            "google-cloud-sdk/lib/third_party/kubernetes/client/models/v1_aws_elastic_block_store_volume_source.py\n",
            "google-cloud-sdk/lib/third_party/kubernetes/client/models/v1_azure_disk_volume_source.py\n",
            "google-cloud-sdk/lib/third_party/kubernetes/client/models/v1_azure_file_persistent_volume_source.py\n",
            "google-cloud-sdk/lib/third_party/kubernetes/client/models/v1_azure_file_volume_source.py\n",
            "google-cloud-sdk/lib/third_party/kubernetes/client/models/v1_binding.py\n",
            "google-cloud-sdk/lib/third_party/kubernetes/client/models/v1_capabilities.py\n",
            "google-cloud-sdk/lib/third_party/kubernetes/client/models/v1_ceph_fs_persistent_volume_source.py\n",
            "google-cloud-sdk/lib/third_party/kubernetes/client/models/v1_ceph_fs_volume_source.py\n",
            "google-cloud-sdk/lib/third_party/kubernetes/client/models/v1_cinder_persistent_volume_source.py\n",
            "google-cloud-sdk/lib/third_party/kubernetes/client/models/v1_cinder_volume_source.py\n",
            "google-cloud-sdk/lib/third_party/kubernetes/client/models/v1_client_ip_config.py\n",
            "google-cloud-sdk/lib/third_party/kubernetes/client/models/v1_cluster_role.py\n",
            "google-cloud-sdk/lib/third_party/kubernetes/client/models/v1_cluster_role_binding.py\n",
            "google-cloud-sdk/lib/third_party/kubernetes/client/models/v1_cluster_role_binding_list.py\n",
            "google-cloud-sdk/lib/third_party/kubernetes/client/models/v1_cluster_role_list.py\n",
            "google-cloud-sdk/lib/third_party/kubernetes/client/models/v1_component_condition.py\n",
            "google-cloud-sdk/lib/third_party/kubernetes/client/models/v1_component_status.py\n",
            "google-cloud-sdk/lib/third_party/kubernetes/client/models/v1_component_status_list.py\n",
            "google-cloud-sdk/lib/third_party/kubernetes/client/models/v1_config_map.py\n",
            "google-cloud-sdk/lib/third_party/kubernetes/client/models/v1_config_map_env_source.py\n",
            "google-cloud-sdk/lib/third_party/kubernetes/client/models/v1_config_map_key_selector.py\n",
            "google-cloud-sdk/lib/third_party/kubernetes/client/models/v1_config_map_list.py\n",
            "google-cloud-sdk/lib/third_party/kubernetes/client/models/v1_config_map_node_config_source.py\n",
            "google-cloud-sdk/lib/third_party/kubernetes/client/models/v1_config_map_projection.py\n",
            "google-cloud-sdk/lib/third_party/kubernetes/client/models/v1_config_map_volume_source.py\n",
            "google-cloud-sdk/lib/third_party/kubernetes/client/models/v1_container.py\n",
            "google-cloud-sdk/lib/third_party/kubernetes/client/models/v1_container_image.py\n",
            "google-cloud-sdk/lib/third_party/kubernetes/client/models/v1_container_port.py\n",
            "google-cloud-sdk/lib/third_party/kubernetes/client/models/v1_container_state.py\n",
            "google-cloud-sdk/lib/third_party/kubernetes/client/models/v1_container_state_running.py\n",
            "google-cloud-sdk/lib/third_party/kubernetes/client/models/v1_container_state_terminated.py\n",
            "google-cloud-sdk/lib/third_party/kubernetes/client/models/v1_container_state_waiting.py\n",
            "google-cloud-sdk/lib/third_party/kubernetes/client/models/v1_container_status.py\n",
            "google-cloud-sdk/lib/third_party/kubernetes/client/models/v1_controller_revision.py\n",
            "google-cloud-sdk/lib/third_party/kubernetes/client/models/v1_controller_revision_list.py\n",
            "google-cloud-sdk/lib/third_party/kubernetes/client/models/v1_cross_version_object_reference.py\n",
            "google-cloud-sdk/lib/third_party/kubernetes/client/models/v1_csi_persistent_volume_source.py\n",
            "google-cloud-sdk/lib/third_party/kubernetes/client/models/v1_csi_volume_source.py\n",
            "google-cloud-sdk/lib/third_party/kubernetes/client/models/v1_daemon_endpoint.py\n",
            "google-cloud-sdk/lib/third_party/kubernetes/client/models/v1_daemon_set.py\n",
            "google-cloud-sdk/lib/third_party/kubernetes/client/models/v1_daemon_set_condition.py\n",
            "google-cloud-sdk/lib/third_party/kubernetes/client/models/v1_daemon_set_list.py\n",
            "google-cloud-sdk/lib/third_party/kubernetes/client/models/v1_daemon_set_spec.py\n",
            "google-cloud-sdk/lib/third_party/kubernetes/client/models/v1_daemon_set_status.py\n",
            "google-cloud-sdk/lib/third_party/kubernetes/client/models/v1_daemon_set_update_strategy.py\n",
            "google-cloud-sdk/lib/third_party/kubernetes/client/models/v1_delete_options.py\n",
            "google-cloud-sdk/lib/third_party/kubernetes/client/models/v1_deployment.py\n",
            "google-cloud-sdk/lib/third_party/kubernetes/client/models/v1_deployment_condition.py\n",
            "google-cloud-sdk/lib/third_party/kubernetes/client/models/v1_deployment_list.py\n",
            "google-cloud-sdk/lib/third_party/kubernetes/client/models/v1_deployment_spec.py\n",
            "google-cloud-sdk/lib/third_party/kubernetes/client/models/v1_deployment_status.py\n",
            "google-cloud-sdk/lib/third_party/kubernetes/client/models/v1_deployment_strategy.py\n",
            "google-cloud-sdk/lib/third_party/kubernetes/client/models/v1_downward_api_projection.py\n",
            "google-cloud-sdk/lib/third_party/kubernetes/client/models/v1_downward_api_volume_file.py\n",
            "google-cloud-sdk/lib/third_party/kubernetes/client/models/v1_downward_api_volume_source.py\n",
            "google-cloud-sdk/lib/third_party/kubernetes/client/models/v1_empty_dir_volume_source.py\n",
            "google-cloud-sdk/lib/third_party/kubernetes/client/models/v1_endpoint_address.py\n",
            "google-cloud-sdk/lib/third_party/kubernetes/client/models/v1_endpoint_port.py\n",
            "google-cloud-sdk/lib/third_party/kubernetes/client/models/v1_endpoint_subset.py\n",
            "google-cloud-sdk/lib/third_party/kubernetes/client/models/v1_endpoints.py\n",
            "google-cloud-sdk/lib/third_party/kubernetes/client/models/v1_endpoints_list.py\n",
            "google-cloud-sdk/lib/third_party/kubernetes/client/models/v1_env_from_source.py\n",
            "google-cloud-sdk/lib/third_party/kubernetes/client/models/v1_env_var.py\n",
            "google-cloud-sdk/lib/third_party/kubernetes/client/models/v1_env_var_source.py\n",
            "google-cloud-sdk/lib/third_party/kubernetes/client/models/v1_event.py\n",
            "google-cloud-sdk/lib/third_party/kubernetes/client/models/v1_event_list.py\n",
            "google-cloud-sdk/lib/third_party/kubernetes/client/models/v1_event_series.py\n",
            "google-cloud-sdk/lib/third_party/kubernetes/client/models/v1_event_source.py\n",
            "google-cloud-sdk/lib/third_party/kubernetes/client/models/v1_exec_action.py\n",
            "google-cloud-sdk/lib/third_party/kubernetes/client/models/v1_fc_volume_source.py\n",
            "google-cloud-sdk/lib/third_party/kubernetes/client/models/v1_flex_persistent_volume_source.py\n",
            "google-cloud-sdk/lib/third_party/kubernetes/client/models/v1_flex_volume_source.py\n",
            "google-cloud-sdk/lib/third_party/kubernetes/client/models/v1_flocker_volume_source.py\n",
            "google-cloud-sdk/lib/third_party/kubernetes/client/models/v1_gce_persistent_disk_volume_source.py\n",
            "google-cloud-sdk/lib/third_party/kubernetes/client/models/v1_git_repo_volume_source.py\n",
            "google-cloud-sdk/lib/third_party/kubernetes/client/models/v1_glusterfs_persistent_volume_source.py\n",
            "google-cloud-sdk/lib/third_party/kubernetes/client/models/v1_glusterfs_volume_source.py\n",
            "google-cloud-sdk/lib/third_party/kubernetes/client/models/v1_group_version_for_discovery.py\n",
            "google-cloud-sdk/lib/third_party/kubernetes/client/models/v1_handler.py\n",
            "google-cloud-sdk/lib/third_party/kubernetes/client/models/v1_horizontal_pod_autoscaler.py\n",
            "google-cloud-sdk/lib/third_party/kubernetes/client/models/v1_horizontal_pod_autoscaler_list.py\n",
            "google-cloud-sdk/lib/third_party/kubernetes/client/models/v1_horizontal_pod_autoscaler_spec.py\n",
            "google-cloud-sdk/lib/third_party/kubernetes/client/models/v1_horizontal_pod_autoscaler_status.py\n",
            "google-cloud-sdk/lib/third_party/kubernetes/client/models/v1_host_alias.py\n",
            "google-cloud-sdk/lib/third_party/kubernetes/client/models/v1_host_path_volume_source.py\n",
            "google-cloud-sdk/lib/third_party/kubernetes/client/models/v1_http_get_action.py\n",
            "google-cloud-sdk/lib/third_party/kubernetes/client/models/v1_http_header.py\n",
            "google-cloud-sdk/lib/third_party/kubernetes/client/models/v1_initializer.py\n",
            "google-cloud-sdk/lib/third_party/kubernetes/client/models/v1_initializers.py\n",
            "google-cloud-sdk/lib/third_party/kubernetes/client/models/v1_ip_block.py\n",
            "google-cloud-sdk/lib/third_party/kubernetes/client/models/v1_iscsi_persistent_volume_source.py\n",
            "google-cloud-sdk/lib/third_party/kubernetes/client/models/v1_iscsi_volume_source.py\n",
            "google-cloud-sdk/lib/third_party/kubernetes/client/models/v1_job.py\n",
            "google-cloud-sdk/lib/third_party/kubernetes/client/models/v1_job_condition.py\n",
            "google-cloud-sdk/lib/third_party/kubernetes/client/models/v1_job_list.py\n",
            "google-cloud-sdk/lib/third_party/kubernetes/client/models/v1_job_spec.py\n",
            "google-cloud-sdk/lib/third_party/kubernetes/client/models/v1_job_status.py\n",
            "google-cloud-sdk/lib/third_party/kubernetes/client/models/v1_key_to_path.py\n",
            "google-cloud-sdk/lib/third_party/kubernetes/client/models/v1_label_selector.py\n",
            "google-cloud-sdk/lib/third_party/kubernetes/client/models/v1_label_selector_requirement.py\n",
            "google-cloud-sdk/lib/third_party/kubernetes/client/models/v1_lease.py\n",
            "google-cloud-sdk/lib/third_party/kubernetes/client/models/v1_lease_list.py\n",
            "google-cloud-sdk/lib/third_party/kubernetes/client/models/v1_lease_spec.py\n",
            "google-cloud-sdk/lib/third_party/kubernetes/client/models/v1_lifecycle.py\n",
            "google-cloud-sdk/lib/third_party/kubernetes/client/models/v1_limit_range.py\n",
            "google-cloud-sdk/lib/third_party/kubernetes/client/models/v1_limit_range_item.py\n",
            "google-cloud-sdk/lib/third_party/kubernetes/client/models/v1_limit_range_list.py\n",
            "google-cloud-sdk/lib/third_party/kubernetes/client/models/v1_limit_range_spec.py\n",
            "google-cloud-sdk/lib/third_party/kubernetes/client/models/v1_list_meta.py\n",
            "google-cloud-sdk/lib/third_party/kubernetes/client/models/v1_load_balancer_ingress.py\n",
            "google-cloud-sdk/lib/third_party/kubernetes/client/models/v1_load_balancer_status.py\n",
            "google-cloud-sdk/lib/third_party/kubernetes/client/models/v1_local_object_reference.py\n",
            "google-cloud-sdk/lib/third_party/kubernetes/client/models/v1_local_subject_access_review.py\n",
            "google-cloud-sdk/lib/third_party/kubernetes/client/models/v1_local_volume_source.py\n",
            "google-cloud-sdk/lib/third_party/kubernetes/client/models/v1_managed_fields_entry.py\n",
            "google-cloud-sdk/lib/third_party/kubernetes/client/models/v1_namespace.py\n",
            "google-cloud-sdk/lib/third_party/kubernetes/client/models/v1_namespace_list.py\n",
            "google-cloud-sdk/lib/third_party/kubernetes/client/models/v1_namespace_spec.py\n",
            "google-cloud-sdk/lib/third_party/kubernetes/client/models/v1_namespace_status.py\n",
            "google-cloud-sdk/lib/third_party/kubernetes/client/models/v1_network_policy.py\n",
            "google-cloud-sdk/lib/third_party/kubernetes/client/models/v1_network_policy_egress_rule.py\n",
            "google-cloud-sdk/lib/third_party/kubernetes/client/models/v1_network_policy_ingress_rule.py\n",
            "google-cloud-sdk/lib/third_party/kubernetes/client/models/v1_network_policy_list.py\n",
            "google-cloud-sdk/lib/third_party/kubernetes/client/models/v1_network_policy_peer.py\n",
            "google-cloud-sdk/lib/third_party/kubernetes/client/models/v1_network_policy_port.py\n",
            "google-cloud-sdk/lib/third_party/kubernetes/client/models/v1_network_policy_spec.py\n",
            "google-cloud-sdk/lib/third_party/kubernetes/client/models/v1_nfs_volume_source.py\n",
            "google-cloud-sdk/lib/third_party/kubernetes/client/models/v1_node.py\n",
            "google-cloud-sdk/lib/third_party/kubernetes/client/models/v1_node_address.py\n",
            "google-cloud-sdk/lib/third_party/kubernetes/client/models/v1_node_affinity.py\n",
            "google-cloud-sdk/lib/third_party/kubernetes/client/models/v1_node_condition.py\n",
            "google-cloud-sdk/lib/third_party/kubernetes/client/models/v1_node_config_source.py\n",
            "google-cloud-sdk/lib/third_party/kubernetes/client/models/v1_node_config_status.py\n",
            "google-cloud-sdk/lib/third_party/kubernetes/client/models/v1_node_daemon_endpoints.py\n",
            "google-cloud-sdk/lib/third_party/kubernetes/client/models/v1_node_list.py\n",
            "google-cloud-sdk/lib/third_party/kubernetes/client/models/v1_node_selector.py\n",
            "google-cloud-sdk/lib/third_party/kubernetes/client/models/v1_node_selector_requirement.py\n",
            "google-cloud-sdk/lib/third_party/kubernetes/client/models/v1_node_selector_term.py\n",
            "google-cloud-sdk/lib/third_party/kubernetes/client/models/v1_node_spec.py\n",
            "google-cloud-sdk/lib/third_party/kubernetes/client/models/v1_node_status.py\n",
            "google-cloud-sdk/lib/third_party/kubernetes/client/models/v1_node_system_info.py\n",
            "google-cloud-sdk/lib/third_party/kubernetes/client/models/v1_non_resource_attributes.py\n",
            "google-cloud-sdk/lib/third_party/kubernetes/client/models/v1_non_resource_rule.py\n",
            "google-cloud-sdk/lib/third_party/kubernetes/client/models/v1_object_field_selector.py\n",
            "google-cloud-sdk/lib/third_party/kubernetes/client/models/v1_object_meta.py\n",
            "google-cloud-sdk/lib/third_party/kubernetes/client/models/v1_object_reference.py\n",
            "google-cloud-sdk/lib/third_party/kubernetes/client/models/v1_owner_reference.py\n",
            "google-cloud-sdk/lib/third_party/kubernetes/client/models/v1_persistent_volume.py\n",
            "google-cloud-sdk/lib/third_party/kubernetes/client/models/v1_persistent_volume_claim.py\n",
            "google-cloud-sdk/lib/third_party/kubernetes/client/models/v1_persistent_volume_claim_condition.py\n",
            "google-cloud-sdk/lib/third_party/kubernetes/client/models/v1_persistent_volume_claim_list.py\n",
            "google-cloud-sdk/lib/third_party/kubernetes/client/models/v1_persistent_volume_claim_spec.py\n",
            "google-cloud-sdk/lib/third_party/kubernetes/client/models/v1_persistent_volume_claim_status.py\n",
            "google-cloud-sdk/lib/third_party/kubernetes/client/models/v1_persistent_volume_claim_volume_source.py\n",
            "google-cloud-sdk/lib/third_party/kubernetes/client/models/v1_persistent_volume_list.py\n",
            "google-cloud-sdk/lib/third_party/kubernetes/client/models/v1_persistent_volume_spec.py\n",
            "google-cloud-sdk/lib/third_party/kubernetes/client/models/v1_persistent_volume_status.py\n",
            "google-cloud-sdk/lib/third_party/kubernetes/client/models/v1_photon_persistent_disk_volume_source.py\n",
            "google-cloud-sdk/lib/third_party/kubernetes/client/models/v1_pod.py\n",
            "google-cloud-sdk/lib/third_party/kubernetes/client/models/v1_pod_affinity.py\n",
            "google-cloud-sdk/lib/third_party/kubernetes/client/models/v1_pod_affinity_term.py\n",
            "google-cloud-sdk/lib/third_party/kubernetes/client/models/v1_pod_anti_affinity.py\n",
            "google-cloud-sdk/lib/third_party/kubernetes/client/models/v1_pod_condition.py\n",
            "google-cloud-sdk/lib/third_party/kubernetes/client/models/v1_pod_dns_config.py\n",
            "google-cloud-sdk/lib/third_party/kubernetes/client/models/v1_pod_dns_config_option.py\n",
            "google-cloud-sdk/lib/third_party/kubernetes/client/models/v1_pod_list.py\n",
            "google-cloud-sdk/lib/third_party/kubernetes/client/models/v1_pod_readiness_gate.py\n",
            "google-cloud-sdk/lib/third_party/kubernetes/client/models/v1_pod_security_context.py\n",
            "google-cloud-sdk/lib/third_party/kubernetes/client/models/v1_pod_spec.py\n",
            "google-cloud-sdk/lib/third_party/kubernetes/client/models/v1_pod_status.py\n",
            "google-cloud-sdk/lib/third_party/kubernetes/client/models/v1_pod_template.py\n",
            "google-cloud-sdk/lib/third_party/kubernetes/client/models/v1_pod_template_list.py\n",
            "google-cloud-sdk/lib/third_party/kubernetes/client/models/v1_pod_template_spec.py\n",
            "google-cloud-sdk/lib/third_party/kubernetes/client/models/v1_policy_rule.py\n",
            "google-cloud-sdk/lib/third_party/kubernetes/client/models/v1_portworx_volume_source.py\n",
            "google-cloud-sdk/lib/third_party/kubernetes/client/models/v1_preconditions.py\n",
            "google-cloud-sdk/lib/third_party/kubernetes/client/models/v1_preferred_scheduling_term.py\n",
            "google-cloud-sdk/lib/third_party/kubernetes/client/models/v1_priority_class.py\n",
            "google-cloud-sdk/lib/third_party/kubernetes/client/models/v1_priority_class_list.py\n",
            "google-cloud-sdk/lib/third_party/kubernetes/client/models/v1_probe.py\n",
            "google-cloud-sdk/lib/third_party/kubernetes/client/models/v1_projected_volume_source.py\n",
            "google-cloud-sdk/lib/third_party/kubernetes/client/models/v1_quobyte_volume_source.py\n",
            "google-cloud-sdk/lib/third_party/kubernetes/client/models/v1_rbd_persistent_volume_source.py\n",
            "google-cloud-sdk/lib/third_party/kubernetes/client/models/v1_rbd_volume_source.py\n",
            "google-cloud-sdk/lib/third_party/kubernetes/client/models/v1_replica_set.py\n",
            "google-cloud-sdk/lib/third_party/kubernetes/client/models/v1_replica_set_condition.py\n",
            "google-cloud-sdk/lib/third_party/kubernetes/client/models/v1_replica_set_list.py\n",
            "google-cloud-sdk/lib/third_party/kubernetes/client/models/v1_replica_set_spec.py\n",
            "google-cloud-sdk/lib/third_party/kubernetes/client/models/v1_replica_set_status.py\n",
            "google-cloud-sdk/lib/third_party/kubernetes/client/models/v1_replication_controller.py\n",
            "google-cloud-sdk/lib/third_party/kubernetes/client/models/v1_replication_controller_condition.py\n",
            "google-cloud-sdk/lib/third_party/kubernetes/client/models/v1_replication_controller_list.py\n",
            "google-cloud-sdk/lib/third_party/kubernetes/client/models/v1_replication_controller_spec.py\n",
            "google-cloud-sdk/lib/third_party/kubernetes/client/models/v1_replication_controller_status.py\n",
            "google-cloud-sdk/lib/third_party/kubernetes/client/models/v1_resource_attributes.py\n",
            "google-cloud-sdk/lib/third_party/kubernetes/client/models/v1_resource_field_selector.py\n",
            "google-cloud-sdk/lib/third_party/kubernetes/client/models/v1_resource_quota.py\n",
            "google-cloud-sdk/lib/third_party/kubernetes/client/models/v1_resource_quota_list.py\n",
            "google-cloud-sdk/lib/third_party/kubernetes/client/models/v1_resource_quota_spec.py\n",
            "google-cloud-sdk/lib/third_party/kubernetes/client/models/v1_resource_quota_status.py\n",
            "google-cloud-sdk/lib/third_party/kubernetes/client/models/v1_resource_requirements.py\n",
            "google-cloud-sdk/lib/third_party/kubernetes/client/models/v1_resource_rule.py\n",
            "google-cloud-sdk/lib/third_party/kubernetes/client/models/v1_role.py\n",
            "google-cloud-sdk/lib/third_party/kubernetes/client/models/v1_role_binding.py\n",
            "google-cloud-sdk/lib/third_party/kubernetes/client/models/v1_role_binding_list.py\n",
            "google-cloud-sdk/lib/third_party/kubernetes/client/models/v1_role_list.py\n",
            "google-cloud-sdk/lib/third_party/kubernetes/client/models/v1_role_ref.py\n",
            "google-cloud-sdk/lib/third_party/kubernetes/client/models/v1_rolling_update_daemon_set.py\n",
            "google-cloud-sdk/lib/third_party/kubernetes/client/models/v1_rolling_update_deployment.py\n",
            "google-cloud-sdk/lib/third_party/kubernetes/client/models/v1_rolling_update_stateful_set_strategy.py\n",
            "google-cloud-sdk/lib/third_party/kubernetes/client/models/v1_scale.py\n",
            "google-cloud-sdk/lib/third_party/kubernetes/client/models/v1_scale_io_persistent_volume_source.py\n",
            "google-cloud-sdk/lib/third_party/kubernetes/client/models/v1_scale_io_volume_source.py\n",
            "google-cloud-sdk/lib/third_party/kubernetes/client/models/v1_scale_spec.py\n",
            "google-cloud-sdk/lib/third_party/kubernetes/client/models/v1_scale_status.py\n",
            "google-cloud-sdk/lib/third_party/kubernetes/client/models/v1_scope_selector.py\n",
            "google-cloud-sdk/lib/third_party/kubernetes/client/models/v1_scoped_resource_selector_requirement.py\n",
            "google-cloud-sdk/lib/third_party/kubernetes/client/models/v1_se_linux_options.py\n",
            "google-cloud-sdk/lib/third_party/kubernetes/client/models/v1_secret.py\n",
            "google-cloud-sdk/lib/third_party/kubernetes/client/models/v1_secret_env_source.py\n",
            "google-cloud-sdk/lib/third_party/kubernetes/client/models/v1_secret_key_selector.py\n",
            "google-cloud-sdk/lib/third_party/kubernetes/client/models/v1_secret_list.py\n",
            "google-cloud-sdk/lib/third_party/kubernetes/client/models/v1_secret_projection.py\n",
            "google-cloud-sdk/lib/third_party/kubernetes/client/models/v1_secret_reference.py\n",
            "google-cloud-sdk/lib/third_party/kubernetes/client/models/v1_secret_volume_source.py\n",
            "google-cloud-sdk/lib/third_party/kubernetes/client/models/v1_security_context.py\n",
            "google-cloud-sdk/lib/third_party/kubernetes/client/models/v1_self_subject_access_review.py\n",
            "google-cloud-sdk/lib/third_party/kubernetes/client/models/v1_self_subject_access_review_spec.py\n",
            "google-cloud-sdk/lib/third_party/kubernetes/client/models/v1_self_subject_rules_review.py\n",
            "google-cloud-sdk/lib/third_party/kubernetes/client/models/v1_self_subject_rules_review_spec.py\n",
            "google-cloud-sdk/lib/third_party/kubernetes/client/models/v1_server_address_by_client_cidr.py\n",
            "google-cloud-sdk/lib/third_party/kubernetes/client/models/v1_service.py\n",
            "google-cloud-sdk/lib/third_party/kubernetes/client/models/v1_service_account.py\n",
            "google-cloud-sdk/lib/third_party/kubernetes/client/models/v1_service_account_list.py\n",
            "google-cloud-sdk/lib/third_party/kubernetes/client/models/v1_service_account_token_projection.py\n",
            "google-cloud-sdk/lib/third_party/kubernetes/client/models/v1_service_list.py\n",
            "google-cloud-sdk/lib/third_party/kubernetes/client/models/v1_service_port.py\n",
            "google-cloud-sdk/lib/third_party/kubernetes/client/models/v1_service_reference.py\n",
            "google-cloud-sdk/lib/third_party/kubernetes/client/models/v1_service_spec.py\n",
            "google-cloud-sdk/lib/third_party/kubernetes/client/models/v1_service_status.py\n",
            "google-cloud-sdk/lib/third_party/kubernetes/client/models/v1_session_affinity_config.py\n",
            "google-cloud-sdk/lib/third_party/kubernetes/client/models/v1_stateful_set.py\n",
            "google-cloud-sdk/lib/third_party/kubernetes/client/models/v1_stateful_set_condition.py\n",
            "google-cloud-sdk/lib/third_party/kubernetes/client/models/v1_stateful_set_list.py\n",
            "google-cloud-sdk/lib/third_party/kubernetes/client/models/v1_stateful_set_spec.py\n",
            "google-cloud-sdk/lib/third_party/kubernetes/client/models/v1_stateful_set_status.py\n",
            "google-cloud-sdk/lib/third_party/kubernetes/client/models/v1_stateful_set_update_strategy.py\n",
            "google-cloud-sdk/lib/third_party/kubernetes/client/models/v1_status.py\n",
            "google-cloud-sdk/lib/third_party/kubernetes/client/models/v1_status_cause.py\n",
            "google-cloud-sdk/lib/third_party/kubernetes/client/models/v1_status_details.py\n",
            "google-cloud-sdk/lib/third_party/kubernetes/client/models/v1_storage_class.py\n",
            "google-cloud-sdk/lib/third_party/kubernetes/client/models/v1_storage_class_list.py\n",
            "google-cloud-sdk/lib/third_party/kubernetes/client/models/v1_storage_os_persistent_volume_source.py\n",
            "google-cloud-sdk/lib/third_party/kubernetes/client/models/v1_storage_os_volume_source.py\n",
            "google-cloud-sdk/lib/third_party/kubernetes/client/models/v1_subject.py\n",
            "google-cloud-sdk/lib/third_party/kubernetes/client/models/v1_subject_access_review.py\n",
            "google-cloud-sdk/lib/third_party/kubernetes/client/models/v1_subject_access_review_spec.py\n",
            "google-cloud-sdk/lib/third_party/kubernetes/client/models/v1_subject_access_review_status.py\n",
            "google-cloud-sdk/lib/third_party/kubernetes/client/models/v1_subject_rules_review_status.py\n",
            "google-cloud-sdk/lib/third_party/kubernetes/client/models/v1_sysctl.py\n",
            "google-cloud-sdk/lib/third_party/kubernetes/client/models/v1_taint.py\n",
            "google-cloud-sdk/lib/third_party/kubernetes/client/models/v1_tcp_socket_action.py\n",
            "google-cloud-sdk/lib/third_party/kubernetes/client/models/v1_token_review.py\n",
            "google-cloud-sdk/lib/third_party/kubernetes/client/models/v1_token_review_spec.py\n",
            "google-cloud-sdk/lib/third_party/kubernetes/client/models/v1_token_review_status.py\n",
            "google-cloud-sdk/lib/third_party/kubernetes/client/models/v1_toleration.py\n",
            "google-cloud-sdk/lib/third_party/kubernetes/client/models/v1_topology_selector_label_requirement.py\n",
            "google-cloud-sdk/lib/third_party/kubernetes/client/models/v1_topology_selector_term.py\n",
            "google-cloud-sdk/lib/third_party/kubernetes/client/models/v1_typed_local_object_reference.py\n",
            "google-cloud-sdk/lib/third_party/kubernetes/client/models/v1_user_info.py\n",
            "google-cloud-sdk/lib/third_party/kubernetes/client/models/v1_volume.py\n",
            "google-cloud-sdk/lib/third_party/kubernetes/client/models/v1_volume_attachment.py\n",
            "google-cloud-sdk/lib/third_party/kubernetes/client/models/v1_volume_attachment_list.py\n",
            "google-cloud-sdk/lib/third_party/kubernetes/client/models/v1_volume_attachment_source.py\n",
            "google-cloud-sdk/lib/third_party/kubernetes/client/models/v1_volume_attachment_spec.py\n",
            "google-cloud-sdk/lib/third_party/kubernetes/client/models/v1_volume_attachment_status.py\n",
            "google-cloud-sdk/lib/third_party/kubernetes/client/models/v1_volume_device.py\n",
            "google-cloud-sdk/lib/third_party/kubernetes/client/models/v1_volume_error.py\n",
            "google-cloud-sdk/lib/third_party/kubernetes/client/models/v1_volume_mount.py\n",
            "google-cloud-sdk/lib/third_party/kubernetes/client/models/v1_volume_node_affinity.py\n",
            "google-cloud-sdk/lib/third_party/kubernetes/client/models/v1_volume_projection.py\n",
            "google-cloud-sdk/lib/third_party/kubernetes/client/models/v1_vsphere_virtual_disk_volume_source.py\n",
            "google-cloud-sdk/lib/third_party/kubernetes/client/models/v1_watch_event.py\n",
            "google-cloud-sdk/lib/third_party/kubernetes/client/models/v1_weighted_pod_affinity_term.py\n",
            "google-cloud-sdk/lib/third_party/kubernetes/client/models/v1alpha1_aggregation_rule.py\n",
            "google-cloud-sdk/lib/third_party/kubernetes/client/models/v1alpha1_audit_sink.py\n",
            "google-cloud-sdk/lib/third_party/kubernetes/client/models/v1alpha1_audit_sink_list.py\n",
            "google-cloud-sdk/lib/third_party/kubernetes/client/models/v1alpha1_audit_sink_spec.py\n",
            "google-cloud-sdk/lib/third_party/kubernetes/client/models/v1alpha1_cluster_role.py\n",
            "google-cloud-sdk/lib/third_party/kubernetes/client/models/v1alpha1_cluster_role_binding.py\n",
            "google-cloud-sdk/lib/third_party/kubernetes/client/models/v1alpha1_cluster_role_binding_list.py\n",
            "google-cloud-sdk/lib/third_party/kubernetes/client/models/v1alpha1_cluster_role_list.py\n",
            "google-cloud-sdk/lib/third_party/kubernetes/client/models/v1alpha1_pod_preset.py\n",
            "google-cloud-sdk/lib/third_party/kubernetes/client/models/v1alpha1_pod_preset_list.py\n",
            "google-cloud-sdk/lib/third_party/kubernetes/client/models/v1alpha1_pod_preset_spec.py\n",
            "google-cloud-sdk/lib/third_party/kubernetes/client/models/v1alpha1_policy.py\n",
            "google-cloud-sdk/lib/third_party/kubernetes/client/models/v1alpha1_policy_rule.py\n",
            "google-cloud-sdk/lib/third_party/kubernetes/client/models/v1alpha1_priority_class.py\n",
            "google-cloud-sdk/lib/third_party/kubernetes/client/models/v1alpha1_priority_class_list.py\n",
            "google-cloud-sdk/lib/third_party/kubernetes/client/models/v1alpha1_role.py\n",
            "google-cloud-sdk/lib/third_party/kubernetes/client/models/v1alpha1_role_binding.py\n",
            "google-cloud-sdk/lib/third_party/kubernetes/client/models/v1alpha1_role_binding_list.py\n",
            "google-cloud-sdk/lib/third_party/kubernetes/client/models/v1alpha1_role_list.py\n",
            "google-cloud-sdk/lib/third_party/kubernetes/client/models/v1alpha1_role_ref.py\n",
            "google-cloud-sdk/lib/third_party/kubernetes/client/models/v1alpha1_runtime_class.py\n",
            "google-cloud-sdk/lib/third_party/kubernetes/client/models/v1alpha1_runtime_class_list.py\n",
            "google-cloud-sdk/lib/third_party/kubernetes/client/models/v1alpha1_runtime_class_spec.py\n",
            "google-cloud-sdk/lib/third_party/kubernetes/client/models/v1alpha1_service_reference.py\n",
            "google-cloud-sdk/lib/third_party/kubernetes/client/models/v1alpha1_subject.py\n",
            "google-cloud-sdk/lib/third_party/kubernetes/client/models/v1alpha1_volume_attachment.py\n",
            "google-cloud-sdk/lib/third_party/kubernetes/client/models/v1alpha1_volume_attachment_list.py\n",
            "google-cloud-sdk/lib/third_party/kubernetes/client/models/v1alpha1_volume_attachment_source.py\n",
            "google-cloud-sdk/lib/third_party/kubernetes/client/models/v1alpha1_volume_attachment_spec.py\n",
            "google-cloud-sdk/lib/third_party/kubernetes/client/models/v1alpha1_volume_attachment_status.py\n",
            "google-cloud-sdk/lib/third_party/kubernetes/client/models/v1alpha1_volume_error.py\n",
            "google-cloud-sdk/lib/third_party/kubernetes/client/models/v1alpha1_webhook.py\n",
            "google-cloud-sdk/lib/third_party/kubernetes/client/models/v1alpha1_webhook_client_config.py\n",
            "google-cloud-sdk/lib/third_party/kubernetes/client/models/v1alpha1_webhook_throttle_config.py\n",
            "google-cloud-sdk/lib/third_party/kubernetes/client/models/v1beta1_aggregation_rule.py\n",
            "google-cloud-sdk/lib/third_party/kubernetes/client/models/v1beta1_api_service.py\n",
            "google-cloud-sdk/lib/third_party/kubernetes/client/models/v1beta1_api_service_condition.py\n",
            "google-cloud-sdk/lib/third_party/kubernetes/client/models/v1beta1_api_service_list.py\n",
            "google-cloud-sdk/lib/third_party/kubernetes/client/models/v1beta1_api_service_spec.py\n",
            "google-cloud-sdk/lib/third_party/kubernetes/client/models/v1beta1_api_service_status.py\n",
            "google-cloud-sdk/lib/third_party/kubernetes/client/models/v1beta1_certificate_signing_request.py\n",
            "google-cloud-sdk/lib/third_party/kubernetes/client/models/v1beta1_certificate_signing_request_condition.py\n",
            "google-cloud-sdk/lib/third_party/kubernetes/client/models/v1beta1_certificate_signing_request_list.py\n",
            "google-cloud-sdk/lib/third_party/kubernetes/client/models/v1beta1_certificate_signing_request_spec.py\n",
            "google-cloud-sdk/lib/third_party/kubernetes/client/models/v1beta1_certificate_signing_request_status.py\n",
            "google-cloud-sdk/lib/third_party/kubernetes/client/models/v1beta1_cluster_role.py\n",
            "google-cloud-sdk/lib/third_party/kubernetes/client/models/v1beta1_cluster_role_binding.py\n",
            "google-cloud-sdk/lib/third_party/kubernetes/client/models/v1beta1_cluster_role_binding_list.py\n",
            "google-cloud-sdk/lib/third_party/kubernetes/client/models/v1beta1_cluster_role_list.py\n",
            "google-cloud-sdk/lib/third_party/kubernetes/client/models/v1beta1_controller_revision.py\n",
            "google-cloud-sdk/lib/third_party/kubernetes/client/models/v1beta1_controller_revision_list.py\n",
            "google-cloud-sdk/lib/third_party/kubernetes/client/models/v1beta1_cron_job.py\n",
            "google-cloud-sdk/lib/third_party/kubernetes/client/models/v1beta1_cron_job_list.py\n",
            "google-cloud-sdk/lib/third_party/kubernetes/client/models/v1beta1_cron_job_spec.py\n",
            "google-cloud-sdk/lib/third_party/kubernetes/client/models/v1beta1_cron_job_status.py\n",
            "google-cloud-sdk/lib/third_party/kubernetes/client/models/v1beta1_csi_driver.py\n",
            "google-cloud-sdk/lib/third_party/kubernetes/client/models/v1beta1_csi_driver_list.py\n",
            "google-cloud-sdk/lib/third_party/kubernetes/client/models/v1beta1_csi_driver_spec.py\n",
            "google-cloud-sdk/lib/third_party/kubernetes/client/models/v1beta1_csi_node.py\n",
            "google-cloud-sdk/lib/third_party/kubernetes/client/models/v1beta1_csi_node_driver.py\n",
            "google-cloud-sdk/lib/third_party/kubernetes/client/models/v1beta1_csi_node_list.py\n",
            "google-cloud-sdk/lib/third_party/kubernetes/client/models/v1beta1_csi_node_spec.py\n",
            "google-cloud-sdk/lib/third_party/kubernetes/client/models/v1beta1_custom_resource_column_definition.py\n",
            "google-cloud-sdk/lib/third_party/kubernetes/client/models/v1beta1_custom_resource_conversion.py\n",
            "google-cloud-sdk/lib/third_party/kubernetes/client/models/v1beta1_custom_resource_definition.py\n",
            "google-cloud-sdk/lib/third_party/kubernetes/client/models/v1beta1_custom_resource_definition_condition.py\n",
            "google-cloud-sdk/lib/third_party/kubernetes/client/models/v1beta1_custom_resource_definition_list.py\n",
            "google-cloud-sdk/lib/third_party/kubernetes/client/models/v1beta1_custom_resource_definition_names.py\n",
            "google-cloud-sdk/lib/third_party/kubernetes/client/models/v1beta1_custom_resource_definition_spec.py\n",
            "google-cloud-sdk/lib/third_party/kubernetes/client/models/v1beta1_custom_resource_definition_status.py\n",
            "google-cloud-sdk/lib/third_party/kubernetes/client/models/v1beta1_custom_resource_definition_version.py\n",
            "google-cloud-sdk/lib/third_party/kubernetes/client/models/v1beta1_custom_resource_subresource_scale.py\n",
            "google-cloud-sdk/lib/third_party/kubernetes/client/models/v1beta1_custom_resource_subresources.py\n",
            "google-cloud-sdk/lib/third_party/kubernetes/client/models/v1beta1_custom_resource_validation.py\n",
            "google-cloud-sdk/lib/third_party/kubernetes/client/models/v1beta1_daemon_set.py\n",
            "google-cloud-sdk/lib/third_party/kubernetes/client/models/v1beta1_daemon_set_condition.py\n",
            "google-cloud-sdk/lib/third_party/kubernetes/client/models/v1beta1_daemon_set_list.py\n",
            "google-cloud-sdk/lib/third_party/kubernetes/client/models/v1beta1_daemon_set_spec.py\n",
            "google-cloud-sdk/lib/third_party/kubernetes/client/models/v1beta1_daemon_set_status.py\n",
            "google-cloud-sdk/lib/third_party/kubernetes/client/models/v1beta1_daemon_set_update_strategy.py\n",
            "google-cloud-sdk/lib/third_party/kubernetes/client/models/v1beta1_event.py\n",
            "google-cloud-sdk/lib/third_party/kubernetes/client/models/v1beta1_event_list.py\n",
            "google-cloud-sdk/lib/third_party/kubernetes/client/models/v1beta1_event_series.py\n",
            "google-cloud-sdk/lib/third_party/kubernetes/client/models/v1beta1_eviction.py\n",
            "google-cloud-sdk/lib/third_party/kubernetes/client/models/v1beta1_external_documentation.py\n",
            "google-cloud-sdk/lib/third_party/kubernetes/client/models/v1beta1_ip_block.py\n",
            "google-cloud-sdk/lib/third_party/kubernetes/client/models/v1beta1_job_template_spec.py\n",
            "google-cloud-sdk/lib/third_party/kubernetes/client/models/v1beta1_json_schema_props.py\n",
            "google-cloud-sdk/lib/third_party/kubernetes/client/models/v1beta1_lease.py\n",
            "google-cloud-sdk/lib/third_party/kubernetes/client/models/v1beta1_lease_list.py\n",
            "google-cloud-sdk/lib/third_party/kubernetes/client/models/v1beta1_lease_spec.py\n",
            "google-cloud-sdk/lib/third_party/kubernetes/client/models/v1beta1_local_subject_access_review.py\n",
            "google-cloud-sdk/lib/third_party/kubernetes/client/models/v1beta1_mutating_webhook_configuration.py\n",
            "google-cloud-sdk/lib/third_party/kubernetes/client/models/v1beta1_mutating_webhook_configuration_list.py\n",
            "google-cloud-sdk/lib/third_party/kubernetes/client/models/v1beta1_network_policy.py\n",
            "google-cloud-sdk/lib/third_party/kubernetes/client/models/v1beta1_network_policy_egress_rule.py\n",
            "google-cloud-sdk/lib/third_party/kubernetes/client/models/v1beta1_network_policy_ingress_rule.py\n",
            "google-cloud-sdk/lib/third_party/kubernetes/client/models/v1beta1_network_policy_list.py\n",
            "google-cloud-sdk/lib/third_party/kubernetes/client/models/v1beta1_network_policy_peer.py\n",
            "google-cloud-sdk/lib/third_party/kubernetes/client/models/v1beta1_network_policy_port.py\n",
            "google-cloud-sdk/lib/third_party/kubernetes/client/models/v1beta1_network_policy_spec.py\n",
            "google-cloud-sdk/lib/third_party/kubernetes/client/models/v1beta1_non_resource_attributes.py\n",
            "google-cloud-sdk/lib/third_party/kubernetes/client/models/v1beta1_non_resource_rule.py\n",
            "google-cloud-sdk/lib/third_party/kubernetes/client/models/v1beta1_pod_disruption_budget.py\n",
            "google-cloud-sdk/lib/third_party/kubernetes/client/models/v1beta1_pod_disruption_budget_list.py\n",
            "google-cloud-sdk/lib/third_party/kubernetes/client/models/v1beta1_pod_disruption_budget_spec.py\n",
            "google-cloud-sdk/lib/third_party/kubernetes/client/models/v1beta1_pod_disruption_budget_status.py\n",
            "google-cloud-sdk/lib/third_party/kubernetes/client/models/v1beta1_policy_rule.py\n",
            "google-cloud-sdk/lib/third_party/kubernetes/client/models/v1beta1_priority_class.py\n",
            "google-cloud-sdk/lib/third_party/kubernetes/client/models/v1beta1_priority_class_list.py\n",
            "google-cloud-sdk/lib/third_party/kubernetes/client/models/v1beta1_replica_set.py\n",
            "google-cloud-sdk/lib/third_party/kubernetes/client/models/v1beta1_replica_set_condition.py\n",
            "google-cloud-sdk/lib/third_party/kubernetes/client/models/v1beta1_replica_set_list.py\n",
            "google-cloud-sdk/lib/third_party/kubernetes/client/models/v1beta1_replica_set_spec.py\n",
            "google-cloud-sdk/lib/third_party/kubernetes/client/models/v1beta1_replica_set_status.py\n",
            "google-cloud-sdk/lib/third_party/kubernetes/client/models/v1beta1_resource_attributes.py\n",
            "google-cloud-sdk/lib/third_party/kubernetes/client/models/v1beta1_resource_rule.py\n",
            "google-cloud-sdk/lib/third_party/kubernetes/client/models/v1beta1_role.py\n",
            "google-cloud-sdk/lib/third_party/kubernetes/client/models/v1beta1_role_binding.py\n",
            "google-cloud-sdk/lib/third_party/kubernetes/client/models/v1beta1_role_binding_list.py\n",
            "google-cloud-sdk/lib/third_party/kubernetes/client/models/v1beta1_role_list.py\n",
            "google-cloud-sdk/lib/third_party/kubernetes/client/models/v1beta1_role_ref.py\n",
            "google-cloud-sdk/lib/third_party/kubernetes/client/models/v1beta1_rolling_update_daemon_set.py\n",
            "google-cloud-sdk/lib/third_party/kubernetes/client/models/v1beta1_rolling_update_stateful_set_strategy.py\n",
            "google-cloud-sdk/lib/third_party/kubernetes/client/models/v1beta1_rule_with_operations.py\n",
            "google-cloud-sdk/lib/third_party/kubernetes/client/models/v1beta1_runtime_class.py\n",
            "google-cloud-sdk/lib/third_party/kubernetes/client/models/v1beta1_runtime_class_list.py\n",
            "google-cloud-sdk/lib/third_party/kubernetes/client/models/v1beta1_self_subject_access_review.py\n",
            "google-cloud-sdk/lib/third_party/kubernetes/client/models/v1beta1_self_subject_access_review_spec.py\n",
            "google-cloud-sdk/lib/third_party/kubernetes/client/models/v1beta1_self_subject_rules_review.py\n",
            "google-cloud-sdk/lib/third_party/kubernetes/client/models/v1beta1_self_subject_rules_review_spec.py\n",
            "google-cloud-sdk/lib/third_party/kubernetes/client/models/v1beta1_stateful_set.py\n",
            "google-cloud-sdk/lib/third_party/kubernetes/client/models/v1beta1_stateful_set_condition.py\n",
            "google-cloud-sdk/lib/third_party/kubernetes/client/models/v1beta1_stateful_set_list.py\n",
            "google-cloud-sdk/lib/third_party/kubernetes/client/models/v1beta1_stateful_set_spec.py\n",
            "google-cloud-sdk/lib/third_party/kubernetes/client/models/v1beta1_stateful_set_status.py\n",
            "google-cloud-sdk/lib/third_party/kubernetes/client/models/v1beta1_stateful_set_update_strategy.py\n",
            "google-cloud-sdk/lib/third_party/kubernetes/client/models/v1beta1_storage_class.py\n",
            "google-cloud-sdk/lib/third_party/kubernetes/client/models/v1beta1_storage_class_list.py\n",
            "google-cloud-sdk/lib/third_party/kubernetes/client/models/v1beta1_subject.py\n",
            "google-cloud-sdk/lib/third_party/kubernetes/client/models/v1beta1_subject_access_review.py\n",
            "google-cloud-sdk/lib/third_party/kubernetes/client/models/v1beta1_subject_access_review_spec.py\n",
            "google-cloud-sdk/lib/third_party/kubernetes/client/models/v1beta1_subject_access_review_status.py\n",
            "google-cloud-sdk/lib/third_party/kubernetes/client/models/v1beta1_subject_rules_review_status.py\n",
            "google-cloud-sdk/lib/third_party/kubernetes/client/models/v1beta1_token_review.py\n",
            "google-cloud-sdk/lib/third_party/kubernetes/client/models/v1beta1_token_review_spec.py\n",
            "google-cloud-sdk/lib/third_party/kubernetes/client/models/v1beta1_token_review_status.py\n",
            "google-cloud-sdk/lib/third_party/kubernetes/client/models/v1beta1_user_info.py\n",
            "google-cloud-sdk/lib/third_party/kubernetes/client/models/v1beta1_validating_webhook_configuration.py\n",
            "google-cloud-sdk/lib/third_party/kubernetes/client/models/v1beta1_validating_webhook_configuration_list.py\n",
            "google-cloud-sdk/lib/third_party/kubernetes/client/models/v1beta1_volume_attachment.py\n",
            "google-cloud-sdk/lib/third_party/kubernetes/client/models/v1beta1_volume_attachment_list.py\n",
            "google-cloud-sdk/lib/third_party/kubernetes/client/models/v1beta1_volume_attachment_source.py\n",
            "google-cloud-sdk/lib/third_party/kubernetes/client/models/v1beta1_volume_attachment_spec.py\n",
            "google-cloud-sdk/lib/third_party/kubernetes/client/models/v1beta1_volume_attachment_status.py\n",
            "google-cloud-sdk/lib/third_party/kubernetes/client/models/v1beta1_volume_error.py\n",
            "google-cloud-sdk/lib/third_party/kubernetes/client/models/v1beta1_webhook.py\n",
            "google-cloud-sdk/lib/third_party/kubernetes/client/models/v1beta2_controller_revision.py\n",
            "google-cloud-sdk/lib/third_party/kubernetes/client/models/v1beta2_controller_revision_list.py\n",
            "google-cloud-sdk/lib/third_party/kubernetes/client/models/v1beta2_daemon_set.py\n",
            "google-cloud-sdk/lib/third_party/kubernetes/client/models/v1beta2_daemon_set_condition.py\n",
            "google-cloud-sdk/lib/third_party/kubernetes/client/models/v1beta2_daemon_set_list.py\n",
            "google-cloud-sdk/lib/third_party/kubernetes/client/models/v1beta2_daemon_set_spec.py\n",
            "google-cloud-sdk/lib/third_party/kubernetes/client/models/v1beta2_daemon_set_status.py\n",
            "google-cloud-sdk/lib/third_party/kubernetes/client/models/v1beta2_daemon_set_update_strategy.py\n",
            "google-cloud-sdk/lib/third_party/kubernetes/client/models/v1beta2_deployment.py\n",
            "google-cloud-sdk/lib/third_party/kubernetes/client/models/v1beta2_deployment_condition.py\n",
            "google-cloud-sdk/lib/third_party/kubernetes/client/models/v1beta2_deployment_list.py\n",
            "google-cloud-sdk/lib/third_party/kubernetes/client/models/v1beta2_deployment_spec.py\n",
            "google-cloud-sdk/lib/third_party/kubernetes/client/models/v1beta2_deployment_status.py\n",
            "google-cloud-sdk/lib/third_party/kubernetes/client/models/v1beta2_deployment_strategy.py\n",
            "google-cloud-sdk/lib/third_party/kubernetes/client/models/v1beta2_replica_set.py\n",
            "google-cloud-sdk/lib/third_party/kubernetes/client/models/v1beta2_replica_set_condition.py\n",
            "google-cloud-sdk/lib/third_party/kubernetes/client/models/v1beta2_replica_set_list.py\n",
            "google-cloud-sdk/lib/third_party/kubernetes/client/models/v1beta2_replica_set_spec.py\n",
            "google-cloud-sdk/lib/third_party/kubernetes/client/models/v1beta2_replica_set_status.py\n",
            "google-cloud-sdk/lib/third_party/kubernetes/client/models/v1beta2_rolling_update_daemon_set.py\n",
            "google-cloud-sdk/lib/third_party/kubernetes/client/models/v1beta2_rolling_update_deployment.py\n",
            "google-cloud-sdk/lib/third_party/kubernetes/client/models/v1beta2_rolling_update_stateful_set_strategy.py\n",
            "google-cloud-sdk/lib/third_party/kubernetes/client/models/v1beta2_scale.py\n",
            "google-cloud-sdk/lib/third_party/kubernetes/client/models/v1beta2_scale_spec.py\n",
            "google-cloud-sdk/lib/third_party/kubernetes/client/models/v1beta2_scale_status.py\n",
            "google-cloud-sdk/lib/third_party/kubernetes/client/models/v1beta2_stateful_set.py\n",
            "google-cloud-sdk/lib/third_party/kubernetes/client/models/v1beta2_stateful_set_condition.py\n",
            "google-cloud-sdk/lib/third_party/kubernetes/client/models/v1beta2_stateful_set_list.py\n",
            "google-cloud-sdk/lib/third_party/kubernetes/client/models/v1beta2_stateful_set_spec.py\n",
            "google-cloud-sdk/lib/third_party/kubernetes/client/models/v1beta2_stateful_set_status.py\n",
            "google-cloud-sdk/lib/third_party/kubernetes/client/models/v1beta2_stateful_set_update_strategy.py\n",
            "google-cloud-sdk/lib/third_party/kubernetes/client/models/v2alpha1_cron_job.py\n",
            "google-cloud-sdk/lib/third_party/kubernetes/client/models/v2alpha1_cron_job_list.py\n",
            "google-cloud-sdk/lib/third_party/kubernetes/client/models/v2alpha1_cron_job_spec.py\n",
            "google-cloud-sdk/lib/third_party/kubernetes/client/models/v2alpha1_cron_job_status.py\n",
            "google-cloud-sdk/lib/third_party/kubernetes/client/models/v2alpha1_job_template_spec.py\n",
            "google-cloud-sdk/lib/third_party/kubernetes/client/models/v2beta1_cross_version_object_reference.py\n",
            "google-cloud-sdk/lib/third_party/kubernetes/client/models/v2beta1_external_metric_source.py\n",
            "google-cloud-sdk/lib/third_party/kubernetes/client/models/v2beta1_external_metric_status.py\n",
            "google-cloud-sdk/lib/third_party/kubernetes/client/models/v2beta1_horizontal_pod_autoscaler.py\n",
            "google-cloud-sdk/lib/third_party/kubernetes/client/models/v2beta1_horizontal_pod_autoscaler_condition.py\n",
            "google-cloud-sdk/lib/third_party/kubernetes/client/models/v2beta1_horizontal_pod_autoscaler_list.py\n",
            "google-cloud-sdk/lib/third_party/kubernetes/client/models/v2beta1_horizontal_pod_autoscaler_spec.py\n",
            "google-cloud-sdk/lib/third_party/kubernetes/client/models/v2beta1_horizontal_pod_autoscaler_status.py\n",
            "google-cloud-sdk/lib/third_party/kubernetes/client/models/v2beta1_metric_spec.py\n",
            "google-cloud-sdk/lib/third_party/kubernetes/client/models/v2beta1_metric_status.py\n",
            "google-cloud-sdk/lib/third_party/kubernetes/client/models/v2beta1_object_metric_source.py\n",
            "google-cloud-sdk/lib/third_party/kubernetes/client/models/v2beta1_object_metric_status.py\n",
            "google-cloud-sdk/lib/third_party/kubernetes/client/models/v2beta1_pods_metric_source.py\n",
            "google-cloud-sdk/lib/third_party/kubernetes/client/models/v2beta1_pods_metric_status.py\n",
            "google-cloud-sdk/lib/third_party/kubernetes/client/models/v2beta1_resource_metric_source.py\n",
            "google-cloud-sdk/lib/third_party/kubernetes/client/models/v2beta1_resource_metric_status.py\n",
            "google-cloud-sdk/lib/third_party/kubernetes/client/models/v2beta2_cross_version_object_reference.py\n",
            "google-cloud-sdk/lib/third_party/kubernetes/client/models/v2beta2_external_metric_source.py\n",
            "google-cloud-sdk/lib/third_party/kubernetes/client/models/v2beta2_external_metric_status.py\n",
            "google-cloud-sdk/lib/third_party/kubernetes/client/models/v2beta2_horizontal_pod_autoscaler.py\n",
            "google-cloud-sdk/lib/third_party/kubernetes/client/models/v2beta2_horizontal_pod_autoscaler_condition.py\n",
            "google-cloud-sdk/lib/third_party/kubernetes/client/models/v2beta2_horizontal_pod_autoscaler_list.py\n",
            "google-cloud-sdk/lib/third_party/kubernetes/client/models/v2beta2_horizontal_pod_autoscaler_spec.py\n",
            "google-cloud-sdk/lib/third_party/kubernetes/client/models/v2beta2_horizontal_pod_autoscaler_status.py\n",
            "google-cloud-sdk/lib/third_party/kubernetes/client/models/v2beta2_metric_identifier.py\n",
            "google-cloud-sdk/lib/third_party/kubernetes/client/models/v2beta2_metric_spec.py\n",
            "google-cloud-sdk/lib/third_party/kubernetes/client/models/v2beta2_metric_status.py\n",
            "google-cloud-sdk/lib/third_party/kubernetes/client/models/v2beta2_metric_target.py\n",
            "google-cloud-sdk/lib/third_party/kubernetes/client/models/v2beta2_metric_value_status.py\n",
            "google-cloud-sdk/lib/third_party/kubernetes/client/models/v2beta2_object_metric_source.py\n",
            "google-cloud-sdk/lib/third_party/kubernetes/client/models/v2beta2_object_metric_status.py\n",
            "google-cloud-sdk/lib/third_party/kubernetes/client/models/v2beta2_pods_metric_source.py\n",
            "google-cloud-sdk/lib/third_party/kubernetes/client/models/v2beta2_pods_metric_status.py\n",
            "google-cloud-sdk/lib/third_party/kubernetes/client/models/v2beta2_resource_metric_source.py\n",
            "google-cloud-sdk/lib/third_party/kubernetes/client/models/v2beta2_resource_metric_status.py\n",
            "google-cloud-sdk/lib/third_party/kubernetes/client/models/version_info.py\n",
            "google-cloud-sdk/lib/third_party/kubernetes/client/rest.py\n",
            "google-cloud-sdk/lib/third_party/kubernetes/config/__init__.py\n",
            "google-cloud-sdk/lib/third_party/kubernetes/config/config_exception.py\n",
            "google-cloud-sdk/lib/third_party/kubernetes/config/dateutil.py\n",
            "google-cloud-sdk/lib/third_party/kubernetes/config/dateutil_test.py\n",
            "google-cloud-sdk/lib/third_party/kubernetes/config/exec_provider.py\n",
            "google-cloud-sdk/lib/third_party/kubernetes/config/exec_provider_test.py\n",
            "google-cloud-sdk/lib/third_party/kubernetes/config/incluster_config.py\n",
            "google-cloud-sdk/lib/third_party/kubernetes/config/incluster_config_test.py\n",
            "google-cloud-sdk/lib/third_party/kubernetes/config/kube_config.py\n",
            "google-cloud-sdk/lib/third_party/kubernetes/config/kube_config_test.py\n",
            "google-cloud-sdk/lib/third_party/kubernetes/stream/__init__.py\n",
            "google-cloud-sdk/lib/third_party/kubernetes/stream/stream.py\n",
            "google-cloud-sdk/lib/third_party/kubernetes/stream/ws_client.py\n",
            "google-cloud-sdk/lib/third_party/kubernetes/stream/ws_client_test.py\n",
            "google-cloud-sdk/lib/third_party/kubernetes/utils/__init__.py\n",
            "google-cloud-sdk/lib/third_party/kubernetes/utils/create_from_yaml.py\n",
            "google-cloud-sdk/lib/third_party/kubernetes/watch/__init__.py\n",
            "google-cloud-sdk/lib/third_party/kubernetes/watch/watch.py\n",
            "google-cloud-sdk/lib/third_party/kubernetes/watch/watch_test.py\n",
            "google-cloud-sdk/lib/third_party/mako/LICENSE\n",
            "google-cloud-sdk/lib/third_party/mako/__init__.py\n",
            "google-cloud-sdk/lib/third_party/mako/_ast_util.py\n",
            "google-cloud-sdk/lib/third_party/mako/ast.py\n",
            "google-cloud-sdk/lib/third_party/mako/cache.py\n",
            "google-cloud-sdk/lib/third_party/mako/cmd.py\n",
            "google-cloud-sdk/lib/third_party/mako/codegen.py\n",
            "google-cloud-sdk/lib/third_party/mako/compat.py\n",
            "google-cloud-sdk/lib/third_party/mako/exceptions.py\n",
            "google-cloud-sdk/lib/third_party/mako/ext/__init__.py\n",
            "google-cloud-sdk/lib/third_party/mako/ext/autohandler.py\n",
            "google-cloud-sdk/lib/third_party/mako/ext/babelplugin.py\n",
            "google-cloud-sdk/lib/third_party/mako/ext/beaker_cache.py\n",
            "google-cloud-sdk/lib/third_party/mako/ext/extract.py\n",
            "google-cloud-sdk/lib/third_party/mako/ext/linguaplugin.py\n",
            "google-cloud-sdk/lib/third_party/mako/ext/preprocessors.py\n",
            "google-cloud-sdk/lib/third_party/mako/ext/pygmentplugin.py\n",
            "google-cloud-sdk/lib/third_party/mako/ext/turbogears.py\n",
            "google-cloud-sdk/lib/third_party/mako/filters.py\n",
            "google-cloud-sdk/lib/third_party/mako/lexer.py\n",
            "google-cloud-sdk/lib/third_party/mako/lookup.py\n",
            "google-cloud-sdk/lib/third_party/mako/parsetree.py\n",
            "google-cloud-sdk/lib/third_party/mako/pygen.py\n",
            "google-cloud-sdk/lib/third_party/mako/pyparser.py\n",
            "google-cloud-sdk/lib/third_party/mako/runtime.py\n",
            "google-cloud-sdk/lib/third_party/mako/template.py\n",
            "google-cloud-sdk/lib/third_party/mako/util.py\n",
            "google-cloud-sdk/lib/third_party/ml_sdk/LICENSE\n",
            "google-cloud-sdk/lib/third_party/ml_sdk/__init__.py\n",
            "google-cloud-sdk/lib/third_party/ml_sdk/cloud/__init__.py\n",
            "google-cloud-sdk/lib/third_party/ml_sdk/cloud/ml/__init__.py\n",
            "google-cloud-sdk/lib/third_party/ml_sdk/cloud/ml/builtin_algorithms/__init__.py\n",
            "google-cloud-sdk/lib/third_party/ml_sdk/cloud/ml/io/__init__.py\n",
            "google-cloud-sdk/lib/third_party/ml_sdk/cloud/ml/io/coders.py\n",
            "google-cloud-sdk/lib/third_party/ml_sdk/cloud/ml/prediction/__init__.py\n",
            "google-cloud-sdk/lib/third_party/ml_sdk/cloud/ml/prediction/_interfaces.py\n",
            "google-cloud-sdk/lib/third_party/ml_sdk/cloud/ml/prediction/custom_code_utils.py\n",
            "google-cloud-sdk/lib/third_party/ml_sdk/cloud/ml/prediction/frameworks/__init__.py\n",
            "google-cloud-sdk/lib/third_party/ml_sdk/cloud/ml/prediction/frameworks/sk_xg_prediction_lib.py\n",
            "google-cloud-sdk/lib/third_party/ml_sdk/cloud/ml/prediction/frameworks/tf_prediction_lib.py\n",
            "google-cloud-sdk/lib/third_party/ml_sdk/cloud/ml/prediction/prediction_lib.py\n",
            "google-cloud-sdk/lib/third_party/ml_sdk/cloud/ml/prediction/prediction_utils.py\n",
            "google-cloud-sdk/lib/third_party/ml_sdk/cloud/ml/util/__init__.py\n",
            "google-cloud-sdk/lib/third_party/ml_sdk/cloud/ml/util/_decoders.py\n",
            "google-cloud-sdk/lib/third_party/ml_sdk/cloud/ml/util/_exceptions.py\n",
            "google-cloud-sdk/lib/third_party/ml_sdk/cloud/ml/util/_file.py\n",
            "google-cloud-sdk/lib/third_party/ml_sdk/cloud/ml/util/_retry.py\n",
            "google-cloud-sdk/lib/third_party/ml_sdk/cloud/ml/version.py\n",
            "google-cloud-sdk/lib/third_party/ml_sdk/pkg/LICENSE\n",
            "google-cloud-sdk/lib/third_party/ml_sdk/pkg/MANIFEST.in\n",
            "google-cloud-sdk/lib/third_party/ml_sdk/pkg/PKG-INFO\n",
            "google-cloud-sdk/lib/third_party/ml_sdk/pkg/setup.py\n",
            "google-cloud-sdk/lib/third_party/monotonic/LICENSE\n",
            "google-cloud-sdk/lib/third_party/monotonic/__init__.py\n",
            "google-cloud-sdk/lib/third_party/oauth2client/LICENSE\n",
            "google-cloud-sdk/lib/third_party/oauth2client/__init__.py\n",
            "google-cloud-sdk/lib/third_party/oauth2client/_helpers.py\n",
            "google-cloud-sdk/lib/third_party/oauth2client/_openssl_crypt.py\n",
            "google-cloud-sdk/lib/third_party/oauth2client/_pkce.py\n",
            "google-cloud-sdk/lib/third_party/oauth2client/_pure_python_crypt.py\n",
            "google-cloud-sdk/lib/third_party/oauth2client/_pycrypto_crypt.py\n",
            "google-cloud-sdk/lib/third_party/oauth2client/client.py\n",
            "google-cloud-sdk/lib/third_party/oauth2client/clientsecrets.py\n",
            "google-cloud-sdk/lib/third_party/oauth2client/contrib/__init__.py\n",
            "google-cloud-sdk/lib/third_party/oauth2client/contrib/_appengine_ndb.py\n",
            "google-cloud-sdk/lib/third_party/oauth2client/contrib/_fcntl_opener.py\n",
            "google-cloud-sdk/lib/third_party/oauth2client/contrib/_metadata.py\n",
            "google-cloud-sdk/lib/third_party/oauth2client/contrib/_win32_opener.py\n",
            "google-cloud-sdk/lib/third_party/oauth2client/contrib/appengine.py\n",
            "google-cloud-sdk/lib/third_party/oauth2client/contrib/devshell.py\n",
            "google-cloud-sdk/lib/third_party/oauth2client/contrib/dictionary_storage.py\n",
            "google-cloud-sdk/lib/third_party/oauth2client/contrib/django_util/__init__.py\n",
            "google-cloud-sdk/lib/third_party/oauth2client/contrib/django_util/apps.py\n",
            "google-cloud-sdk/lib/third_party/oauth2client/contrib/django_util/decorators.py\n",
            "google-cloud-sdk/lib/third_party/oauth2client/contrib/django_util/models.py\n",
            "google-cloud-sdk/lib/third_party/oauth2client/contrib/django_util/signals.py\n",
            "google-cloud-sdk/lib/third_party/oauth2client/contrib/django_util/site.py\n",
            "google-cloud-sdk/lib/third_party/oauth2client/contrib/django_util/storage.py\n",
            "google-cloud-sdk/lib/third_party/oauth2client/contrib/django_util/views.py\n",
            "google-cloud-sdk/lib/third_party/oauth2client/contrib/flask_util.py\n",
            "google-cloud-sdk/lib/third_party/oauth2client/contrib/gce.py\n",
            "google-cloud-sdk/lib/third_party/oauth2client/contrib/keyring_storage.py\n",
            "google-cloud-sdk/lib/third_party/oauth2client/contrib/locked_file.py\n",
            "google-cloud-sdk/lib/third_party/oauth2client/contrib/multiprocess_file_storage.py\n",
            "google-cloud-sdk/lib/third_party/oauth2client/contrib/multistore_file.py\n",
            "google-cloud-sdk/lib/third_party/oauth2client/contrib/reauth.py\n",
            "google-cloud-sdk/lib/third_party/oauth2client/contrib/reauth_creds.py\n",
            "google-cloud-sdk/lib/third_party/oauth2client/contrib/reauth_errors.py\n",
            "google-cloud-sdk/lib/third_party/oauth2client/contrib/sqlalchemy.py\n",
            "google-cloud-sdk/lib/third_party/oauth2client/contrib/xsrfutil.py\n",
            "google-cloud-sdk/lib/third_party/oauth2client/crypt.py\n",
            "google-cloud-sdk/lib/third_party/oauth2client/file.py\n",
            "google-cloud-sdk/lib/third_party/oauth2client/service_account.py\n",
            "google-cloud-sdk/lib/third_party/oauth2client/tools.py\n",
            "google-cloud-sdk/lib/third_party/oauth2client/transport.py\n",
            "google-cloud-sdk/lib/third_party/oauth2client/util.py\n",
            "google-cloud-sdk/lib/third_party/oauthlib/LICENSE\n",
            "google-cloud-sdk/lib/third_party/oauthlib/__init__.py\n",
            "google-cloud-sdk/lib/third_party/oauthlib/common.py\n",
            "google-cloud-sdk/lib/third_party/oauthlib/oauth1/__init__.py\n",
            "google-cloud-sdk/lib/third_party/oauthlib/oauth1/rfc5849/__init__.py\n",
            "google-cloud-sdk/lib/third_party/oauthlib/oauth1/rfc5849/endpoints/__init__.py\n",
            "google-cloud-sdk/lib/third_party/oauthlib/oauth1/rfc5849/endpoints/access_token.py\n",
            "google-cloud-sdk/lib/third_party/oauthlib/oauth1/rfc5849/endpoints/authorization.py\n",
            "google-cloud-sdk/lib/third_party/oauthlib/oauth1/rfc5849/endpoints/base.py\n",
            "google-cloud-sdk/lib/third_party/oauthlib/oauth1/rfc5849/endpoints/pre_configured.py\n",
            "google-cloud-sdk/lib/third_party/oauthlib/oauth1/rfc5849/endpoints/request_token.py\n",
            "google-cloud-sdk/lib/third_party/oauthlib/oauth1/rfc5849/endpoints/resource.py\n",
            "google-cloud-sdk/lib/third_party/oauthlib/oauth1/rfc5849/endpoints/signature_only.py\n",
            "google-cloud-sdk/lib/third_party/oauthlib/oauth1/rfc5849/errors.py\n",
            "google-cloud-sdk/lib/third_party/oauthlib/oauth1/rfc5849/parameters.py\n",
            "google-cloud-sdk/lib/third_party/oauthlib/oauth1/rfc5849/request_validator.py\n",
            "google-cloud-sdk/lib/third_party/oauthlib/oauth1/rfc5849/signature.py\n",
            "google-cloud-sdk/lib/third_party/oauthlib/oauth1/rfc5849/utils.py\n",
            "google-cloud-sdk/lib/third_party/oauthlib/oauth2/__init__.py\n",
            "google-cloud-sdk/lib/third_party/oauthlib/oauth2/rfc6749/__init__.py\n",
            "google-cloud-sdk/lib/third_party/oauthlib/oauth2/rfc6749/clients/__init__.py\n",
            "google-cloud-sdk/lib/third_party/oauthlib/oauth2/rfc6749/clients/backend_application.py\n",
            "google-cloud-sdk/lib/third_party/oauthlib/oauth2/rfc6749/clients/base.py\n",
            "google-cloud-sdk/lib/third_party/oauthlib/oauth2/rfc6749/clients/legacy_application.py\n",
            "google-cloud-sdk/lib/third_party/oauthlib/oauth2/rfc6749/clients/mobile_application.py\n",
            "google-cloud-sdk/lib/third_party/oauthlib/oauth2/rfc6749/clients/service_application.py\n",
            "google-cloud-sdk/lib/third_party/oauthlib/oauth2/rfc6749/clients/web_application.py\n",
            "google-cloud-sdk/lib/third_party/oauthlib/oauth2/rfc6749/endpoints/__init__.py\n",
            "google-cloud-sdk/lib/third_party/oauthlib/oauth2/rfc6749/endpoints/authorization.py\n",
            "google-cloud-sdk/lib/third_party/oauthlib/oauth2/rfc6749/endpoints/base.py\n",
            "google-cloud-sdk/lib/third_party/oauthlib/oauth2/rfc6749/endpoints/introspect.py\n",
            "google-cloud-sdk/lib/third_party/oauthlib/oauth2/rfc6749/endpoints/metadata.py\n",
            "google-cloud-sdk/lib/third_party/oauthlib/oauth2/rfc6749/endpoints/pre_configured.py\n",
            "google-cloud-sdk/lib/third_party/oauthlib/oauth2/rfc6749/endpoints/resource.py\n",
            "google-cloud-sdk/lib/third_party/oauthlib/oauth2/rfc6749/endpoints/revocation.py\n",
            "google-cloud-sdk/lib/third_party/oauthlib/oauth2/rfc6749/endpoints/token.py\n",
            "google-cloud-sdk/lib/third_party/oauthlib/oauth2/rfc6749/errors.py\n",
            "google-cloud-sdk/lib/third_party/oauthlib/oauth2/rfc6749/grant_types/__init__.py\n",
            "google-cloud-sdk/lib/third_party/oauthlib/oauth2/rfc6749/grant_types/authorization_code.py\n",
            "google-cloud-sdk/lib/third_party/oauthlib/oauth2/rfc6749/grant_types/base.py\n",
            "google-cloud-sdk/lib/third_party/oauthlib/oauth2/rfc6749/grant_types/client_credentials.py\n",
            "google-cloud-sdk/lib/third_party/oauthlib/oauth2/rfc6749/grant_types/implicit.py\n",
            "google-cloud-sdk/lib/third_party/oauthlib/oauth2/rfc6749/grant_types/refresh_token.py\n",
            "google-cloud-sdk/lib/third_party/oauthlib/oauth2/rfc6749/grant_types/resource_owner_password_credentials.py\n",
            "google-cloud-sdk/lib/third_party/oauthlib/oauth2/rfc6749/parameters.py\n",
            "google-cloud-sdk/lib/third_party/oauthlib/oauth2/rfc6749/request_validator.py\n",
            "google-cloud-sdk/lib/third_party/oauthlib/oauth2/rfc6749/tokens.py\n",
            "google-cloud-sdk/lib/third_party/oauthlib/oauth2/rfc6749/utils.py\n",
            "google-cloud-sdk/lib/third_party/oauthlib/openid/__init__.py\n",
            "google-cloud-sdk/lib/third_party/oauthlib/openid/connect/__init__.py\n",
            "google-cloud-sdk/lib/third_party/oauthlib/openid/connect/core/__init__.py\n",
            "google-cloud-sdk/lib/third_party/oauthlib/openid/connect/core/endpoints/__init__.py\n",
            "google-cloud-sdk/lib/third_party/oauthlib/openid/connect/core/endpoints/pre_configured.py\n",
            "google-cloud-sdk/lib/third_party/oauthlib/openid/connect/core/exceptions.py\n",
            "google-cloud-sdk/lib/third_party/oauthlib/openid/connect/core/grant_types/__init__.py\n",
            "google-cloud-sdk/lib/third_party/oauthlib/openid/connect/core/grant_types/authorization_code.py\n",
            "google-cloud-sdk/lib/third_party/oauthlib/openid/connect/core/grant_types/base.py\n",
            "google-cloud-sdk/lib/third_party/oauthlib/openid/connect/core/grant_types/dispatchers.py\n",
            "google-cloud-sdk/lib/third_party/oauthlib/openid/connect/core/grant_types/exceptions.py\n",
            "google-cloud-sdk/lib/third_party/oauthlib/openid/connect/core/grant_types/hybrid.py\n",
            "google-cloud-sdk/lib/third_party/oauthlib/openid/connect/core/grant_types/implicit.py\n",
            "google-cloud-sdk/lib/third_party/oauthlib/openid/connect/core/request_validator.py\n",
            "google-cloud-sdk/lib/third_party/oauthlib/openid/connect/core/tokens.py\n",
            "google-cloud-sdk/lib/third_party/oauthlib/signals.py\n",
            "google-cloud-sdk/lib/third_party/oauthlib/uri_validate.py\n",
            "google-cloud-sdk/lib/third_party/overrides/LICENSE\n",
            "google-cloud-sdk/lib/third_party/overrides/__init__.py\n",
            "google-cloud-sdk/lib/third_party/overrides/enforce.py\n",
            "google-cloud-sdk/lib/third_party/overrides/final.py\n",
            "google-cloud-sdk/lib/third_party/overrides/overrides.py\n",
            "google-cloud-sdk/lib/third_party/packaging/LICENSE\n",
            "google-cloud-sdk/lib/third_party/packaging/__about__.py\n",
            "google-cloud-sdk/lib/third_party/packaging/__init__.py\n",
            "google-cloud-sdk/lib/third_party/packaging/_compat.py\n",
            "google-cloud-sdk/lib/third_party/packaging/_structures.py\n",
            "google-cloud-sdk/lib/third_party/packaging/markers.py\n",
            "google-cloud-sdk/lib/third_party/packaging/requirements.py\n",
            "google-cloud-sdk/lib/third_party/packaging/specifiers.py\n",
            "google-cloud-sdk/lib/third_party/packaging/utils.py\n",
            "google-cloud-sdk/lib/third_party/packaging/version.py\n",
            "google-cloud-sdk/lib/third_party/pkg_resources/__init__.py\n",
            "google-cloud-sdk/lib/third_party/portpicker/__init__.py\n",
            "google-cloud-sdk/lib/third_party/prompt_toolkit/__init__.py\n",
            "google-cloud-sdk/lib/third_party/prompt_toolkit/application.py\n",
            "google-cloud-sdk/lib/third_party/prompt_toolkit/auto_suggest.py\n",
            "google-cloud-sdk/lib/third_party/prompt_toolkit/buffer.py\n",
            "google-cloud-sdk/lib/third_party/prompt_toolkit/buffer_mapping.py\n",
            "google-cloud-sdk/lib/third_party/prompt_toolkit/cache.py\n",
            "google-cloud-sdk/lib/third_party/prompt_toolkit/clipboard/__init__.py\n",
            "google-cloud-sdk/lib/third_party/prompt_toolkit/clipboard/base.py\n",
            "google-cloud-sdk/lib/third_party/prompt_toolkit/clipboard/in_memory.py\n",
            "google-cloud-sdk/lib/third_party/prompt_toolkit/clipboard/pyperclip.py\n",
            "google-cloud-sdk/lib/third_party/prompt_toolkit/completion.py\n",
            "google-cloud-sdk/lib/third_party/prompt_toolkit/contrib/__init__.py\n",
            "google-cloud-sdk/lib/third_party/prompt_toolkit/contrib/completers/__init__.py\n",
            "google-cloud-sdk/lib/third_party/prompt_toolkit/contrib/completers/base.py\n",
            "google-cloud-sdk/lib/third_party/prompt_toolkit/contrib/completers/filesystem.py\n",
            "google-cloud-sdk/lib/third_party/prompt_toolkit/contrib/completers/system.py\n",
            "google-cloud-sdk/lib/third_party/prompt_toolkit/contrib/regular_languages/__init__.py\n",
            "google-cloud-sdk/lib/third_party/prompt_toolkit/contrib/regular_languages/compiler.py\n",
            "google-cloud-sdk/lib/third_party/prompt_toolkit/contrib/regular_languages/completion.py\n",
            "google-cloud-sdk/lib/third_party/prompt_toolkit/contrib/regular_languages/lexer.py\n",
            "google-cloud-sdk/lib/third_party/prompt_toolkit/contrib/regular_languages/regex_parser.py\n",
            "google-cloud-sdk/lib/third_party/prompt_toolkit/contrib/regular_languages/validation.py\n",
            "google-cloud-sdk/lib/third_party/prompt_toolkit/contrib/telnet/__init__.py\n",
            "google-cloud-sdk/lib/third_party/prompt_toolkit/contrib/telnet/application.py\n",
            "google-cloud-sdk/lib/third_party/prompt_toolkit/contrib/telnet/log.py\n",
            "google-cloud-sdk/lib/third_party/prompt_toolkit/contrib/telnet/protocol.py\n",
            "google-cloud-sdk/lib/third_party/prompt_toolkit/contrib/telnet/server.py\n",
            "google-cloud-sdk/lib/third_party/prompt_toolkit/contrib/validators/__init__.py\n",
            "google-cloud-sdk/lib/third_party/prompt_toolkit/contrib/validators/base.py\n",
            "google-cloud-sdk/lib/third_party/prompt_toolkit/document.py\n",
            "google-cloud-sdk/lib/third_party/prompt_toolkit/enums.py\n",
            "google-cloud-sdk/lib/third_party/prompt_toolkit/eventloop/__init__.py\n",
            "google-cloud-sdk/lib/third_party/prompt_toolkit/eventloop/asyncio_base.py\n",
            "google-cloud-sdk/lib/third_party/prompt_toolkit/eventloop/asyncio_posix.py\n",
            "google-cloud-sdk/lib/third_party/prompt_toolkit/eventloop/asyncio_win32.py\n",
            "google-cloud-sdk/lib/third_party/prompt_toolkit/eventloop/base.py\n",
            "google-cloud-sdk/lib/third_party/prompt_toolkit/eventloop/callbacks.py\n",
            "google-cloud-sdk/lib/third_party/prompt_toolkit/eventloop/inputhook.py\n",
            "google-cloud-sdk/lib/third_party/prompt_toolkit/eventloop/posix.py\n",
            "google-cloud-sdk/lib/third_party/prompt_toolkit/eventloop/posix_utils.py\n",
            "google-cloud-sdk/lib/third_party/prompt_toolkit/eventloop/select.py\n",
            "google-cloud-sdk/lib/third_party/prompt_toolkit/eventloop/utils.py\n",
            "google-cloud-sdk/lib/third_party/prompt_toolkit/eventloop/win32.py\n",
            "google-cloud-sdk/lib/third_party/prompt_toolkit/filters/__init__.py\n",
            "google-cloud-sdk/lib/third_party/prompt_toolkit/filters/base.py\n",
            "google-cloud-sdk/lib/third_party/prompt_toolkit/filters/cli.py\n",
            "google-cloud-sdk/lib/third_party/prompt_toolkit/filters/types.py\n",
            "google-cloud-sdk/lib/third_party/prompt_toolkit/filters/utils.py\n",
            "google-cloud-sdk/lib/third_party/prompt_toolkit/history.py\n",
            "google-cloud-sdk/lib/third_party/prompt_toolkit/input.py\n",
            "google-cloud-sdk/lib/third_party/prompt_toolkit/interface.py\n",
            "google-cloud-sdk/lib/third_party/prompt_toolkit/key_binding/__init__.py\n",
            "google-cloud-sdk/lib/third_party/prompt_toolkit/key_binding/bindings/__init__.py\n",
            "google-cloud-sdk/lib/third_party/prompt_toolkit/key_binding/bindings/basic.py\n",
            "google-cloud-sdk/lib/third_party/prompt_toolkit/key_binding/bindings/completion.py\n",
            "google-cloud-sdk/lib/third_party/prompt_toolkit/key_binding/bindings/emacs.py\n",
            "google-cloud-sdk/lib/third_party/prompt_toolkit/key_binding/bindings/named_commands.py\n",
            "google-cloud-sdk/lib/third_party/prompt_toolkit/key_binding/bindings/scroll.py\n",
            "google-cloud-sdk/lib/third_party/prompt_toolkit/key_binding/bindings/vi.py\n",
            "google-cloud-sdk/lib/third_party/prompt_toolkit/key_binding/defaults.py\n",
            "google-cloud-sdk/lib/third_party/prompt_toolkit/key_binding/digraphs.py\n",
            "google-cloud-sdk/lib/third_party/prompt_toolkit/key_binding/input_processor.py\n",
            "google-cloud-sdk/lib/third_party/prompt_toolkit/key_binding/manager.py\n",
            "google-cloud-sdk/lib/third_party/prompt_toolkit/key_binding/registry.py\n",
            "google-cloud-sdk/lib/third_party/prompt_toolkit/key_binding/vi_state.py\n",
            "google-cloud-sdk/lib/third_party/prompt_toolkit/keys.py\n",
            "google-cloud-sdk/lib/third_party/prompt_toolkit/layout/__init__.py\n",
            "google-cloud-sdk/lib/third_party/prompt_toolkit/layout/containers.py\n",
            "google-cloud-sdk/lib/third_party/prompt_toolkit/layout/controls.py\n",
            "google-cloud-sdk/lib/third_party/prompt_toolkit/layout/dimension.py\n",
            "google-cloud-sdk/lib/third_party/prompt_toolkit/layout/lexers.py\n",
            "google-cloud-sdk/lib/third_party/prompt_toolkit/layout/margins.py\n",
            "google-cloud-sdk/lib/third_party/prompt_toolkit/layout/menus.py\n",
            "google-cloud-sdk/lib/third_party/prompt_toolkit/layout/mouse_handlers.py\n",
            "google-cloud-sdk/lib/third_party/prompt_toolkit/layout/processors.py\n",
            "google-cloud-sdk/lib/third_party/prompt_toolkit/layout/prompt.py\n",
            "google-cloud-sdk/lib/third_party/prompt_toolkit/layout/screen.py\n",
            "google-cloud-sdk/lib/third_party/prompt_toolkit/layout/toolbars.py\n",
            "google-cloud-sdk/lib/third_party/prompt_toolkit/layout/utils.py\n",
            "google-cloud-sdk/lib/third_party/prompt_toolkit/mouse_events.py\n",
            "google-cloud-sdk/lib/third_party/prompt_toolkit/output.py\n",
            "google-cloud-sdk/lib/third_party/prompt_toolkit/reactive.py\n",
            "google-cloud-sdk/lib/third_party/prompt_toolkit/renderer.py\n",
            "google-cloud-sdk/lib/third_party/prompt_toolkit/search_state.py\n",
            "google-cloud-sdk/lib/third_party/prompt_toolkit/selection.py\n",
            "google-cloud-sdk/lib/third_party/prompt_toolkit/setup.py\n",
            "google-cloud-sdk/lib/third_party/prompt_toolkit/shortcuts.py\n",
            "google-cloud-sdk/lib/third_party/prompt_toolkit/styles/__init__.py\n",
            "google-cloud-sdk/lib/third_party/prompt_toolkit/styles/base.py\n",
            "google-cloud-sdk/lib/third_party/prompt_toolkit/styles/defaults.py\n",
            "google-cloud-sdk/lib/third_party/prompt_toolkit/styles/from_dict.py\n",
            "google-cloud-sdk/lib/third_party/prompt_toolkit/styles/from_pygments.py\n",
            "google-cloud-sdk/lib/third_party/prompt_toolkit/styles/utils.py\n",
            "google-cloud-sdk/lib/third_party/prompt_toolkit/terminal/__init__.py\n",
            "google-cloud-sdk/lib/third_party/prompt_toolkit/terminal/conemu_output.py\n",
            "google-cloud-sdk/lib/third_party/prompt_toolkit/terminal/vt100_input.py\n",
            "google-cloud-sdk/lib/third_party/prompt_toolkit/terminal/vt100_output.py\n",
            "google-cloud-sdk/lib/third_party/prompt_toolkit/terminal/win32_input.py\n",
            "google-cloud-sdk/lib/third_party/prompt_toolkit/terminal/win32_output.py\n",
            "google-cloud-sdk/lib/third_party/prompt_toolkit/token.py\n",
            "google-cloud-sdk/lib/third_party/prompt_toolkit/utils.py\n",
            "google-cloud-sdk/lib/third_party/prompt_toolkit/validation.py\n",
            "google-cloud-sdk/lib/third_party/prompt_toolkit/win32_types.py\n",
            "google-cloud-sdk/lib/third_party/proto/LICENSE\n",
            "google-cloud-sdk/lib/third_party/proto/__init__.py\n",
            "google-cloud-sdk/lib/third_party/proto/_file_info.py\n",
            "google-cloud-sdk/lib/third_party/proto/_package_info.py\n",
            "google-cloud-sdk/lib/third_party/proto/datetime_helpers.py\n",
            "google-cloud-sdk/lib/third_party/proto/enums.py\n",
            "google-cloud-sdk/lib/third_party/proto/fields.py\n",
            "google-cloud-sdk/lib/third_party/proto/marshal/__init__.py\n",
            "google-cloud-sdk/lib/third_party/proto/marshal/collections/__init__.py\n",
            "google-cloud-sdk/lib/third_party/proto/marshal/collections/maps.py\n",
            "google-cloud-sdk/lib/third_party/proto/marshal/collections/repeated.py\n",
            "google-cloud-sdk/lib/third_party/proto/marshal/compat.py\n",
            "google-cloud-sdk/lib/third_party/proto/marshal/marshal.py\n",
            "google-cloud-sdk/lib/third_party/proto/marshal/rules/__init__.py\n",
            "google-cloud-sdk/lib/third_party/proto/marshal/rules/dates.py\n",
            "google-cloud-sdk/lib/third_party/proto/marshal/rules/enums.py\n",
            "google-cloud-sdk/lib/third_party/proto/marshal/rules/message.py\n",
            "google-cloud-sdk/lib/third_party/proto/marshal/rules/struct.py\n",
            "google-cloud-sdk/lib/third_party/proto/marshal/rules/wrappers.py\n",
            "google-cloud-sdk/lib/third_party/proto/message.py\n",
            "google-cloud-sdk/lib/third_party/proto/modules.py\n",
            "google-cloud-sdk/lib/third_party/proto/primitives.py\n",
            "google-cloud-sdk/lib/third_party/proto/utils.py\n",
            "google-cloud-sdk/lib/third_party/pyasn1/LICENSE\n",
            "google-cloud-sdk/lib/third_party/pyasn1/__init__.py\n",
            "google-cloud-sdk/lib/third_party/pyasn1/codec/__init__.py\n",
            "google-cloud-sdk/lib/third_party/pyasn1/codec/ber/__init__.py\n",
            "google-cloud-sdk/lib/third_party/pyasn1/codec/ber/decoder.py\n",
            "google-cloud-sdk/lib/third_party/pyasn1/codec/ber/encoder.py\n",
            "google-cloud-sdk/lib/third_party/pyasn1/codec/ber/eoo.py\n",
            "google-cloud-sdk/lib/third_party/pyasn1/codec/cer/__init__.py\n",
            "google-cloud-sdk/lib/third_party/pyasn1/codec/cer/decoder.py\n",
            "google-cloud-sdk/lib/third_party/pyasn1/codec/cer/encoder.py\n",
            "google-cloud-sdk/lib/third_party/pyasn1/codec/der/__init__.py\n",
            "google-cloud-sdk/lib/third_party/pyasn1/codec/der/decoder.py\n",
            "google-cloud-sdk/lib/third_party/pyasn1/codec/der/encoder.py\n",
            "google-cloud-sdk/lib/third_party/pyasn1/codec/native/__init__.py\n",
            "google-cloud-sdk/lib/third_party/pyasn1/codec/native/decoder.py\n",
            "google-cloud-sdk/lib/third_party/pyasn1/codec/native/encoder.py\n",
            "google-cloud-sdk/lib/third_party/pyasn1/compat/__init__.py\n",
            "google-cloud-sdk/lib/third_party/pyasn1/compat/binary.py\n",
            "google-cloud-sdk/lib/third_party/pyasn1/compat/calling.py\n",
            "google-cloud-sdk/lib/third_party/pyasn1/compat/dateandtime.py\n",
            "google-cloud-sdk/lib/third_party/pyasn1/compat/integer.py\n",
            "google-cloud-sdk/lib/third_party/pyasn1/compat/octets.py\n",
            "google-cloud-sdk/lib/third_party/pyasn1/compat/string.py\n",
            "google-cloud-sdk/lib/third_party/pyasn1/debug.py\n",
            "google-cloud-sdk/lib/third_party/pyasn1/error.py\n",
            "google-cloud-sdk/lib/third_party/pyasn1/type/__init__.py\n",
            "google-cloud-sdk/lib/third_party/pyasn1/type/base.py\n",
            "google-cloud-sdk/lib/third_party/pyasn1/type/char.py\n",
            "google-cloud-sdk/lib/third_party/pyasn1/type/constraint.py\n",
            "google-cloud-sdk/lib/third_party/pyasn1/type/error.py\n",
            "google-cloud-sdk/lib/third_party/pyasn1/type/namedtype.py\n",
            "google-cloud-sdk/lib/third_party/pyasn1/type/namedval.py\n",
            "google-cloud-sdk/lib/third_party/pyasn1/type/opentype.py\n",
            "google-cloud-sdk/lib/third_party/pyasn1/type/tag.py\n",
            "google-cloud-sdk/lib/third_party/pyasn1/type/tagmap.py\n",
            "google-cloud-sdk/lib/third_party/pyasn1/type/univ.py\n",
            "google-cloud-sdk/lib/third_party/pyasn1/type/useful.py\n",
            "google-cloud-sdk/lib/third_party/pyasn1_modules/LICENSE\n",
            "google-cloud-sdk/lib/third_party/pyasn1_modules/__init__.py\n",
            "google-cloud-sdk/lib/third_party/pyasn1_modules/pem.py\n",
            "google-cloud-sdk/lib/third_party/pyasn1_modules/rfc1155.py\n",
            "google-cloud-sdk/lib/third_party/pyasn1_modules/rfc1157.py\n",
            "google-cloud-sdk/lib/third_party/pyasn1_modules/rfc1901.py\n",
            "google-cloud-sdk/lib/third_party/pyasn1_modules/rfc1902.py\n",
            "google-cloud-sdk/lib/third_party/pyasn1_modules/rfc1905.py\n",
            "google-cloud-sdk/lib/third_party/pyasn1_modules/rfc2251.py\n",
            "google-cloud-sdk/lib/third_party/pyasn1_modules/rfc2314.py\n",
            "google-cloud-sdk/lib/third_party/pyasn1_modules/rfc2315.py\n",
            "google-cloud-sdk/lib/third_party/pyasn1_modules/rfc2437.py\n",
            "google-cloud-sdk/lib/third_party/pyasn1_modules/rfc2459.py\n",
            "google-cloud-sdk/lib/third_party/pyasn1_modules/rfc2511.py\n",
            "google-cloud-sdk/lib/third_party/pyasn1_modules/rfc2560.py\n",
            "google-cloud-sdk/lib/third_party/pyasn1_modules/rfc2986.py\n",
            "google-cloud-sdk/lib/third_party/pyasn1_modules/rfc3279.py\n",
            "google-cloud-sdk/lib/third_party/pyasn1_modules/rfc3280.py\n",
            "google-cloud-sdk/lib/third_party/pyasn1_modules/rfc3281.py\n",
            "google-cloud-sdk/lib/third_party/pyasn1_modules/rfc3412.py\n",
            "google-cloud-sdk/lib/third_party/pyasn1_modules/rfc3414.py\n",
            "google-cloud-sdk/lib/third_party/pyasn1_modules/rfc3447.py\n",
            "google-cloud-sdk/lib/third_party/pyasn1_modules/rfc3852.py\n",
            "google-cloud-sdk/lib/third_party/pyasn1_modules/rfc4210.py\n",
            "google-cloud-sdk/lib/third_party/pyasn1_modules/rfc4211.py\n",
            "google-cloud-sdk/lib/third_party/pyasn1_modules/rfc5208.py\n",
            "google-cloud-sdk/lib/third_party/pyasn1_modules/rfc5280.py\n",
            "google-cloud-sdk/lib/third_party/pyasn1_modules/rfc5652.py\n",
            "google-cloud-sdk/lib/third_party/pyasn1_modules/rfc6402.py\n",
            "google-cloud-sdk/lib/third_party/pygments/LICENSE\n",
            "google-cloud-sdk/lib/third_party/pygments/__init__.py\n",
            "google-cloud-sdk/lib/third_party/pygments/cmdline.py\n",
            "google-cloud-sdk/lib/third_party/pygments/console.py\n",
            "google-cloud-sdk/lib/third_party/pygments/filter.py\n",
            "google-cloud-sdk/lib/third_party/pygments/filters/__init__.py\n",
            "google-cloud-sdk/lib/third_party/pygments/formatter.py\n",
            "google-cloud-sdk/lib/third_party/pygments/formatters/__init__.py\n",
            "google-cloud-sdk/lib/third_party/pygments/formatters/_mapping.py\n",
            "google-cloud-sdk/lib/third_party/pygments/formatters/bbcode.py\n",
            "google-cloud-sdk/lib/third_party/pygments/formatters/html.py\n",
            "google-cloud-sdk/lib/third_party/pygments/formatters/img.py\n",
            "google-cloud-sdk/lib/third_party/pygments/formatters/irc.py\n",
            "google-cloud-sdk/lib/third_party/pygments/formatters/latex.py\n",
            "google-cloud-sdk/lib/third_party/pygments/formatters/other.py\n",
            "google-cloud-sdk/lib/third_party/pygments/formatters/rtf.py\n",
            "google-cloud-sdk/lib/third_party/pygments/formatters/svg.py\n",
            "google-cloud-sdk/lib/third_party/pygments/formatters/terminal.py\n",
            "google-cloud-sdk/lib/third_party/pygments/formatters/terminal256.py\n",
            "google-cloud-sdk/lib/third_party/pygments/lexer.py\n",
            "google-cloud-sdk/lib/third_party/pygments/lexers/__init__.py\n",
            "google-cloud-sdk/lib/third_party/pygments/lexers/_asy_builtins.py\n",
            "google-cloud-sdk/lib/third_party/pygments/lexers/_cl_builtins.py\n",
            "google-cloud-sdk/lib/third_party/pygments/lexers/_cocoa_builtins.py\n",
            "google-cloud-sdk/lib/third_party/pygments/lexers/_csound_builtins.py\n",
            "google-cloud-sdk/lib/third_party/pygments/lexers/_lasso_builtins.py\n",
            "google-cloud-sdk/lib/third_party/pygments/lexers/_lua_builtins.py\n",
            "google-cloud-sdk/lib/third_party/pygments/lexers/_mapping.py\n",
            "google-cloud-sdk/lib/third_party/pygments/lexers/_mql_builtins.py\n",
            "google-cloud-sdk/lib/third_party/pygments/lexers/_openedge_builtins.py\n",
            "google-cloud-sdk/lib/third_party/pygments/lexers/_php_builtins.py\n",
            "google-cloud-sdk/lib/third_party/pygments/lexers/_postgres_builtins.py\n",
            "google-cloud-sdk/lib/third_party/pygments/lexers/_scilab_builtins.py\n",
            "google-cloud-sdk/lib/third_party/pygments/lexers/_sourcemod_builtins.py\n",
            "google-cloud-sdk/lib/third_party/pygments/lexers/_stan_builtins.py\n",
            "google-cloud-sdk/lib/third_party/pygments/lexers/_stata_builtins.py\n",
            "google-cloud-sdk/lib/third_party/pygments/lexers/_tsql_builtins.py\n",
            "google-cloud-sdk/lib/third_party/pygments/lexers/_vim_builtins.py\n",
            "google-cloud-sdk/lib/third_party/pygments/lexers/actionscript.py\n",
            "google-cloud-sdk/lib/third_party/pygments/lexers/agile.py\n",
            "google-cloud-sdk/lib/third_party/pygments/lexers/algebra.py\n",
            "google-cloud-sdk/lib/third_party/pygments/lexers/ambient.py\n",
            "google-cloud-sdk/lib/third_party/pygments/lexers/ampl.py\n",
            "google-cloud-sdk/lib/third_party/pygments/lexers/apl.py\n",
            "google-cloud-sdk/lib/third_party/pygments/lexers/archetype.py\n",
            "google-cloud-sdk/lib/third_party/pygments/lexers/asm.py\n",
            "google-cloud-sdk/lib/third_party/pygments/lexers/automation.py\n",
            "google-cloud-sdk/lib/third_party/pygments/lexers/basic.py\n",
            "google-cloud-sdk/lib/third_party/pygments/lexers/bibtex.py\n",
            "google-cloud-sdk/lib/third_party/pygments/lexers/business.py\n",
            "google-cloud-sdk/lib/third_party/pygments/lexers/c_cpp.py\n",
            "google-cloud-sdk/lib/third_party/pygments/lexers/c_like.py\n",
            "google-cloud-sdk/lib/third_party/pygments/lexers/capnproto.py\n",
            "google-cloud-sdk/lib/third_party/pygments/lexers/chapel.py\n",
            "google-cloud-sdk/lib/third_party/pygments/lexers/clean.py\n",
            "google-cloud-sdk/lib/third_party/pygments/lexers/compiled.py\n",
            "google-cloud-sdk/lib/third_party/pygments/lexers/configs.py\n",
            "google-cloud-sdk/lib/third_party/pygments/lexers/console.py\n",
            "google-cloud-sdk/lib/third_party/pygments/lexers/crystal.py\n",
            "google-cloud-sdk/lib/third_party/pygments/lexers/csound.py\n",
            "google-cloud-sdk/lib/third_party/pygments/lexers/css.py\n",
            "google-cloud-sdk/lib/third_party/pygments/lexers/d.py\n",
            "google-cloud-sdk/lib/third_party/pygments/lexers/dalvik.py\n",
            "google-cloud-sdk/lib/third_party/pygments/lexers/data.py\n",
            "google-cloud-sdk/lib/third_party/pygments/lexers/diff.py\n",
            "google-cloud-sdk/lib/third_party/pygments/lexers/dotnet.py\n",
            "google-cloud-sdk/lib/third_party/pygments/lexers/dsls.py\n",
            "google-cloud-sdk/lib/third_party/pygments/lexers/dylan.py\n",
            "google-cloud-sdk/lib/third_party/pygments/lexers/ecl.py\n",
            "google-cloud-sdk/lib/third_party/pygments/lexers/eiffel.py\n",
            "google-cloud-sdk/lib/third_party/pygments/lexers/elm.py\n",
            "google-cloud-sdk/lib/third_party/pygments/lexers/erlang.py\n",
            "google-cloud-sdk/lib/third_party/pygments/lexers/esoteric.py\n",
            "google-cloud-sdk/lib/third_party/pygments/lexers/ezhil.py\n",
            "google-cloud-sdk/lib/third_party/pygments/lexers/factor.py\n",
            "google-cloud-sdk/lib/third_party/pygments/lexers/fantom.py\n",
            "google-cloud-sdk/lib/third_party/pygments/lexers/felix.py\n",
            "google-cloud-sdk/lib/third_party/pygments/lexers/forth.py\n",
            "google-cloud-sdk/lib/third_party/pygments/lexers/fortran.py\n",
            "google-cloud-sdk/lib/third_party/pygments/lexers/foxpro.py\n",
            "google-cloud-sdk/lib/third_party/pygments/lexers/functional.py\n",
            "google-cloud-sdk/lib/third_party/pygments/lexers/go.py\n",
            "google-cloud-sdk/lib/third_party/pygments/lexers/grammar_notation.py\n",
            "google-cloud-sdk/lib/third_party/pygments/lexers/graph.py\n",
            "google-cloud-sdk/lib/third_party/pygments/lexers/graphics.py\n",
            "google-cloud-sdk/lib/third_party/pygments/lexers/haskell.py\n",
            "google-cloud-sdk/lib/third_party/pygments/lexers/haxe.py\n",
            "google-cloud-sdk/lib/third_party/pygments/lexers/hdl.py\n",
            "google-cloud-sdk/lib/third_party/pygments/lexers/hexdump.py\n",
            "google-cloud-sdk/lib/third_party/pygments/lexers/html.py\n",
            "google-cloud-sdk/lib/third_party/pygments/lexers/idl.py\n",
            "google-cloud-sdk/lib/third_party/pygments/lexers/igor.py\n",
            "google-cloud-sdk/lib/third_party/pygments/lexers/inferno.py\n",
            "google-cloud-sdk/lib/third_party/pygments/lexers/installers.py\n",
            "google-cloud-sdk/lib/third_party/pygments/lexers/int_fiction.py\n",
            "google-cloud-sdk/lib/third_party/pygments/lexers/iolang.py\n",
            "google-cloud-sdk/lib/third_party/pygments/lexers/j.py\n",
            "google-cloud-sdk/lib/third_party/pygments/lexers/javascript.py\n",
            "google-cloud-sdk/lib/third_party/pygments/lexers/julia.py\n",
            "google-cloud-sdk/lib/third_party/pygments/lexers/jvm.py\n",
            "google-cloud-sdk/lib/third_party/pygments/lexers/lisp.py\n",
            "google-cloud-sdk/lib/third_party/pygments/lexers/make.py\n",
            "google-cloud-sdk/lib/third_party/pygments/lexers/markup.py\n",
            "google-cloud-sdk/lib/third_party/pygments/lexers/math.py\n",
            "google-cloud-sdk/lib/third_party/pygments/lexers/matlab.py\n",
            "google-cloud-sdk/lib/third_party/pygments/lexers/ml.py\n",
            "google-cloud-sdk/lib/third_party/pygments/lexers/modeling.py\n",
            "google-cloud-sdk/lib/third_party/pygments/lexers/modula2.py\n",
            "google-cloud-sdk/lib/third_party/pygments/lexers/monte.py\n",
            "google-cloud-sdk/lib/third_party/pygments/lexers/ncl.py\n",
            "google-cloud-sdk/lib/third_party/pygments/lexers/nimrod.py\n",
            "google-cloud-sdk/lib/third_party/pygments/lexers/nit.py\n",
            "google-cloud-sdk/lib/third_party/pygments/lexers/nix.py\n",
            "google-cloud-sdk/lib/third_party/pygments/lexers/oberon.py\n",
            "google-cloud-sdk/lib/third_party/pygments/lexers/objective.py\n",
            "google-cloud-sdk/lib/third_party/pygments/lexers/ooc.py\n",
            "google-cloud-sdk/lib/third_party/pygments/lexers/other.py\n",
            "google-cloud-sdk/lib/third_party/pygments/lexers/parasail.py\n",
            "google-cloud-sdk/lib/third_party/pygments/lexers/parsers.py\n",
            "google-cloud-sdk/lib/third_party/pygments/lexers/pascal.py\n",
            "google-cloud-sdk/lib/third_party/pygments/lexers/pawn.py\n",
            "google-cloud-sdk/lib/third_party/pygments/lexers/perl.py\n",
            "google-cloud-sdk/lib/third_party/pygments/lexers/php.py\n",
            "google-cloud-sdk/lib/third_party/pygments/lexers/praat.py\n",
            "google-cloud-sdk/lib/third_party/pygments/lexers/prolog.py\n",
            "google-cloud-sdk/lib/third_party/pygments/lexers/python.py\n",
            "google-cloud-sdk/lib/third_party/pygments/lexers/qvt.py\n",
            "google-cloud-sdk/lib/third_party/pygments/lexers/r.py\n",
            "google-cloud-sdk/lib/third_party/pygments/lexers/rdf.py\n",
            "google-cloud-sdk/lib/third_party/pygments/lexers/rebol.py\n",
            "google-cloud-sdk/lib/third_party/pygments/lexers/resource.py\n",
            "google-cloud-sdk/lib/third_party/pygments/lexers/rnc.py\n",
            "google-cloud-sdk/lib/third_party/pygments/lexers/roboconf.py\n",
            "google-cloud-sdk/lib/third_party/pygments/lexers/robotframework.py\n",
            "google-cloud-sdk/lib/third_party/pygments/lexers/ruby.py\n",
            "google-cloud-sdk/lib/third_party/pygments/lexers/rust.py\n",
            "google-cloud-sdk/lib/third_party/pygments/lexers/sas.py\n",
            "google-cloud-sdk/lib/third_party/pygments/lexers/scripting.py\n",
            "google-cloud-sdk/lib/third_party/pygments/lexers/shell.py\n",
            "google-cloud-sdk/lib/third_party/pygments/lexers/smalltalk.py\n",
            "google-cloud-sdk/lib/third_party/pygments/lexers/smv.py\n",
            "google-cloud-sdk/lib/third_party/pygments/lexers/snobol.py\n",
            "google-cloud-sdk/lib/third_party/pygments/lexers/special.py\n",
            "google-cloud-sdk/lib/third_party/pygments/lexers/sql.py\n",
            "google-cloud-sdk/lib/third_party/pygments/lexers/stata.py\n",
            "google-cloud-sdk/lib/third_party/pygments/lexers/supercollider.py\n",
            "google-cloud-sdk/lib/third_party/pygments/lexers/tcl.py\n",
            "google-cloud-sdk/lib/third_party/pygments/lexers/templates.py\n",
            "google-cloud-sdk/lib/third_party/pygments/lexers/testing.py\n",
            "google-cloud-sdk/lib/third_party/pygments/lexers/text.py\n",
            "google-cloud-sdk/lib/third_party/pygments/lexers/textedit.py\n",
            "google-cloud-sdk/lib/third_party/pygments/lexers/textfmts.py\n",
            "google-cloud-sdk/lib/third_party/pygments/lexers/theorem.py\n",
            "google-cloud-sdk/lib/third_party/pygments/lexers/trafficscript.py\n",
            "google-cloud-sdk/lib/third_party/pygments/lexers/typoscript.py\n",
            "google-cloud-sdk/lib/third_party/pygments/lexers/urbi.py\n",
            "google-cloud-sdk/lib/third_party/pygments/lexers/varnish.py\n",
            "google-cloud-sdk/lib/third_party/pygments/lexers/verification.py\n",
            "google-cloud-sdk/lib/third_party/pygments/lexers/web.py\n",
            "google-cloud-sdk/lib/third_party/pygments/lexers/webmisc.py\n",
            "google-cloud-sdk/lib/third_party/pygments/lexers/whiley.py\n",
            "google-cloud-sdk/lib/third_party/pygments/lexers/x10.py\n",
            "google-cloud-sdk/lib/third_party/pygments/modeline.py\n",
            "google-cloud-sdk/lib/third_party/pygments/plugin.py\n",
            "google-cloud-sdk/lib/third_party/pygments/regexopt.py\n",
            "google-cloud-sdk/lib/third_party/pygments/scanner.py\n",
            "google-cloud-sdk/lib/third_party/pygments/sphinxext.py\n",
            "google-cloud-sdk/lib/third_party/pygments/style.py\n",
            "google-cloud-sdk/lib/third_party/pygments/styles/__init__.py\n",
            "google-cloud-sdk/lib/third_party/pygments/styles/abap.py\n",
            "google-cloud-sdk/lib/third_party/pygments/styles/algol.py\n",
            "google-cloud-sdk/lib/third_party/pygments/styles/algol_nu.py\n",
            "google-cloud-sdk/lib/third_party/pygments/styles/arduino.py\n",
            "google-cloud-sdk/lib/third_party/pygments/styles/autumn.py\n",
            "google-cloud-sdk/lib/third_party/pygments/styles/borland.py\n",
            "google-cloud-sdk/lib/third_party/pygments/styles/bw.py\n",
            "google-cloud-sdk/lib/third_party/pygments/styles/colorful.py\n",
            "google-cloud-sdk/lib/third_party/pygments/styles/default.py\n",
            "google-cloud-sdk/lib/third_party/pygments/styles/emacs.py\n",
            "google-cloud-sdk/lib/third_party/pygments/styles/friendly.py\n",
            "google-cloud-sdk/lib/third_party/pygments/styles/fruity.py\n",
            "google-cloud-sdk/lib/third_party/pygments/styles/igor.py\n",
            "google-cloud-sdk/lib/third_party/pygments/styles/lovelace.py\n",
            "google-cloud-sdk/lib/third_party/pygments/styles/manni.py\n",
            "google-cloud-sdk/lib/third_party/pygments/styles/monokai.py\n",
            "google-cloud-sdk/lib/third_party/pygments/styles/murphy.py\n",
            "google-cloud-sdk/lib/third_party/pygments/styles/native.py\n",
            "google-cloud-sdk/lib/third_party/pygments/styles/paraiso_dark.py\n",
            "google-cloud-sdk/lib/third_party/pygments/styles/paraiso_light.py\n",
            "google-cloud-sdk/lib/third_party/pygments/styles/pastie.py\n",
            "google-cloud-sdk/lib/third_party/pygments/styles/perldoc.py\n",
            "google-cloud-sdk/lib/third_party/pygments/styles/rainbow_dash.py\n",
            "google-cloud-sdk/lib/third_party/pygments/styles/rrt.py\n",
            "google-cloud-sdk/lib/third_party/pygments/styles/sas.py\n",
            "google-cloud-sdk/lib/third_party/pygments/styles/stata.py\n",
            "google-cloud-sdk/lib/third_party/pygments/styles/tango.py\n",
            "google-cloud-sdk/lib/third_party/pygments/styles/trac.py\n",
            "google-cloud-sdk/lib/third_party/pygments/styles/vim.py\n",
            "google-cloud-sdk/lib/third_party/pygments/styles/vs.py\n",
            "google-cloud-sdk/lib/third_party/pygments/styles/xcode.py\n",
            "google-cloud-sdk/lib/third_party/pygments/token.py\n",
            "google-cloud-sdk/lib/third_party/pygments/unistring.py\n",
            "google-cloud-sdk/lib/third_party/pygments/util.py\n",
            "google-cloud-sdk/lib/third_party/pyparsing/__init__.py\n",
            "google-cloud-sdk/lib/third_party/pytz/LICENSE\n",
            "google-cloud-sdk/lib/third_party/pytz/__init__.py\n",
            "google-cloud-sdk/lib/third_party/pytz/exceptions.py\n",
            "google-cloud-sdk/lib/third_party/pytz/lazy.py\n",
            "google-cloud-sdk/lib/third_party/pytz/reference.py\n",
            "google-cloud-sdk/lib/third_party/pytz/tzfile.py\n",
            "google-cloud-sdk/lib/third_party/pytz/tzinfo.py\n",
            "google-cloud-sdk/lib/third_party/pytz/zoneinfo/Africa/Abidjan\n",
            "google-cloud-sdk/lib/third_party/pytz/zoneinfo/Africa/Accra\n",
            "google-cloud-sdk/lib/third_party/pytz/zoneinfo/Africa/Addis_Ababa\n",
            "google-cloud-sdk/lib/third_party/pytz/zoneinfo/Africa/Algiers\n",
            "google-cloud-sdk/lib/third_party/pytz/zoneinfo/Africa/Asmara\n",
            "google-cloud-sdk/lib/third_party/pytz/zoneinfo/Africa/Asmera\n",
            "google-cloud-sdk/lib/third_party/pytz/zoneinfo/Africa/Bamako\n",
            "google-cloud-sdk/lib/third_party/pytz/zoneinfo/Africa/Bangui\n",
            "google-cloud-sdk/lib/third_party/pytz/zoneinfo/Africa/Banjul\n",
            "google-cloud-sdk/lib/third_party/pytz/zoneinfo/Africa/Bissau\n",
            "google-cloud-sdk/lib/third_party/pytz/zoneinfo/Africa/Blantyre\n",
            "google-cloud-sdk/lib/third_party/pytz/zoneinfo/Africa/Brazzaville\n",
            "google-cloud-sdk/lib/third_party/pytz/zoneinfo/Africa/Bujumbura\n",
            "google-cloud-sdk/lib/third_party/pytz/zoneinfo/Africa/Cairo\n",
            "google-cloud-sdk/lib/third_party/pytz/zoneinfo/Africa/Casablanca\n",
            "google-cloud-sdk/lib/third_party/pytz/zoneinfo/Africa/Ceuta\n",
            "google-cloud-sdk/lib/third_party/pytz/zoneinfo/Africa/Conakry\n",
            "google-cloud-sdk/lib/third_party/pytz/zoneinfo/Africa/Dakar\n",
            "google-cloud-sdk/lib/third_party/pytz/zoneinfo/Africa/Dar_es_Salaam\n",
            "google-cloud-sdk/lib/third_party/pytz/zoneinfo/Africa/Djibouti\n",
            "google-cloud-sdk/lib/third_party/pytz/zoneinfo/Africa/Douala\n",
            "google-cloud-sdk/lib/third_party/pytz/zoneinfo/Africa/El_Aaiun\n",
            "google-cloud-sdk/lib/third_party/pytz/zoneinfo/Africa/Freetown\n",
            "google-cloud-sdk/lib/third_party/pytz/zoneinfo/Africa/Gaborone\n",
            "google-cloud-sdk/lib/third_party/pytz/zoneinfo/Africa/Harare\n",
            "google-cloud-sdk/lib/third_party/pytz/zoneinfo/Africa/Johannesburg\n",
            "google-cloud-sdk/lib/third_party/pytz/zoneinfo/Africa/Juba\n",
            "google-cloud-sdk/lib/third_party/pytz/zoneinfo/Africa/Kampala\n",
            "google-cloud-sdk/lib/third_party/pytz/zoneinfo/Africa/Khartoum\n",
            "google-cloud-sdk/lib/third_party/pytz/zoneinfo/Africa/Kigali\n",
            "google-cloud-sdk/lib/third_party/pytz/zoneinfo/Africa/Kinshasa\n",
            "google-cloud-sdk/lib/third_party/pytz/zoneinfo/Africa/Lagos\n",
            "google-cloud-sdk/lib/third_party/pytz/zoneinfo/Africa/Libreville\n",
            "google-cloud-sdk/lib/third_party/pytz/zoneinfo/Africa/Lome\n",
            "google-cloud-sdk/lib/third_party/pytz/zoneinfo/Africa/Luanda\n",
            "google-cloud-sdk/lib/third_party/pytz/zoneinfo/Africa/Lubumbashi\n",
            "google-cloud-sdk/lib/third_party/pytz/zoneinfo/Africa/Lusaka\n",
            "google-cloud-sdk/lib/third_party/pytz/zoneinfo/Africa/Malabo\n",
            "google-cloud-sdk/lib/third_party/pytz/zoneinfo/Africa/Maputo\n",
            "google-cloud-sdk/lib/third_party/pytz/zoneinfo/Africa/Maseru\n",
            "google-cloud-sdk/lib/third_party/pytz/zoneinfo/Africa/Mbabane\n",
            "google-cloud-sdk/lib/third_party/pytz/zoneinfo/Africa/Mogadishu\n",
            "google-cloud-sdk/lib/third_party/pytz/zoneinfo/Africa/Monrovia\n",
            "google-cloud-sdk/lib/third_party/pytz/zoneinfo/Africa/Nairobi\n",
            "google-cloud-sdk/lib/third_party/pytz/zoneinfo/Africa/Ndjamena\n",
            "google-cloud-sdk/lib/third_party/pytz/zoneinfo/Africa/Niamey\n",
            "google-cloud-sdk/lib/third_party/pytz/zoneinfo/Africa/Nouakchott\n",
            "google-cloud-sdk/lib/third_party/pytz/zoneinfo/Africa/Ouagadougou\n",
            "google-cloud-sdk/lib/third_party/pytz/zoneinfo/Africa/Porto-Novo\n",
            "google-cloud-sdk/lib/third_party/pytz/zoneinfo/Africa/Sao_Tome\n",
            "google-cloud-sdk/lib/third_party/pytz/zoneinfo/Africa/Timbuktu\n",
            "google-cloud-sdk/lib/third_party/pytz/zoneinfo/Africa/Tripoli\n",
            "google-cloud-sdk/lib/third_party/pytz/zoneinfo/Africa/Tunis\n",
            "google-cloud-sdk/lib/third_party/pytz/zoneinfo/Africa/Windhoek\n",
            "google-cloud-sdk/lib/third_party/pytz/zoneinfo/America/Adak\n",
            "google-cloud-sdk/lib/third_party/pytz/zoneinfo/America/Anchorage\n",
            "google-cloud-sdk/lib/third_party/pytz/zoneinfo/America/Anguilla\n",
            "google-cloud-sdk/lib/third_party/pytz/zoneinfo/America/Antigua\n",
            "google-cloud-sdk/lib/third_party/pytz/zoneinfo/America/Araguaina\n",
            "google-cloud-sdk/lib/third_party/pytz/zoneinfo/America/Argentina/Buenos_Aires\n",
            "google-cloud-sdk/lib/third_party/pytz/zoneinfo/America/Argentina/Catamarca\n",
            "google-cloud-sdk/lib/third_party/pytz/zoneinfo/America/Argentina/ComodRivadavia\n",
            "google-cloud-sdk/lib/third_party/pytz/zoneinfo/America/Argentina/Cordoba\n",
            "google-cloud-sdk/lib/third_party/pytz/zoneinfo/America/Argentina/Jujuy\n",
            "google-cloud-sdk/lib/third_party/pytz/zoneinfo/America/Argentina/La_Rioja\n",
            "google-cloud-sdk/lib/third_party/pytz/zoneinfo/America/Argentina/Mendoza\n",
            "google-cloud-sdk/lib/third_party/pytz/zoneinfo/America/Argentina/Rio_Gallegos\n",
            "google-cloud-sdk/lib/third_party/pytz/zoneinfo/America/Argentina/Salta\n",
            "google-cloud-sdk/lib/third_party/pytz/zoneinfo/America/Argentina/San_Juan\n",
            "google-cloud-sdk/lib/third_party/pytz/zoneinfo/America/Argentina/San_Luis\n",
            "google-cloud-sdk/lib/third_party/pytz/zoneinfo/America/Argentina/Tucuman\n",
            "google-cloud-sdk/lib/third_party/pytz/zoneinfo/America/Argentina/Ushuaia\n",
            "google-cloud-sdk/lib/third_party/pytz/zoneinfo/America/Aruba\n",
            "google-cloud-sdk/lib/third_party/pytz/zoneinfo/America/Asuncion\n",
            "google-cloud-sdk/lib/third_party/pytz/zoneinfo/America/Atikokan\n",
            "google-cloud-sdk/lib/third_party/pytz/zoneinfo/America/Atka\n",
            "google-cloud-sdk/lib/third_party/pytz/zoneinfo/America/Bahia\n",
            "google-cloud-sdk/lib/third_party/pytz/zoneinfo/America/Bahia_Banderas\n",
            "google-cloud-sdk/lib/third_party/pytz/zoneinfo/America/Barbados\n",
            "google-cloud-sdk/lib/third_party/pytz/zoneinfo/America/Belem\n",
            "google-cloud-sdk/lib/third_party/pytz/zoneinfo/America/Belize\n",
            "google-cloud-sdk/lib/third_party/pytz/zoneinfo/America/Blanc-Sablon\n",
            "google-cloud-sdk/lib/third_party/pytz/zoneinfo/America/Boa_Vista\n",
            "google-cloud-sdk/lib/third_party/pytz/zoneinfo/America/Bogota\n",
            "google-cloud-sdk/lib/third_party/pytz/zoneinfo/America/Boise\n",
            "google-cloud-sdk/lib/third_party/pytz/zoneinfo/America/Buenos_Aires\n",
            "google-cloud-sdk/lib/third_party/pytz/zoneinfo/America/Cambridge_Bay\n",
            "google-cloud-sdk/lib/third_party/pytz/zoneinfo/America/Campo_Grande\n",
            "google-cloud-sdk/lib/third_party/pytz/zoneinfo/America/Cancun\n",
            "google-cloud-sdk/lib/third_party/pytz/zoneinfo/America/Caracas\n",
            "google-cloud-sdk/lib/third_party/pytz/zoneinfo/America/Catamarca\n",
            "google-cloud-sdk/lib/third_party/pytz/zoneinfo/America/Cayenne\n",
            "google-cloud-sdk/lib/third_party/pytz/zoneinfo/America/Cayman\n",
            "google-cloud-sdk/lib/third_party/pytz/zoneinfo/America/Chicago\n",
            "google-cloud-sdk/lib/third_party/pytz/zoneinfo/America/Chihuahua\n",
            "google-cloud-sdk/lib/third_party/pytz/zoneinfo/America/Coral_Harbour\n",
            "google-cloud-sdk/lib/third_party/pytz/zoneinfo/America/Cordoba\n",
            "google-cloud-sdk/lib/third_party/pytz/zoneinfo/America/Costa_Rica\n",
            "google-cloud-sdk/lib/third_party/pytz/zoneinfo/America/Creston\n",
            "google-cloud-sdk/lib/third_party/pytz/zoneinfo/America/Cuiaba\n",
            "google-cloud-sdk/lib/third_party/pytz/zoneinfo/America/Curacao\n",
            "google-cloud-sdk/lib/third_party/pytz/zoneinfo/America/Danmarkshavn\n",
            "google-cloud-sdk/lib/third_party/pytz/zoneinfo/America/Dawson\n",
            "google-cloud-sdk/lib/third_party/pytz/zoneinfo/America/Dawson_Creek\n",
            "google-cloud-sdk/lib/third_party/pytz/zoneinfo/America/Denver\n",
            "google-cloud-sdk/lib/third_party/pytz/zoneinfo/America/Detroit\n",
            "google-cloud-sdk/lib/third_party/pytz/zoneinfo/America/Dominica\n",
            "google-cloud-sdk/lib/third_party/pytz/zoneinfo/America/Edmonton\n",
            "google-cloud-sdk/lib/third_party/pytz/zoneinfo/America/Eirunepe\n",
            "google-cloud-sdk/lib/third_party/pytz/zoneinfo/America/El_Salvador\n",
            "google-cloud-sdk/lib/third_party/pytz/zoneinfo/America/Ensenada\n",
            "google-cloud-sdk/lib/third_party/pytz/zoneinfo/America/Fort_Nelson\n",
            "google-cloud-sdk/lib/third_party/pytz/zoneinfo/America/Fort_Wayne\n",
            "google-cloud-sdk/lib/third_party/pytz/zoneinfo/America/Fortaleza\n",
            "google-cloud-sdk/lib/third_party/pytz/zoneinfo/America/Glace_Bay\n",
            "google-cloud-sdk/lib/third_party/pytz/zoneinfo/America/Godthab\n",
            "google-cloud-sdk/lib/third_party/pytz/zoneinfo/America/Goose_Bay\n",
            "google-cloud-sdk/lib/third_party/pytz/zoneinfo/America/Grand_Turk\n",
            "google-cloud-sdk/lib/third_party/pytz/zoneinfo/America/Grenada\n",
            "google-cloud-sdk/lib/third_party/pytz/zoneinfo/America/Guadeloupe\n",
            "google-cloud-sdk/lib/third_party/pytz/zoneinfo/America/Guatemala\n",
            "google-cloud-sdk/lib/third_party/pytz/zoneinfo/America/Guayaquil\n",
            "google-cloud-sdk/lib/third_party/pytz/zoneinfo/America/Guyana\n",
            "google-cloud-sdk/lib/third_party/pytz/zoneinfo/America/Halifax\n",
            "google-cloud-sdk/lib/third_party/pytz/zoneinfo/America/Havana\n",
            "google-cloud-sdk/lib/third_party/pytz/zoneinfo/America/Hermosillo\n",
            "google-cloud-sdk/lib/third_party/pytz/zoneinfo/America/Indiana/Indianapolis\n",
            "google-cloud-sdk/lib/third_party/pytz/zoneinfo/America/Indiana/Knox\n",
            "google-cloud-sdk/lib/third_party/pytz/zoneinfo/America/Indiana/Marengo\n",
            "google-cloud-sdk/lib/third_party/pytz/zoneinfo/America/Indiana/Petersburg\n",
            "google-cloud-sdk/lib/third_party/pytz/zoneinfo/America/Indiana/Tell_City\n",
            "google-cloud-sdk/lib/third_party/pytz/zoneinfo/America/Indiana/Vevay\n",
            "google-cloud-sdk/lib/third_party/pytz/zoneinfo/America/Indiana/Vincennes\n",
            "google-cloud-sdk/lib/third_party/pytz/zoneinfo/America/Indiana/Winamac\n",
            "google-cloud-sdk/lib/third_party/pytz/zoneinfo/America/Indianapolis\n",
            "google-cloud-sdk/lib/third_party/pytz/zoneinfo/America/Inuvik\n",
            "google-cloud-sdk/lib/third_party/pytz/zoneinfo/America/Iqaluit\n",
            "google-cloud-sdk/lib/third_party/pytz/zoneinfo/America/Jamaica\n",
            "google-cloud-sdk/lib/third_party/pytz/zoneinfo/America/Jujuy\n",
            "google-cloud-sdk/lib/third_party/pytz/zoneinfo/America/Juneau\n",
            "google-cloud-sdk/lib/third_party/pytz/zoneinfo/America/Kentucky/Louisville\n",
            "google-cloud-sdk/lib/third_party/pytz/zoneinfo/America/Kentucky/Monticello\n",
            "google-cloud-sdk/lib/third_party/pytz/zoneinfo/America/Knox_IN\n",
            "google-cloud-sdk/lib/third_party/pytz/zoneinfo/America/Kralendijk\n",
            "google-cloud-sdk/lib/third_party/pytz/zoneinfo/America/La_Paz\n",
            "google-cloud-sdk/lib/third_party/pytz/zoneinfo/America/Lima\n",
            "google-cloud-sdk/lib/third_party/pytz/zoneinfo/America/Los_Angeles\n",
            "google-cloud-sdk/lib/third_party/pytz/zoneinfo/America/Louisville\n",
            "google-cloud-sdk/lib/third_party/pytz/zoneinfo/America/Lower_Princes\n",
            "google-cloud-sdk/lib/third_party/pytz/zoneinfo/America/Maceio\n",
            "google-cloud-sdk/lib/third_party/pytz/zoneinfo/America/Managua\n",
            "google-cloud-sdk/lib/third_party/pytz/zoneinfo/America/Manaus\n",
            "google-cloud-sdk/lib/third_party/pytz/zoneinfo/America/Marigot\n",
            "google-cloud-sdk/lib/third_party/pytz/zoneinfo/America/Martinique\n",
            "google-cloud-sdk/lib/third_party/pytz/zoneinfo/America/Matamoros\n",
            "google-cloud-sdk/lib/third_party/pytz/zoneinfo/America/Mazatlan\n",
            "google-cloud-sdk/lib/third_party/pytz/zoneinfo/America/Mendoza\n",
            "google-cloud-sdk/lib/third_party/pytz/zoneinfo/America/Menominee\n",
            "google-cloud-sdk/lib/third_party/pytz/zoneinfo/America/Merida\n",
            "google-cloud-sdk/lib/third_party/pytz/zoneinfo/America/Metlakatla\n",
            "google-cloud-sdk/lib/third_party/pytz/zoneinfo/America/Mexico_City\n",
            "google-cloud-sdk/lib/third_party/pytz/zoneinfo/America/Miquelon\n",
            "google-cloud-sdk/lib/third_party/pytz/zoneinfo/America/Moncton\n",
            "google-cloud-sdk/lib/third_party/pytz/zoneinfo/America/Monterrey\n",
            "google-cloud-sdk/lib/third_party/pytz/zoneinfo/America/Montevideo\n",
            "google-cloud-sdk/lib/third_party/pytz/zoneinfo/America/Montreal\n",
            "google-cloud-sdk/lib/third_party/pytz/zoneinfo/America/Montserrat\n",
            "google-cloud-sdk/lib/third_party/pytz/zoneinfo/America/Nassau\n",
            "google-cloud-sdk/lib/third_party/pytz/zoneinfo/America/New_York\n",
            "google-cloud-sdk/lib/third_party/pytz/zoneinfo/America/Nipigon\n",
            "google-cloud-sdk/lib/third_party/pytz/zoneinfo/America/Nome\n",
            "google-cloud-sdk/lib/third_party/pytz/zoneinfo/America/Noronha\n",
            "google-cloud-sdk/lib/third_party/pytz/zoneinfo/America/North_Dakota/Beulah\n",
            "google-cloud-sdk/lib/third_party/pytz/zoneinfo/America/North_Dakota/Center\n",
            "google-cloud-sdk/lib/third_party/pytz/zoneinfo/America/North_Dakota/New_Salem\n",
            "google-cloud-sdk/lib/third_party/pytz/zoneinfo/America/Nuuk\n",
            "google-cloud-sdk/lib/third_party/pytz/zoneinfo/America/Ojinaga\n",
            "google-cloud-sdk/lib/third_party/pytz/zoneinfo/America/Panama\n",
            "google-cloud-sdk/lib/third_party/pytz/zoneinfo/America/Pangnirtung\n",
            "google-cloud-sdk/lib/third_party/pytz/zoneinfo/America/Paramaribo\n",
            "google-cloud-sdk/lib/third_party/pytz/zoneinfo/America/Phoenix\n",
            "google-cloud-sdk/lib/third_party/pytz/zoneinfo/America/Port-au-Prince\n",
            "google-cloud-sdk/lib/third_party/pytz/zoneinfo/America/Port_of_Spain\n",
            "google-cloud-sdk/lib/third_party/pytz/zoneinfo/America/Porto_Acre\n",
            "google-cloud-sdk/lib/third_party/pytz/zoneinfo/America/Porto_Velho\n",
            "google-cloud-sdk/lib/third_party/pytz/zoneinfo/America/Puerto_Rico\n",
            "google-cloud-sdk/lib/third_party/pytz/zoneinfo/America/Punta_Arenas\n",
            "google-cloud-sdk/lib/third_party/pytz/zoneinfo/America/Rainy_River\n",
            "google-cloud-sdk/lib/third_party/pytz/zoneinfo/America/Rankin_Inlet\n",
            "google-cloud-sdk/lib/third_party/pytz/zoneinfo/America/Recife\n",
            "google-cloud-sdk/lib/third_party/pytz/zoneinfo/America/Regina\n",
            "google-cloud-sdk/lib/third_party/pytz/zoneinfo/America/Resolute\n",
            "google-cloud-sdk/lib/third_party/pytz/zoneinfo/America/Rio_Branco\n",
            "google-cloud-sdk/lib/third_party/pytz/zoneinfo/America/Rosario\n",
            "google-cloud-sdk/lib/third_party/pytz/zoneinfo/America/Santa_Isabel\n",
            "google-cloud-sdk/lib/third_party/pytz/zoneinfo/America/Santarem\n",
            "google-cloud-sdk/lib/third_party/pytz/zoneinfo/America/Santiago\n",
            "google-cloud-sdk/lib/third_party/pytz/zoneinfo/America/Santo_Domingo\n",
            "google-cloud-sdk/lib/third_party/pytz/zoneinfo/America/Sao_Paulo\n",
            "google-cloud-sdk/lib/third_party/pytz/zoneinfo/America/Scoresbysund\n",
            "google-cloud-sdk/lib/third_party/pytz/zoneinfo/America/Shiprock\n",
            "google-cloud-sdk/lib/third_party/pytz/zoneinfo/America/Sitka\n",
            "google-cloud-sdk/lib/third_party/pytz/zoneinfo/America/St_Barthelemy\n",
            "google-cloud-sdk/lib/third_party/pytz/zoneinfo/America/St_Johns\n",
            "google-cloud-sdk/lib/third_party/pytz/zoneinfo/America/St_Kitts\n",
            "google-cloud-sdk/lib/third_party/pytz/zoneinfo/America/St_Lucia\n",
            "google-cloud-sdk/lib/third_party/pytz/zoneinfo/America/St_Thomas\n",
            "google-cloud-sdk/lib/third_party/pytz/zoneinfo/America/St_Vincent\n",
            "google-cloud-sdk/lib/third_party/pytz/zoneinfo/America/Swift_Current\n",
            "google-cloud-sdk/lib/third_party/pytz/zoneinfo/America/Tegucigalpa\n",
            "google-cloud-sdk/lib/third_party/pytz/zoneinfo/America/Thule\n",
            "google-cloud-sdk/lib/third_party/pytz/zoneinfo/America/Thunder_Bay\n",
            "google-cloud-sdk/lib/third_party/pytz/zoneinfo/America/Tijuana\n",
            "google-cloud-sdk/lib/third_party/pytz/zoneinfo/America/Toronto\n",
            "google-cloud-sdk/lib/third_party/pytz/zoneinfo/America/Tortola\n",
            "google-cloud-sdk/lib/third_party/pytz/zoneinfo/America/Vancouver\n",
            "google-cloud-sdk/lib/third_party/pytz/zoneinfo/America/Virgin\n",
            "google-cloud-sdk/lib/third_party/pytz/zoneinfo/America/Whitehorse\n",
            "google-cloud-sdk/lib/third_party/pytz/zoneinfo/America/Winnipeg\n",
            "google-cloud-sdk/lib/third_party/pytz/zoneinfo/America/Yakutat\n",
            "google-cloud-sdk/lib/third_party/pytz/zoneinfo/America/Yellowknife\n",
            "google-cloud-sdk/lib/third_party/pytz/zoneinfo/Antarctica/Casey\n",
            "google-cloud-sdk/lib/third_party/pytz/zoneinfo/Antarctica/Davis\n",
            "google-cloud-sdk/lib/third_party/pytz/zoneinfo/Antarctica/DumontDUrville\n",
            "google-cloud-sdk/lib/third_party/pytz/zoneinfo/Antarctica/Macquarie\n",
            "google-cloud-sdk/lib/third_party/pytz/zoneinfo/Antarctica/Mawson\n",
            "google-cloud-sdk/lib/third_party/pytz/zoneinfo/Antarctica/McMurdo\n",
            "google-cloud-sdk/lib/third_party/pytz/zoneinfo/Antarctica/Palmer\n",
            "google-cloud-sdk/lib/third_party/pytz/zoneinfo/Antarctica/Rothera\n",
            "google-cloud-sdk/lib/third_party/pytz/zoneinfo/Antarctica/South_Pole\n",
            "google-cloud-sdk/lib/third_party/pytz/zoneinfo/Antarctica/Syowa\n",
            "google-cloud-sdk/lib/third_party/pytz/zoneinfo/Antarctica/Troll\n",
            "google-cloud-sdk/lib/third_party/pytz/zoneinfo/Antarctica/Vostok\n",
            "google-cloud-sdk/lib/third_party/pytz/zoneinfo/Arctic/Longyearbyen\n",
            "google-cloud-sdk/lib/third_party/pytz/zoneinfo/Asia/Aden\n",
            "google-cloud-sdk/lib/third_party/pytz/zoneinfo/Asia/Almaty\n",
            "google-cloud-sdk/lib/third_party/pytz/zoneinfo/Asia/Amman\n",
            "google-cloud-sdk/lib/third_party/pytz/zoneinfo/Asia/Anadyr\n",
            "google-cloud-sdk/lib/third_party/pytz/zoneinfo/Asia/Aqtau\n",
            "google-cloud-sdk/lib/third_party/pytz/zoneinfo/Asia/Aqtobe\n",
            "google-cloud-sdk/lib/third_party/pytz/zoneinfo/Asia/Ashgabat\n",
            "google-cloud-sdk/lib/third_party/pytz/zoneinfo/Asia/Ashkhabad\n",
            "google-cloud-sdk/lib/third_party/pytz/zoneinfo/Asia/Atyrau\n",
            "google-cloud-sdk/lib/third_party/pytz/zoneinfo/Asia/Baghdad\n",
            "google-cloud-sdk/lib/third_party/pytz/zoneinfo/Asia/Bahrain\n",
            "google-cloud-sdk/lib/third_party/pytz/zoneinfo/Asia/Baku\n",
            "google-cloud-sdk/lib/third_party/pytz/zoneinfo/Asia/Bangkok\n",
            "google-cloud-sdk/lib/third_party/pytz/zoneinfo/Asia/Barnaul\n",
            "google-cloud-sdk/lib/third_party/pytz/zoneinfo/Asia/Beirut\n",
            "google-cloud-sdk/lib/third_party/pytz/zoneinfo/Asia/Bishkek\n",
            "google-cloud-sdk/lib/third_party/pytz/zoneinfo/Asia/Brunei\n",
            "google-cloud-sdk/lib/third_party/pytz/zoneinfo/Asia/Calcutta\n",
            "google-cloud-sdk/lib/third_party/pytz/zoneinfo/Asia/Chita\n",
            "google-cloud-sdk/lib/third_party/pytz/zoneinfo/Asia/Choibalsan\n",
            "google-cloud-sdk/lib/third_party/pytz/zoneinfo/Asia/Chongqing\n",
            "google-cloud-sdk/lib/third_party/pytz/zoneinfo/Asia/Chungking\n",
            "google-cloud-sdk/lib/third_party/pytz/zoneinfo/Asia/Colombo\n",
            "google-cloud-sdk/lib/third_party/pytz/zoneinfo/Asia/Dacca\n",
            "google-cloud-sdk/lib/third_party/pytz/zoneinfo/Asia/Damascus\n",
            "google-cloud-sdk/lib/third_party/pytz/zoneinfo/Asia/Dhaka\n",
            "google-cloud-sdk/lib/third_party/pytz/zoneinfo/Asia/Dili\n",
            "google-cloud-sdk/lib/third_party/pytz/zoneinfo/Asia/Dubai\n",
            "google-cloud-sdk/lib/third_party/pytz/zoneinfo/Asia/Dushanbe\n",
            "google-cloud-sdk/lib/third_party/pytz/zoneinfo/Asia/Famagusta\n",
            "google-cloud-sdk/lib/third_party/pytz/zoneinfo/Asia/Gaza\n",
            "google-cloud-sdk/lib/third_party/pytz/zoneinfo/Asia/Harbin\n",
            "google-cloud-sdk/lib/third_party/pytz/zoneinfo/Asia/Hebron\n",
            "google-cloud-sdk/lib/third_party/pytz/zoneinfo/Asia/Ho_Chi_Minh\n",
            "google-cloud-sdk/lib/third_party/pytz/zoneinfo/Asia/Hong_Kong\n",
            "google-cloud-sdk/lib/third_party/pytz/zoneinfo/Asia/Hovd\n",
            "google-cloud-sdk/lib/third_party/pytz/zoneinfo/Asia/Irkutsk\n",
            "google-cloud-sdk/lib/third_party/pytz/zoneinfo/Asia/Istanbul\n",
            "google-cloud-sdk/lib/third_party/pytz/zoneinfo/Asia/Jakarta\n",
            "google-cloud-sdk/lib/third_party/pytz/zoneinfo/Asia/Jayapura\n",
            "google-cloud-sdk/lib/third_party/pytz/zoneinfo/Asia/Jerusalem\n",
            "google-cloud-sdk/lib/third_party/pytz/zoneinfo/Asia/Kabul\n",
            "google-cloud-sdk/lib/third_party/pytz/zoneinfo/Asia/Kamchatka\n",
            "google-cloud-sdk/lib/third_party/pytz/zoneinfo/Asia/Karachi\n",
            "google-cloud-sdk/lib/third_party/pytz/zoneinfo/Asia/Kashgar\n",
            "google-cloud-sdk/lib/third_party/pytz/zoneinfo/Asia/Kathmandu\n",
            "google-cloud-sdk/lib/third_party/pytz/zoneinfo/Asia/Katmandu\n",
            "google-cloud-sdk/lib/third_party/pytz/zoneinfo/Asia/Khandyga\n",
            "google-cloud-sdk/lib/third_party/pytz/zoneinfo/Asia/Kolkata\n",
            "google-cloud-sdk/lib/third_party/pytz/zoneinfo/Asia/Krasnoyarsk\n",
            "google-cloud-sdk/lib/third_party/pytz/zoneinfo/Asia/Kuala_Lumpur\n",
            "google-cloud-sdk/lib/third_party/pytz/zoneinfo/Asia/Kuching\n",
            "google-cloud-sdk/lib/third_party/pytz/zoneinfo/Asia/Kuwait\n",
            "google-cloud-sdk/lib/third_party/pytz/zoneinfo/Asia/Macao\n",
            "google-cloud-sdk/lib/third_party/pytz/zoneinfo/Asia/Macau\n",
            "google-cloud-sdk/lib/third_party/pytz/zoneinfo/Asia/Magadan\n",
            "google-cloud-sdk/lib/third_party/pytz/zoneinfo/Asia/Makassar\n",
            "google-cloud-sdk/lib/third_party/pytz/zoneinfo/Asia/Manila\n",
            "google-cloud-sdk/lib/third_party/pytz/zoneinfo/Asia/Muscat\n",
            "google-cloud-sdk/lib/third_party/pytz/zoneinfo/Asia/Nicosia\n",
            "google-cloud-sdk/lib/third_party/pytz/zoneinfo/Asia/Novokuznetsk\n",
            "google-cloud-sdk/lib/third_party/pytz/zoneinfo/Asia/Novosibirsk\n",
            "google-cloud-sdk/lib/third_party/pytz/zoneinfo/Asia/Omsk\n",
            "google-cloud-sdk/lib/third_party/pytz/zoneinfo/Asia/Oral\n",
            "google-cloud-sdk/lib/third_party/pytz/zoneinfo/Asia/Phnom_Penh\n",
            "google-cloud-sdk/lib/third_party/pytz/zoneinfo/Asia/Pontianak\n",
            "google-cloud-sdk/lib/third_party/pytz/zoneinfo/Asia/Pyongyang\n",
            "google-cloud-sdk/lib/third_party/pytz/zoneinfo/Asia/Qatar\n",
            "google-cloud-sdk/lib/third_party/pytz/zoneinfo/Asia/Qostanay\n",
            "google-cloud-sdk/lib/third_party/pytz/zoneinfo/Asia/Qyzylorda\n",
            "google-cloud-sdk/lib/third_party/pytz/zoneinfo/Asia/Rangoon\n",
            "google-cloud-sdk/lib/third_party/pytz/zoneinfo/Asia/Riyadh\n",
            "google-cloud-sdk/lib/third_party/pytz/zoneinfo/Asia/Saigon\n",
            "google-cloud-sdk/lib/third_party/pytz/zoneinfo/Asia/Sakhalin\n",
            "google-cloud-sdk/lib/third_party/pytz/zoneinfo/Asia/Samarkand\n",
            "google-cloud-sdk/lib/third_party/pytz/zoneinfo/Asia/Seoul\n",
            "google-cloud-sdk/lib/third_party/pytz/zoneinfo/Asia/Shanghai\n",
            "google-cloud-sdk/lib/third_party/pytz/zoneinfo/Asia/Singapore\n",
            "google-cloud-sdk/lib/third_party/pytz/zoneinfo/Asia/Srednekolymsk\n",
            "google-cloud-sdk/lib/third_party/pytz/zoneinfo/Asia/Taipei\n",
            "google-cloud-sdk/lib/third_party/pytz/zoneinfo/Asia/Tashkent\n",
            "google-cloud-sdk/lib/third_party/pytz/zoneinfo/Asia/Tbilisi\n",
            "google-cloud-sdk/lib/third_party/pytz/zoneinfo/Asia/Tehran\n",
            "google-cloud-sdk/lib/third_party/pytz/zoneinfo/Asia/Tel_Aviv\n",
            "google-cloud-sdk/lib/third_party/pytz/zoneinfo/Asia/Thimbu\n",
            "google-cloud-sdk/lib/third_party/pytz/zoneinfo/Asia/Thimphu\n",
            "google-cloud-sdk/lib/third_party/pytz/zoneinfo/Asia/Tokyo\n",
            "google-cloud-sdk/lib/third_party/pytz/zoneinfo/Asia/Tomsk\n",
            "google-cloud-sdk/lib/third_party/pytz/zoneinfo/Asia/Ujung_Pandang\n",
            "google-cloud-sdk/lib/third_party/pytz/zoneinfo/Asia/Ulaanbaatar\n",
            "google-cloud-sdk/lib/third_party/pytz/zoneinfo/Asia/Ulan_Bator\n",
            "google-cloud-sdk/lib/third_party/pytz/zoneinfo/Asia/Urumqi\n",
            "google-cloud-sdk/lib/third_party/pytz/zoneinfo/Asia/Ust-Nera\n",
            "google-cloud-sdk/lib/third_party/pytz/zoneinfo/Asia/Vientiane\n",
            "google-cloud-sdk/lib/third_party/pytz/zoneinfo/Asia/Vladivostok\n",
            "google-cloud-sdk/lib/third_party/pytz/zoneinfo/Asia/Yakutsk\n",
            "google-cloud-sdk/lib/third_party/pytz/zoneinfo/Asia/Yangon\n",
            "google-cloud-sdk/lib/third_party/pytz/zoneinfo/Asia/Yekaterinburg\n",
            "google-cloud-sdk/lib/third_party/pytz/zoneinfo/Asia/Yerevan\n",
            "google-cloud-sdk/lib/third_party/pytz/zoneinfo/Atlantic/Azores\n",
            "google-cloud-sdk/lib/third_party/pytz/zoneinfo/Atlantic/Bermuda\n",
            "google-cloud-sdk/lib/third_party/pytz/zoneinfo/Atlantic/Canary\n",
            "google-cloud-sdk/lib/third_party/pytz/zoneinfo/Atlantic/Cape_Verde\n",
            "google-cloud-sdk/lib/third_party/pytz/zoneinfo/Atlantic/Faeroe\n",
            "google-cloud-sdk/lib/third_party/pytz/zoneinfo/Atlantic/Faroe\n",
            "google-cloud-sdk/lib/third_party/pytz/zoneinfo/Atlantic/Jan_Mayen\n",
            "google-cloud-sdk/lib/third_party/pytz/zoneinfo/Atlantic/Madeira\n",
            "google-cloud-sdk/lib/third_party/pytz/zoneinfo/Atlantic/Reykjavik\n",
            "google-cloud-sdk/lib/third_party/pytz/zoneinfo/Atlantic/South_Georgia\n",
            "google-cloud-sdk/lib/third_party/pytz/zoneinfo/Atlantic/St_Helena\n",
            "google-cloud-sdk/lib/third_party/pytz/zoneinfo/Atlantic/Stanley\n",
            "google-cloud-sdk/lib/third_party/pytz/zoneinfo/Australia/ACT\n",
            "google-cloud-sdk/lib/third_party/pytz/zoneinfo/Australia/Adelaide\n",
            "google-cloud-sdk/lib/third_party/pytz/zoneinfo/Australia/Brisbane\n",
            "google-cloud-sdk/lib/third_party/pytz/zoneinfo/Australia/Broken_Hill\n",
            "google-cloud-sdk/lib/third_party/pytz/zoneinfo/Australia/Canberra\n",
            "google-cloud-sdk/lib/third_party/pytz/zoneinfo/Australia/Currie\n",
            "google-cloud-sdk/lib/third_party/pytz/zoneinfo/Australia/Darwin\n",
            "google-cloud-sdk/lib/third_party/pytz/zoneinfo/Australia/Eucla\n",
            "google-cloud-sdk/lib/third_party/pytz/zoneinfo/Australia/Hobart\n",
            "google-cloud-sdk/lib/third_party/pytz/zoneinfo/Australia/LHI\n",
            "google-cloud-sdk/lib/third_party/pytz/zoneinfo/Australia/Lindeman\n",
            "google-cloud-sdk/lib/third_party/pytz/zoneinfo/Australia/Lord_Howe\n",
            "google-cloud-sdk/lib/third_party/pytz/zoneinfo/Australia/Melbourne\n",
            "google-cloud-sdk/lib/third_party/pytz/zoneinfo/Australia/NSW\n",
            "google-cloud-sdk/lib/third_party/pytz/zoneinfo/Australia/North\n",
            "google-cloud-sdk/lib/third_party/pytz/zoneinfo/Australia/Perth\n",
            "google-cloud-sdk/lib/third_party/pytz/zoneinfo/Australia/Queensland\n",
            "google-cloud-sdk/lib/third_party/pytz/zoneinfo/Australia/South\n",
            "google-cloud-sdk/lib/third_party/pytz/zoneinfo/Australia/Sydney\n",
            "google-cloud-sdk/lib/third_party/pytz/zoneinfo/Australia/Tasmania\n",
            "google-cloud-sdk/lib/third_party/pytz/zoneinfo/Australia/Victoria\n",
            "google-cloud-sdk/lib/third_party/pytz/zoneinfo/Australia/West\n",
            "google-cloud-sdk/lib/third_party/pytz/zoneinfo/Australia/Yancowinna\n",
            "google-cloud-sdk/lib/third_party/pytz/zoneinfo/Brazil/Acre\n",
            "google-cloud-sdk/lib/third_party/pytz/zoneinfo/Brazil/DeNoronha\n",
            "google-cloud-sdk/lib/third_party/pytz/zoneinfo/Brazil/East\n",
            "google-cloud-sdk/lib/third_party/pytz/zoneinfo/Brazil/West\n",
            "google-cloud-sdk/lib/third_party/pytz/zoneinfo/CET\n",
            "google-cloud-sdk/lib/third_party/pytz/zoneinfo/CST6CDT\n",
            "google-cloud-sdk/lib/third_party/pytz/zoneinfo/Canada/Atlantic\n",
            "google-cloud-sdk/lib/third_party/pytz/zoneinfo/Canada/Central\n",
            "google-cloud-sdk/lib/third_party/pytz/zoneinfo/Canada/Eastern\n",
            "google-cloud-sdk/lib/third_party/pytz/zoneinfo/Canada/Mountain\n",
            "google-cloud-sdk/lib/third_party/pytz/zoneinfo/Canada/Newfoundland\n",
            "google-cloud-sdk/lib/third_party/pytz/zoneinfo/Canada/Pacific\n",
            "google-cloud-sdk/lib/third_party/pytz/zoneinfo/Canada/Saskatchewan\n",
            "google-cloud-sdk/lib/third_party/pytz/zoneinfo/Canada/Yukon\n",
            "google-cloud-sdk/lib/third_party/pytz/zoneinfo/Chile/Continental\n",
            "google-cloud-sdk/lib/third_party/pytz/zoneinfo/Chile/EasterIsland\n",
            "google-cloud-sdk/lib/third_party/pytz/zoneinfo/Cuba\n",
            "google-cloud-sdk/lib/third_party/pytz/zoneinfo/EET\n",
            "google-cloud-sdk/lib/third_party/pytz/zoneinfo/EST\n",
            "google-cloud-sdk/lib/third_party/pytz/zoneinfo/EST5EDT\n",
            "google-cloud-sdk/lib/third_party/pytz/zoneinfo/Egypt\n",
            "google-cloud-sdk/lib/third_party/pytz/zoneinfo/Eire\n",
            "google-cloud-sdk/lib/third_party/pytz/zoneinfo/Etc/GMT\n",
            "google-cloud-sdk/lib/third_party/pytz/zoneinfo/Etc/GMT+0\n",
            "google-cloud-sdk/lib/third_party/pytz/zoneinfo/Etc/GMT+1\n",
            "google-cloud-sdk/lib/third_party/pytz/zoneinfo/Etc/GMT+10\n",
            "google-cloud-sdk/lib/third_party/pytz/zoneinfo/Etc/GMT+11\n",
            "google-cloud-sdk/lib/third_party/pytz/zoneinfo/Etc/GMT+12\n",
            "google-cloud-sdk/lib/third_party/pytz/zoneinfo/Etc/GMT+2\n",
            "google-cloud-sdk/lib/third_party/pytz/zoneinfo/Etc/GMT+3\n",
            "google-cloud-sdk/lib/third_party/pytz/zoneinfo/Etc/GMT+4\n",
            "google-cloud-sdk/lib/third_party/pytz/zoneinfo/Etc/GMT+5\n",
            "google-cloud-sdk/lib/third_party/pytz/zoneinfo/Etc/GMT+6\n",
            "google-cloud-sdk/lib/third_party/pytz/zoneinfo/Etc/GMT+7\n",
            "google-cloud-sdk/lib/third_party/pytz/zoneinfo/Etc/GMT+8\n",
            "google-cloud-sdk/lib/third_party/pytz/zoneinfo/Etc/GMT+9\n",
            "google-cloud-sdk/lib/third_party/pytz/zoneinfo/Etc/GMT-0\n",
            "google-cloud-sdk/lib/third_party/pytz/zoneinfo/Etc/GMT-1\n",
            "google-cloud-sdk/lib/third_party/pytz/zoneinfo/Etc/GMT-10\n",
            "google-cloud-sdk/lib/third_party/pytz/zoneinfo/Etc/GMT-11\n",
            "google-cloud-sdk/lib/third_party/pytz/zoneinfo/Etc/GMT-12\n",
            "google-cloud-sdk/lib/third_party/pytz/zoneinfo/Etc/GMT-13\n",
            "google-cloud-sdk/lib/third_party/pytz/zoneinfo/Etc/GMT-14\n",
            "google-cloud-sdk/lib/third_party/pytz/zoneinfo/Etc/GMT-2\n",
            "google-cloud-sdk/lib/third_party/pytz/zoneinfo/Etc/GMT-3\n",
            "google-cloud-sdk/lib/third_party/pytz/zoneinfo/Etc/GMT-4\n",
            "google-cloud-sdk/lib/third_party/pytz/zoneinfo/Etc/GMT-5\n",
            "google-cloud-sdk/lib/third_party/pytz/zoneinfo/Etc/GMT-6\n",
            "google-cloud-sdk/lib/third_party/pytz/zoneinfo/Etc/GMT-7\n",
            "google-cloud-sdk/lib/third_party/pytz/zoneinfo/Etc/GMT-8\n",
            "google-cloud-sdk/lib/third_party/pytz/zoneinfo/Etc/GMT-9\n",
            "google-cloud-sdk/lib/third_party/pytz/zoneinfo/Etc/GMT0\n",
            "google-cloud-sdk/lib/third_party/pytz/zoneinfo/Etc/Greenwich\n",
            "google-cloud-sdk/lib/third_party/pytz/zoneinfo/Etc/UCT\n",
            "google-cloud-sdk/lib/third_party/pytz/zoneinfo/Etc/UTC\n",
            "google-cloud-sdk/lib/third_party/pytz/zoneinfo/Etc/Universal\n",
            "google-cloud-sdk/lib/third_party/pytz/zoneinfo/Etc/Zulu\n",
            "google-cloud-sdk/lib/third_party/pytz/zoneinfo/Europe/Amsterdam\n",
            "google-cloud-sdk/lib/third_party/pytz/zoneinfo/Europe/Andorra\n",
            "google-cloud-sdk/lib/third_party/pytz/zoneinfo/Europe/Astrakhan\n",
            "google-cloud-sdk/lib/third_party/pytz/zoneinfo/Europe/Athens\n",
            "google-cloud-sdk/lib/third_party/pytz/zoneinfo/Europe/Belfast\n",
            "google-cloud-sdk/lib/third_party/pytz/zoneinfo/Europe/Belgrade\n",
            "google-cloud-sdk/lib/third_party/pytz/zoneinfo/Europe/Berlin\n",
            "google-cloud-sdk/lib/third_party/pytz/zoneinfo/Europe/Bratislava\n",
            "google-cloud-sdk/lib/third_party/pytz/zoneinfo/Europe/Brussels\n",
            "google-cloud-sdk/lib/third_party/pytz/zoneinfo/Europe/Bucharest\n",
            "google-cloud-sdk/lib/third_party/pytz/zoneinfo/Europe/Budapest\n",
            "google-cloud-sdk/lib/third_party/pytz/zoneinfo/Europe/Busingen\n",
            "google-cloud-sdk/lib/third_party/pytz/zoneinfo/Europe/Chisinau\n",
            "google-cloud-sdk/lib/third_party/pytz/zoneinfo/Europe/Copenhagen\n",
            "google-cloud-sdk/lib/third_party/pytz/zoneinfo/Europe/Dublin\n",
            "google-cloud-sdk/lib/third_party/pytz/zoneinfo/Europe/Gibraltar\n",
            "google-cloud-sdk/lib/third_party/pytz/zoneinfo/Europe/Guernsey\n",
            "google-cloud-sdk/lib/third_party/pytz/zoneinfo/Europe/Helsinki\n",
            "google-cloud-sdk/lib/third_party/pytz/zoneinfo/Europe/Isle_of_Man\n",
            "google-cloud-sdk/lib/third_party/pytz/zoneinfo/Europe/Istanbul\n",
            "google-cloud-sdk/lib/third_party/pytz/zoneinfo/Europe/Jersey\n",
            "google-cloud-sdk/lib/third_party/pytz/zoneinfo/Europe/Kaliningrad\n",
            "google-cloud-sdk/lib/third_party/pytz/zoneinfo/Europe/Kiev\n",
            "google-cloud-sdk/lib/third_party/pytz/zoneinfo/Europe/Kirov\n",
            "google-cloud-sdk/lib/third_party/pytz/zoneinfo/Europe/Lisbon\n",
            "google-cloud-sdk/lib/third_party/pytz/zoneinfo/Europe/Ljubljana\n",
            "google-cloud-sdk/lib/third_party/pytz/zoneinfo/Europe/London\n",
            "google-cloud-sdk/lib/third_party/pytz/zoneinfo/Europe/Luxembourg\n",
            "google-cloud-sdk/lib/third_party/pytz/zoneinfo/Europe/Madrid\n",
            "google-cloud-sdk/lib/third_party/pytz/zoneinfo/Europe/Malta\n",
            "google-cloud-sdk/lib/third_party/pytz/zoneinfo/Europe/Mariehamn\n",
            "google-cloud-sdk/lib/third_party/pytz/zoneinfo/Europe/Minsk\n",
            "google-cloud-sdk/lib/third_party/pytz/zoneinfo/Europe/Monaco\n",
            "google-cloud-sdk/lib/third_party/pytz/zoneinfo/Europe/Moscow\n",
            "google-cloud-sdk/lib/third_party/pytz/zoneinfo/Europe/Nicosia\n",
            "google-cloud-sdk/lib/third_party/pytz/zoneinfo/Europe/Oslo\n",
            "google-cloud-sdk/lib/third_party/pytz/zoneinfo/Europe/Paris\n",
            "google-cloud-sdk/lib/third_party/pytz/zoneinfo/Europe/Podgorica\n",
            "google-cloud-sdk/lib/third_party/pytz/zoneinfo/Europe/Prague\n",
            "google-cloud-sdk/lib/third_party/pytz/zoneinfo/Europe/Riga\n",
            "google-cloud-sdk/lib/third_party/pytz/zoneinfo/Europe/Rome\n",
            "google-cloud-sdk/lib/third_party/pytz/zoneinfo/Europe/Samara\n",
            "google-cloud-sdk/lib/third_party/pytz/zoneinfo/Europe/San_Marino\n",
            "google-cloud-sdk/lib/third_party/pytz/zoneinfo/Europe/Sarajevo\n",
            "google-cloud-sdk/lib/third_party/pytz/zoneinfo/Europe/Saratov\n",
            "google-cloud-sdk/lib/third_party/pytz/zoneinfo/Europe/Simferopol\n",
            "google-cloud-sdk/lib/third_party/pytz/zoneinfo/Europe/Skopje\n",
            "google-cloud-sdk/lib/third_party/pytz/zoneinfo/Europe/Sofia\n",
            "google-cloud-sdk/lib/third_party/pytz/zoneinfo/Europe/Stockholm\n",
            "google-cloud-sdk/lib/third_party/pytz/zoneinfo/Europe/Tallinn\n",
            "google-cloud-sdk/lib/third_party/pytz/zoneinfo/Europe/Tirane\n",
            "google-cloud-sdk/lib/third_party/pytz/zoneinfo/Europe/Tiraspol\n",
            "google-cloud-sdk/lib/third_party/pytz/zoneinfo/Europe/Ulyanovsk\n",
            "google-cloud-sdk/lib/third_party/pytz/zoneinfo/Europe/Uzhgorod\n",
            "google-cloud-sdk/lib/third_party/pytz/zoneinfo/Europe/Vaduz\n",
            "google-cloud-sdk/lib/third_party/pytz/zoneinfo/Europe/Vatican\n",
            "google-cloud-sdk/lib/third_party/pytz/zoneinfo/Europe/Vienna\n",
            "google-cloud-sdk/lib/third_party/pytz/zoneinfo/Europe/Vilnius\n",
            "google-cloud-sdk/lib/third_party/pytz/zoneinfo/Europe/Volgograd\n",
            "google-cloud-sdk/lib/third_party/pytz/zoneinfo/Europe/Warsaw\n",
            "google-cloud-sdk/lib/third_party/pytz/zoneinfo/Europe/Zagreb\n",
            "google-cloud-sdk/lib/third_party/pytz/zoneinfo/Europe/Zaporozhye\n",
            "google-cloud-sdk/lib/third_party/pytz/zoneinfo/Europe/Zurich\n",
            "google-cloud-sdk/lib/third_party/pytz/zoneinfo/Factory\n",
            "google-cloud-sdk/lib/third_party/pytz/zoneinfo/GB\n",
            "google-cloud-sdk/lib/third_party/pytz/zoneinfo/GB-Eire\n",
            "google-cloud-sdk/lib/third_party/pytz/zoneinfo/GMT\n",
            "google-cloud-sdk/lib/third_party/pytz/zoneinfo/GMT+0\n",
            "google-cloud-sdk/lib/third_party/pytz/zoneinfo/GMT-0\n",
            "google-cloud-sdk/lib/third_party/pytz/zoneinfo/GMT0\n",
            "google-cloud-sdk/lib/third_party/pytz/zoneinfo/Greenwich\n",
            "google-cloud-sdk/lib/third_party/pytz/zoneinfo/HST\n",
            "google-cloud-sdk/lib/third_party/pytz/zoneinfo/Hongkong\n",
            "google-cloud-sdk/lib/third_party/pytz/zoneinfo/Iceland\n",
            "google-cloud-sdk/lib/third_party/pytz/zoneinfo/Indian/Antananarivo\n",
            "google-cloud-sdk/lib/third_party/pytz/zoneinfo/Indian/Chagos\n",
            "google-cloud-sdk/lib/third_party/pytz/zoneinfo/Indian/Christmas\n",
            "google-cloud-sdk/lib/third_party/pytz/zoneinfo/Indian/Cocos\n",
            "google-cloud-sdk/lib/third_party/pytz/zoneinfo/Indian/Comoro\n",
            "google-cloud-sdk/lib/third_party/pytz/zoneinfo/Indian/Kerguelen\n",
            "google-cloud-sdk/lib/third_party/pytz/zoneinfo/Indian/Mahe\n",
            "google-cloud-sdk/lib/third_party/pytz/zoneinfo/Indian/Maldives\n",
            "google-cloud-sdk/lib/third_party/pytz/zoneinfo/Indian/Mauritius\n",
            "google-cloud-sdk/lib/third_party/pytz/zoneinfo/Indian/Mayotte\n",
            "google-cloud-sdk/lib/third_party/pytz/zoneinfo/Indian/Reunion\n",
            "google-cloud-sdk/lib/third_party/pytz/zoneinfo/Iran\n",
            "google-cloud-sdk/lib/third_party/pytz/zoneinfo/Israel\n",
            "google-cloud-sdk/lib/third_party/pytz/zoneinfo/Jamaica\n",
            "google-cloud-sdk/lib/third_party/pytz/zoneinfo/Japan\n",
            "google-cloud-sdk/lib/third_party/pytz/zoneinfo/Kwajalein\n",
            "google-cloud-sdk/lib/third_party/pytz/zoneinfo/Libya\n",
            "google-cloud-sdk/lib/third_party/pytz/zoneinfo/MET\n",
            "google-cloud-sdk/lib/third_party/pytz/zoneinfo/MST\n",
            "google-cloud-sdk/lib/third_party/pytz/zoneinfo/MST7MDT\n",
            "google-cloud-sdk/lib/third_party/pytz/zoneinfo/Mexico/BajaNorte\n",
            "google-cloud-sdk/lib/third_party/pytz/zoneinfo/Mexico/BajaSur\n",
            "google-cloud-sdk/lib/third_party/pytz/zoneinfo/Mexico/General\n",
            "google-cloud-sdk/lib/third_party/pytz/zoneinfo/NZ\n",
            "google-cloud-sdk/lib/third_party/pytz/zoneinfo/NZ-CHAT\n",
            "google-cloud-sdk/lib/third_party/pytz/zoneinfo/Navajo\n",
            "google-cloud-sdk/lib/third_party/pytz/zoneinfo/PRC\n",
            "google-cloud-sdk/lib/third_party/pytz/zoneinfo/PST8PDT\n",
            "google-cloud-sdk/lib/third_party/pytz/zoneinfo/Pacific/Apia\n",
            "google-cloud-sdk/lib/third_party/pytz/zoneinfo/Pacific/Auckland\n",
            "google-cloud-sdk/lib/third_party/pytz/zoneinfo/Pacific/Bougainville\n",
            "google-cloud-sdk/lib/third_party/pytz/zoneinfo/Pacific/Chatham\n",
            "google-cloud-sdk/lib/third_party/pytz/zoneinfo/Pacific/Chuuk\n",
            "google-cloud-sdk/lib/third_party/pytz/zoneinfo/Pacific/Easter\n",
            "google-cloud-sdk/lib/third_party/pytz/zoneinfo/Pacific/Efate\n",
            "google-cloud-sdk/lib/third_party/pytz/zoneinfo/Pacific/Enderbury\n",
            "google-cloud-sdk/lib/third_party/pytz/zoneinfo/Pacific/Fakaofo\n",
            "google-cloud-sdk/lib/third_party/pytz/zoneinfo/Pacific/Fiji\n",
            "google-cloud-sdk/lib/third_party/pytz/zoneinfo/Pacific/Funafuti\n",
            "google-cloud-sdk/lib/third_party/pytz/zoneinfo/Pacific/Galapagos\n",
            "google-cloud-sdk/lib/third_party/pytz/zoneinfo/Pacific/Gambier\n",
            "google-cloud-sdk/lib/third_party/pytz/zoneinfo/Pacific/Guadalcanal\n",
            "google-cloud-sdk/lib/third_party/pytz/zoneinfo/Pacific/Guam\n",
            "google-cloud-sdk/lib/third_party/pytz/zoneinfo/Pacific/Honolulu\n",
            "google-cloud-sdk/lib/third_party/pytz/zoneinfo/Pacific/Johnston\n",
            "google-cloud-sdk/lib/third_party/pytz/zoneinfo/Pacific/Kiritimati\n",
            "google-cloud-sdk/lib/third_party/pytz/zoneinfo/Pacific/Kosrae\n",
            "google-cloud-sdk/lib/third_party/pytz/zoneinfo/Pacific/Kwajalein\n",
            "google-cloud-sdk/lib/third_party/pytz/zoneinfo/Pacific/Majuro\n",
            "google-cloud-sdk/lib/third_party/pytz/zoneinfo/Pacific/Marquesas\n",
            "google-cloud-sdk/lib/third_party/pytz/zoneinfo/Pacific/Midway\n",
            "google-cloud-sdk/lib/third_party/pytz/zoneinfo/Pacific/Nauru\n",
            "google-cloud-sdk/lib/third_party/pytz/zoneinfo/Pacific/Niue\n",
            "google-cloud-sdk/lib/third_party/pytz/zoneinfo/Pacific/Norfolk\n",
            "google-cloud-sdk/lib/third_party/pytz/zoneinfo/Pacific/Noumea\n",
            "google-cloud-sdk/lib/third_party/pytz/zoneinfo/Pacific/Pago_Pago\n",
            "google-cloud-sdk/lib/third_party/pytz/zoneinfo/Pacific/Palau\n",
            "google-cloud-sdk/lib/third_party/pytz/zoneinfo/Pacific/Pitcairn\n",
            "google-cloud-sdk/lib/third_party/pytz/zoneinfo/Pacific/Pohnpei\n",
            "google-cloud-sdk/lib/third_party/pytz/zoneinfo/Pacific/Ponape\n",
            "google-cloud-sdk/lib/third_party/pytz/zoneinfo/Pacific/Port_Moresby\n",
            "google-cloud-sdk/lib/third_party/pytz/zoneinfo/Pacific/Rarotonga\n",
            "google-cloud-sdk/lib/third_party/pytz/zoneinfo/Pacific/Saipan\n",
            "google-cloud-sdk/lib/third_party/pytz/zoneinfo/Pacific/Samoa\n",
            "google-cloud-sdk/lib/third_party/pytz/zoneinfo/Pacific/Tahiti\n",
            "google-cloud-sdk/lib/third_party/pytz/zoneinfo/Pacific/Tarawa\n",
            "google-cloud-sdk/lib/third_party/pytz/zoneinfo/Pacific/Tongatapu\n",
            "google-cloud-sdk/lib/third_party/pytz/zoneinfo/Pacific/Truk\n",
            "google-cloud-sdk/lib/third_party/pytz/zoneinfo/Pacific/Wake\n",
            "google-cloud-sdk/lib/third_party/pytz/zoneinfo/Pacific/Wallis\n",
            "google-cloud-sdk/lib/third_party/pytz/zoneinfo/Pacific/Yap\n",
            "google-cloud-sdk/lib/third_party/pytz/zoneinfo/Poland\n",
            "google-cloud-sdk/lib/third_party/pytz/zoneinfo/Portugal\n",
            "google-cloud-sdk/lib/third_party/pytz/zoneinfo/ROC\n",
            "google-cloud-sdk/lib/third_party/pytz/zoneinfo/ROK\n",
            "google-cloud-sdk/lib/third_party/pytz/zoneinfo/Singapore\n",
            "google-cloud-sdk/lib/third_party/pytz/zoneinfo/Turkey\n",
            "google-cloud-sdk/lib/third_party/pytz/zoneinfo/UCT\n",
            "google-cloud-sdk/lib/third_party/pytz/zoneinfo/US/Alaska\n",
            "google-cloud-sdk/lib/third_party/pytz/zoneinfo/US/Aleutian\n",
            "google-cloud-sdk/lib/third_party/pytz/zoneinfo/US/Arizona\n",
            "google-cloud-sdk/lib/third_party/pytz/zoneinfo/US/Central\n",
            "google-cloud-sdk/lib/third_party/pytz/zoneinfo/US/East-Indiana\n",
            "google-cloud-sdk/lib/third_party/pytz/zoneinfo/US/Eastern\n",
            "google-cloud-sdk/lib/third_party/pytz/zoneinfo/US/Hawaii\n",
            "google-cloud-sdk/lib/third_party/pytz/zoneinfo/US/Indiana-Starke\n",
            "google-cloud-sdk/lib/third_party/pytz/zoneinfo/US/Michigan\n",
            "google-cloud-sdk/lib/third_party/pytz/zoneinfo/US/Mountain\n",
            "google-cloud-sdk/lib/third_party/pytz/zoneinfo/US/Pacific\n",
            "google-cloud-sdk/lib/third_party/pytz/zoneinfo/US/Samoa\n",
            "google-cloud-sdk/lib/third_party/pytz/zoneinfo/UTC\n",
            "google-cloud-sdk/lib/third_party/pytz/zoneinfo/Universal\n",
            "google-cloud-sdk/lib/third_party/pytz/zoneinfo/W-SU\n",
            "google-cloud-sdk/lib/third_party/pytz/zoneinfo/WET\n",
            "google-cloud-sdk/lib/third_party/pytz/zoneinfo/Zulu\n",
            "google-cloud-sdk/lib/third_party/pytz/zoneinfo/iso3166.tab\n",
            "google-cloud-sdk/lib/third_party/pytz/zoneinfo/leapseconds\n",
            "google-cloud-sdk/lib/third_party/pytz/zoneinfo/posixrules\n",
            "google-cloud-sdk/lib/third_party/pytz/zoneinfo/tzdata.zi\n",
            "google-cloud-sdk/lib/third_party/pytz/zoneinfo/zone.tab\n",
            "google-cloud-sdk/lib/third_party/pytz/zoneinfo/zone1970.tab\n",
            "google-cloud-sdk/lib/third_party/pyu2f/LICENSE\n",
            "google-cloud-sdk/lib/third_party/pyu2f/__init__.py\n",
            "google-cloud-sdk/lib/third_party/pyu2f/apdu.py\n",
            "google-cloud-sdk/lib/third_party/pyu2f/convenience/__init__.py\n",
            "google-cloud-sdk/lib/third_party/pyu2f/convenience/authenticator.py\n",
            "google-cloud-sdk/lib/third_party/pyu2f/convenience/baseauthenticator.py\n",
            "google-cloud-sdk/lib/third_party/pyu2f/convenience/customauthenticator.py\n",
            "google-cloud-sdk/lib/third_party/pyu2f/convenience/localauthenticator.py\n",
            "google-cloud-sdk/lib/third_party/pyu2f/errors.py\n",
            "google-cloud-sdk/lib/third_party/pyu2f/hardware.py\n",
            "google-cloud-sdk/lib/third_party/pyu2f/hid/__init__.py\n",
            "google-cloud-sdk/lib/third_party/pyu2f/hid/base.py\n",
            "google-cloud-sdk/lib/third_party/pyu2f/hid/linux.py\n",
            "google-cloud-sdk/lib/third_party/pyu2f/hid/macos.py\n",
            "google-cloud-sdk/lib/third_party/pyu2f/hid/windows.py\n",
            "google-cloud-sdk/lib/third_party/pyu2f/hidtransport.py\n",
            "google-cloud-sdk/lib/third_party/pyu2f/model.py\n",
            "google-cloud-sdk/lib/third_party/pyu2f/u2f.py\n",
            "google-cloud-sdk/lib/third_party/requests/LICENSE\n",
            "google-cloud-sdk/lib/third_party/requests/__init__.py\n",
            "google-cloud-sdk/lib/third_party/requests/__version__.py\n",
            "google-cloud-sdk/lib/third_party/requests/_internal_utils.py\n",
            "google-cloud-sdk/lib/third_party/requests/adapters.py\n",
            "google-cloud-sdk/lib/third_party/requests/api.py\n",
            "google-cloud-sdk/lib/third_party/requests/auth.py\n",
            "google-cloud-sdk/lib/third_party/requests/cacert.pem\n",
            "google-cloud-sdk/lib/third_party/requests/certs.py\n",
            "google-cloud-sdk/lib/third_party/requests/compat.py\n",
            "google-cloud-sdk/lib/third_party/requests/cookies.py\n",
            "google-cloud-sdk/lib/third_party/requests/exceptions.py\n",
            "google-cloud-sdk/lib/third_party/requests/help.py\n",
            "google-cloud-sdk/lib/third_party/requests/hooks.py\n",
            "google-cloud-sdk/lib/third_party/requests/models.py\n",
            "google-cloud-sdk/lib/third_party/requests/old_certs.py\n",
            "google-cloud-sdk/lib/third_party/requests/packages/__init__.py\n",
            "google-cloud-sdk/lib/third_party/requests/sessions.py\n",
            "google-cloud-sdk/lib/third_party/requests/status_codes.py\n",
            "google-cloud-sdk/lib/third_party/requests/structures.py\n",
            "google-cloud-sdk/lib/third_party/requests/utils.py\n",
            "google-cloud-sdk/lib/third_party/requests_oauthlib/LICENSE\n",
            "google-cloud-sdk/lib/third_party/requests_oauthlib/__init__.py\n",
            "google-cloud-sdk/lib/third_party/requests_oauthlib/compliance_fixes/__init__.py\n",
            "google-cloud-sdk/lib/third_party/requests_oauthlib/compliance_fixes/douban.py\n",
            "google-cloud-sdk/lib/third_party/requests_oauthlib/compliance_fixes/facebook.py\n",
            "google-cloud-sdk/lib/third_party/requests_oauthlib/compliance_fixes/fitbit.py\n",
            "google-cloud-sdk/lib/third_party/requests_oauthlib/compliance_fixes/linkedin.py\n",
            "google-cloud-sdk/lib/third_party/requests_oauthlib/compliance_fixes/mailchimp.py\n",
            "google-cloud-sdk/lib/third_party/requests_oauthlib/compliance_fixes/plentymarkets.py\n",
            "google-cloud-sdk/lib/third_party/requests_oauthlib/compliance_fixes/slack.py\n",
            "google-cloud-sdk/lib/third_party/requests_oauthlib/compliance_fixes/weibo.py\n",
            "google-cloud-sdk/lib/third_party/requests_oauthlib/oauth1_auth.py\n",
            "google-cloud-sdk/lib/third_party/requests_oauthlib/oauth1_session.py\n",
            "google-cloud-sdk/lib/third_party/requests_oauthlib/oauth2_auth.py\n",
            "google-cloud-sdk/lib/third_party/requests_oauthlib/oauth2_session.py\n",
            "google-cloud-sdk/lib/third_party/rsa/LICENSE\n",
            "google-cloud-sdk/lib/third_party/rsa/__init__.py\n",
            "google-cloud-sdk/lib/third_party/rsa/_compat.py\n",
            "google-cloud-sdk/lib/third_party/rsa/asn1.py\n",
            "google-cloud-sdk/lib/third_party/rsa/common.py\n",
            "google-cloud-sdk/lib/third_party/rsa/core.py\n",
            "google-cloud-sdk/lib/third_party/rsa/key.py\n",
            "google-cloud-sdk/lib/third_party/rsa/machine_size.py\n",
            "google-cloud-sdk/lib/third_party/rsa/pem.py\n",
            "google-cloud-sdk/lib/third_party/rsa/pkcs1.py\n",
            "google-cloud-sdk/lib/third_party/rsa/pkcs1_v2.py\n",
            "google-cloud-sdk/lib/third_party/rsa/prime.py\n",
            "google-cloud-sdk/lib/third_party/rsa/randnum.py\n",
            "google-cloud-sdk/lib/third_party/rsa/transform.py\n",
            "google-cloud-sdk/lib/third_party/ruamel/LICENSE\n",
            "google-cloud-sdk/lib/third_party/ruamel/__init__.py\n",
            "google-cloud-sdk/lib/third_party/ruamel/yaml/__init__.py\n",
            "google-cloud-sdk/lib/third_party/ruamel/yaml/anchor.py\n",
            "google-cloud-sdk/lib/third_party/ruamel/yaml/comments.py\n",
            "google-cloud-sdk/lib/third_party/ruamel/yaml/compat.py\n",
            "google-cloud-sdk/lib/third_party/ruamel/yaml/composer.py\n",
            "google-cloud-sdk/lib/third_party/ruamel/yaml/configobjwalker.py\n",
            "google-cloud-sdk/lib/third_party/ruamel/yaml/constructor.py\n",
            "google-cloud-sdk/lib/third_party/ruamel/yaml/cyaml.py\n",
            "google-cloud-sdk/lib/third_party/ruamel/yaml/dumper.py\n",
            "google-cloud-sdk/lib/third_party/ruamel/yaml/emitter.py\n",
            "google-cloud-sdk/lib/third_party/ruamel/yaml/error.py\n",
            "google-cloud-sdk/lib/third_party/ruamel/yaml/events.py\n",
            "google-cloud-sdk/lib/third_party/ruamel/yaml/loader.py\n",
            "google-cloud-sdk/lib/third_party/ruamel/yaml/main.py\n",
            "google-cloud-sdk/lib/third_party/ruamel/yaml/nodes.py\n",
            "google-cloud-sdk/lib/third_party/ruamel/yaml/parser.py\n",
            "google-cloud-sdk/lib/third_party/ruamel/yaml/reader.py\n",
            "google-cloud-sdk/lib/third_party/ruamel/yaml/representer.py\n",
            "google-cloud-sdk/lib/third_party/ruamel/yaml/resolver.py\n",
            "google-cloud-sdk/lib/third_party/ruamel/yaml/scalarbool.py\n",
            "google-cloud-sdk/lib/third_party/ruamel/yaml/scalarfloat.py\n",
            "google-cloud-sdk/lib/third_party/ruamel/yaml/scalarint.py\n",
            "google-cloud-sdk/lib/third_party/ruamel/yaml/scalarstring.py\n",
            "google-cloud-sdk/lib/third_party/ruamel/yaml/scanner.py\n",
            "google-cloud-sdk/lib/third_party/ruamel/yaml/serializer.py\n",
            "google-cloud-sdk/lib/third_party/ruamel/yaml/setup.py\n",
            "google-cloud-sdk/lib/third_party/ruamel/yaml/timestamp.py\n",
            "google-cloud-sdk/lib/third_party/ruamel/yaml/tokens.py\n",
            "google-cloud-sdk/lib/third_party/ruamel/yaml/util.py\n",
            "google-cloud-sdk/lib/third_party/s3transfer/LICENSE\n",
            "google-cloud-sdk/lib/third_party/s3transfer/__init__.py\n",
            "google-cloud-sdk/lib/third_party/s3transfer/bandwidth.py\n",
            "google-cloud-sdk/lib/third_party/s3transfer/compat.py\n",
            "google-cloud-sdk/lib/third_party/s3transfer/constants.py\n",
            "google-cloud-sdk/lib/third_party/s3transfer/copies.py\n",
            "google-cloud-sdk/lib/third_party/s3transfer/delete.py\n",
            "google-cloud-sdk/lib/third_party/s3transfer/download.py\n",
            "google-cloud-sdk/lib/third_party/s3transfer/exceptions.py\n",
            "google-cloud-sdk/lib/third_party/s3transfer/futures.py\n",
            "google-cloud-sdk/lib/third_party/s3transfer/manager.py\n",
            "google-cloud-sdk/lib/third_party/s3transfer/processpool.py\n",
            "google-cloud-sdk/lib/third_party/s3transfer/subscribers.py\n",
            "google-cloud-sdk/lib/third_party/s3transfer/tasks.py\n",
            "google-cloud-sdk/lib/third_party/s3transfer/upload.py\n",
            "google-cloud-sdk/lib/third_party/s3transfer/utils.py\n",
            "google-cloud-sdk/lib/third_party/setuptools/LICENSE\n",
            "google-cloud-sdk/lib/third_party/setuptools/__init__.py\n",
            "google-cloud-sdk/lib/third_party/setuptools/archive_util.py\n",
            "google-cloud-sdk/lib/third_party/setuptools/command/__init__.py\n",
            "google-cloud-sdk/lib/third_party/setuptools/command/alias.py\n",
            "google-cloud-sdk/lib/third_party/setuptools/command/bdist_egg.py\n",
            "google-cloud-sdk/lib/third_party/setuptools/command/bdist_rpm.py\n",
            "google-cloud-sdk/lib/third_party/setuptools/command/bdist_wininst.py\n",
            "google-cloud-sdk/lib/third_party/setuptools/command/build_clib.py\n",
            "google-cloud-sdk/lib/third_party/setuptools/command/build_ext.py\n",
            "google-cloud-sdk/lib/third_party/setuptools/command/build_py.py\n",
            "google-cloud-sdk/lib/third_party/setuptools/command/develop.py\n",
            "google-cloud-sdk/lib/third_party/setuptools/command/easy_install.py\n",
            "google-cloud-sdk/lib/third_party/setuptools/command/egg_info.py\n",
            "google-cloud-sdk/lib/third_party/setuptools/command/install.py\n",
            "google-cloud-sdk/lib/third_party/setuptools/command/install_egg_info.py\n",
            "google-cloud-sdk/lib/third_party/setuptools/command/install_lib.py\n",
            "google-cloud-sdk/lib/third_party/setuptools/command/install_scripts.py\n",
            "google-cloud-sdk/lib/third_party/setuptools/command/py36compat.py\n",
            "google-cloud-sdk/lib/third_party/setuptools/command/register.py\n",
            "google-cloud-sdk/lib/third_party/setuptools/command/rotate.py\n",
            "google-cloud-sdk/lib/third_party/setuptools/command/saveopts.py\n",
            "google-cloud-sdk/lib/third_party/setuptools/command/sdist.py\n",
            "google-cloud-sdk/lib/third_party/setuptools/command/setopt.py\n",
            "google-cloud-sdk/lib/third_party/setuptools/command/test.py\n",
            "google-cloud-sdk/lib/third_party/setuptools/command/upload.py\n",
            "google-cloud-sdk/lib/third_party/setuptools/command/upload_docs.py\n",
            "google-cloud-sdk/lib/third_party/setuptools/config.py\n",
            "google-cloud-sdk/lib/third_party/setuptools/dep_util.py\n",
            "google-cloud-sdk/lib/third_party/setuptools/depends.py\n",
            "google-cloud-sdk/lib/third_party/setuptools/dist.py\n",
            "google-cloud-sdk/lib/third_party/setuptools/extension.py\n",
            "google-cloud-sdk/lib/third_party/setuptools/glob.py\n",
            "google-cloud-sdk/lib/third_party/setuptools/launch.py\n",
            "google-cloud-sdk/lib/third_party/setuptools/lib2to3_ex.py\n",
            "google-cloud-sdk/lib/third_party/setuptools/monkey.py\n",
            "google-cloud-sdk/lib/third_party/setuptools/msvc.py\n",
            "google-cloud-sdk/lib/third_party/setuptools/namespaces.py\n",
            "google-cloud-sdk/lib/third_party/setuptools/package_index.py\n",
            "google-cloud-sdk/lib/third_party/setuptools/py26compat.py\n",
            "google-cloud-sdk/lib/third_party/setuptools/py27compat.py\n",
            "google-cloud-sdk/lib/third_party/setuptools/py31compat.py\n",
            "google-cloud-sdk/lib/third_party/setuptools/py33compat.py\n",
            "google-cloud-sdk/lib/third_party/setuptools/py36compat.py\n",
            "google-cloud-sdk/lib/third_party/setuptools/sandbox.py\n",
            "google-cloud-sdk/lib/third_party/setuptools/site-patch.py\n",
            "google-cloud-sdk/lib/third_party/setuptools/ssl_support.py\n",
            "google-cloud-sdk/lib/third_party/setuptools/unicode_utils.py\n",
            "google-cloud-sdk/lib/third_party/setuptools/version.py\n",
            "google-cloud-sdk/lib/third_party/setuptools/windows_support.py\n",
            "google-cloud-sdk/lib/third_party/six/LICENSE\n",
            "google-cloud-sdk/lib/third_party/six/__init__.py\n",
            "google-cloud-sdk/lib/third_party/socks/LICENSE\n",
            "google-cloud-sdk/lib/third_party/socks/__init__.py\n",
            "google-cloud-sdk/lib/third_party/sqlparse/LICENSE\n",
            "google-cloud-sdk/lib/third_party/sqlparse/__init__.py\n",
            "google-cloud-sdk/lib/third_party/sqlparse/__main__.py\n",
            "google-cloud-sdk/lib/third_party/sqlparse/cli.py\n",
            "google-cloud-sdk/lib/third_party/sqlparse/compat.py\n",
            "google-cloud-sdk/lib/third_party/sqlparse/engine/__init__.py\n",
            "google-cloud-sdk/lib/third_party/sqlparse/engine/filter_stack.py\n",
            "google-cloud-sdk/lib/third_party/sqlparse/engine/grouping.py\n",
            "google-cloud-sdk/lib/third_party/sqlparse/engine/statement_splitter.py\n",
            "google-cloud-sdk/lib/third_party/sqlparse/exceptions.py\n",
            "google-cloud-sdk/lib/third_party/sqlparse/filters/__init__.py\n",
            "google-cloud-sdk/lib/third_party/sqlparse/filters/aligned_indent.py\n",
            "google-cloud-sdk/lib/third_party/sqlparse/filters/others.py\n",
            "google-cloud-sdk/lib/third_party/sqlparse/filters/output.py\n",
            "google-cloud-sdk/lib/third_party/sqlparse/filters/reindent.py\n",
            "google-cloud-sdk/lib/third_party/sqlparse/filters/right_margin.py\n",
            "google-cloud-sdk/lib/third_party/sqlparse/filters/tokens.py\n",
            "google-cloud-sdk/lib/third_party/sqlparse/formatter.py\n",
            "google-cloud-sdk/lib/third_party/sqlparse/keywords.py\n",
            "google-cloud-sdk/lib/third_party/sqlparse/lexer.py\n",
            "google-cloud-sdk/lib/third_party/sqlparse/sql.py\n",
            "google-cloud-sdk/lib/third_party/sqlparse/tokens.py\n",
            "google-cloud-sdk/lib/third_party/sqlparse/utils.py\n",
            "google-cloud-sdk/lib/third_party/uritemplate/LICENSE\n",
            "google-cloud-sdk/lib/third_party/uritemplate/__init__.py\n",
            "google-cloud-sdk/lib/third_party/uritemplate/api.py\n",
            "google-cloud-sdk/lib/third_party/uritemplate/template.py\n",
            "google-cloud-sdk/lib/third_party/uritemplate/variable.py\n",
            "google-cloud-sdk/lib/third_party/urllib3/LICENSE\n",
            "google-cloud-sdk/lib/third_party/urllib3/__init__.py\n",
            "google-cloud-sdk/lib/third_party/urllib3/_collections.py\n",
            "google-cloud-sdk/lib/third_party/urllib3/connection.py\n",
            "google-cloud-sdk/lib/third_party/urllib3/connectionpool.py\n",
            "google-cloud-sdk/lib/third_party/urllib3/contrib/__init__.py\n",
            "google-cloud-sdk/lib/third_party/urllib3/contrib/_appengine_environ.py\n",
            "google-cloud-sdk/lib/third_party/urllib3/contrib/_securetransport/__init__.py\n",
            "google-cloud-sdk/lib/third_party/urllib3/contrib/_securetransport/bindings.py\n",
            "google-cloud-sdk/lib/third_party/urllib3/contrib/_securetransport/low_level.py\n",
            "google-cloud-sdk/lib/third_party/urllib3/contrib/appengine.py\n",
            "google-cloud-sdk/lib/third_party/urllib3/contrib/ntlmpool.py\n",
            "google-cloud-sdk/lib/third_party/urllib3/contrib/pyopenssl.py\n",
            "google-cloud-sdk/lib/third_party/urllib3/contrib/securetransport.py\n",
            "google-cloud-sdk/lib/third_party/urllib3/contrib/socks.py\n",
            "google-cloud-sdk/lib/third_party/urllib3/exceptions.py\n",
            "google-cloud-sdk/lib/third_party/urllib3/fields.py\n",
            "google-cloud-sdk/lib/third_party/urllib3/filepost.py\n",
            "google-cloud-sdk/lib/third_party/urllib3/packages/__init__.py\n",
            "google-cloud-sdk/lib/third_party/urllib3/packages/backports/__init__.py\n",
            "google-cloud-sdk/lib/third_party/urllib3/packages/backports/makefile.py\n",
            "google-cloud-sdk/lib/third_party/urllib3/packages/six.py\n",
            "google-cloud-sdk/lib/third_party/urllib3/packages/ssl_match_hostname/__init__.py\n",
            "google-cloud-sdk/lib/third_party/urllib3/packages/ssl_match_hostname/_implementation.py\n",
            "google-cloud-sdk/lib/third_party/urllib3/poolmanager.py\n",
            "google-cloud-sdk/lib/third_party/urllib3/request.py\n",
            "google-cloud-sdk/lib/third_party/urllib3/response.py\n",
            "google-cloud-sdk/lib/third_party/urllib3/util/__init__.py\n",
            "google-cloud-sdk/lib/third_party/urllib3/util/connection.py\n",
            "google-cloud-sdk/lib/third_party/urllib3/util/queue.py\n",
            "google-cloud-sdk/lib/third_party/urllib3/util/request.py\n",
            "google-cloud-sdk/lib/third_party/urllib3/util/response.py\n",
            "google-cloud-sdk/lib/third_party/urllib3/util/retry.py\n",
            "google-cloud-sdk/lib/third_party/urllib3/util/ssl_.py\n",
            "google-cloud-sdk/lib/third_party/urllib3/util/timeout.py\n",
            "google-cloud-sdk/lib/third_party/urllib3/util/url.py\n",
            "google-cloud-sdk/lib/third_party/urllib3/util/wait.py\n",
            "google-cloud-sdk/lib/third_party/wcwidth/LICENSE\n",
            "google-cloud-sdk/lib/third_party/wcwidth/__init__.py\n",
            "google-cloud-sdk/lib/third_party/wcwidth/table_wide.py\n",
            "google-cloud-sdk/lib/third_party/wcwidth/table_zero.py\n",
            "google-cloud-sdk/lib/third_party/wcwidth/wcwidth.py\n",
            "google-cloud-sdk/lib/third_party/websocket/LICENSE\n",
            "google-cloud-sdk/lib/third_party/websocket/__init__.py\n",
            "google-cloud-sdk/lib/third_party/websocket/_abnf.py\n",
            "google-cloud-sdk/lib/third_party/websocket/_app.py\n",
            "google-cloud-sdk/lib/third_party/websocket/_cookiejar.py\n",
            "google-cloud-sdk/lib/third_party/websocket/_core.py\n",
            "google-cloud-sdk/lib/third_party/websocket/_exceptions.py\n",
            "google-cloud-sdk/lib/third_party/websocket/_handshake.py\n",
            "google-cloud-sdk/lib/third_party/websocket/_http.py\n",
            "google-cloud-sdk/lib/third_party/websocket/_logging.py\n",
            "google-cloud-sdk/lib/third_party/websocket/_socket.py\n",
            "google-cloud-sdk/lib/third_party/websocket/_ssl_compat.py\n",
            "google-cloud-sdk/lib/third_party/websocket/_url.py\n",
            "google-cloud-sdk/lib/third_party/websocket/_utils.py\n",
            "google-cloud-sdk/lib/third_party/win_inet_pton/LICENSE\n",
            "google-cloud-sdk/lib/third_party/win_inet_pton/__init__.py\n",
            "google-cloud-sdk/lib/third_party/yaml/LICENSE\n",
            "google-cloud-sdk/lib/third_party/yaml/__init__.py\n",
            "google-cloud-sdk/lib/third_party/yaml/composer.py\n",
            "google-cloud-sdk/lib/third_party/yaml/constructor.py\n",
            "google-cloud-sdk/lib/third_party/yaml/cyaml.py\n",
            "google-cloud-sdk/lib/third_party/yaml/dumper.py\n",
            "google-cloud-sdk/lib/third_party/yaml/emitter.py\n",
            "google-cloud-sdk/lib/third_party/yaml/error.py\n",
            "google-cloud-sdk/lib/third_party/yaml/events.py\n",
            "google-cloud-sdk/lib/third_party/yaml/loader.py\n",
            "google-cloud-sdk/lib/third_party/yaml/nodes.py\n",
            "google-cloud-sdk/lib/third_party/yaml/parser.py\n",
            "google-cloud-sdk/lib/third_party/yaml/reader.py\n",
            "google-cloud-sdk/lib/third_party/yaml/representer.py\n",
            "google-cloud-sdk/lib/third_party/yaml/resolver.py\n",
            "google-cloud-sdk/lib/third_party/yaml/scanner.py\n",
            "google-cloud-sdk/lib/third_party/yaml/serializer.py\n",
            "google-cloud-sdk/lib/third_party/yaml/tokens.py\n",
            "google-cloud-sdk/lib/tools/__init__.py\n",
            "google-cloud-sdk/lib/tools/regen_apis/__init__.py\n",
            "google-cloud-sdk/lib/tools/regen_apis/main.py\n",
            "google-cloud-sdk/lib/tools/regen_gapic_deps/README.md\n",
            "google-cloud-sdk/path.bash.inc\n",
            "google-cloud-sdk/path.fish.inc\n",
            "google-cloud-sdk/path.zsh.inc\n",
            "google-cloud-sdk/platform/ext-runtime/custom/LICENSE\n",
            "google-cloud-sdk/platform/ext-runtime/custom/README.md\n",
            "google-cloud-sdk/platform/ext-runtime/custom/app.yaml\n",
            "google-cloud-sdk/platform/ext-runtime/custom/bin/detect\n",
            "google-cloud-sdk/platform/ext-runtime/custom/runtime.yaml\n",
            "google-cloud-sdk/platform/ext-runtime/custom/test/runtime_test.py\n",
            "google-cloud-sdk/platform/ext-runtime/go/LICENSE\n",
            "google-cloud-sdk/platform/ext-runtime/go/README.md\n",
            "google-cloud-sdk/platform/ext-runtime/go/bin/detect\n",
            "google-cloud-sdk/platform/ext-runtime/go/bin/generate_configs\n",
            "google-cloud-sdk/platform/ext-runtime/go/data/Dockerfile\n",
            "google-cloud-sdk/platform/ext-runtime/go/data/dockerignore\n",
            "google-cloud-sdk/platform/ext-runtime/go/lib/gae_ext_runtime/__init__.py\n",
            "google-cloud-sdk/platform/ext-runtime/go/lib/gae_ext_runtime/comm.py\n",
            "google-cloud-sdk/platform/ext-runtime/go/runtime.yaml\n",
            "google-cloud-sdk/platform/ext-runtime/go/test/runtime_test.py\n",
            "google-cloud-sdk/platform/ext-runtime/java/LICENSE\n",
            "google-cloud-sdk/platform/ext-runtime/java/bin/detect\n",
            "google-cloud-sdk/platform/ext-runtime/java/bin/generate_configs\n",
            "google-cloud-sdk/platform/ext-runtime/java/data/dockerignore\n",
            "google-cloud-sdk/platform/ext-runtime/java/lib/comm.py\n",
            "google-cloud-sdk/platform/ext-runtime/java/lib/constants.py\n",
            "google-cloud-sdk/platform/ext-runtime/java/requirements.txt\n",
            "google-cloud-sdk/platform/ext-runtime/java/runtime.yaml\n",
            "google-cloud-sdk/platform/ext-runtime/java/test/runtime_test.py\n",
            "google-cloud-sdk/platform/ext-runtime/nodejs/.gitignore\n",
            "google-cloud-sdk/platform/ext-runtime/nodejs/CONTRIBUTING.md\n",
            "google-cloud-sdk/platform/ext-runtime/nodejs/LICENSE\n",
            "google-cloud-sdk/platform/ext-runtime/nodejs/README.md\n",
            "google-cloud-sdk/platform/ext-runtime/nodejs/bin/detect\n",
            "google-cloud-sdk/platform/ext-runtime/nodejs/bin/generate_configs\n",
            "google-cloud-sdk/platform/ext-runtime/nodejs/data/Dockerfile\n",
            "google-cloud-sdk/platform/ext-runtime/nodejs/data/app.yaml\n",
            "google-cloud-sdk/platform/ext-runtime/nodejs/data/dockerignore\n",
            "google-cloud-sdk/platform/ext-runtime/nodejs/data/install-node-version\n",
            "google-cloud-sdk/platform/ext-runtime/nodejs/data/install-yarn\n",
            "google-cloud-sdk/platform/ext-runtime/nodejs/data/npm-package-json-install\n",
            "google-cloud-sdk/platform/ext-runtime/nodejs/data/yarn-package-json-install\n",
            "google-cloud-sdk/platform/ext-runtime/nodejs/lib/comm.py\n",
            "google-cloud-sdk/platform/ext-runtime/nodejs/runtime.yaml\n",
            "google-cloud-sdk/platform/ext-runtime/nodejs/test/runtime_test.py\n",
            "google-cloud-sdk/platform/ext-runtime/nodejs/testing.md\n",
            "google-cloud-sdk/platform/ext-runtime/php/CONTRIBUTING.md\n",
            "google-cloud-sdk/platform/ext-runtime/php/LICENSE\n",
            "google-cloud-sdk/platform/ext-runtime/php/README.md\n",
            "google-cloud-sdk/platform/ext-runtime/php/bin/detect\n",
            "google-cloud-sdk/platform/ext-runtime/php/bin/generate_configs\n",
            "google-cloud-sdk/platform/ext-runtime/php/runtime.yaml\n",
            "google-cloud-sdk/platform/ext-runtime/php/templates/Dockerfile.entrypoint.template\n",
            "google-cloud-sdk/platform/ext-runtime/php/templates/Dockerfile.template\n",
            "google-cloud-sdk/platform/ext-runtime/php/templates/dockerignore.template\n",
            "google-cloud-sdk/platform/ext-runtime/php/test/runtime_test.py\n",
            "google-cloud-sdk/platform/ext-runtime/python/CONTRIBUTING.md\n",
            "google-cloud-sdk/platform/ext-runtime/python/LICENSE\n",
            "google-cloud-sdk/platform/ext-runtime/python/README.md\n",
            "google-cloud-sdk/platform/ext-runtime/python/bin/detect\n",
            "google-cloud-sdk/platform/ext-runtime/python/bin/generate_configs\n",
            "google-cloud-sdk/platform/ext-runtime/python/data/Dockerfile.install_app\n",
            "google-cloud-sdk/platform/ext-runtime/python/data/Dockerfile.preamble\n",
            "google-cloud-sdk/platform/ext-runtime/python/data/Dockerfile.requirements_txt\n",
            "google-cloud-sdk/platform/ext-runtime/python/data/Dockerfile.virtualenv.template\n",
            "google-cloud-sdk/platform/ext-runtime/python/data/app.yaml.template\n",
            "google-cloud-sdk/platform/ext-runtime/python/data/dockerignore\n",
            "google-cloud-sdk/platform/ext-runtime/python/lib/comm.py\n",
            "google-cloud-sdk/platform/ext-runtime/python/lib/versions.py\n",
            "google-cloud-sdk/platform/ext-runtime/python/runtime.yaml\n",
            "google-cloud-sdk/platform/ext-runtime/python/test/runtime_test.py\n",
            "google-cloud-sdk/platform/ext-runtime/ruby/CONTRIBUTING.md\n",
            "google-cloud-sdk/platform/ext-runtime/ruby/LICENSE\n",
            "google-cloud-sdk/platform/ext-runtime/ruby/README.md\n",
            "google-cloud-sdk/platform/ext-runtime/ruby/bin/detect\n",
            "google-cloud-sdk/platform/ext-runtime/ruby/bin/generate_configs\n",
            "google-cloud-sdk/platform/ext-runtime/ruby/lib/gae_ext_runtime/__init__.py\n",
            "google-cloud-sdk/platform/ext-runtime/ruby/lib/gae_ext_runtime/comm.py\n",
            "google-cloud-sdk/platform/ext-runtime/ruby/runtime.yaml\n",
            "google-cloud-sdk/platform/ext-runtime/ruby/templates/Dockerfile.template\n",
            "google-cloud-sdk/platform/ext-runtime/ruby/templates/dockerignore.template\n",
            "google-cloud-sdk/platform/ext-runtime/ruby/test/runtime_test.py\n",
            "google-cloud-sdk/rpm/mapping/command_mapping.yaml\n",
            "google-cloud-sdk/rpm/mapping/component_mapping.yaml\n",
            "\n",
            "/root/google-cloud-sdk/install.sh\n",
            "Welcome to the Google Cloud SDK!\n",
            "WARNING: You appear to be running this script as root. This may cause \n",
            "the installation to be inaccessible to users other than the root user.\n",
            "\n",
            "To help improve the quality of this product, we collect anonymized usage data\n",
            "and anonymized stacktraces when crashes are encountered; additional information\n",
            "is available at <https://cloud.google.com/sdk/usage-statistics>. This data is\n",
            "handled in accordance with our privacy policy\n",
            "<https://cloud.google.com/terms/cloud-privacy-notice>. You may choose to opt in this\n",
            "collection now (by choosing 'Y' at the below prompt), or at any time in the\n",
            "future by running the following command:\n",
            "\n",
            "    gcloud config set disable_usage_reporting false\n",
            "\n",
            "\n",
            "This will install all the core command line tools necessary for working with\n",
            "the Google Cloud Platform.\n",
            "\n",
            "Beginning update. This process may take several minutes.\n",
            "\n",
            "\n",
            "Your current Cloud SDK version is: 334.0.0\n",
            "Installing components from version: 334.0.0\n",
            "\n",
            "┌─────────────────────────────────────────────────────────────────────────────┐\n",
            "│                     These components will be installed.                     │\n",
            "├─────────────────────────────────────────────────────┬────────────┬──────────┤\n",
            "│                         Name                        │  Version   │   Size   │\n",
            "├─────────────────────────────────────────────────────┼────────────┼──────────┤\n",
            "│ BigQuery Command Line Tool                          │     2.0.66 │  < 1 MiB │\n",
            "│ BigQuery Command Line Tool (Platform Specific)      │     2.0.65 │  < 1 MiB │\n",
            "│ Cloud SDK Core Libraries (Platform Specific)        │ 2021.03.12 │  < 1 MiB │\n",
            "│ Cloud Storage Command Line Tool                     │       4.60 │  3.9 MiB │\n",
            "│ Cloud Storage Command Line Tool (Platform Specific) │       4.59 │  < 1 MiB │\n",
            "│ anthoscli                                           │     0.2.16 │ 47.0 MiB │\n",
            "│ gcloud cli dependencies                             │ 2020.06.12 │  < 1 MiB │\n",
            "└─────────────────────────────────────────────────────┴────────────┴──────────┘\n",
            "\n",
            "For the latest full release notes, please visit:\n",
            "  https://cloud.google.com/sdk/release_notes\n",
            "\n",
            "╔════════════════════════════════════════════════════════════╗\n",
            "╠═ Creating update staging area                             ═╣\n",
            "╚════════════════════════════════════════════════════════════╝\n",
            "╔════════════════════════════════════════════════════════════╗\n",
            "╠═ Installing: BigQuery Command Line Tool                   ═╣\n",
            "╚════════════════════════════════════════════════════════════╝\n",
            "╔════════════════════════════════════════════════════════════╗\n",
            "╠═ Installing: BigQuery Command Line Tool (Platform Spec... ═╣\n",
            "╚════════════════════════════════════════════════════════════╝\n",
            "╔════════════════════════════════════════════════════════════╗\n",
            "╠═ Installing: Cloud SDK Core Libraries (Platform Specific) ═╣\n",
            "╚════════════════════════════════════════════════════════════╝\n",
            "╔════════════════════════════════════════════════════════════╗\n",
            "╠═ Installing: Cloud Storage Command Line Tool              ═╣\n",
            "╚════════════════════════════════════════════════════════════╝\n",
            "╔════════════════════════════════════════════════════════════╗\n",
            "╠═ Installing: Cloud Storage Command Line Tool (Platform... ═╣\n",
            "╚════════════════════════════════════════════════════════════╝\n",
            "╔════════════════════════════════════════════════════════════╗\n",
            "╠═ Installing: Default set of gcloud commands               ═╣\n",
            "╚════════════════════════════════════════════════════════════╝\n",
            "╔════════════════════════════════════════════════════════════╗\n",
            "╠═ Installing: anthoscli                                    ═╣\n",
            "╚════════════════════════════════════════════════════════════╝\n",
            "╔════════════════════════════════════════════════════════════╗\n",
            "╠═ Installing: anthoscli                                    ═╣\n",
            "╚════════════════════════════════════════════════════════════╝\n",
            "╔════════════════════════════════════════════════════════════╗\n",
            "╠═ Installing: gcloud cli dependencies                      ═╣\n",
            "╚════════════════════════════════════════════════════════════╝\n",
            "╔════════════════════════════════════════════════════════════╗\n",
            "╠═ Creating backup and activating new installation          ═╣\n",
            "╚════════════════════════════════════════════════════════════╝\n",
            "\n",
            "\n",
            "Update done!\n",
            "\n",
            "\u001b[1;33mWARNING:\u001b[0m   There are other instances of Google Cloud Platform tools on your system PATH.\n",
            "  Please remove the following to avoid confusion or accidental invocation:\n",
            "\n",
            "  /tools/google-cloud-sdk/bin/endpointscfg.py\n",
            "/tools/google-cloud-sdk/bin/docker-credential-gcloud\n",
            "/tools/google-cloud-sdk/bin/git-credential-gcloud.sh\n",
            "/tools/google-cloud-sdk/bin/gcloud\n",
            "/tools/google-cloud-sdk/bin/dev_appserver.py\n",
            "/tools/google-cloud-sdk/bin/anthoscli\n",
            "/tools/google-cloud-sdk/bin/gsutil\n",
            "/tools/google-cloud-sdk/bin/java_dev_appserver.sh\n",
            "/tools/google-cloud-sdk/bin/bq\n",
            "\n",
            "  \n",
            "==> Source [/root/google-cloud-sdk/completion.bash.inc] in your profile to enable shell command completion for gcloud.\n",
            "==> Source [/root/google-cloud-sdk/path.bash.inc] in your profile to add the Google Cloud SDK command line tools to your $PATH.\n",
            "\n",
            "For more information on how to get started, please visit:\n",
            "  https://cloud.google.com/sdk/docs/quickstarts\n",
            "\n",
            "\n"
          ],
          "name": "stdout"
        }
      ]
    },
    {
      "cell_type": "markdown",
      "metadata": {
        "id": "pfgKdgKRfOGu"
      },
      "source": [
        "Initialize SDK - need to answer some questions"
      ]
    },
    {
      "cell_type": "code",
      "metadata": {
        "id": "-JG_iCasd8mL",
        "colab": {
          "base_uri": "https://localhost:8080/"
        },
        "outputId": "c5ec1b4c-a136-4918-dba2-823beeb7a1ad"
      },
      "source": [
        "!gcloud init"
      ],
      "execution_count": null,
      "outputs": [
        {
          "output_type": "stream",
          "text": [
            "Welcome! This command will take you through the configuration of gcloud.\n",
            "\n",
            "Settings from your current configuration [default] are:\n",
            "component_manager:\n",
            "  disable_update_check: 'True'\n",
            "compute:\n",
            "  gce_metadata_read_timeout_sec: '0'\n",
            "core:\n",
            "  account: aripolakof99@gmail.com\n",
            "\n",
            "Pick configuration to use:\n",
            " [1] Re-initialize this configuration [default] with new settings \n",
            " [2] Create a new configuration\n",
            "Please enter your numeric choice:  1\n",
            "\n",
            "Your current configuration has been set to: [default]\n",
            "\n",
            "You can skip diagnostics next time by using the following flag:\n",
            "  gcloud init --skip-diagnostics\n",
            "\n",
            "Network diagnostic detects and fixes local network connection issues.\n",
            "Reachability Check passed.\n",
            "Network diagnostic passed (1/1 checks passed).\n",
            "\n",
            "Choose the account you would like to use to perform operations for \n",
            "this configuration:\n",
            " [1] aripolakof99@gmail.com\n",
            " [2] Log in with a new account\n",
            "Please enter your numeric choice:  2\n",
            "\n",
            "Go to the following link in your browser:\n",
            "\n",
            "    https://accounts.google.com/o/oauth2/auth?response_type=code&client_id=32555940559.apps.googleusercontent.com&redirect_uri=urn%3Aietf%3Awg%3Aoauth%3A2.0%3Aoob&scope=openid+https%3A%2F%2Fwww.googleapis.com%2Fauth%2Fuserinfo.email+https%3A%2F%2Fwww.googleapis.com%2Fauth%2Fcloud-platform+https%3A%2F%2Fwww.googleapis.com%2Fauth%2Fappengine.admin+https%3A%2F%2Fwww.googleapis.com%2Fauth%2Fcompute+https%3A%2F%2Fwww.googleapis.com%2Fauth%2Faccounts.reauth&state=y9k7lis4jvCXPKqwSZ6Ndz1JhdDXim&prompt=consent&access_type=offline&code_challenge=e0aG4z6cKECESolmhb84YGfy7E5AR5GaprEioFxC6C8&code_challenge_method=S256\n",
            "\n",
            "Enter verification code: 4/1AY0e-g6bkFm0iaUykY7cXniToXNWkT71EU63XY0X5DLVOLK_5ZEUOcPYhms\n",
            "You are logged in as: [a_polakof@ucsb.edu].\n",
            "\n",
            "Pick cloud project to use: \n",
            " [1] appfolio-capstone-2021\n",
            " [2] Create a new project\n",
            "Please enter numeric choice or text value (must exactly match list \n",
            "item):  1\n",
            "\n",
            "Your current project has been set to: [appfolio-capstone-2021].\n",
            "\n",
            "\n",
            "Not setting default zone/region (this feature makes it easier to use\n",
            "[gcloud compute] by setting an appropriate default value for the\n",
            "--zone and --region flag).\n",
            "See https://cloud.google.com/compute/docs/gcloud-compute section on how to set\n",
            "default compute region and zone manually. If you would like [gcloud init] to be\n",
            "able to do this for you the next time you run it, make sure the\n",
            "Compute Engine API is enabled for your project on the\n",
            "https://console.developers.google.com/apis page.\n",
            "\n",
            "Your Google Cloud SDK is configured and ready to use!\n",
            "\n",
            "* Commands that require authentication will use a_polakof@ucsb.edu by default\n",
            "* Commands will reference project `appfolio-capstone-2021` by default\n",
            "Run `gcloud help config` to learn how to change individual settings\n",
            "\n",
            "This gcloud configuration is called [default]. You can create additional configurations if you work with multiple accounts and/or projects.\n",
            "Run `gcloud topic configurations` to learn more.\n",
            "\n",
            "Some things to try next:\n",
            "\n",
            "* Run `gcloud --help` to see the Cloud Platform services you can interact with. And run `gcloud help COMMAND` to get help on any gcloud command.\n",
            "* Run `gcloud topic --help` to learn about advanced features of the SDK like arg files and output formatting\n"
          ],
          "name": "stdout"
        }
      ]
    },
    {
      "cell_type": "markdown",
      "metadata": {
        "id": "RyHglGwWfV6_"
      },
      "source": [
        "Download files\n",
        "\n",
        "* !gsutil cp URI .  You can replace the . with the name you want\n",
        "* To get URI go to file you want to dowload in Google Cloud Platform and copy it "
      ]
    },
    {
      "cell_type": "code",
      "metadata": {
        "id": "G1X9jNMzfYg8",
        "colab": {
          "base_uri": "https://localhost:8080/"
        },
        "outputId": "647cb526-e3f4-40cf-890d-634f5e6f076d"
      },
      "source": [
        "!gsutil cp gs://capestone-benchmark-data/apm/metadata/0002cf94-5d45-48ef-9ca9-14c7e85ecef1.json apm/metadata/eg1.json\n",
        "!gsutil cp gs://capestone-benchmark-data/apm/box/0002cf94-5d45-48ef-9ca9-14c7e85ecef1.csv apm/annotations/eg1.csv\n",
        "!gsutil cp gs://capestone-benchmark-data/apm/img/0002cf94-5d45-48ef-9ca9-14c7e85ecef1.png apm/images/eg1.png\n",
        "\n",
        "!gsutil cp gs://capestone-benchmark-data/apm/metadata/0008d0c7-9aa1-4d0e-ad0c-fa11456a646c.json apm/metadata/eg2.json\n",
        "!gsutil cp gs://capestone-benchmark-data/apm/box/0008d0c7-9aa1-4d0e-ad0c-fa11456a646c.csv apm/annotations/eg2.csv\n",
        "!gsutil cp gs://capestone-benchmark-data/apm/img/0008d0c7-9aa1-4d0e-ad0c-fa11456a646c.png apm/images/eg2.png\n",
        "\n",
        "# !gsutil -m cp gs://capestone-benchmark-data/apm/img/*.png apm/images/\n",
        "# !gsutil -m cp gs://capestone-benchmark-data/apm/box/*.csv apm/annotations/\n",
        "# !gsutil -m cp gs://capestone-benchmark-data/apm/metadata/*.json apm/metadata/\n"
      ],
      "execution_count": null,
      "outputs": [
        {
          "output_type": "stream",
          "text": [
            "Copying gs://capestone-benchmark-data/apm/metadata/0002cf94-5d45-48ef-9ca9-14c7e85ecef1.json...\n",
            "/ [1 files][  227.0 B/  227.0 B]                                                \n",
            "Operation completed over 1 objects/227.0 B.                                      \n",
            "Copying gs://capestone-benchmark-data/apm/box/0002cf94-5d45-48ef-9ca9-14c7e85ecef1.csv...\n",
            "/ [1 files][ 18.2 KiB/ 18.2 KiB]                                                \n",
            "Operation completed over 1 objects/18.2 KiB.                                     \n",
            "Copying gs://capestone-benchmark-data/apm/img/0002cf94-5d45-48ef-9ca9-14c7e85ecef1.png...\n",
            "/ [1 files][  4.6 MiB/  4.6 MiB]                                                \n",
            "Operation completed over 1 objects/4.6 MiB.                                      \n",
            "Copying gs://capestone-benchmark-data/apm/metadata/0008d0c7-9aa1-4d0e-ad0c-fa11456a646c.json...\n",
            "/ [1 files][  227.0 B/  227.0 B]                                                \n",
            "Operation completed over 1 objects/227.0 B.                                      \n",
            "Copying gs://capestone-benchmark-data/apm/box/0008d0c7-9aa1-4d0e-ad0c-fa11456a646c.csv...\n",
            "/ [1 files][ 12.1 KiB/ 12.1 KiB]                                                \n",
            "Operation completed over 1 objects/12.1 KiB.                                     \n",
            "Copying gs://capestone-benchmark-data/apm/img/0008d0c7-9aa1-4d0e-ad0c-fa11456a646c.png...\n",
            "/ [1 files][402.3 KiB/402.3 KiB]                                                \n",
            "Operation completed over 1 objects/402.3 KiB.                                    \n"
          ],
          "name": "stdout"
        }
      ]
    },
    {
      "cell_type": "markdown",
      "metadata": {
        "id": "TkClDjPvaTiO"
      },
      "source": [
        "# Model Code"
      ]
    },
    {
      "cell_type": "code",
      "metadata": {
        "id": "IzRfdrQjz4wT",
        "colab": {
          "base_uri": "https://localhost:8080/"
        },
        "outputId": "8c37289c-1bb5-4612-e7df-5412dc4e7170"
      },
      "source": [
        "from PIL import Image, ImageDraw, ImageFont\n",
        "\n",
        "labels = [\"Total\", \"Other\"]\n",
        "label_map = {i: label for i, label in enumerate(labels)}\n",
        "type(label_map)"
      ],
      "execution_count": null,
      "outputs": [
        {
          "output_type": "execute_result",
          "data": {
            "text/plain": [
              "dict"
            ]
          },
          "metadata": {
            "tags": []
          },
          "execution_count": 2
        }
      ]
    },
    {
      "cell_type": "code",
      "metadata": {
        "id": "XkDdxaXk0SUp",
        "colab": {
          "base_uri": "https://localhost:8080/"
        },
        "outputId": "11dee0b3-187e-4ba3-8cf7-aa3cabc49fad"
      },
      "source": [
        "from transformers import LayoutLMModel, LayoutLMConfig, LayoutLMTokenizer\n",
        "\n",
        "# Define Tokenizer\n",
        "tokenizer = LayoutLMTokenizer.from_pretrained(\"microsoft/layoutlm-base-uncased\", max_seq_length = 512)\n",
        "words = \"Hey\"\n",
        "\n",
        "tokenizer(words, padding=True, return_tensors=\"pt\")"
      ],
      "execution_count": null,
      "outputs": [
        {
          "output_type": "execute_result",
          "data": {
            "text/plain": [
              "{'input_ids': tensor([[ 101, 4931,  102]]), 'token_type_ids': tensor([[0, 0, 0]]), 'attention_mask': tensor([[1, 1, 1]])}"
            ]
          },
          "metadata": {
            "tags": []
          },
          "execution_count": 3
        }
      ]
    },
    {
      "cell_type": "code",
      "metadata": {
        "id": "4KJX6FjDYxQs"
      },
      "source": [
        "class Invoice_Tokenized():\n",
        "  def __init__ (self, csv_name, encoding, bbox, token_labels):\n",
        "    self.input_ids = encoding[\"input_ids\"]\n",
        "    self.attention_mask = encoding[\"attention_mask\"]\n",
        "    self.token_type_ids = encoding[\"token_type_ids\"]\n",
        "    self.bbox = bbox\n",
        "    self.token_labels = token_labels\n",
        "    self.csv_name = csv_name\n",
        "    # self.items = pd.DataFrame({\"input_ids\": self.input_ids, \"attention_mask\": self.attention_mask, \"token_type_ids\": self.token_type_ids, \"bbox\": self.bbox, \"token_labels\": self.token_labels}, index=[0])\n",
        "    self.items = [self.input_ids, self.token_type_ids, self.attention_mask, self.token_labels, self.bbox, self.csv_name]\n",
        "  \n",
        "  # def __asdict__(self):\n",
        "  #   # return [self.input_ids, self.token_type_ids, self.attention_mask, self.token_labels, self.bbox]\n",
        "  #   return {\"input_ids\": self.input_ids, \"attention_mask\": self.attention_mask, \"token_type_ids\": self.token_type_ids, \"bbox\": self.bbox, \"token_labels\": self.token_labels}\n",
        "\n",
        "  def __getitem__(self, idx):\n",
        "    order = [\"input_ids\", \"token_type_ids\", \"attention_mask\", \"token_labels\", \"bbox\", \"csv\"]\n",
        "    return order[idx], self.items[idx]"
      ],
      "execution_count": null,
      "outputs": []
    },
    {
      "cell_type": "code",
      "metadata": {
        "id": "OjnvSP3KcTQr"
      },
      "source": [
        "#for new Dataloader\n",
        "\n",
        "def preprocess_indiv_files(csv, annotation, metadata):\n",
        "        #adding the ground truth label column\n",
        "        annotation['Label'] = None\n",
        "        for i in annotation.index:\n",
        "            if annotation.loc[i,'content'] == str(metadata[\"AMOUNT\"]):\n",
        "              annotation.loc[i,'Label'] = \"Total\"\n",
        "            else:\n",
        "              annotation.loc[i,'Label'] = \"Other\"\n",
        "        \n",
        "        words = []\n",
        "        token_boxes = [[0,0,0,0]]\n",
        "        token_labels = [-100] # CLS token\n",
        "        \n",
        "        annotation = annotation.to_numpy()\n",
        "        for row in annotation:\n",
        "          if(row[1] - row[0] < 0 or row[3] - row[2] < 0):\n",
        "              continue\n",
        "          word_tokens = tokenizer.tokenize(row[6])\n",
        "          # Temporal fix to truncate sequence length\n",
        "          if(len(token_boxes) + len(word_tokens) >= 511):\n",
        "              break\n",
        "          words.append(row[6])\n",
        "          assert (row[1] - row[0]) > 0, \"Wrong bounding boxes-x {} {}\".format(row[1]-row[0], row)\n",
        "          assert (row[3] - row[2]) > 0, \"Wrong bounding boxes-y {} {}\".format(row[3]-row[2], row)\n",
        "          box = [int(row[0]/row[4]*1000), int(row[2]/row[5]*1000), int(row[1]/row[4]*1000), int(row[3]/row[5]*1000)]\n",
        "          token_boxes.extend([box] * len(word_tokens))\n",
        "          token_labels.extend([1 if row[-1]==\"Total\" else 0] * len(word_tokens))\n",
        "\n",
        "        encoding = tokenizer(' '.join(words), padding=\"max_length\", truncation=True, return_tensors='pt')\n",
        "        \n",
        "        token_boxes = token_boxes + [[1000, 1000, 1000, 1000]]+[[0,0,0,0]]*(512-len(token_boxes)-1)\n",
        "        # token_boxes = token_boxes + [[0,0,0,0]]*(512-len(token_boxes))\n",
        "        token_labels.append(0) # SEP token\n",
        "        if(len(token_labels)<512):\n",
        "            token_labels.extend([-100]*(512-len(token_labels)))\n",
        "        # print(token_labels, len(token_labels))\n",
        "        return Invoice_Tokenized(csv, encoding, torch.tensor([token_boxes]), torch.tensor([token_labels]))  #encoding, bbox, token_labels\n",
        "\n",
        "def preprocess(annotations_folder, metadata_folder):\n",
        "        '''\n",
        "        input: annotations_folder_path, metadata_folder_path\n",
        "        assumes that the corresponding annotations and metadata are present and have the same order in their directories\n",
        "        '''\n",
        "        annotations_files = sorted(glob(annotations_folder + '/*.csv'))\n",
        "        metadata_files = sorted(glob(metadata_folder + '/*.json'))\n",
        "        annotations = []\n",
        "        for idx, csv in enumerate(annotations_files):  \n",
        "          try:       \n",
        "            annotation = pd.read_csv(csv, index_col=0)\n",
        "            metadata = json.load(open(metadata_files[idx], \"r\"))\n",
        "            # if (str(metadata[\"AMOUNT\"]) or int(metadata[\"AMOUNT\"])) not in annotation['content']:\n",
        "            #   print(metadata[\"AMOUNT\"])\n",
        "            #   print(annotation['content'])\n",
        "            #   print(\"This invoice's metadata is probably wrong: \", idx)\n",
        "            #   continue\n",
        "            invoice = preprocess_indiv_files(csv, annotation, metadata)\n",
        "            # print(invoice.asdict())\n",
        "            annotations.append(invoice)\n",
        "          except: \n",
        "            print(\"IDX WHERE ERRORING: \", idx)\n",
        "        return annotations\n"
      ],
      "execution_count": null,
      "outputs": []
    },
    {
      "cell_type": "code",
      "metadata": {
        "id": "U3cNCiNjGrXV"
      },
      "source": [
        "#new DataLoader\n",
        "\n",
        "from torch.utils.data import Dataset, DataLoader\n",
        "import pandas as pd\n",
        "import torch\n",
        "from torch.nn.functional import pad\n",
        "import json\n",
        "from glob import glob\n",
        "# Define pytorch Dataset\n",
        "\n",
        "class InvoiceDataset(Dataset):\n",
        "\n",
        "    def __init__(self, root_directory):\n",
        "        self.annotations_folder = root_directory + '/annotations/'\n",
        "        self.metadata_folder = root_directory + '/metadata/'\n",
        "        \n",
        "        self.annotations = preprocess(self.annotations_folder, self.metadata_folder)\n",
        "        self.sequence_length = 512\n",
        "              \n",
        "\n",
        "    def __len__(self):\n",
        "        return len(self.annotations)\n",
        "    \n",
        "\n",
        "    def __getitem__(self, idx):\n",
        "\n",
        "        item = self.annotations[idx]\n",
        "        return item[0][1], item[1][1], item[2][1], item[3][1], item[4][1], item[5][1]   #input_ids, token_type_ids, attention_mask, token_labels, bbox\n"
      ],
      "execution_count": null,
      "outputs": []
    },
    {
      "cell_type": "code",
      "metadata": {
        "id": "Cbsj7LKu0djV"
      },
      "source": [
        "from transformers import LayoutLMForTokenClassification\n",
        "import torch\n",
        "\n",
        "device = torch.device(\"cuda\" if torch.cuda.is_available() else \"cpu\")\n",
        "\n",
        "# Define model\n",
        "model = LayoutLMForTokenClassification.from_pretrained(\"microsoft/layoutlm-base-uncased\", num_labels=2)\n",
        "model.to(device)"
      ],
      "execution_count": null,
      "outputs": []
    },
    {
      "cell_type": "code",
      "metadata": {
        "id": "Az-LbD_G4Cbc",
        "colab": {
          "base_uri": "https://localhost:8080/"
        },
        "outputId": "725d18ba-f788-4bd8-c435-e32c09a0dd99"
      },
      "source": [
        "# Initialize Dataset\n",
        "root_directory = './apm'\n",
        "invoice_dataset = InvoiceDataset(root_directory)\n",
        "train_dataloader = DataLoader(invoice_dataset, batch_size=4)\n",
        "\n",
        "# for i in train_dataloader:\n",
        "#     print(\"New Invoice: \")\n",
        "#     for row in i[-1].squeeze(0).squeeze(0):\n",
        "#         print(row)\n",
        "#     print(\"Input ids: \")\n",
        "#     for row in i[0].squeeze(0).squeeze(0):\n",
        "#         print(row)"
      ],
      "execution_count": null,
      "outputs": [
        {
          "output_type": "stream",
          "text": [
            "IDX WHERE ERRORING:  4\n",
            "IDX WHERE ERRORING:  7\n",
            "IDX WHERE ERRORING:  12\n",
            "IDX WHERE ERRORING:  15\n",
            "IDX WHERE ERRORING:  22\n",
            "IDX WHERE ERRORING:  40\n",
            "IDX WHERE ERRORING:  44\n",
            "IDX WHERE ERRORING:  57\n",
            "IDX WHERE ERRORING:  76\n",
            "IDX WHERE ERRORING:  90\n",
            "IDX WHERE ERRORING:  103\n",
            "IDX WHERE ERRORING:  108\n",
            "IDX WHERE ERRORING:  116\n",
            "IDX WHERE ERRORING:  119\n",
            "IDX WHERE ERRORING:  124\n",
            "IDX WHERE ERRORING:  128\n",
            "IDX WHERE ERRORING:  153\n",
            "IDX WHERE ERRORING:  162\n",
            "IDX WHERE ERRORING:  190\n",
            "IDX WHERE ERRORING:  217\n",
            "IDX WHERE ERRORING:  219\n",
            "IDX WHERE ERRORING:  232\n",
            "IDX WHERE ERRORING:  247\n",
            "IDX WHERE ERRORING:  268\n",
            "IDX WHERE ERRORING:  288\n",
            "IDX WHERE ERRORING:  301\n",
            "IDX WHERE ERRORING:  311\n",
            "IDX WHERE ERRORING:  318\n",
            "IDX WHERE ERRORING:  336\n",
            "IDX WHERE ERRORING:  341\n",
            "IDX WHERE ERRORING:  361\n",
            "IDX WHERE ERRORING:  368\n",
            "IDX WHERE ERRORING:  375\n",
            "IDX WHERE ERRORING:  380\n",
            "IDX WHERE ERRORING:  394\n",
            "IDX WHERE ERRORING:  411\n",
            "IDX WHERE ERRORING:  412\n",
            "IDX WHERE ERRORING:  424\n",
            "IDX WHERE ERRORING:  429\n",
            "IDX WHERE ERRORING:  447\n",
            "IDX WHERE ERRORING:  448\n",
            "IDX WHERE ERRORING:  451\n",
            "IDX WHERE ERRORING:  468\n",
            "IDX WHERE ERRORING:  473\n",
            "IDX WHERE ERRORING:  479\n",
            "IDX WHERE ERRORING:  486\n",
            "IDX WHERE ERRORING:  527\n",
            "IDX WHERE ERRORING:  532\n",
            "IDX WHERE ERRORING:  534\n",
            "IDX WHERE ERRORING:  570\n",
            "IDX WHERE ERRORING:  581\n",
            "IDX WHERE ERRORING:  587\n",
            "IDX WHERE ERRORING:  592\n",
            "IDX WHERE ERRORING:  627\n",
            "IDX WHERE ERRORING:  651\n",
            "IDX WHERE ERRORING:  652\n",
            "IDX WHERE ERRORING:  657\n",
            "IDX WHERE ERRORING:  661\n",
            "IDX WHERE ERRORING:  667\n",
            "IDX WHERE ERRORING:  678\n",
            "IDX WHERE ERRORING:  687\n",
            "IDX WHERE ERRORING:  691\n",
            "IDX WHERE ERRORING:  697\n",
            "IDX WHERE ERRORING:  703\n",
            "IDX WHERE ERRORING:  710\n",
            "IDX WHERE ERRORING:  736\n",
            "IDX WHERE ERRORING:  737\n",
            "IDX WHERE ERRORING:  747\n",
            "IDX WHERE ERRORING:  749\n",
            "IDX WHERE ERRORING:  813\n",
            "IDX WHERE ERRORING:  831\n",
            "IDX WHERE ERRORING:  842\n",
            "IDX WHERE ERRORING:  843\n",
            "IDX WHERE ERRORING:  878\n",
            "IDX WHERE ERRORING:  889\n",
            "IDX WHERE ERRORING:  898\n",
            "IDX WHERE ERRORING:  908\n",
            "IDX WHERE ERRORING:  910\n",
            "IDX WHERE ERRORING:  915\n",
            "IDX WHERE ERRORING:  930\n",
            "IDX WHERE ERRORING:  933\n",
            "IDX WHERE ERRORING:  946\n",
            "IDX WHERE ERRORING:  958\n",
            "IDX WHERE ERRORING:  959\n",
            "IDX WHERE ERRORING:  960\n",
            "IDX WHERE ERRORING:  968\n",
            "IDX WHERE ERRORING:  988\n",
            "IDX WHERE ERRORING:  994\n",
            "IDX WHERE ERRORING:  1021\n",
            "IDX WHERE ERRORING:  1027\n",
            "IDX WHERE ERRORING:  1038\n",
            "IDX WHERE ERRORING:  1041\n",
            "IDX WHERE ERRORING:  1059\n",
            "IDX WHERE ERRORING:  1066\n",
            "IDX WHERE ERRORING:  1079\n",
            "IDX WHERE ERRORING:  1095\n",
            "IDX WHERE ERRORING:  1096\n",
            "IDX WHERE ERRORING:  1098\n",
            "IDX WHERE ERRORING:  1117\n",
            "IDX WHERE ERRORING:  1126\n",
            "IDX WHERE ERRORING:  1151\n",
            "IDX WHERE ERRORING:  1174\n",
            "IDX WHERE ERRORING:  1180\n",
            "IDX WHERE ERRORING:  1201\n",
            "IDX WHERE ERRORING:  1203\n",
            "IDX WHERE ERRORING:  1219\n",
            "IDX WHERE ERRORING:  1225\n",
            "IDX WHERE ERRORING:  1250\n",
            "IDX WHERE ERRORING:  1253\n",
            "IDX WHERE ERRORING:  1260\n",
            "IDX WHERE ERRORING:  1274\n",
            "IDX WHERE ERRORING:  1275\n",
            "IDX WHERE ERRORING:  1305\n",
            "IDX WHERE ERRORING:  1307\n",
            "IDX WHERE ERRORING:  1314\n",
            "IDX WHERE ERRORING:  1317\n",
            "IDX WHERE ERRORING:  1318\n",
            "IDX WHERE ERRORING:  1330\n",
            "IDX WHERE ERRORING:  1336\n",
            "IDX WHERE ERRORING:  1344\n",
            "IDX WHERE ERRORING:  1356\n",
            "IDX WHERE ERRORING:  1362\n",
            "IDX WHERE ERRORING:  1365\n",
            "IDX WHERE ERRORING:  1377\n",
            "IDX WHERE ERRORING:  1383\n",
            "IDX WHERE ERRORING:  1390\n",
            "IDX WHERE ERRORING:  1402\n",
            "IDX WHERE ERRORING:  1416\n",
            "IDX WHERE ERRORING:  1438\n",
            "IDX WHERE ERRORING:  1466\n",
            "IDX WHERE ERRORING:  1480\n",
            "IDX WHERE ERRORING:  1484\n",
            "IDX WHERE ERRORING:  1501\n",
            "IDX WHERE ERRORING:  1505\n",
            "IDX WHERE ERRORING:  1512\n",
            "IDX WHERE ERRORING:  1536\n",
            "IDX WHERE ERRORING:  1568\n",
            "IDX WHERE ERRORING:  1583\n",
            "IDX WHERE ERRORING:  1606\n",
            "IDX WHERE ERRORING:  1610\n",
            "IDX WHERE ERRORING:  1619\n",
            "IDX WHERE ERRORING:  1632\n",
            "IDX WHERE ERRORING:  1648\n",
            "IDX WHERE ERRORING:  1674\n",
            "IDX WHERE ERRORING:  1677\n",
            "IDX WHERE ERRORING:  1700\n",
            "IDX WHERE ERRORING:  1712\n",
            "IDX WHERE ERRORING:  1732\n",
            "IDX WHERE ERRORING:  1744\n",
            "IDX WHERE ERRORING:  1746\n",
            "IDX WHERE ERRORING:  1760\n",
            "IDX WHERE ERRORING:  1778\n",
            "IDX WHERE ERRORING:  1814\n",
            "IDX WHERE ERRORING:  1819\n",
            "IDX WHERE ERRORING:  1826\n",
            "IDX WHERE ERRORING:  1831\n",
            "IDX WHERE ERRORING:  1832\n",
            "IDX WHERE ERRORING:  1833\n",
            "IDX WHERE ERRORING:  1843\n",
            "IDX WHERE ERRORING:  1855\n",
            "IDX WHERE ERRORING:  1859\n",
            "IDX WHERE ERRORING:  1875\n",
            "IDX WHERE ERRORING:  1878\n",
            "IDX WHERE ERRORING:  1884\n",
            "IDX WHERE ERRORING:  1894\n",
            "IDX WHERE ERRORING:  1901\n",
            "IDX WHERE ERRORING:  1905\n",
            "IDX WHERE ERRORING:  1907\n",
            "IDX WHERE ERRORING:  1911\n",
            "IDX WHERE ERRORING:  1912\n",
            "IDX WHERE ERRORING:  1919\n",
            "IDX WHERE ERRORING:  1920\n",
            "IDX WHERE ERRORING:  1923\n",
            "IDX WHERE ERRORING:  1937\n",
            "IDX WHERE ERRORING:  1950\n",
            "IDX WHERE ERRORING:  1961\n",
            "IDX WHERE ERRORING:  1964\n",
            "IDX WHERE ERRORING:  1976\n",
            "IDX WHERE ERRORING:  1978\n",
            "IDX WHERE ERRORING:  1981\n",
            "IDX WHERE ERRORING:  1982\n",
            "IDX WHERE ERRORING:  1989\n",
            "IDX WHERE ERRORING:  2019\n",
            "IDX WHERE ERRORING:  2025\n",
            "IDX WHERE ERRORING:  2026\n",
            "IDX WHERE ERRORING:  2038\n",
            "IDX WHERE ERRORING:  2040\n",
            "IDX WHERE ERRORING:  2041\n",
            "IDX WHERE ERRORING:  2044\n",
            "IDX WHERE ERRORING:  2108\n",
            "IDX WHERE ERRORING:  2146\n",
            "IDX WHERE ERRORING:  2154\n",
            "IDX WHERE ERRORING:  2161\n",
            "IDX WHERE ERRORING:  2182\n",
            "IDX WHERE ERRORING:  2194\n",
            "IDX WHERE ERRORING:  2198\n",
            "IDX WHERE ERRORING:  2209\n",
            "IDX WHERE ERRORING:  2214\n",
            "IDX WHERE ERRORING:  2224\n",
            "IDX WHERE ERRORING:  2245\n",
            "IDX WHERE ERRORING:  2246\n",
            "IDX WHERE ERRORING:  2247\n",
            "IDX WHERE ERRORING:  2268\n",
            "IDX WHERE ERRORING:  2289\n",
            "IDX WHERE ERRORING:  2297\n",
            "IDX WHERE ERRORING:  2312\n",
            "IDX WHERE ERRORING:  2329\n",
            "IDX WHERE ERRORING:  2336\n",
            "IDX WHERE ERRORING:  2351\n",
            "IDX WHERE ERRORING:  2359\n",
            "IDX WHERE ERRORING:  2365\n",
            "IDX WHERE ERRORING:  2373\n",
            "IDX WHERE ERRORING:  2374\n",
            "IDX WHERE ERRORING:  2395\n",
            "IDX WHERE ERRORING:  2407\n",
            "IDX WHERE ERRORING:  2418\n",
            "IDX WHERE ERRORING:  2419\n",
            "IDX WHERE ERRORING:  2425\n",
            "IDX WHERE ERRORING:  2427\n",
            "IDX WHERE ERRORING:  2463\n",
            "IDX WHERE ERRORING:  2468\n",
            "IDX WHERE ERRORING:  2484\n",
            "IDX WHERE ERRORING:  2494\n",
            "IDX WHERE ERRORING:  2495\n",
            "IDX WHERE ERRORING:  2503\n",
            "IDX WHERE ERRORING:  2506\n",
            "IDX WHERE ERRORING:  2531\n",
            "IDX WHERE ERRORING:  2547\n",
            "IDX WHERE ERRORING:  2573\n",
            "IDX WHERE ERRORING:  2580\n",
            "IDX WHERE ERRORING:  2591\n",
            "IDX WHERE ERRORING:  2615\n",
            "IDX WHERE ERRORING:  2632\n",
            "IDX WHERE ERRORING:  2660\n",
            "IDX WHERE ERRORING:  2675\n",
            "IDX WHERE ERRORING:  2686\n",
            "IDX WHERE ERRORING:  2707\n",
            "IDX WHERE ERRORING:  2717\n",
            "IDX WHERE ERRORING:  2743\n",
            "IDX WHERE ERRORING:  2744\n",
            "IDX WHERE ERRORING:  2763\n",
            "IDX WHERE ERRORING:  2768\n",
            "IDX WHERE ERRORING:  2769\n",
            "IDX WHERE ERRORING:  2779\n",
            "IDX WHERE ERRORING:  2780\n",
            "IDX WHERE ERRORING:  2791\n",
            "IDX WHERE ERRORING:  2793\n",
            "IDX WHERE ERRORING:  2798\n",
            "IDX WHERE ERRORING:  2804\n",
            "IDX WHERE ERRORING:  2827\n",
            "IDX WHERE ERRORING:  2831\n",
            "IDX WHERE ERRORING:  2834\n",
            "IDX WHERE ERRORING:  2840\n",
            "IDX WHERE ERRORING:  2859\n",
            "IDX WHERE ERRORING:  2871\n",
            "IDX WHERE ERRORING:  2896\n",
            "IDX WHERE ERRORING:  2909\n",
            "IDX WHERE ERRORING:  2910\n",
            "IDX WHERE ERRORING:  2926\n",
            "IDX WHERE ERRORING:  2943\n",
            "IDX WHERE ERRORING:  2955\n",
            "IDX WHERE ERRORING:  2963\n",
            "IDX WHERE ERRORING:  2980\n",
            "IDX WHERE ERRORING:  2988\n",
            "IDX WHERE ERRORING:  2990\n",
            "IDX WHERE ERRORING:  2999\n",
            "IDX WHERE ERRORING:  3010\n",
            "IDX WHERE ERRORING:  3035\n",
            "IDX WHERE ERRORING:  3063\n",
            "IDX WHERE ERRORING:  3065\n",
            "IDX WHERE ERRORING:  3068\n",
            "IDX WHERE ERRORING:  3074\n",
            "IDX WHERE ERRORING:  3095\n",
            "IDX WHERE ERRORING:  3100\n",
            "IDX WHERE ERRORING:  3104\n",
            "IDX WHERE ERRORING:  3121\n",
            "IDX WHERE ERRORING:  3133\n",
            "IDX WHERE ERRORING:  3143\n",
            "IDX WHERE ERRORING:  3180\n",
            "IDX WHERE ERRORING:  3181\n",
            "IDX WHERE ERRORING:  3183\n",
            "IDX WHERE ERRORING:  3185\n",
            "IDX WHERE ERRORING:  3209\n",
            "IDX WHERE ERRORING:  3218\n",
            "IDX WHERE ERRORING:  3225\n",
            "IDX WHERE ERRORING:  3234\n",
            "IDX WHERE ERRORING:  3244\n",
            "IDX WHERE ERRORING:  3255\n",
            "IDX WHERE ERRORING:  3274\n",
            "IDX WHERE ERRORING:  3291\n",
            "IDX WHERE ERRORING:  3295\n",
            "IDX WHERE ERRORING:  3302\n",
            "IDX WHERE ERRORING:  3310\n",
            "IDX WHERE ERRORING:  3312\n",
            "IDX WHERE ERRORING:  3313\n",
            "IDX WHERE ERRORING:  3329\n",
            "IDX WHERE ERRORING:  3337\n",
            "IDX WHERE ERRORING:  3339\n",
            "IDX WHERE ERRORING:  3352\n",
            "IDX WHERE ERRORING:  3394\n",
            "IDX WHERE ERRORING:  3397\n",
            "IDX WHERE ERRORING:  3401\n",
            "IDX WHERE ERRORING:  3420\n",
            "IDX WHERE ERRORING:  3434\n",
            "IDX WHERE ERRORING:  3440\n",
            "IDX WHERE ERRORING:  3454\n",
            "IDX WHERE ERRORING:  3475\n",
            "IDX WHERE ERRORING:  3482\n",
            "IDX WHERE ERRORING:  3498\n",
            "IDX WHERE ERRORING:  3500\n",
            "IDX WHERE ERRORING:  3519\n",
            "IDX WHERE ERRORING:  3527\n",
            "IDX WHERE ERRORING:  3553\n",
            "IDX WHERE ERRORING:  3568\n",
            "IDX WHERE ERRORING:  3575\n",
            "IDX WHERE ERRORING:  3581\n",
            "IDX WHERE ERRORING:  3605\n",
            "IDX WHERE ERRORING:  3621\n",
            "IDX WHERE ERRORING:  3622\n",
            "IDX WHERE ERRORING:  3627\n",
            "IDX WHERE ERRORING:  3630\n",
            "IDX WHERE ERRORING:  3633\n",
            "IDX WHERE ERRORING:  3663\n",
            "IDX WHERE ERRORING:  3672\n",
            "IDX WHERE ERRORING:  3691\n",
            "IDX WHERE ERRORING:  3694\n",
            "IDX WHERE ERRORING:  3707\n",
            "IDX WHERE ERRORING:  3713\n",
            "IDX WHERE ERRORING:  3720\n",
            "IDX WHERE ERRORING:  3725\n",
            "IDX WHERE ERRORING:  3733\n",
            "IDX WHERE ERRORING:  3742\n",
            "IDX WHERE ERRORING:  3766\n",
            "IDX WHERE ERRORING:  3798\n",
            "IDX WHERE ERRORING:  3802\n",
            "IDX WHERE ERRORING:  3805\n",
            "IDX WHERE ERRORING:  3813\n",
            "IDX WHERE ERRORING:  3816\n",
            "IDX WHERE ERRORING:  3818\n",
            "IDX WHERE ERRORING:  3831\n",
            "IDX WHERE ERRORING:  3832\n",
            "IDX WHERE ERRORING:  3838\n",
            "IDX WHERE ERRORING:  3843\n",
            "IDX WHERE ERRORING:  3861\n",
            "IDX WHERE ERRORING:  3863\n",
            "IDX WHERE ERRORING:  3890\n",
            "IDX WHERE ERRORING:  3903\n",
            "IDX WHERE ERRORING:  3912\n",
            "IDX WHERE ERRORING:  3918\n",
            "IDX WHERE ERRORING:  3929\n",
            "IDX WHERE ERRORING:  3930\n",
            "IDX WHERE ERRORING:  3932\n",
            "IDX WHERE ERRORING:  3964\n",
            "IDX WHERE ERRORING:  3974\n",
            "IDX WHERE ERRORING:  3980\n",
            "IDX WHERE ERRORING:  4015\n",
            "IDX WHERE ERRORING:  4021\n",
            "IDX WHERE ERRORING:  4032\n",
            "IDX WHERE ERRORING:  4043\n",
            "IDX WHERE ERRORING:  4046\n",
            "IDX WHERE ERRORING:  4052\n",
            "IDX WHERE ERRORING:  4055\n",
            "IDX WHERE ERRORING:  4061\n",
            "IDX WHERE ERRORING:  4068\n",
            "IDX WHERE ERRORING:  4070\n",
            "IDX WHERE ERRORING:  4078\n",
            "IDX WHERE ERRORING:  4093\n",
            "IDX WHERE ERRORING:  4095\n",
            "IDX WHERE ERRORING:  4132\n",
            "IDX WHERE ERRORING:  4133\n",
            "IDX WHERE ERRORING:  4141\n",
            "IDX WHERE ERRORING:  4145\n",
            "IDX WHERE ERRORING:  4167\n",
            "IDX WHERE ERRORING:  4169\n",
            "IDX WHERE ERRORING:  4175\n",
            "IDX WHERE ERRORING:  4177\n",
            "IDX WHERE ERRORING:  4197\n",
            "IDX WHERE ERRORING:  4201\n",
            "IDX WHERE ERRORING:  4202\n",
            "IDX WHERE ERRORING:  4214\n",
            "IDX WHERE ERRORING:  4216\n",
            "IDX WHERE ERRORING:  4228\n",
            "IDX WHERE ERRORING:  4229\n",
            "IDX WHERE ERRORING:  4242\n",
            "IDX WHERE ERRORING:  4258\n",
            "IDX WHERE ERRORING:  4267\n",
            "IDX WHERE ERRORING:  4270\n",
            "IDX WHERE ERRORING:  4275\n",
            "IDX WHERE ERRORING:  4314\n",
            "IDX WHERE ERRORING:  4321\n",
            "IDX WHERE ERRORING:  4323\n",
            "IDX WHERE ERRORING:  4353\n",
            "IDX WHERE ERRORING:  4379\n",
            "IDX WHERE ERRORING:  4383\n",
            "IDX WHERE ERRORING:  4387\n",
            "IDX WHERE ERRORING:  4389\n",
            "IDX WHERE ERRORING:  4427\n",
            "IDX WHERE ERRORING:  4446\n",
            "IDX WHERE ERRORING:  4452\n",
            "IDX WHERE ERRORING:  4475\n",
            "IDX WHERE ERRORING:  4481\n",
            "IDX WHERE ERRORING:  4485\n",
            "IDX WHERE ERRORING:  4507\n",
            "IDX WHERE ERRORING:  4509\n",
            "IDX WHERE ERRORING:  4524\n",
            "IDX WHERE ERRORING:  4549\n",
            "IDX WHERE ERRORING:  4562\n",
            "IDX WHERE ERRORING:  4563\n",
            "IDX WHERE ERRORING:  4565\n",
            "IDX WHERE ERRORING:  4572\n",
            "IDX WHERE ERRORING:  4578\n",
            "IDX WHERE ERRORING:  4587\n",
            "IDX WHERE ERRORING:  4603\n",
            "IDX WHERE ERRORING:  4622\n",
            "IDX WHERE ERRORING:  4632\n",
            "IDX WHERE ERRORING:  4636\n",
            "IDX WHERE ERRORING:  4640\n",
            "IDX WHERE ERRORING:  4643\n",
            "IDX WHERE ERRORING:  4657\n",
            "IDX WHERE ERRORING:  4696\n",
            "IDX WHERE ERRORING:  4707\n",
            "IDX WHERE ERRORING:  4721\n",
            "IDX WHERE ERRORING:  4750\n",
            "IDX WHERE ERRORING:  4765\n",
            "IDX WHERE ERRORING:  4775\n",
            "IDX WHERE ERRORING:  4777\n",
            "IDX WHERE ERRORING:  4788\n",
            "IDX WHERE ERRORING:  4791\n",
            "IDX WHERE ERRORING:  4793\n",
            "IDX WHERE ERRORING:  4819\n",
            "IDX WHERE ERRORING:  4823\n",
            "IDX WHERE ERRORING:  4827\n",
            "IDX WHERE ERRORING:  4835\n",
            "IDX WHERE ERRORING:  4859\n",
            "IDX WHERE ERRORING:  4864\n",
            "IDX WHERE ERRORING:  4877\n",
            "IDX WHERE ERRORING:  4881\n",
            "IDX WHERE ERRORING:  4883\n",
            "IDX WHERE ERRORING:  4884\n",
            "IDX WHERE ERRORING:  4910\n",
            "IDX WHERE ERRORING:  4916\n",
            "IDX WHERE ERRORING:  4922\n",
            "IDX WHERE ERRORING:  4924\n",
            "IDX WHERE ERRORING:  4942\n",
            "IDX WHERE ERRORING:  4959\n",
            "IDX WHERE ERRORING:  4962\n",
            "IDX WHERE ERRORING:  4975\n",
            "IDX WHERE ERRORING:  4976\n",
            "IDX WHERE ERRORING:  4979\n",
            "IDX WHERE ERRORING:  4984\n",
            "IDX WHERE ERRORING:  4994\n",
            "IDX WHERE ERRORING:  4996\n",
            "IDX WHERE ERRORING:  5001\n",
            "IDX WHERE ERRORING:  5003\n",
            "IDX WHERE ERRORING:  5006\n",
            "IDX WHERE ERRORING:  5049\n",
            "IDX WHERE ERRORING:  5059\n",
            "IDX WHERE ERRORING:  5105\n",
            "IDX WHERE ERRORING:  5127\n",
            "IDX WHERE ERRORING:  5136\n",
            "IDX WHERE ERRORING:  5139\n",
            "IDX WHERE ERRORING:  5140\n",
            "IDX WHERE ERRORING:  5151\n",
            "IDX WHERE ERRORING:  5170\n",
            "IDX WHERE ERRORING:  5203\n",
            "IDX WHERE ERRORING:  5211\n",
            "IDX WHERE ERRORING:  5228\n",
            "IDX WHERE ERRORING:  5253\n",
            "IDX WHERE ERRORING:  5258\n",
            "IDX WHERE ERRORING:  5266\n",
            "IDX WHERE ERRORING:  5274\n",
            "IDX WHERE ERRORING:  5288\n",
            "IDX WHERE ERRORING:  5289\n",
            "IDX WHERE ERRORING:  5304\n",
            "IDX WHERE ERRORING:  5320\n",
            "IDX WHERE ERRORING:  5326\n",
            "IDX WHERE ERRORING:  5328\n",
            "IDX WHERE ERRORING:  5336\n",
            "IDX WHERE ERRORING:  5400\n",
            "IDX WHERE ERRORING:  5402\n",
            "IDX WHERE ERRORING:  5405\n",
            "IDX WHERE ERRORING:  5412\n",
            "IDX WHERE ERRORING:  5429\n",
            "IDX WHERE ERRORING:  5453\n",
            "IDX WHERE ERRORING:  5474\n",
            "IDX WHERE ERRORING:  5479\n",
            "IDX WHERE ERRORING:  5497\n",
            "IDX WHERE ERRORING:  5498\n",
            "IDX WHERE ERRORING:  5502\n",
            "IDX WHERE ERRORING:  5509\n",
            "IDX WHERE ERRORING:  5518\n",
            "IDX WHERE ERRORING:  5523\n",
            "IDX WHERE ERRORING:  5525\n",
            "IDX WHERE ERRORING:  5544\n",
            "IDX WHERE ERRORING:  5549\n",
            "IDX WHERE ERRORING:  5554\n",
            "IDX WHERE ERRORING:  5564\n",
            "IDX WHERE ERRORING:  5569\n",
            "IDX WHERE ERRORING:  5576\n",
            "IDX WHERE ERRORING:  5592\n",
            "IDX WHERE ERRORING:  5593\n",
            "IDX WHERE ERRORING:  5597\n",
            "IDX WHERE ERRORING:  5600\n",
            "IDX WHERE ERRORING:  5617\n",
            "IDX WHERE ERRORING:  5618\n",
            "IDX WHERE ERRORING:  5625\n",
            "IDX WHERE ERRORING:  5629\n",
            "IDX WHERE ERRORING:  5641\n",
            "IDX WHERE ERRORING:  5661\n",
            "IDX WHERE ERRORING:  5663\n",
            "IDX WHERE ERRORING:  5670\n",
            "IDX WHERE ERRORING:  5677\n",
            "IDX WHERE ERRORING:  5690\n",
            "IDX WHERE ERRORING:  5694\n",
            "IDX WHERE ERRORING:  5737\n",
            "IDX WHERE ERRORING:  5749\n",
            "IDX WHERE ERRORING:  5775\n",
            "IDX WHERE ERRORING:  5780\n",
            "IDX WHERE ERRORING:  5782\n",
            "IDX WHERE ERRORING:  5787\n",
            "IDX WHERE ERRORING:  5794\n",
            "IDX WHERE ERRORING:  5796\n",
            "IDX WHERE ERRORING:  5798\n",
            "IDX WHERE ERRORING:  5808\n",
            "IDX WHERE ERRORING:  5827\n",
            "IDX WHERE ERRORING:  5862\n",
            "IDX WHERE ERRORING:  5871\n",
            "IDX WHERE ERRORING:  5880\n",
            "IDX WHERE ERRORING:  5892\n",
            "IDX WHERE ERRORING:  5897\n",
            "IDX WHERE ERRORING:  5899\n",
            "IDX WHERE ERRORING:  5905\n",
            "IDX WHERE ERRORING:  5912\n",
            "IDX WHERE ERRORING:  5913\n",
            "IDX WHERE ERRORING:  5916\n",
            "IDX WHERE ERRORING:  5921\n",
            "IDX WHERE ERRORING:  5923\n",
            "IDX WHERE ERRORING:  5928\n",
            "IDX WHERE ERRORING:  5967\n",
            "IDX WHERE ERRORING:  5970\n",
            "IDX WHERE ERRORING:  5971\n",
            "IDX WHERE ERRORING:  5986\n",
            "IDX WHERE ERRORING:  6013\n",
            "IDX WHERE ERRORING:  6032\n",
            "IDX WHERE ERRORING:  6064\n",
            "IDX WHERE ERRORING:  6073\n",
            "IDX WHERE ERRORING:  6082\n",
            "IDX WHERE ERRORING:  6088\n",
            "IDX WHERE ERRORING:  6093\n",
            "IDX WHERE ERRORING:  6112\n",
            "IDX WHERE ERRORING:  6115\n",
            "IDX WHERE ERRORING:  6119\n",
            "IDX WHERE ERRORING:  6132\n",
            "IDX WHERE ERRORING:  6157\n",
            "IDX WHERE ERRORING:  6174\n",
            "IDX WHERE ERRORING:  6175\n",
            "IDX WHERE ERRORING:  6179\n",
            "IDX WHERE ERRORING:  6219\n",
            "IDX WHERE ERRORING:  6224\n",
            "IDX WHERE ERRORING:  6229\n",
            "IDX WHERE ERRORING:  6237\n",
            "IDX WHERE ERRORING:  6242\n",
            "IDX WHERE ERRORING:  6244\n",
            "IDX WHERE ERRORING:  6259\n",
            "IDX WHERE ERRORING:  6274\n",
            "IDX WHERE ERRORING:  6275\n",
            "IDX WHERE ERRORING:  6325\n",
            "IDX WHERE ERRORING:  6336\n",
            "IDX WHERE ERRORING:  6345\n",
            "IDX WHERE ERRORING:  6358\n",
            "IDX WHERE ERRORING:  6360\n",
            "IDX WHERE ERRORING:  6366\n",
            "IDX WHERE ERRORING:  6374\n",
            "IDX WHERE ERRORING:  6393\n",
            "IDX WHERE ERRORING:  6396\n",
            "IDX WHERE ERRORING:  6405\n",
            "IDX WHERE ERRORING:  6406\n",
            "IDX WHERE ERRORING:  6414\n",
            "IDX WHERE ERRORING:  6427\n",
            "IDX WHERE ERRORING:  6452\n",
            "IDX WHERE ERRORING:  6464\n",
            "IDX WHERE ERRORING:  6499\n",
            "IDX WHERE ERRORING:  6514\n",
            "IDX WHERE ERRORING:  6517\n",
            "IDX WHERE ERRORING:  6544\n",
            "IDX WHERE ERRORING:  6545\n",
            "IDX WHERE ERRORING:  6549\n",
            "IDX WHERE ERRORING:  6561\n",
            "IDX WHERE ERRORING:  6569\n",
            "IDX WHERE ERRORING:  6590\n",
            "IDX WHERE ERRORING:  6596\n",
            "IDX WHERE ERRORING:  6606\n",
            "IDX WHERE ERRORING:  6610\n",
            "IDX WHERE ERRORING:  6621\n",
            "IDX WHERE ERRORING:  6622\n",
            "IDX WHERE ERRORING:  6648\n",
            "IDX WHERE ERRORING:  6650\n",
            "IDX WHERE ERRORING:  6651\n",
            "IDX WHERE ERRORING:  6663\n",
            "IDX WHERE ERRORING:  6693\n",
            "IDX WHERE ERRORING:  6722\n",
            "IDX WHERE ERRORING:  6727\n",
            "IDX WHERE ERRORING:  6732\n",
            "IDX WHERE ERRORING:  6741\n",
            "IDX WHERE ERRORING:  6755\n",
            "IDX WHERE ERRORING:  6758\n",
            "IDX WHERE ERRORING:  6765\n",
            "IDX WHERE ERRORING:  6767\n",
            "IDX WHERE ERRORING:  6783\n",
            "IDX WHERE ERRORING:  6786\n",
            "IDX WHERE ERRORING:  6788\n",
            "IDX WHERE ERRORING:  6800\n",
            "IDX WHERE ERRORING:  6807\n",
            "IDX WHERE ERRORING:  6808\n",
            "IDX WHERE ERRORING:  6816\n",
            "IDX WHERE ERRORING:  6853\n",
            "IDX WHERE ERRORING:  6869\n",
            "IDX WHERE ERRORING:  6873\n",
            "IDX WHERE ERRORING:  6878\n",
            "IDX WHERE ERRORING:  6880\n",
            "IDX WHERE ERRORING:  6885\n",
            "IDX WHERE ERRORING:  6889\n",
            "IDX WHERE ERRORING:  6905\n",
            "IDX WHERE ERRORING:  6906\n",
            "IDX WHERE ERRORING:  6914\n",
            "IDX WHERE ERRORING:  6935\n",
            "IDX WHERE ERRORING:  6939\n",
            "IDX WHERE ERRORING:  6945\n",
            "IDX WHERE ERRORING:  6962\n",
            "IDX WHERE ERRORING:  6969\n",
            "IDX WHERE ERRORING:  6972\n",
            "IDX WHERE ERRORING:  6973\n",
            "IDX WHERE ERRORING:  6974\n",
            "IDX WHERE ERRORING:  6990\n",
            "IDX WHERE ERRORING:  6994\n",
            "IDX WHERE ERRORING:  6995\n",
            "IDX WHERE ERRORING:  7000\n",
            "IDX WHERE ERRORING:  7010\n",
            "IDX WHERE ERRORING:  7018\n",
            "IDX WHERE ERRORING:  7034\n",
            "IDX WHERE ERRORING:  7053\n",
            "IDX WHERE ERRORING:  7054\n",
            "IDX WHERE ERRORING:  7069\n",
            "IDX WHERE ERRORING:  7080\n",
            "IDX WHERE ERRORING:  7087\n",
            "IDX WHERE ERRORING:  7093\n",
            "IDX WHERE ERRORING:  7109\n",
            "IDX WHERE ERRORING:  7110\n",
            "IDX WHERE ERRORING:  7113\n",
            "IDX WHERE ERRORING:  7134\n",
            "IDX WHERE ERRORING:  7181\n",
            "IDX WHERE ERRORING:  7185\n",
            "IDX WHERE ERRORING:  7195\n",
            "IDX WHERE ERRORING:  7204\n",
            "IDX WHERE ERRORING:  7216\n",
            "IDX WHERE ERRORING:  7231\n",
            "IDX WHERE ERRORING:  7236\n",
            "IDX WHERE ERRORING:  7237\n",
            "IDX WHERE ERRORING:  7276\n",
            "IDX WHERE ERRORING:  7277\n",
            "IDX WHERE ERRORING:  7281\n",
            "IDX WHERE ERRORING:  7291\n",
            "IDX WHERE ERRORING:  7310\n",
            "IDX WHERE ERRORING:  7312\n",
            "IDX WHERE ERRORING:  7325\n",
            "IDX WHERE ERRORING:  7352\n",
            "IDX WHERE ERRORING:  7389\n",
            "IDX WHERE ERRORING:  7391\n"
          ],
          "name": "stdout"
        }
      ]
    },
    {
      "cell_type": "code",
      "metadata": {
        "id": "CHHCtTmE1iSL",
        "colab": {
          "base_uri": "https://localhost:8080/"
        },
        "outputId": "4aa756f8-bb72-4abe-bb22-740d4ae0da66"
      },
      "source": [
        "# Training\n",
        "\n",
        "from transformers import AdamW\n",
        "from tqdm import tqdm\n",
        "\n",
        "optimizer = AdamW(model.parameters(), lr=5e-5)\n",
        "\n",
        "global_step = 0\n",
        "num_train_epochs = 5\n",
        "t_total = len(train_dataloader) * num_train_epochs # total number of training steps \n",
        "\n",
        "count_wrong_forwards = 0\n",
        "#put the model in training mode\n",
        "model.train()\n",
        "for epoch in range(num_train_epochs):\n",
        "    for batch in tqdm(train_dataloader, desc=\"Training\"):\n",
        "        optimizer.zero_grad()\n",
        "        #input_ids, token_type_ids, attention_mask, token_labels, bbox\n",
        "        input_ids = batch[0].to(device)\n",
        "        token_type_ids = batch[1].to(device)\n",
        "        attention_mask = batch[2].to(device)\n",
        "        token_labels = batch[3].to(device)\n",
        "        bbox = batch[4].to(device)\n",
        "        invoice_name = batch[5]\n",
        "        # bbox = batch[2].to(device)\n",
        "        # outputs = model(input_ids = input_ids, labels = labels, bbox=bbox)\n",
        "        # print(input_ids.shape, token_labels.shape, token_type_ids.shape, attention_mask.shape, bbox.squeeze(0).shape)\n",
        "        # print(\"Input_ids: \", input_ids, \"bbox: \", bbox, \"token_labels: \", token_labels)\n",
        "        try:\n",
        "            # outputs = model(input_ids = input_ids.squeeze(0), token_type_ids = token_type_ids.squeeze(0), attention_mask = attention_mask.squeeze(0), labels = token_labels.squeeze(0), bbox = bbox.squeeze(0))\n",
        "            outputs = model(input_ids = input_ids.squeeze(0), token_type_ids = token_type_ids.squeeze(0), attention_mask = attention_mask.squeeze(0), labels = token_labels.squeeze(0))        \n",
        "        except:\n",
        "            count_wrong_forwards += 1\n",
        "            print(\"This invoice has an error: \", invoice_name)\n",
        "            print(input_ids.shape, token_labels.shape, token_type_ids.shape, attention_mask.shape, bbox.squeeze(0).shape)\n",
        "            print(\"Input_ids: \", input_ids, \"bbox: \", bbox, \"token_labels: \", token_labels)\n",
        "            continue\n",
        "        loss = outputs.loss\n",
        "\n",
        "        # print loss every 100 steps\n",
        "        if global_step % 100 == 0:\n",
        "            print(f\"Loss after {global_step} steps: {loss.item()}\")\n",
        "\n",
        "        # backward pass \n",
        "        loss.backward()\n",
        "\n",
        "        # update\n",
        "        optimizer.step()\n",
        "        \n",
        "        global_step += 1"
      ],
      "execution_count": null,
      "outputs": [
        {
          "output_type": "stream",
          "text": [
            "Training:   0%|          | 2/6725 [00:00<07:47, 14.39it/s]"
          ],
          "name": "stderr"
        },
        {
          "output_type": "stream",
          "text": [
            "Loss after 0 steps: 0.5459304451942444\n"
          ],
          "name": "stdout"
        },
        {
          "output_type": "stream",
          "text": [
            "Training:   2%|▏         | 104/6725 [00:05<06:03, 18.19it/s]"
          ],
          "name": "stderr"
        },
        {
          "output_type": "stream",
          "text": [
            "Loss after 100 steps: 0.08786939829587936\n"
          ],
          "name": "stdout"
        },
        {
          "output_type": "stream",
          "text": [
            "Training:   3%|▎         | 204/6725 [00:11<05:57, 18.26it/s]"
          ],
          "name": "stderr"
        },
        {
          "output_type": "stream",
          "text": [
            "Loss after 200 steps: 0.1460326910018921\n"
          ],
          "name": "stdout"
        },
        {
          "output_type": "stream",
          "text": [
            "Training:   5%|▍         | 304/6725 [00:16<05:49, 18.39it/s]"
          ],
          "name": "stderr"
        },
        {
          "output_type": "stream",
          "text": [
            "Loss after 300 steps: 0.02009846828877926\n"
          ],
          "name": "stdout"
        },
        {
          "output_type": "stream",
          "text": [
            "Training:   6%|▌         | 404/6725 [00:22<05:44, 18.35it/s]"
          ],
          "name": "stderr"
        },
        {
          "output_type": "stream",
          "text": [
            "Loss after 400 steps: 0.025759534910321236\n"
          ],
          "name": "stdout"
        },
        {
          "output_type": "stream",
          "text": [
            "Training:   7%|▋         | 504/6725 [00:27<05:37, 18.43it/s]"
          ],
          "name": "stderr"
        },
        {
          "output_type": "stream",
          "text": [
            "Loss after 500 steps: 0.00036586078931577504\n"
          ],
          "name": "stdout"
        },
        {
          "output_type": "stream",
          "text": [
            "Training:   9%|▉         | 604/6725 [00:33<05:35, 18.23it/s]"
          ],
          "name": "stderr"
        },
        {
          "output_type": "stream",
          "text": [
            "Loss after 600 steps: 0.002491476247087121\n"
          ],
          "name": "stdout"
        },
        {
          "output_type": "stream",
          "text": [
            "Training:  10%|█         | 704/6725 [00:38<05:27, 18.38it/s]"
          ],
          "name": "stderr"
        },
        {
          "output_type": "stream",
          "text": [
            "Loss after 700 steps: 0.0040281061083078384\n"
          ],
          "name": "stdout"
        },
        {
          "output_type": "stream",
          "text": [
            "Training:  12%|█▏        | 804/6725 [00:43<05:24, 18.24it/s]"
          ],
          "name": "stderr"
        },
        {
          "output_type": "stream",
          "text": [
            "Loss after 800 steps: 0.00026449060533195734\n"
          ],
          "name": "stdout"
        },
        {
          "output_type": "stream",
          "text": [
            "Training:  13%|█▎        | 904/6725 [00:49<05:17, 18.31it/s]"
          ],
          "name": "stderr"
        },
        {
          "output_type": "stream",
          "text": [
            "Loss after 900 steps: 0.00520509434863925\n"
          ],
          "name": "stdout"
        },
        {
          "output_type": "stream",
          "text": [
            "Training:  15%|█▍        | 1004/6725 [00:54<05:11, 18.34it/s]"
          ],
          "name": "stderr"
        },
        {
          "output_type": "stream",
          "text": [
            "Loss after 1000 steps: 0.03406630456447601\n"
          ],
          "name": "stdout"
        },
        {
          "output_type": "stream",
          "text": [
            "Training:  16%|█▋        | 1104/6725 [01:00<05:05, 18.39it/s]"
          ],
          "name": "stderr"
        },
        {
          "output_type": "stream",
          "text": [
            "Loss after 1100 steps: 0.004138422664254904\n"
          ],
          "name": "stdout"
        },
        {
          "output_type": "stream",
          "text": [
            "Training:  18%|█▊        | 1204/6725 [01:05<05:00, 18.36it/s]"
          ],
          "name": "stderr"
        },
        {
          "output_type": "stream",
          "text": [
            "Loss after 1200 steps: 0.004554281011223793\n"
          ],
          "name": "stdout"
        },
        {
          "output_type": "stream",
          "text": [
            "Training:  19%|█▉        | 1304/6725 [01:11<04:55, 18.32it/s]"
          ],
          "name": "stderr"
        },
        {
          "output_type": "stream",
          "text": [
            "Loss after 1300 steps: 7.437943713739514e-05\n"
          ],
          "name": "stdout"
        },
        {
          "output_type": "stream",
          "text": [
            "Training:  21%|██        | 1404/6725 [01:16<04:51, 18.24it/s]"
          ],
          "name": "stderr"
        },
        {
          "output_type": "stream",
          "text": [
            "Loss after 1400 steps: 0.003330470295622945\n"
          ],
          "name": "stdout"
        },
        {
          "output_type": "stream",
          "text": [
            "Training:  22%|██▏       | 1504/6725 [01:22<04:46, 18.22it/s]"
          ],
          "name": "stderr"
        },
        {
          "output_type": "stream",
          "text": [
            "Loss after 1500 steps: 0.009109712205827236\n"
          ],
          "name": "stdout"
        },
        {
          "output_type": "stream",
          "text": [
            "Training:  24%|██▍       | 1604/6725 [01:27<04:42, 18.14it/s]"
          ],
          "name": "stderr"
        },
        {
          "output_type": "stream",
          "text": [
            "Loss after 1600 steps: 0.01604516990482807\n"
          ],
          "name": "stdout"
        },
        {
          "output_type": "stream",
          "text": [
            "Training:  25%|██▌       | 1704/6725 [01:33<04:34, 18.27it/s]"
          ],
          "name": "stderr"
        },
        {
          "output_type": "stream",
          "text": [
            "Loss after 1700 steps: 0.058428071439266205\n"
          ],
          "name": "stdout"
        },
        {
          "output_type": "stream",
          "text": [
            "Training:  27%|██▋       | 1804/6725 [01:38<04:28, 18.35it/s]"
          ],
          "name": "stderr"
        },
        {
          "output_type": "stream",
          "text": [
            "Loss after 1800 steps: 4.299136344343424e-05\n"
          ],
          "name": "stdout"
        },
        {
          "output_type": "stream",
          "text": [
            "Training:  28%|██▊       | 1904/6725 [01:44<04:23, 18.33it/s]"
          ],
          "name": "stderr"
        },
        {
          "output_type": "stream",
          "text": [
            "Loss after 1900 steps: 0.011247226037085056\n"
          ],
          "name": "stdout"
        },
        {
          "output_type": "stream",
          "text": [
            "Training:  30%|██▉       | 2004/6725 [01:49<04:16, 18.41it/s]"
          ],
          "name": "stderr"
        },
        {
          "output_type": "stream",
          "text": [
            "Loss after 2000 steps: 0.004999811295419931\n"
          ],
          "name": "stdout"
        },
        {
          "output_type": "stream",
          "text": [
            "Training:  31%|███▏      | 2104/6725 [01:55<04:11, 18.37it/s]"
          ],
          "name": "stderr"
        },
        {
          "output_type": "stream",
          "text": [
            "Loss after 2100 steps: 0.0076791890896856785\n"
          ],
          "name": "stdout"
        },
        {
          "output_type": "stream",
          "text": [
            "Training:  33%|███▎      | 2204/6725 [02:00<04:08, 18.20it/s]"
          ],
          "name": "stderr"
        },
        {
          "output_type": "stream",
          "text": [
            "Loss after 2200 steps: 0.01388297788798809\n"
          ],
          "name": "stdout"
        },
        {
          "output_type": "stream",
          "text": [
            "Training:  34%|███▍      | 2304/6725 [02:05<04:00, 18.38it/s]"
          ],
          "name": "stderr"
        },
        {
          "output_type": "stream",
          "text": [
            "Loss after 2300 steps: 0.0054610539227724075\n"
          ],
          "name": "stdout"
        },
        {
          "output_type": "stream",
          "text": [
            "Training:  36%|███▌      | 2404/6725 [02:11<03:58, 18.14it/s]"
          ],
          "name": "stderr"
        },
        {
          "output_type": "stream",
          "text": [
            "Loss after 2400 steps: 0.011548896320164204\n"
          ],
          "name": "stdout"
        },
        {
          "output_type": "stream",
          "text": [
            "Training:  37%|███▋      | 2504/6725 [02:16<03:51, 18.23it/s]"
          ],
          "name": "stderr"
        },
        {
          "output_type": "stream",
          "text": [
            "Loss after 2500 steps: 0.00021215977903921157\n"
          ],
          "name": "stdout"
        },
        {
          "output_type": "stream",
          "text": [
            "Training:  39%|███▊      | 2604/6725 [02:22<03:46, 18.23it/s]"
          ],
          "name": "stderr"
        },
        {
          "output_type": "stream",
          "text": [
            "Loss after 2600 steps: 0.0055145276710391045\n"
          ],
          "name": "stdout"
        },
        {
          "output_type": "stream",
          "text": [
            "Training:  40%|████      | 2704/6725 [02:27<03:40, 18.25it/s]"
          ],
          "name": "stderr"
        },
        {
          "output_type": "stream",
          "text": [
            "Loss after 2700 steps: 0.00013677838433068246\n"
          ],
          "name": "stdout"
        },
        {
          "output_type": "stream",
          "text": [
            "Training:  42%|████▏     | 2804/6725 [02:33<03:35, 18.18it/s]"
          ],
          "name": "stderr"
        },
        {
          "output_type": "stream",
          "text": [
            "Loss after 2800 steps: 5.079320180811919e-05\n"
          ],
          "name": "stdout"
        },
        {
          "output_type": "stream",
          "text": [
            "Training:  43%|████▎     | 2904/6725 [02:38<03:27, 18.40it/s]"
          ],
          "name": "stderr"
        },
        {
          "output_type": "stream",
          "text": [
            "Loss after 2900 steps: 0.0006746209692209959\n"
          ],
          "name": "stdout"
        },
        {
          "output_type": "stream",
          "text": [
            "Training:  45%|████▍     | 3004/6725 [02:44<03:23, 18.27it/s]"
          ],
          "name": "stderr"
        },
        {
          "output_type": "stream",
          "text": [
            "Loss after 3000 steps: 0.031911250203847885\n"
          ],
          "name": "stdout"
        },
        {
          "output_type": "stream",
          "text": [
            "Training:  46%|████▌     | 3104/6725 [02:49<03:19, 18.17it/s]"
          ],
          "name": "stderr"
        },
        {
          "output_type": "stream",
          "text": [
            "Loss after 3100 steps: 0.0003361607377883047\n"
          ],
          "name": "stdout"
        },
        {
          "output_type": "stream",
          "text": [
            "Training:  48%|████▊     | 3204/6725 [02:55<03:13, 18.16it/s]"
          ],
          "name": "stderr"
        },
        {
          "output_type": "stream",
          "text": [
            "Loss after 3200 steps: 0.007813042961061\n"
          ],
          "name": "stdout"
        },
        {
          "output_type": "stream",
          "text": [
            "Training:  49%|████▉     | 3304/6725 [03:00<03:06, 18.30it/s]"
          ],
          "name": "stderr"
        },
        {
          "output_type": "stream",
          "text": [
            "Loss after 3300 steps: 7.867548265494406e-05\n"
          ],
          "name": "stdout"
        },
        {
          "output_type": "stream",
          "text": [
            "Training:  51%|█████     | 3404/6725 [03:06<03:02, 18.19it/s]"
          ],
          "name": "stderr"
        },
        {
          "output_type": "stream",
          "text": [
            "Loss after 3400 steps: 0.0003678073117043823\n"
          ],
          "name": "stdout"
        },
        {
          "output_type": "stream",
          "text": [
            "Training:  52%|█████▏    | 3504/6725 [03:11<02:57, 18.18it/s]"
          ],
          "name": "stderr"
        },
        {
          "output_type": "stream",
          "text": [
            "Loss after 3500 steps: 0.0017457659123465419\n"
          ],
          "name": "stdout"
        },
        {
          "output_type": "stream",
          "text": [
            "Training:  54%|█████▎    | 3604/6725 [03:17<02:50, 18.31it/s]"
          ],
          "name": "stderr"
        },
        {
          "output_type": "stream",
          "text": [
            "Loss after 3600 steps: 0.0064530582167208195\n"
          ],
          "name": "stdout"
        },
        {
          "output_type": "stream",
          "text": [
            "Training:  55%|█████▌    | 3704/6725 [03:22<02:46, 18.10it/s]"
          ],
          "name": "stderr"
        },
        {
          "output_type": "stream",
          "text": [
            "Loss after 3700 steps: 0.010011072270572186\n"
          ],
          "name": "stdout"
        },
        {
          "output_type": "stream",
          "text": [
            "Training:  57%|█████▋    | 3804/6725 [03:28<02:39, 18.31it/s]"
          ],
          "name": "stderr"
        },
        {
          "output_type": "stream",
          "text": [
            "Loss after 3800 steps: 0.024428248405456543\n"
          ],
          "name": "stdout"
        },
        {
          "output_type": "stream",
          "text": [
            "Training:  58%|█████▊    | 3904/6725 [03:33<02:34, 18.25it/s]"
          ],
          "name": "stderr"
        },
        {
          "output_type": "stream",
          "text": [
            "Loss after 3900 steps: 0.000307586626149714\n"
          ],
          "name": "stdout"
        },
        {
          "output_type": "stream",
          "text": [
            "Training:  60%|█████▉    | 4004/6725 [03:39<02:29, 18.24it/s]"
          ],
          "name": "stderr"
        },
        {
          "output_type": "stream",
          "text": [
            "Loss after 4000 steps: 1.6912665159907192e-05\n"
          ],
          "name": "stdout"
        },
        {
          "output_type": "stream",
          "text": [
            "Training:  61%|██████    | 4104/6725 [03:44<02:23, 18.24it/s]"
          ],
          "name": "stderr"
        },
        {
          "output_type": "stream",
          "text": [
            "Loss after 4100 steps: 0.001758660888299346\n"
          ],
          "name": "stdout"
        },
        {
          "output_type": "stream",
          "text": [
            "Training:  63%|██████▎   | 4204/6725 [03:50<02:17, 18.29it/s]"
          ],
          "name": "stderr"
        },
        {
          "output_type": "stream",
          "text": [
            "Loss after 4200 steps: 0.0016970837023109198\n"
          ],
          "name": "stdout"
        },
        {
          "output_type": "stream",
          "text": [
            "Training:  64%|██████▍   | 4304/6725 [03:55<02:12, 18.25it/s]"
          ],
          "name": "stderr"
        },
        {
          "output_type": "stream",
          "text": [
            "Loss after 4300 steps: 0.002671305788680911\n"
          ],
          "name": "stdout"
        },
        {
          "output_type": "stream",
          "text": [
            "Training:  65%|██████▌   | 4404/6725 [04:01<02:07, 18.18it/s]"
          ],
          "name": "stderr"
        },
        {
          "output_type": "stream",
          "text": [
            "Loss after 4400 steps: 0.015767641365528107\n"
          ],
          "name": "stdout"
        },
        {
          "output_type": "stream",
          "text": [
            "Training:  67%|██████▋   | 4504/6725 [04:06<02:01, 18.34it/s]"
          ],
          "name": "stderr"
        },
        {
          "output_type": "stream",
          "text": [
            "Loss after 4500 steps: 0.015289701521396637\n"
          ],
          "name": "stdout"
        },
        {
          "output_type": "stream",
          "text": [
            "Training:  68%|██████▊   | 4604/6725 [04:11<01:55, 18.30it/s]"
          ],
          "name": "stderr"
        },
        {
          "output_type": "stream",
          "text": [
            "Loss after 4600 steps: 0.00019083652296103537\n"
          ],
          "name": "stdout"
        },
        {
          "output_type": "stream",
          "text": [
            "Training:  70%|██████▉   | 4704/6725 [04:17<01:50, 18.32it/s]"
          ],
          "name": "stderr"
        },
        {
          "output_type": "stream",
          "text": [
            "Loss after 4700 steps: 0.01651035062968731\n"
          ],
          "name": "stdout"
        },
        {
          "output_type": "stream",
          "text": [
            "Training:  71%|███████▏  | 4804/6725 [04:22<01:47, 17.91it/s]"
          ],
          "name": "stderr"
        },
        {
          "output_type": "stream",
          "text": [
            "Loss after 4800 steps: 0.03152313455939293\n"
          ],
          "name": "stdout"
        },
        {
          "output_type": "stream",
          "text": [
            "Training:  73%|███████▎  | 4904/6725 [04:28<01:39, 18.26it/s]"
          ],
          "name": "stderr"
        },
        {
          "output_type": "stream",
          "text": [
            "Loss after 4900 steps: 0.03960273042321205\n"
          ],
          "name": "stdout"
        },
        {
          "output_type": "stream",
          "text": [
            "Training:  74%|███████▍  | 5004/6725 [04:33<01:34, 18.31it/s]"
          ],
          "name": "stderr"
        },
        {
          "output_type": "stream",
          "text": [
            "Loss after 5000 steps: 0.000292440177872777\n"
          ],
          "name": "stdout"
        },
        {
          "output_type": "stream",
          "text": [
            "Training:  76%|███████▌  | 5104/6725 [04:39<01:28, 18.25it/s]"
          ],
          "name": "stderr"
        },
        {
          "output_type": "stream",
          "text": [
            "Loss after 5100 steps: 0.03401075303554535\n"
          ],
          "name": "stdout"
        },
        {
          "output_type": "stream",
          "text": [
            "Training:  77%|███████▋  | 5204/6725 [04:44<01:23, 18.16it/s]"
          ],
          "name": "stderr"
        },
        {
          "output_type": "stream",
          "text": [
            "Loss after 5200 steps: 0.001081612310372293\n"
          ],
          "name": "stdout"
        },
        {
          "output_type": "stream",
          "text": [
            "Training:  79%|███████▉  | 5304/6725 [04:50<01:17, 18.31it/s]"
          ],
          "name": "stderr"
        },
        {
          "output_type": "stream",
          "text": [
            "Loss after 5300 steps: 0.0016752122901380062\n"
          ],
          "name": "stdout"
        },
        {
          "output_type": "stream",
          "text": [
            "Training:  80%|████████  | 5404/6725 [04:55<01:12, 18.29it/s]"
          ],
          "name": "stderr"
        },
        {
          "output_type": "stream",
          "text": [
            "Loss after 5400 steps: 8.3369821368251e-05\n"
          ],
          "name": "stdout"
        },
        {
          "output_type": "stream",
          "text": [
            "Training:  82%|████████▏ | 5504/6725 [05:01<01:06, 18.29it/s]"
          ],
          "name": "stderr"
        },
        {
          "output_type": "stream",
          "text": [
            "Loss after 5500 steps: 0.0004366352513898164\n"
          ],
          "name": "stdout"
        },
        {
          "output_type": "stream",
          "text": [
            "Training:  83%|████████▎ | 5604/6725 [05:06<01:01, 18.21it/s]"
          ],
          "name": "stderr"
        },
        {
          "output_type": "stream",
          "text": [
            "Loss after 5600 steps: 0.0009916902054101229\n"
          ],
          "name": "stdout"
        },
        {
          "output_type": "stream",
          "text": [
            "Training:  85%|████████▍ | 5704/6725 [05:12<00:56, 18.18it/s]"
          ],
          "name": "stderr"
        },
        {
          "output_type": "stream",
          "text": [
            "Loss after 5700 steps: 0.04320923238992691\n"
          ],
          "name": "stdout"
        },
        {
          "output_type": "stream",
          "text": [
            "Training:  86%|████████▋ | 5804/6725 [05:17<00:50, 18.29it/s]"
          ],
          "name": "stderr"
        },
        {
          "output_type": "stream",
          "text": [
            "Loss after 5800 steps: 2.0501622202573344e-05\n"
          ],
          "name": "stdout"
        },
        {
          "output_type": "stream",
          "text": [
            "Training:  88%|████████▊ | 5904/6725 [05:23<00:45, 18.09it/s]"
          ],
          "name": "stderr"
        },
        {
          "output_type": "stream",
          "text": [
            "Loss after 5900 steps: 4.0530183468945324e-05\n"
          ],
          "name": "stdout"
        },
        {
          "output_type": "stream",
          "text": [
            "Training:  89%|████████▉ | 6004/6725 [05:28<00:39, 18.36it/s]"
          ],
          "name": "stderr"
        },
        {
          "output_type": "stream",
          "text": [
            "Loss after 6000 steps: 0.014505281113088131\n"
          ],
          "name": "stdout"
        },
        {
          "output_type": "stream",
          "text": [
            "Training:  91%|█████████ | 6104/6725 [05:34<00:34, 18.20it/s]"
          ],
          "name": "stderr"
        },
        {
          "output_type": "stream",
          "text": [
            "Loss after 6100 steps: 0.0012787760933861136\n"
          ],
          "name": "stdout"
        },
        {
          "output_type": "stream",
          "text": [
            "Training:  92%|█████████▏| 6204/6725 [05:39<00:28, 18.31it/s]"
          ],
          "name": "stderr"
        },
        {
          "output_type": "stream",
          "text": [
            "Loss after 6200 steps: 0.0009740584646351635\n"
          ],
          "name": "stdout"
        },
        {
          "output_type": "stream",
          "text": [
            "Training:  94%|█████████▎| 6304/6725 [05:45<00:23, 18.28it/s]"
          ],
          "name": "stderr"
        },
        {
          "output_type": "stream",
          "text": [
            "Loss after 6300 steps: 0.007156426087021828\n"
          ],
          "name": "stdout"
        },
        {
          "output_type": "stream",
          "text": [
            "Training:  95%|█████████▌| 6404/6725 [05:50<00:17, 18.34it/s]"
          ],
          "name": "stderr"
        },
        {
          "output_type": "stream",
          "text": [
            "Loss after 6400 steps: 0.0009062681347131729\n"
          ],
          "name": "stdout"
        },
        {
          "output_type": "stream",
          "text": [
            "Training:  97%|█████████▋| 6504/6725 [05:55<00:12, 18.18it/s]"
          ],
          "name": "stderr"
        },
        {
          "output_type": "stream",
          "text": [
            "Loss after 6500 steps: 0.01750791072845459\n"
          ],
          "name": "stdout"
        },
        {
          "output_type": "stream",
          "text": [
            "Training:  98%|█████████▊| 6604/6725 [06:01<00:06, 18.21it/s]"
          ],
          "name": "stderr"
        },
        {
          "output_type": "stream",
          "text": [
            "Loss after 6600 steps: 0.00042102739098481834\n"
          ],
          "name": "stdout"
        },
        {
          "output_type": "stream",
          "text": [
            "Training: 100%|█████████▉| 6704/6725 [06:06<00:01, 18.20it/s]"
          ],
          "name": "stderr"
        },
        {
          "output_type": "stream",
          "text": [
            "Loss after 6700 steps: 0.0027590219397097826\n"
          ],
          "name": "stdout"
        },
        {
          "output_type": "stream",
          "text": [
            "Training: 100%|██████████| 6725/6725 [06:08<00:00, 18.27it/s]\n",
            "Training:   1%|          | 78/6725 [00:04<06:06, 18.14it/s]"
          ],
          "name": "stderr"
        },
        {
          "output_type": "stream",
          "text": [
            "Loss after 6800 steps: 0.02127223089337349\n"
          ],
          "name": "stdout"
        },
        {
          "output_type": "stream",
          "text": [
            "Training:   3%|▎         | 178/6725 [00:09<06:00, 18.14it/s]"
          ],
          "name": "stderr"
        },
        {
          "output_type": "stream",
          "text": [
            "Loss after 6900 steps: 0.0039234040305018425\n"
          ],
          "name": "stdout"
        },
        {
          "output_type": "stream",
          "text": [
            "Training:   4%|▍         | 278/6725 [00:15<06:04, 17.70it/s]"
          ],
          "name": "stderr"
        },
        {
          "output_type": "stream",
          "text": [
            "Loss after 7000 steps: 0.05139560624957085\n"
          ],
          "name": "stdout"
        },
        {
          "output_type": "stream",
          "text": [
            "Training:   6%|▌         | 378/6725 [00:20<05:48, 18.23it/s]"
          ],
          "name": "stderr"
        },
        {
          "output_type": "stream",
          "text": [
            "Loss after 7100 steps: 0.005008242558687925\n"
          ],
          "name": "stdout"
        },
        {
          "output_type": "stream",
          "text": [
            "Training:   7%|▋         | 478/6725 [00:26<05:43, 18.17it/s]"
          ],
          "name": "stderr"
        },
        {
          "output_type": "stream",
          "text": [
            "Loss after 7200 steps: 0.0556468740105629\n"
          ],
          "name": "stdout"
        },
        {
          "output_type": "stream",
          "text": [
            "Training:   9%|▊         | 578/6725 [00:31<05:36, 18.25it/s]"
          ],
          "name": "stderr"
        },
        {
          "output_type": "stream",
          "text": [
            "Loss after 7300 steps: 7.417398592224345e-05\n"
          ],
          "name": "stdout"
        },
        {
          "output_type": "stream",
          "text": [
            "Training:  10%|█         | 678/6725 [00:37<05:31, 18.27it/s]"
          ],
          "name": "stderr"
        },
        {
          "output_type": "stream",
          "text": [
            "Loss after 7400 steps: 0.017090637236833572\n"
          ],
          "name": "stdout"
        },
        {
          "output_type": "stream",
          "text": [
            "Training:  12%|█▏        | 778/6725 [00:42<05:26, 18.21it/s]"
          ],
          "name": "stderr"
        },
        {
          "output_type": "stream",
          "text": [
            "Loss after 7500 steps: 0.007561792619526386\n"
          ],
          "name": "stdout"
        },
        {
          "output_type": "stream",
          "text": [
            "Training:  13%|█▎        | 878/6725 [00:48<05:19, 18.29it/s]"
          ],
          "name": "stderr"
        },
        {
          "output_type": "stream",
          "text": [
            "Loss after 7600 steps: 4.8588237405056134e-05\n"
          ],
          "name": "stdout"
        },
        {
          "output_type": "stream",
          "text": [
            "Training:  15%|█▍        | 978/6725 [00:53<05:13, 18.32it/s]"
          ],
          "name": "stderr"
        },
        {
          "output_type": "stream",
          "text": [
            "Loss after 7700 steps: 0.05460119619965553\n"
          ],
          "name": "stdout"
        },
        {
          "output_type": "stream",
          "text": [
            "Training:  16%|█▌        | 1078/6725 [00:59<05:07, 18.35it/s]"
          ],
          "name": "stderr"
        },
        {
          "output_type": "stream",
          "text": [
            "Loss after 7800 steps: 0.0009095855057239532\n"
          ],
          "name": "stdout"
        },
        {
          "output_type": "stream",
          "text": [
            "Training:  18%|█▊        | 1178/6725 [01:04<05:05, 18.16it/s]"
          ],
          "name": "stderr"
        },
        {
          "output_type": "stream",
          "text": [
            "Loss after 7900 steps: 4.9872935051098466e-05\n"
          ],
          "name": "stdout"
        },
        {
          "output_type": "stream",
          "text": [
            "Training:  19%|█▉        | 1278/6725 [01:10<04:59, 18.21it/s]"
          ],
          "name": "stderr"
        },
        {
          "output_type": "stream",
          "text": [
            "Loss after 8000 steps: 0.0004954735632054508\n"
          ],
          "name": "stdout"
        },
        {
          "output_type": "stream",
          "text": [
            "Training:  20%|██        | 1378/6725 [01:15<04:54, 18.14it/s]"
          ],
          "name": "stderr"
        },
        {
          "output_type": "stream",
          "text": [
            "Loss after 8100 steps: 0.007839337922632694\n"
          ],
          "name": "stdout"
        },
        {
          "output_type": "stream",
          "text": [
            "Training:  22%|██▏       | 1478/6725 [01:21<04:46, 18.33it/s]"
          ],
          "name": "stderr"
        },
        {
          "output_type": "stream",
          "text": [
            "Loss after 8200 steps: 0.004970690701156855\n"
          ],
          "name": "stdout"
        },
        {
          "output_type": "stream",
          "text": [
            "Training:  23%|██▎       | 1578/6725 [01:26<04:42, 18.20it/s]"
          ],
          "name": "stderr"
        },
        {
          "output_type": "stream",
          "text": [
            "Loss after 8300 steps: 0.0008660645689815283\n"
          ],
          "name": "stdout"
        },
        {
          "output_type": "stream",
          "text": [
            "Training:  25%|██▍       | 1678/6725 [01:32<04:36, 18.26it/s]"
          ],
          "name": "stderr"
        },
        {
          "output_type": "stream",
          "text": [
            "Loss after 8400 steps: 5.622145545203239e-05\n"
          ],
          "name": "stdout"
        },
        {
          "output_type": "stream",
          "text": [
            "Training:  26%|██▋       | 1778/6725 [01:37<04:32, 18.18it/s]"
          ],
          "name": "stderr"
        },
        {
          "output_type": "stream",
          "text": [
            "Loss after 8500 steps: 0.03895395249128342\n"
          ],
          "name": "stdout"
        },
        {
          "output_type": "stream",
          "text": [
            "Training:  28%|██▊       | 1878/6725 [01:43<04:25, 18.26it/s]"
          ],
          "name": "stderr"
        },
        {
          "output_type": "stream",
          "text": [
            "Loss after 8600 steps: 0.011018922552466393\n"
          ],
          "name": "stdout"
        },
        {
          "output_type": "stream",
          "text": [
            "Training:  29%|██▉       | 1978/6725 [01:48<04:21, 18.16it/s]"
          ],
          "name": "stderr"
        },
        {
          "output_type": "stream",
          "text": [
            "Loss after 8700 steps: 0.01864495687186718\n"
          ],
          "name": "stdout"
        },
        {
          "output_type": "stream",
          "text": [
            "Training:  31%|███       | 2078/6725 [01:54<04:19, 17.90it/s]"
          ],
          "name": "stderr"
        },
        {
          "output_type": "stream",
          "text": [
            "Loss after 8800 steps: 0.006941269617527723\n"
          ],
          "name": "stdout"
        },
        {
          "output_type": "stream",
          "text": [
            "Training:  32%|███▏      | 2178/6725 [01:59<04:08, 18.28it/s]"
          ],
          "name": "stderr"
        },
        {
          "output_type": "stream",
          "text": [
            "Loss after 8900 steps: 0.013048815540969372\n"
          ],
          "name": "stdout"
        },
        {
          "output_type": "stream",
          "text": [
            "Training:  34%|███▍      | 2278/6725 [02:05<04:03, 18.25it/s]"
          ],
          "name": "stderr"
        },
        {
          "output_type": "stream",
          "text": [
            "Loss after 9000 steps: 0.02435055933892727\n"
          ],
          "name": "stdout"
        },
        {
          "output_type": "stream",
          "text": [
            "Training:  35%|███▌      | 2378/6725 [02:10<03:56, 18.35it/s]"
          ],
          "name": "stderr"
        },
        {
          "output_type": "stream",
          "text": [
            "Loss after 9100 steps: 0.001712940982542932\n"
          ],
          "name": "stdout"
        },
        {
          "output_type": "stream",
          "text": [
            "Training:  37%|███▋      | 2478/6725 [02:16<03:53, 18.17it/s]"
          ],
          "name": "stderr"
        },
        {
          "output_type": "stream",
          "text": [
            "Loss after 9200 steps: 0.001266971928998828\n"
          ],
          "name": "stdout"
        },
        {
          "output_type": "stream",
          "text": [
            "Training:  38%|███▊      | 2578/6725 [02:21<03:47, 18.26it/s]"
          ],
          "name": "stderr"
        },
        {
          "output_type": "stream",
          "text": [
            "Loss after 9300 steps: 5.13937629875727e-05\n"
          ],
          "name": "stdout"
        },
        {
          "output_type": "stream",
          "text": [
            "Training:  40%|███▉      | 2678/6725 [02:27<03:45, 17.98it/s]"
          ],
          "name": "stderr"
        },
        {
          "output_type": "stream",
          "text": [
            "Loss after 9400 steps: 3.642744923126884e-05\n"
          ],
          "name": "stdout"
        },
        {
          "output_type": "stream",
          "text": [
            "Training:  41%|████▏     | 2778/6725 [02:32<03:35, 18.31it/s]"
          ],
          "name": "stderr"
        },
        {
          "output_type": "stream",
          "text": [
            "Loss after 9500 steps: 0.0009525985224172473\n"
          ],
          "name": "stdout"
        },
        {
          "output_type": "stream",
          "text": [
            "Training:  43%|████▎     | 2878/6725 [02:37<03:31, 18.22it/s]"
          ],
          "name": "stderr"
        },
        {
          "output_type": "stream",
          "text": [
            "Loss after 9600 steps: 7.5631876825355e-05\n"
          ],
          "name": "stdout"
        },
        {
          "output_type": "stream",
          "text": [
            "Training:  44%|████▍     | 2978/6725 [02:43<03:25, 18.20it/s]"
          ],
          "name": "stderr"
        },
        {
          "output_type": "stream",
          "text": [
            "Loss after 9700 steps: 0.027417607605457306\n"
          ],
          "name": "stdout"
        },
        {
          "output_type": "stream",
          "text": [
            "Training:  46%|████▌     | 3078/6725 [02:48<03:20, 18.19it/s]"
          ],
          "name": "stderr"
        },
        {
          "output_type": "stream",
          "text": [
            "Loss after 9800 steps: 0.0009756677900440991\n"
          ],
          "name": "stdout"
        },
        {
          "output_type": "stream",
          "text": [
            "Training:  47%|████▋     | 3178/6725 [02:54<03:17, 17.94it/s]"
          ],
          "name": "stderr"
        },
        {
          "output_type": "stream",
          "text": [
            "Loss after 9900 steps: 3.706645293277688e-05\n"
          ],
          "name": "stdout"
        },
        {
          "output_type": "stream",
          "text": [
            "Training:  49%|████▊     | 3278/6725 [02:59<03:09, 18.14it/s]"
          ],
          "name": "stderr"
        },
        {
          "output_type": "stream",
          "text": [
            "Loss after 10000 steps: 0.00020914604829158634\n"
          ],
          "name": "stdout"
        },
        {
          "output_type": "stream",
          "text": [
            "Training:  50%|█████     | 3378/6725 [03:05<03:03, 18.25it/s]"
          ],
          "name": "stderr"
        },
        {
          "output_type": "stream",
          "text": [
            "Loss after 10100 steps: 0.00022083106159698218\n"
          ],
          "name": "stdout"
        },
        {
          "output_type": "stream",
          "text": [
            "Training:  52%|█████▏    | 3478/6725 [03:10<02:57, 18.31it/s]"
          ],
          "name": "stderr"
        },
        {
          "output_type": "stream",
          "text": [
            "Loss after 10200 steps: 1.905751742015127e-05\n"
          ],
          "name": "stdout"
        },
        {
          "output_type": "stream",
          "text": [
            "Training:  53%|█████▎    | 3578/6725 [03:16<02:55, 17.97it/s]"
          ],
          "name": "stderr"
        },
        {
          "output_type": "stream",
          "text": [
            "Loss after 10300 steps: 0.007742645218968391\n"
          ],
          "name": "stdout"
        },
        {
          "output_type": "stream",
          "text": [
            "Training:  55%|█████▍    | 3678/6725 [03:21<02:46, 18.25it/s]"
          ],
          "name": "stderr"
        },
        {
          "output_type": "stream",
          "text": [
            "Loss after 10400 steps: 0.005913341883569956\n"
          ],
          "name": "stdout"
        },
        {
          "output_type": "stream",
          "text": [
            "Training:  56%|█████▌    | 3778/6725 [03:27<02:40, 18.35it/s]"
          ],
          "name": "stderr"
        },
        {
          "output_type": "stream",
          "text": [
            "Loss after 10500 steps: 0.00045146484626457095\n"
          ],
          "name": "stdout"
        },
        {
          "output_type": "stream",
          "text": [
            "Training:  58%|█████▊    | 3878/6725 [03:32<02:37, 18.13it/s]"
          ],
          "name": "stderr"
        },
        {
          "output_type": "stream",
          "text": [
            "Loss after 10600 steps: 0.006867863703519106\n"
          ],
          "name": "stdout"
        },
        {
          "output_type": "stream",
          "text": [
            "Training:  59%|█████▉    | 3978/6725 [03:38<02:30, 18.21it/s]"
          ],
          "name": "stderr"
        },
        {
          "output_type": "stream",
          "text": [
            "Loss after 10700 steps: 0.012207294814288616\n"
          ],
          "name": "stdout"
        },
        {
          "output_type": "stream",
          "text": [
            "Training:  61%|██████    | 4078/6725 [03:43<02:24, 18.29it/s]"
          ],
          "name": "stderr"
        },
        {
          "output_type": "stream",
          "text": [
            "Loss after 10800 steps: 1.2031943697365932e-05\n"
          ],
          "name": "stdout"
        },
        {
          "output_type": "stream",
          "text": [
            "Training:  62%|██████▏   | 4178/6725 [03:49<02:20, 18.16it/s]"
          ],
          "name": "stderr"
        },
        {
          "output_type": "stream",
          "text": [
            "Loss after 10900 steps: 0.01916542276740074\n"
          ],
          "name": "stdout"
        },
        {
          "output_type": "stream",
          "text": [
            "Training:  64%|██████▎   | 4278/6725 [03:54<02:16, 17.97it/s]"
          ],
          "name": "stderr"
        },
        {
          "output_type": "stream",
          "text": [
            "Loss after 11000 steps: 0.0006166142411530018\n"
          ],
          "name": "stdout"
        },
        {
          "output_type": "stream",
          "text": [
            "Training:  65%|██████▌   | 4378/6725 [04:00<02:09, 18.14it/s]"
          ],
          "name": "stderr"
        },
        {
          "output_type": "stream",
          "text": [
            "Loss after 11100 steps: 4.3432060920167714e-05\n"
          ],
          "name": "stdout"
        },
        {
          "output_type": "stream",
          "text": [
            "Training:  67%|██████▋   | 4478/6725 [04:05<02:04, 18.06it/s]"
          ],
          "name": "stderr"
        },
        {
          "output_type": "stream",
          "text": [
            "Loss after 11200 steps: 6.048924115020782e-05\n"
          ],
          "name": "stdout"
        },
        {
          "output_type": "stream",
          "text": [
            "Training:  68%|██████▊   | 4578/6725 [04:11<01:57, 18.24it/s]"
          ],
          "name": "stderr"
        },
        {
          "output_type": "stream",
          "text": [
            "Loss after 11300 steps: 6.595959712285548e-05\n"
          ],
          "name": "stdout"
        },
        {
          "output_type": "stream",
          "text": [
            "Training:  70%|██████▉   | 4678/6725 [04:16<01:53, 18.09it/s]"
          ],
          "name": "stderr"
        },
        {
          "output_type": "stream",
          "text": [
            "Loss after 11400 steps: 0.007791944779455662\n"
          ],
          "name": "stdout"
        },
        {
          "output_type": "stream",
          "text": [
            "Training:  71%|███████   | 4778/6725 [04:22<01:46, 18.30it/s]"
          ],
          "name": "stderr"
        },
        {
          "output_type": "stream",
          "text": [
            "Loss after 11500 steps: 0.0004197575035504997\n"
          ],
          "name": "stdout"
        },
        {
          "output_type": "stream",
          "text": [
            "Training:  73%|███████▎  | 4878/6725 [04:27<01:40, 18.30it/s]"
          ],
          "name": "stderr"
        },
        {
          "output_type": "stream",
          "text": [
            "Loss after 11600 steps: 1.529358996776864e-05\n"
          ],
          "name": "stdout"
        },
        {
          "output_type": "stream",
          "text": [
            "Training:  74%|███████▍  | 4978/6725 [04:33<01:36, 18.03it/s]"
          ],
          "name": "stderr"
        },
        {
          "output_type": "stream",
          "text": [
            "Loss after 11700 steps: 0.027965262532234192\n"
          ],
          "name": "stdout"
        },
        {
          "output_type": "stream",
          "text": [
            "Training:  76%|███████▌  | 5078/6725 [04:38<01:30, 18.25it/s]"
          ],
          "name": "stderr"
        },
        {
          "output_type": "stream",
          "text": [
            "Loss after 11800 steps: 1.162428452516906e-05\n"
          ],
          "name": "stdout"
        },
        {
          "output_type": "stream",
          "text": [
            "Training:  77%|███████▋  | 5178/6725 [04:44<01:24, 18.33it/s]"
          ],
          "name": "stderr"
        },
        {
          "output_type": "stream",
          "text": [
            "Loss after 11900 steps: 0.0007561620441265404\n"
          ],
          "name": "stdout"
        },
        {
          "output_type": "stream",
          "text": [
            "Training:  78%|███████▊  | 5278/6725 [04:49<01:19, 18.26it/s]"
          ],
          "name": "stderr"
        },
        {
          "output_type": "stream",
          "text": [
            "Loss after 12000 steps: 0.000353223062120378\n"
          ],
          "name": "stdout"
        },
        {
          "output_type": "stream",
          "text": [
            "Training:  80%|███████▉  | 5378/6725 [04:55<01:14, 18.07it/s]"
          ],
          "name": "stderr"
        },
        {
          "output_type": "stream",
          "text": [
            "Loss after 12100 steps: 0.04008243605494499\n"
          ],
          "name": "stdout"
        },
        {
          "output_type": "stream",
          "text": [
            "Training:  81%|████████▏ | 5478/6725 [05:00<01:08, 18.15it/s]"
          ],
          "name": "stderr"
        },
        {
          "output_type": "stream",
          "text": [
            "Loss after 12200 steps: 3.686526179080829e-05\n"
          ],
          "name": "stdout"
        },
        {
          "output_type": "stream",
          "text": [
            "Training:  83%|████████▎ | 5578/6725 [05:06<01:03, 18.20it/s]"
          ],
          "name": "stderr"
        },
        {
          "output_type": "stream",
          "text": [
            "Loss after 12300 steps: 0.0008399061625823379\n"
          ],
          "name": "stdout"
        },
        {
          "output_type": "stream",
          "text": [
            "Training:  84%|████████▍ | 5678/6725 [05:11<00:58, 18.01it/s]"
          ],
          "name": "stderr"
        },
        {
          "output_type": "stream",
          "text": [
            "Loss after 12400 steps: 0.001895563444122672\n"
          ],
          "name": "stdout"
        },
        {
          "output_type": "stream",
          "text": [
            "Training:  86%|████████▌ | 5778/6725 [05:17<00:52, 18.16it/s]"
          ],
          "name": "stderr"
        },
        {
          "output_type": "stream",
          "text": [
            "Loss after 12500 steps: 0.021603936329483986\n"
          ],
          "name": "stdout"
        },
        {
          "output_type": "stream",
          "text": [
            "Training:  87%|████████▋ | 5878/6725 [05:22<00:46, 18.32it/s]"
          ],
          "name": "stderr"
        },
        {
          "output_type": "stream",
          "text": [
            "Loss after 12600 steps: 0.0017111200140789151\n"
          ],
          "name": "stdout"
        },
        {
          "output_type": "stream",
          "text": [
            "Training:  89%|████████▉ | 5978/6725 [05:28<00:40, 18.33it/s]"
          ],
          "name": "stderr"
        },
        {
          "output_type": "stream",
          "text": [
            "Loss after 12700 steps: 4.241108399583027e-05\n"
          ],
          "name": "stdout"
        },
        {
          "output_type": "stream",
          "text": [
            "Training:  90%|█████████ | 6078/6725 [05:33<00:35, 18.14it/s]"
          ],
          "name": "stderr"
        },
        {
          "output_type": "stream",
          "text": [
            "Loss after 12800 steps: 0.00013004383072257042\n"
          ],
          "name": "stdout"
        },
        {
          "output_type": "stream",
          "text": [
            "Training:  92%|█████████▏| 6178/6725 [05:39<00:30, 18.21it/s]"
          ],
          "name": "stderr"
        },
        {
          "output_type": "stream",
          "text": [
            "Loss after 12900 steps: 0.004422106314450502\n"
          ],
          "name": "stdout"
        },
        {
          "output_type": "stream",
          "text": [
            "Training:  93%|█████████▎| 6278/6725 [05:44<00:24, 18.13it/s]"
          ],
          "name": "stderr"
        },
        {
          "output_type": "stream",
          "text": [
            "Loss after 13000 steps: 0.00664949556812644\n"
          ],
          "name": "stdout"
        },
        {
          "output_type": "stream",
          "text": [
            "Training:  95%|█████████▍| 6378/6725 [05:50<00:19, 17.90it/s]"
          ],
          "name": "stderr"
        },
        {
          "output_type": "stream",
          "text": [
            "Loss after 13100 steps: 0.041723333299160004\n"
          ],
          "name": "stdout"
        },
        {
          "output_type": "stream",
          "text": [
            "Training:  96%|█████████▋| 6478/6725 [05:55<00:13, 18.17it/s]"
          ],
          "name": "stderr"
        },
        {
          "output_type": "stream",
          "text": [
            "Loss after 13200 steps: 0.0026180394925177097\n"
          ],
          "name": "stdout"
        },
        {
          "output_type": "stream",
          "text": [
            "Training:  98%|█████████▊| 6578/6725 [06:01<00:08, 18.13it/s]"
          ],
          "name": "stderr"
        },
        {
          "output_type": "stream",
          "text": [
            "Loss after 13300 steps: 0.0030609911773353815\n"
          ],
          "name": "stdout"
        },
        {
          "output_type": "stream",
          "text": [
            "Training:  99%|█████████▉| 6678/6725 [06:06<00:02, 18.20it/s]"
          ],
          "name": "stderr"
        },
        {
          "output_type": "stream",
          "text": [
            "Loss after 13400 steps: 0.008804844692349434\n"
          ],
          "name": "stdout"
        },
        {
          "output_type": "stream",
          "text": [
            "Training: 100%|██████████| 6725/6725 [06:09<00:00, 18.20it/s]\n",
            "Training:   1%|          | 54/6725 [00:02<06:05, 18.24it/s]"
          ],
          "name": "stderr"
        },
        {
          "output_type": "stream",
          "text": [
            "Loss after 13500 steps: 0.0016306397737935185\n"
          ],
          "name": "stdout"
        },
        {
          "output_type": "stream",
          "text": [
            "Training:   2%|▏         | 154/6725 [00:08<06:03, 18.07it/s]"
          ],
          "name": "stderr"
        },
        {
          "output_type": "stream",
          "text": [
            "Loss after 13600 steps: 7.106881821528077e-05\n"
          ],
          "name": "stdout"
        },
        {
          "output_type": "stream",
          "text": [
            "Training:   4%|▍         | 254/6725 [00:13<05:53, 18.31it/s]"
          ],
          "name": "stderr"
        },
        {
          "output_type": "stream",
          "text": [
            "Loss after 13700 steps: 0.0003370779741089791\n"
          ],
          "name": "stdout"
        },
        {
          "output_type": "stream",
          "text": [
            "Training:   5%|▌         | 354/6725 [00:19<05:50, 18.19it/s]"
          ],
          "name": "stderr"
        },
        {
          "output_type": "stream",
          "text": [
            "Loss after 13800 steps: 0.008963621221482754\n"
          ],
          "name": "stdout"
        },
        {
          "output_type": "stream",
          "text": [
            "Training:   7%|▋         | 454/6725 [00:24<05:42, 18.33it/s]"
          ],
          "name": "stderr"
        },
        {
          "output_type": "stream",
          "text": [
            "Loss after 13900 steps: 3.8035836041672155e-05\n"
          ],
          "name": "stdout"
        },
        {
          "output_type": "stream",
          "text": [
            "Training:   8%|▊         | 552/6725 [00:30<05:39, 18.20it/s]"
          ],
          "name": "stderr"
        },
        {
          "output_type": "stream",
          "text": [
            "Loss after 14000 steps: 0.0012890415964648128\n"
          ],
          "name": "stdout"
        },
        {
          "output_type": "stream",
          "text": [
            "Training:  10%|▉         | 654/6725 [00:36<05:38, 17.94it/s]"
          ],
          "name": "stderr"
        },
        {
          "output_type": "stream",
          "text": [
            "Loss after 14100 steps: 0.0007872091373428702\n"
          ],
          "name": "stdout"
        },
        {
          "output_type": "stream",
          "text": [
            "Training:  11%|█         | 754/6725 [00:41<05:29, 18.13it/s]"
          ],
          "name": "stderr"
        },
        {
          "output_type": "stream",
          "text": [
            "Loss after 14200 steps: 2.750072962953709e-05\n"
          ],
          "name": "stdout"
        },
        {
          "output_type": "stream",
          "text": [
            "Training:  13%|█▎        | 854/6725 [00:47<05:26, 17.97it/s]"
          ],
          "name": "stderr"
        },
        {
          "output_type": "stream",
          "text": [
            "Loss after 14300 steps: 0.000470981583930552\n"
          ],
          "name": "stdout"
        },
        {
          "output_type": "stream",
          "text": [
            "Training:  14%|█▍        | 954/6725 [00:52<05:18, 18.13it/s]"
          ],
          "name": "stderr"
        },
        {
          "output_type": "stream",
          "text": [
            "Loss after 14400 steps: 0.002694356720894575\n"
          ],
          "name": "stdout"
        },
        {
          "output_type": "stream",
          "text": [
            "Training:  16%|█▌        | 1054/6725 [00:58<05:13, 18.09it/s]"
          ],
          "name": "stderr"
        },
        {
          "output_type": "stream",
          "text": [
            "Loss after 14500 steps: 0.017303524538874626\n"
          ],
          "name": "stdout"
        },
        {
          "output_type": "stream",
          "text": [
            "Training:  17%|█▋        | 1154/6725 [01:03<05:07, 18.13it/s]"
          ],
          "name": "stderr"
        },
        {
          "output_type": "stream",
          "text": [
            "Loss after 14600 steps: 0.0017213700339198112\n"
          ],
          "name": "stdout"
        },
        {
          "output_type": "stream",
          "text": [
            "Training:  19%|█▊        | 1252/6725 [01:08<05:03, 18.03it/s]"
          ],
          "name": "stderr"
        },
        {
          "output_type": "stream",
          "text": [
            "Loss after 14700 steps: 3.869529246003367e-05\n"
          ],
          "name": "stdout"
        },
        {
          "output_type": "stream",
          "text": [
            "Training:  20%|██        | 1354/6725 [01:14<04:56, 18.09it/s]"
          ],
          "name": "stderr"
        },
        {
          "output_type": "stream",
          "text": [
            "Loss after 14800 steps: 0.0038326892536133528\n"
          ],
          "name": "stdout"
        },
        {
          "output_type": "stream",
          "text": [
            "Training:  22%|██▏       | 1454/6725 [01:20<04:49, 18.24it/s]"
          ],
          "name": "stderr"
        },
        {
          "output_type": "stream",
          "text": [
            "Loss after 14900 steps: 0.0005945386365056038\n"
          ],
          "name": "stdout"
        },
        {
          "output_type": "stream",
          "text": [
            "Training:  23%|██▎       | 1554/6725 [01:25<04:43, 18.21it/s]"
          ],
          "name": "stderr"
        },
        {
          "output_type": "stream",
          "text": [
            "Loss after 15000 steps: 0.01568346470594406\n"
          ],
          "name": "stdout"
        },
        {
          "output_type": "stream",
          "text": [
            "Training:  25%|██▍       | 1654/6725 [01:31<04:39, 18.15it/s]"
          ],
          "name": "stderr"
        },
        {
          "output_type": "stream",
          "text": [
            "Loss after 15100 steps: 0.0004218567337375134\n"
          ],
          "name": "stdout"
        },
        {
          "output_type": "stream",
          "text": [
            "Training:  26%|██▌       | 1754/6725 [01:36<04:32, 18.24it/s]"
          ],
          "name": "stderr"
        },
        {
          "output_type": "stream",
          "text": [
            "Loss after 15200 steps: 1.3258898434287403e-05\n"
          ],
          "name": "stdout"
        },
        {
          "output_type": "stream",
          "text": [
            "Training:  28%|██▊       | 1854/6725 [01:42<04:27, 18.22it/s]"
          ],
          "name": "stderr"
        },
        {
          "output_type": "stream",
          "text": [
            "Loss after 15300 steps: 0.0016862284392118454\n"
          ],
          "name": "stdout"
        },
        {
          "output_type": "stream",
          "text": [
            "Training:  29%|██▉       | 1954/6725 [01:47<04:24, 18.03it/s]"
          ],
          "name": "stderr"
        },
        {
          "output_type": "stream",
          "text": [
            "Loss after 15400 steps: 0.00024411376216448843\n"
          ],
          "name": "stdout"
        },
        {
          "output_type": "stream",
          "text": [
            "Training:  31%|███       | 2054/6725 [01:53<04:17, 18.14it/s]"
          ],
          "name": "stderr"
        },
        {
          "output_type": "stream",
          "text": [
            "Loss after 15500 steps: 9.201921784551814e-05\n"
          ],
          "name": "stdout"
        },
        {
          "output_type": "stream",
          "text": [
            "Training:  32%|███▏      | 2154/6725 [01:58<04:12, 18.10it/s]"
          ],
          "name": "stderr"
        },
        {
          "output_type": "stream",
          "text": [
            "Loss after 15600 steps: 0.001416775630787015\n"
          ],
          "name": "stdout"
        },
        {
          "output_type": "stream",
          "text": [
            "Training:  34%|███▎      | 2254/6725 [02:04<04:07, 18.03it/s]"
          ],
          "name": "stderr"
        },
        {
          "output_type": "stream",
          "text": [
            "Loss after 15700 steps: 1.8754379198071547e-05\n"
          ],
          "name": "stdout"
        },
        {
          "output_type": "stream",
          "text": [
            "Training:  35%|███▌      | 2354/6725 [02:09<04:02, 18.04it/s]"
          ],
          "name": "stderr"
        },
        {
          "output_type": "stream",
          "text": [
            "Loss after 15800 steps: 2.346237852179911e-05\n"
          ],
          "name": "stdout"
        },
        {
          "output_type": "stream",
          "text": [
            "Training:  36%|███▋      | 2454/6725 [02:15<03:54, 18.22it/s]"
          ],
          "name": "stderr"
        },
        {
          "output_type": "stream",
          "text": [
            "Loss after 15900 steps: 0.17381222546100616\n"
          ],
          "name": "stdout"
        },
        {
          "output_type": "stream",
          "text": [
            "Training:  38%|███▊      | 2554/6725 [02:20<03:48, 18.22it/s]"
          ],
          "name": "stderr"
        },
        {
          "output_type": "stream",
          "text": [
            "Loss after 16000 steps: 1.013044675346464e-05\n"
          ],
          "name": "stdout"
        },
        {
          "output_type": "stream",
          "text": [
            "Training:  39%|███▉      | 2654/6725 [02:26<03:44, 18.15it/s]"
          ],
          "name": "stderr"
        },
        {
          "output_type": "stream",
          "text": [
            "Loss after 16100 steps: 0.0494544543325901\n"
          ],
          "name": "stdout"
        },
        {
          "output_type": "stream",
          "text": [
            "Training:  41%|████      | 2754/6725 [02:31<03:41, 17.95it/s]"
          ],
          "name": "stderr"
        },
        {
          "output_type": "stream",
          "text": [
            "Loss after 16200 steps: 0.04095814377069473\n"
          ],
          "name": "stdout"
        },
        {
          "output_type": "stream",
          "text": [
            "Training:  42%|████▏     | 2854/6725 [02:37<03:32, 18.19it/s]"
          ],
          "name": "stderr"
        },
        {
          "output_type": "stream",
          "text": [
            "Loss after 16300 steps: 7.02836987329647e-05\n"
          ],
          "name": "stdout"
        },
        {
          "output_type": "stream",
          "text": [
            "Training:  44%|████▍     | 2954/6725 [02:42<03:27, 18.18it/s]"
          ],
          "name": "stderr"
        },
        {
          "output_type": "stream",
          "text": [
            "Loss after 16400 steps: 0.01045278925448656\n"
          ],
          "name": "stdout"
        },
        {
          "output_type": "stream",
          "text": [
            "Training:  45%|████▌     | 3054/6725 [02:48<03:21, 18.18it/s]"
          ],
          "name": "stderr"
        },
        {
          "output_type": "stream",
          "text": [
            "Loss after 16500 steps: 0.0007331459783017635\n"
          ],
          "name": "stdout"
        },
        {
          "output_type": "stream",
          "text": [
            "Training:  47%|████▋     | 3154/6725 [02:53<03:17, 18.06it/s]"
          ],
          "name": "stderr"
        },
        {
          "output_type": "stream",
          "text": [
            "Loss after 16600 steps: 1.904420423670672e-05\n"
          ],
          "name": "stdout"
        },
        {
          "output_type": "stream",
          "text": [
            "Training:  48%|████▊     | 3252/6725 [02:59<03:11, 18.16it/s]"
          ],
          "name": "stderr"
        },
        {
          "output_type": "stream",
          "text": [
            "Loss after 16700 steps: 0.025780685245990753\n"
          ],
          "name": "stdout"
        },
        {
          "output_type": "stream",
          "text": [
            "Training:  50%|████▉     | 3354/6725 [03:04<03:06, 18.11it/s]"
          ],
          "name": "stderr"
        },
        {
          "output_type": "stream",
          "text": [
            "Loss after 16800 steps: 0.000181837152922526\n"
          ],
          "name": "stdout"
        },
        {
          "output_type": "stream",
          "text": [
            "Training:  51%|█████▏    | 3452/6725 [03:10<03:01, 18.05it/s]"
          ],
          "name": "stderr"
        },
        {
          "output_type": "stream",
          "text": [
            "Loss after 16900 steps: 0.00031204873812384903\n"
          ],
          "name": "stdout"
        },
        {
          "output_type": "stream",
          "text": [
            "Training:  53%|█████▎    | 3554/6725 [03:15<02:54, 18.18it/s]"
          ],
          "name": "stderr"
        },
        {
          "output_type": "stream",
          "text": [
            "Loss after 17000 steps: 0.0031900459434837103\n"
          ],
          "name": "stdout"
        },
        {
          "output_type": "stream",
          "text": [
            "Training:  54%|█████▍    | 3654/6725 [03:21<02:48, 18.20it/s]"
          ],
          "name": "stderr"
        },
        {
          "output_type": "stream",
          "text": [
            "Loss after 17100 steps: 0.008515176363289356\n"
          ],
          "name": "stdout"
        },
        {
          "output_type": "stream",
          "text": [
            "Training:  56%|█████▌    | 3754/6725 [03:26<02:45, 17.98it/s]"
          ],
          "name": "stderr"
        },
        {
          "output_type": "stream",
          "text": [
            "Loss after 17200 steps: 0.008563438430428505\n"
          ],
          "name": "stdout"
        },
        {
          "output_type": "stream",
          "text": [
            "Training:  57%|█████▋    | 3854/6725 [03:32<02:37, 18.21it/s]"
          ],
          "name": "stderr"
        },
        {
          "output_type": "stream",
          "text": [
            "Loss after 17300 steps: 0.00040543481009081006\n"
          ],
          "name": "stdout"
        },
        {
          "output_type": "stream",
          "text": [
            "Training:  59%|█████▉    | 3954/6725 [03:37<02:33, 18.08it/s]"
          ],
          "name": "stderr"
        },
        {
          "output_type": "stream",
          "text": [
            "Loss after 17400 steps: 1.6536967450520024e-05\n"
          ],
          "name": "stdout"
        },
        {
          "output_type": "stream",
          "text": [
            "Training:  60%|██████    | 4054/6725 [03:43<02:26, 18.19it/s]"
          ],
          "name": "stderr"
        },
        {
          "output_type": "stream",
          "text": [
            "Loss after 17500 steps: 0.002090018941089511\n"
          ],
          "name": "stdout"
        },
        {
          "output_type": "stream",
          "text": [
            "Training:  62%|██████▏   | 4154/6725 [03:48<02:22, 17.98it/s]"
          ],
          "name": "stderr"
        },
        {
          "output_type": "stream",
          "text": [
            "Loss after 17600 steps: 0.0035525881685316563\n"
          ],
          "name": "stdout"
        },
        {
          "output_type": "stream",
          "text": [
            "Training:  63%|██████▎   | 4254/6725 [03:54<02:15, 18.18it/s]"
          ],
          "name": "stderr"
        },
        {
          "output_type": "stream",
          "text": [
            "Loss after 17700 steps: 1.4687409930047579e-05\n"
          ],
          "name": "stdout"
        },
        {
          "output_type": "stream",
          "text": [
            "Training:  65%|██████▍   | 4354/6725 [03:59<02:11, 18.08it/s]"
          ],
          "name": "stderr"
        },
        {
          "output_type": "stream",
          "text": [
            "Loss after 17800 steps: 0.006826814264059067\n"
          ],
          "name": "stdout"
        },
        {
          "output_type": "stream",
          "text": [
            "Training:  66%|██████▌   | 4452/6725 [04:05<02:07, 17.86it/s]"
          ],
          "name": "stderr"
        },
        {
          "output_type": "stream",
          "text": [
            "Loss after 17900 steps: 0.014833252876996994\n"
          ],
          "name": "stdout"
        },
        {
          "output_type": "stream",
          "text": [
            "Training:  68%|██████▊   | 4554/6725 [04:10<01:59, 18.17it/s]"
          ],
          "name": "stderr"
        },
        {
          "output_type": "stream",
          "text": [
            "Loss after 18000 steps: 1.238412096427055e-05\n"
          ],
          "name": "stdout"
        },
        {
          "output_type": "stream",
          "text": [
            "Training:  69%|██████▉   | 4654/6725 [04:16<01:53, 18.17it/s]"
          ],
          "name": "stderr"
        },
        {
          "output_type": "stream",
          "text": [
            "Loss after 18100 steps: 0.006383857689797878\n"
          ],
          "name": "stdout"
        },
        {
          "output_type": "stream",
          "text": [
            "Training:  71%|███████   | 4754/6725 [04:22<01:48, 18.22it/s]"
          ],
          "name": "stderr"
        },
        {
          "output_type": "stream",
          "text": [
            "Loss after 18200 steps: 4.7268658818211406e-05\n"
          ],
          "name": "stdout"
        },
        {
          "output_type": "stream",
          "text": [
            "Training:  72%|███████▏  | 4854/6725 [04:27<01:43, 18.10it/s]"
          ],
          "name": "stderr"
        },
        {
          "output_type": "stream",
          "text": [
            "Loss after 18300 steps: 0.0052183205261826515\n"
          ],
          "name": "stdout"
        },
        {
          "output_type": "stream",
          "text": [
            "Training:  74%|███████▎  | 4954/6725 [04:33<01:37, 18.12it/s]"
          ],
          "name": "stderr"
        },
        {
          "output_type": "stream",
          "text": [
            "Loss after 18400 steps: 0.0026533487252891064\n"
          ],
          "name": "stdout"
        },
        {
          "output_type": "stream",
          "text": [
            "Training:  75%|███████▌  | 5054/6725 [04:38<01:32, 18.04it/s]"
          ],
          "name": "stderr"
        },
        {
          "output_type": "stream",
          "text": [
            "Loss after 18500 steps: 1.156296184490202e-05\n"
          ],
          "name": "stdout"
        },
        {
          "output_type": "stream",
          "text": [
            "Training:  77%|███████▋  | 5154/6725 [04:44<01:26, 18.16it/s]"
          ],
          "name": "stderr"
        },
        {
          "output_type": "stream",
          "text": [
            "Loss after 18600 steps: 0.035397231578826904\n"
          ],
          "name": "stdout"
        },
        {
          "output_type": "stream",
          "text": [
            "Training:  78%|███████▊  | 5254/6725 [04:49<01:21, 18.07it/s]"
          ],
          "name": "stderr"
        },
        {
          "output_type": "stream",
          "text": [
            "Loss after 18700 steps: 0.004827552940696478\n"
          ],
          "name": "stdout"
        },
        {
          "output_type": "stream",
          "text": [
            "Training:  80%|███████▉  | 5354/6725 [04:55<01:16, 17.96it/s]"
          ],
          "name": "stderr"
        },
        {
          "output_type": "stream",
          "text": [
            "Loss after 18800 steps: 0.0011754590086638927\n"
          ],
          "name": "stdout"
        },
        {
          "output_type": "stream",
          "text": [
            "Training:  81%|████████  | 5454/6725 [05:00<01:10, 18.05it/s]"
          ],
          "name": "stderr"
        },
        {
          "output_type": "stream",
          "text": [
            "Loss after 18900 steps: 0.004917479585856199\n"
          ],
          "name": "stdout"
        },
        {
          "output_type": "stream",
          "text": [
            "Training:  83%|████████▎ | 5554/6725 [05:06<01:04, 18.24it/s]"
          ],
          "name": "stderr"
        },
        {
          "output_type": "stream",
          "text": [
            "Loss after 19000 steps: 0.01864924281835556\n"
          ],
          "name": "stdout"
        },
        {
          "output_type": "stream",
          "text": [
            "Training:  84%|████████▍ | 5654/6725 [05:11<00:59, 17.91it/s]"
          ],
          "name": "stderr"
        },
        {
          "output_type": "stream",
          "text": [
            "Loss after 19100 steps: 0.0009584627114236355\n"
          ],
          "name": "stdout"
        },
        {
          "output_type": "stream",
          "text": [
            "Training:  86%|████████▌ | 5754/6725 [05:17<00:53, 18.05it/s]"
          ],
          "name": "stderr"
        },
        {
          "output_type": "stream",
          "text": [
            "Loss after 19200 steps: 0.027952777221798897\n"
          ],
          "name": "stdout"
        },
        {
          "output_type": "stream",
          "text": [
            "Training:  87%|████████▋ | 5854/6725 [05:22<00:47, 18.24it/s]"
          ],
          "name": "stderr"
        },
        {
          "output_type": "stream",
          "text": [
            "Loss after 19300 steps: 0.054161593317985535\n"
          ],
          "name": "stdout"
        },
        {
          "output_type": "stream",
          "text": [
            "Training:  89%|████████▊ | 5954/6725 [05:28<00:42, 18.14it/s]"
          ],
          "name": "stderr"
        },
        {
          "output_type": "stream",
          "text": [
            "Loss after 19400 steps: 0.0001253913651453331\n"
          ],
          "name": "stdout"
        },
        {
          "output_type": "stream",
          "text": [
            "Training:  90%|█████████ | 6054/6725 [05:33<00:36, 18.15it/s]"
          ],
          "name": "stderr"
        },
        {
          "output_type": "stream",
          "text": [
            "Loss after 19500 steps: 1.4823167475697119e-05\n"
          ],
          "name": "stdout"
        },
        {
          "output_type": "stream",
          "text": [
            "Training:  92%|█████████▏| 6154/6725 [05:39<00:31, 18.09it/s]"
          ],
          "name": "stderr"
        },
        {
          "output_type": "stream",
          "text": [
            "Loss after 19600 steps: 0.005110094323754311\n"
          ],
          "name": "stdout"
        },
        {
          "output_type": "stream",
          "text": [
            "Training:  93%|█████████▎| 6254/6725 [05:44<00:25, 18.26it/s]"
          ],
          "name": "stderr"
        },
        {
          "output_type": "stream",
          "text": [
            "Loss after 19700 steps: 0.007945917546749115\n"
          ],
          "name": "stdout"
        },
        {
          "output_type": "stream",
          "text": [
            "Training:  94%|█████████▍| 6354/6725 [05:50<00:20, 17.99it/s]"
          ],
          "name": "stderr"
        },
        {
          "output_type": "stream",
          "text": [
            "Loss after 19800 steps: 0.0005513403448276222\n"
          ],
          "name": "stdout"
        },
        {
          "output_type": "stream",
          "text": [
            "Training:  96%|█████████▌| 6452/6725 [05:55<00:15, 17.66it/s]"
          ],
          "name": "stderr"
        },
        {
          "output_type": "stream",
          "text": [
            "Loss after 19900 steps: 9.504178160568699e-05\n"
          ],
          "name": "stdout"
        },
        {
          "output_type": "stream",
          "text": [
            "Training:  97%|█████████▋| 6552/6725 [06:01<00:09, 18.16it/s]"
          ],
          "name": "stderr"
        },
        {
          "output_type": "stream",
          "text": [
            "Loss after 20000 steps: 5.8851601352216676e-05\n"
          ],
          "name": "stdout"
        },
        {
          "output_type": "stream",
          "text": [
            "Training:  99%|█████████▉| 6654/6725 [06:06<00:03, 18.14it/s]"
          ],
          "name": "stderr"
        },
        {
          "output_type": "stream",
          "text": [
            "Loss after 20100 steps: 0.00011173147504450753\n"
          ],
          "name": "stdout"
        },
        {
          "output_type": "stream",
          "text": [
            "Training: 100%|██████████| 6725/6725 [06:10<00:00, 18.13it/s]\n",
            "Training:   0%|          | 28/6725 [00:01<06:13, 17.94it/s]"
          ],
          "name": "stderr"
        },
        {
          "output_type": "stream",
          "text": [
            "Loss after 20200 steps: 1.3941981706011575e-05\n"
          ],
          "name": "stdout"
        },
        {
          "output_type": "stream",
          "text": [
            "Training:   2%|▏         | 128/6725 [00:07<06:05, 18.05it/s]"
          ],
          "name": "stderr"
        },
        {
          "output_type": "stream",
          "text": [
            "Loss after 20300 steps: 0.046187352389097214\n"
          ],
          "name": "stdout"
        },
        {
          "output_type": "stream",
          "text": [
            "Training:   3%|▎         | 228/6725 [00:12<05:59, 18.08it/s]"
          ],
          "name": "stderr"
        },
        {
          "output_type": "stream",
          "text": [
            "Loss after 20400 steps: 0.00044886136311106384\n"
          ],
          "name": "stdout"
        },
        {
          "output_type": "stream",
          "text": [
            "Training:   5%|▍         | 328/6725 [00:18<05:56, 17.96it/s]"
          ],
          "name": "stderr"
        },
        {
          "output_type": "stream",
          "text": [
            "Loss after 20500 steps: 0.0021078602876514196\n"
          ],
          "name": "stdout"
        },
        {
          "output_type": "stream",
          "text": [
            "Training:   6%|▋         | 428/6725 [00:23<05:48, 18.07it/s]"
          ],
          "name": "stderr"
        },
        {
          "output_type": "stream",
          "text": [
            "Loss after 20600 steps: 4.426978193805553e-05\n"
          ],
          "name": "stdout"
        },
        {
          "output_type": "stream",
          "text": [
            "Training:   8%|▊         | 528/6725 [00:29<05:40, 18.20it/s]"
          ],
          "name": "stderr"
        },
        {
          "output_type": "stream",
          "text": [
            "Loss after 20700 steps: 0.018593085929751396\n"
          ],
          "name": "stdout"
        },
        {
          "output_type": "stream",
          "text": [
            "Training:   9%|▉         | 628/6725 [00:34<05:37, 18.07it/s]"
          ],
          "name": "stderr"
        },
        {
          "output_type": "stream",
          "text": [
            "Loss after 20800 steps: 1.7941236365004443e-05\n"
          ],
          "name": "stdout"
        },
        {
          "output_type": "stream",
          "text": [
            "Training:  11%|█         | 728/6725 [00:40<05:32, 18.05it/s]"
          ],
          "name": "stderr"
        },
        {
          "output_type": "stream",
          "text": [
            "Loss after 20900 steps: 0.003712834557518363\n"
          ],
          "name": "stdout"
        },
        {
          "output_type": "stream",
          "text": [
            "Training:  12%|█▏        | 828/6725 [00:45<05:26, 18.04it/s]"
          ],
          "name": "stderr"
        },
        {
          "output_type": "stream",
          "text": [
            "Loss after 21000 steps: 2.725143167481292e-05\n"
          ],
          "name": "stdout"
        },
        {
          "output_type": "stream",
          "text": [
            "Training:  14%|█▍        | 928/6725 [00:51<05:26, 17.76it/s]"
          ],
          "name": "stderr"
        },
        {
          "output_type": "stream",
          "text": [
            "Loss after 21100 steps: 0.0009655304020270705\n"
          ],
          "name": "stdout"
        },
        {
          "output_type": "stream",
          "text": [
            "Training:  15%|█▌        | 1028/6725 [00:56<05:13, 18.19it/s]"
          ],
          "name": "stderr"
        },
        {
          "output_type": "stream",
          "text": [
            "Loss after 21200 steps: 0.008604150265455246\n"
          ],
          "name": "stdout"
        },
        {
          "output_type": "stream",
          "text": [
            "Training:  17%|█▋        | 1128/6725 [01:02<05:08, 18.15it/s]"
          ],
          "name": "stderr"
        },
        {
          "output_type": "stream",
          "text": [
            "Loss after 21300 steps: 0.00010359584121033549\n"
          ],
          "name": "stdout"
        },
        {
          "output_type": "stream",
          "text": [
            "Training:  18%|█▊        | 1228/6725 [01:07<05:05, 17.97it/s]"
          ],
          "name": "stderr"
        },
        {
          "output_type": "stream",
          "text": [
            "Loss after 21400 steps: 0.005086591467261314\n"
          ],
          "name": "stdout"
        },
        {
          "output_type": "stream",
          "text": [
            "Training:  20%|█▉        | 1328/6725 [01:13<05:00, 17.95it/s]"
          ],
          "name": "stderr"
        },
        {
          "output_type": "stream",
          "text": [
            "Loss after 21500 steps: 0.0019916866440325975\n"
          ],
          "name": "stdout"
        },
        {
          "output_type": "stream",
          "text": [
            "Training:  21%|██        | 1428/6725 [01:19<04:55, 17.90it/s]"
          ],
          "name": "stderr"
        },
        {
          "output_type": "stream",
          "text": [
            "Loss after 21600 steps: 9.867839253274724e-06\n"
          ],
          "name": "stdout"
        },
        {
          "output_type": "stream",
          "text": [
            "Training:  23%|██▎       | 1528/6725 [01:24<04:47, 18.08it/s]"
          ],
          "name": "stderr"
        },
        {
          "output_type": "stream",
          "text": [
            "Loss after 21700 steps: 0.0016314220847561955\n"
          ],
          "name": "stdout"
        },
        {
          "output_type": "stream",
          "text": [
            "Training:  24%|██▍       | 1628/6725 [01:30<04:41, 18.10it/s]"
          ],
          "name": "stderr"
        },
        {
          "output_type": "stream",
          "text": [
            "Loss after 21800 steps: 0.00015437720867339522\n"
          ],
          "name": "stdout"
        },
        {
          "output_type": "stream",
          "text": [
            "Training:  26%|██▌       | 1728/6725 [01:35<04:35, 18.14it/s]"
          ],
          "name": "stderr"
        },
        {
          "output_type": "stream",
          "text": [
            "Loss after 21900 steps: 7.474679296137765e-05\n"
          ],
          "name": "stdout"
        },
        {
          "output_type": "stream",
          "text": [
            "Training:  27%|██▋       | 1828/6725 [01:41<04:36, 17.68it/s]"
          ],
          "name": "stderr"
        },
        {
          "output_type": "stream",
          "text": [
            "Loss after 22000 steps: 0.000276264880085364\n"
          ],
          "name": "stdout"
        },
        {
          "output_type": "stream",
          "text": [
            "Training:  29%|██▊       | 1928/6725 [01:46<04:23, 18.21it/s]"
          ],
          "name": "stderr"
        },
        {
          "output_type": "stream",
          "text": [
            "Loss after 22100 steps: 0.014775505289435387\n"
          ],
          "name": "stdout"
        },
        {
          "output_type": "stream",
          "text": [
            "Training:  30%|███       | 2028/6725 [01:52<04:19, 18.10it/s]"
          ],
          "name": "stderr"
        },
        {
          "output_type": "stream",
          "text": [
            "Loss after 22200 steps: 0.0005146766197867692\n"
          ],
          "name": "stdout"
        },
        {
          "output_type": "stream",
          "text": [
            "Training:  32%|███▏      | 2128/6725 [01:57<04:15, 18.02it/s]"
          ],
          "name": "stderr"
        },
        {
          "output_type": "stream",
          "text": [
            "Loss after 22300 steps: 0.00021758196817245334\n"
          ],
          "name": "stdout"
        },
        {
          "output_type": "stream",
          "text": [
            "Training:  33%|███▎      | 2228/6725 [02:03<04:09, 18.04it/s]"
          ],
          "name": "stderr"
        },
        {
          "output_type": "stream",
          "text": [
            "Loss after 22400 steps: 2.574865720816888e-05\n"
          ],
          "name": "stdout"
        },
        {
          "output_type": "stream",
          "text": [
            "Training:  35%|███▍      | 2328/6725 [02:08<04:03, 18.05it/s]"
          ],
          "name": "stderr"
        },
        {
          "output_type": "stream",
          "text": [
            "Loss after 22500 steps: 1.5330502719734795e-05\n"
          ],
          "name": "stdout"
        },
        {
          "output_type": "stream",
          "text": [
            "Training:  36%|███▌      | 2428/6725 [02:14<03:59, 17.97it/s]"
          ],
          "name": "stderr"
        },
        {
          "output_type": "stream",
          "text": [
            "Loss after 22600 steps: 0.02132965624332428\n"
          ],
          "name": "stdout"
        },
        {
          "output_type": "stream",
          "text": [
            "Training:  38%|███▊      | 2528/6725 [02:20<03:52, 18.03it/s]"
          ],
          "name": "stderr"
        },
        {
          "output_type": "stream",
          "text": [
            "Loss after 22700 steps: 0.0006463673198595643\n"
          ],
          "name": "stdout"
        },
        {
          "output_type": "stream",
          "text": [
            "Training:  39%|███▉      | 2628/6725 [02:25<03:49, 17.83it/s]"
          ],
          "name": "stderr"
        },
        {
          "output_type": "stream",
          "text": [
            "Loss after 22800 steps: 0.024432925507426262\n"
          ],
          "name": "stdout"
        },
        {
          "output_type": "stream",
          "text": [
            "Training:  41%|████      | 2728/6725 [02:31<03:42, 18.00it/s]"
          ],
          "name": "stderr"
        },
        {
          "output_type": "stream",
          "text": [
            "Loss after 22900 steps: 0.00010902304347837344\n"
          ],
          "name": "stdout"
        },
        {
          "output_type": "stream",
          "text": [
            "Training:  42%|████▏     | 2828/6725 [02:36<03:35, 18.08it/s]"
          ],
          "name": "stderr"
        },
        {
          "output_type": "stream",
          "text": [
            "Loss after 23000 steps: 0.0006400627898983657\n"
          ],
          "name": "stdout"
        },
        {
          "output_type": "stream",
          "text": [
            "Training:  44%|████▎     | 2928/6725 [02:42<03:31, 17.92it/s]"
          ],
          "name": "stderr"
        },
        {
          "output_type": "stream",
          "text": [
            "Loss after 23100 steps: 0.00010073214070871472\n"
          ],
          "name": "stdout"
        },
        {
          "output_type": "stream",
          "text": [
            "Training:  45%|████▌     | 3028/6725 [02:47<03:25, 17.97it/s]"
          ],
          "name": "stderr"
        },
        {
          "output_type": "stream",
          "text": [
            "Loss after 23200 steps: 0.0007803044863976538\n"
          ],
          "name": "stdout"
        },
        {
          "output_type": "stream",
          "text": [
            "Training:  47%|████▋     | 3128/6725 [02:53<03:19, 18.04it/s]"
          ],
          "name": "stderr"
        },
        {
          "output_type": "stream",
          "text": [
            "Loss after 23300 steps: 0.0016298940172418952\n"
          ],
          "name": "stdout"
        },
        {
          "output_type": "stream",
          "text": [
            "Training:  48%|████▊     | 3228/6725 [02:58<03:13, 18.11it/s]"
          ],
          "name": "stderr"
        },
        {
          "output_type": "stream",
          "text": [
            "Loss after 23400 steps: 0.0003158201288897544\n"
          ],
          "name": "stdout"
        },
        {
          "output_type": "stream",
          "text": [
            "Training:  49%|████▉     | 3328/6725 [03:04<03:08, 17.98it/s]"
          ],
          "name": "stderr"
        },
        {
          "output_type": "stream",
          "text": [
            "Loss after 23500 steps: 0.009537599049508572\n"
          ],
          "name": "stdout"
        },
        {
          "output_type": "stream",
          "text": [
            "Training:  51%|█████     | 3428/6725 [03:10<03:03, 18.01it/s]"
          ],
          "name": "stderr"
        },
        {
          "output_type": "stream",
          "text": [
            "Loss after 23600 steps: 0.010553448460996151\n"
          ],
          "name": "stdout"
        },
        {
          "output_type": "stream",
          "text": [
            "Training:  52%|█████▏    | 3528/6725 [03:15<02:57, 18.05it/s]"
          ],
          "name": "stderr"
        },
        {
          "output_type": "stream",
          "text": [
            "Loss after 23700 steps: 0.048583779484033585\n"
          ],
          "name": "stdout"
        },
        {
          "output_type": "stream",
          "text": [
            "Training:  54%|█████▍    | 3628/6725 [03:21<02:52, 17.94it/s]"
          ],
          "name": "stderr"
        },
        {
          "output_type": "stream",
          "text": [
            "Loss after 23800 steps: 2.2655171051155776e-05\n"
          ],
          "name": "stdout"
        },
        {
          "output_type": "stream",
          "text": [
            "Training:  55%|█████▌    | 3728/6725 [03:26<02:47, 17.90it/s]"
          ],
          "name": "stderr"
        },
        {
          "output_type": "stream",
          "text": [
            "Loss after 23900 steps: 0.0004471449938137084\n"
          ],
          "name": "stdout"
        },
        {
          "output_type": "stream",
          "text": [
            "Training:  57%|█████▋    | 3828/6725 [03:32<02:42, 17.85it/s]"
          ],
          "name": "stderr"
        },
        {
          "output_type": "stream",
          "text": [
            "Loss after 24000 steps: 0.00040594383608549833\n"
          ],
          "name": "stdout"
        },
        {
          "output_type": "stream",
          "text": [
            "Training:  58%|█████▊    | 3928/6725 [03:37<02:34, 18.08it/s]"
          ],
          "name": "stderr"
        },
        {
          "output_type": "stream",
          "text": [
            "Loss after 24100 steps: 8.792326298134867e-06\n"
          ],
          "name": "stdout"
        },
        {
          "output_type": "stream",
          "text": [
            "Training:  60%|█████▉    | 4028/6725 [03:43<02:31, 17.77it/s]"
          ],
          "name": "stderr"
        },
        {
          "output_type": "stream",
          "text": [
            "Loss after 24200 steps: 0.00029258328140713274\n"
          ],
          "name": "stdout"
        },
        {
          "output_type": "stream",
          "text": [
            "Training:  61%|██████▏   | 4128/6725 [03:48<02:25, 17.86it/s]"
          ],
          "name": "stderr"
        },
        {
          "output_type": "stream",
          "text": [
            "Loss after 24300 steps: 0.005948198959231377\n"
          ],
          "name": "stdout"
        },
        {
          "output_type": "stream",
          "text": [
            "Training:  63%|██████▎   | 4228/6725 [03:54<02:18, 17.98it/s]"
          ],
          "name": "stderr"
        },
        {
          "output_type": "stream",
          "text": [
            "Loss after 24400 steps: 0.0006855163956061006\n"
          ],
          "name": "stdout"
        },
        {
          "output_type": "stream",
          "text": [
            "Training:  64%|██████▍   | 4328/6725 [04:00<02:13, 17.93it/s]"
          ],
          "name": "stderr"
        },
        {
          "output_type": "stream",
          "text": [
            "Loss after 24500 steps: 0.007126507814973593\n"
          ],
          "name": "stdout"
        },
        {
          "output_type": "stream",
          "text": [
            "Training:  66%|██████▌   | 4428/6725 [04:05<02:08, 17.92it/s]"
          ],
          "name": "stderr"
        },
        {
          "output_type": "stream",
          "text": [
            "Loss after 24600 steps: 0.006886851973831654\n"
          ],
          "name": "stdout"
        },
        {
          "output_type": "stream",
          "text": [
            "Training:  67%|██████▋   | 4528/6725 [04:11<02:02, 17.89it/s]"
          ],
          "name": "stderr"
        },
        {
          "output_type": "stream",
          "text": [
            "Loss after 24700 steps: 0.0008202376775443554\n"
          ],
          "name": "stdout"
        },
        {
          "output_type": "stream",
          "text": [
            "Training:  69%|██████▉   | 4628/6725 [04:16<01:57, 17.88it/s]"
          ],
          "name": "stderr"
        },
        {
          "output_type": "stream",
          "text": [
            "Loss after 24800 steps: 0.00044430771959014237\n"
          ],
          "name": "stdout"
        },
        {
          "output_type": "stream",
          "text": [
            "Training:  70%|███████   | 4728/6725 [04:22<01:50, 18.15it/s]"
          ],
          "name": "stderr"
        },
        {
          "output_type": "stream",
          "text": [
            "Loss after 24900 steps: 1.4798066331422888e-05\n"
          ],
          "name": "stdout"
        },
        {
          "output_type": "stream",
          "text": [
            "Training:  72%|███████▏  | 4828/6725 [04:27<01:45, 17.95it/s]"
          ],
          "name": "stderr"
        },
        {
          "output_type": "stream",
          "text": [
            "Loss after 25000 steps: 0.0002440877869958058\n"
          ],
          "name": "stdout"
        },
        {
          "output_type": "stream",
          "text": [
            "Training:  73%|███████▎  | 4928/6725 [04:33<01:39, 18.02it/s]"
          ],
          "name": "stderr"
        },
        {
          "output_type": "stream",
          "text": [
            "Loss after 25100 steps: 0.04159120097756386\n"
          ],
          "name": "stdout"
        },
        {
          "output_type": "stream",
          "text": [
            "Training:  75%|███████▍  | 5028/6725 [04:38<01:35, 17.82it/s]"
          ],
          "name": "stderr"
        },
        {
          "output_type": "stream",
          "text": [
            "Loss after 25200 steps: 0.0015915801050141454\n"
          ],
          "name": "stdout"
        },
        {
          "output_type": "stream",
          "text": [
            "Training:  76%|███████▋  | 5128/6725 [04:44<01:29, 17.90it/s]"
          ],
          "name": "stderr"
        },
        {
          "output_type": "stream",
          "text": [
            "Loss after 25300 steps: 0.0006793015054427087\n"
          ],
          "name": "stdout"
        },
        {
          "output_type": "stream",
          "text": [
            "Training:  78%|███████▊  | 5228/6725 [04:50<01:23, 17.91it/s]"
          ],
          "name": "stderr"
        },
        {
          "output_type": "stream",
          "text": [
            "Loss after 25400 steps: 0.008659008890390396\n"
          ],
          "name": "stdout"
        },
        {
          "output_type": "stream",
          "text": [
            "Training:  79%|███████▉  | 5328/6725 [04:55<01:18, 17.74it/s]"
          ],
          "name": "stderr"
        },
        {
          "output_type": "stream",
          "text": [
            "Loss after 25500 steps: 0.040914662182331085\n"
          ],
          "name": "stdout"
        },
        {
          "output_type": "stream",
          "text": [
            "Training:  81%|████████  | 5428/6725 [05:01<01:12, 17.81it/s]"
          ],
          "name": "stderr"
        },
        {
          "output_type": "stream",
          "text": [
            "Loss after 25600 steps: 3.172418655594811e-05\n"
          ],
          "name": "stdout"
        },
        {
          "output_type": "stream",
          "text": [
            "Training:  82%|████████▏ | 5528/6725 [05:06<01:07, 17.70it/s]"
          ],
          "name": "stderr"
        },
        {
          "output_type": "stream",
          "text": [
            "Loss after 25700 steps: 0.056121524423360825\n"
          ],
          "name": "stdout"
        },
        {
          "output_type": "stream",
          "text": [
            "Training:  84%|████████▎ | 5628/6725 [05:12<01:01, 17.88it/s]"
          ],
          "name": "stderr"
        },
        {
          "output_type": "stream",
          "text": [
            "Loss after 25800 steps: 0.002990339184179902\n"
          ],
          "name": "stdout"
        },
        {
          "output_type": "stream",
          "text": [
            "Training:  85%|████████▌ | 5728/6725 [05:17<00:55, 17.90it/s]"
          ],
          "name": "stderr"
        },
        {
          "output_type": "stream",
          "text": [
            "Loss after 25900 steps: 0.0168433990329504\n"
          ],
          "name": "stdout"
        },
        {
          "output_type": "stream",
          "text": [
            "Training:  87%|████████▋ | 5828/6725 [05:23<00:49, 18.04it/s]"
          ],
          "name": "stderr"
        },
        {
          "output_type": "stream",
          "text": [
            "Loss after 26000 steps: 0.001332332962192595\n"
          ],
          "name": "stdout"
        },
        {
          "output_type": "stream",
          "text": [
            "Training:  88%|████████▊ | 5928/6725 [05:29<00:44, 18.02it/s]"
          ],
          "name": "stderr"
        },
        {
          "output_type": "stream",
          "text": [
            "Loss after 26100 steps: 0.004766783211380243\n"
          ],
          "name": "stdout"
        },
        {
          "output_type": "stream",
          "text": [
            "Training:  90%|████████▉ | 6028/6725 [05:34<00:38, 18.05it/s]"
          ],
          "name": "stderr"
        },
        {
          "output_type": "stream",
          "text": [
            "Loss after 26200 steps: 9.232523007085547e-05\n"
          ],
          "name": "stdout"
        },
        {
          "output_type": "stream",
          "text": [
            "Training:  91%|█████████ | 6128/6725 [05:40<00:33, 18.00it/s]"
          ],
          "name": "stderr"
        },
        {
          "output_type": "stream",
          "text": [
            "Loss after 26300 steps: 0.00012366686132736504\n"
          ],
          "name": "stdout"
        },
        {
          "output_type": "stream",
          "text": [
            "Training:  93%|█████████▎| 6228/6725 [05:45<00:27, 18.02it/s]"
          ],
          "name": "stderr"
        },
        {
          "output_type": "stream",
          "text": [
            "Loss after 26400 steps: 0.014354747720062733\n"
          ],
          "name": "stdout"
        },
        {
          "output_type": "stream",
          "text": [
            "Training:  94%|█████████▍| 6328/6725 [05:51<00:22, 17.91it/s]"
          ],
          "name": "stderr"
        },
        {
          "output_type": "stream",
          "text": [
            "Loss after 26500 steps: 0.0004813040723092854\n"
          ],
          "name": "stdout"
        },
        {
          "output_type": "stream",
          "text": [
            "Training:  96%|█████████▌| 6428/6725 [05:56<00:16, 17.89it/s]"
          ],
          "name": "stderr"
        },
        {
          "output_type": "stream",
          "text": [
            "Loss after 26600 steps: 0.0013457778841257095\n"
          ],
          "name": "stdout"
        },
        {
          "output_type": "stream",
          "text": [
            "Training:  97%|█████████▋| 6528/6725 [06:02<00:11, 17.86it/s]"
          ],
          "name": "stderr"
        },
        {
          "output_type": "stream",
          "text": [
            "Loss after 26700 steps: 0.020365534350275993\n"
          ],
          "name": "stdout"
        },
        {
          "output_type": "stream",
          "text": [
            "Training:  99%|█████████▊| 6628/6725 [06:08<00:05, 18.07it/s]"
          ],
          "name": "stderr"
        },
        {
          "output_type": "stream",
          "text": [
            "Loss after 26800 steps: 0.004831383470445871\n"
          ],
          "name": "stdout"
        },
        {
          "output_type": "stream",
          "text": [
            "Training: 100%|██████████| 6725/6725 [06:13<00:00, 18.01it/s]\n",
            "Training:   0%|          | 4/6725 [00:00<06:04, 18.46it/s]"
          ],
          "name": "stderr"
        },
        {
          "output_type": "stream",
          "text": [
            "Loss after 26900 steps: 0.007585187908262014\n"
          ],
          "name": "stdout"
        },
        {
          "output_type": "stream",
          "text": [
            "Training:   2%|▏         | 104/6725 [00:05<06:11, 17.80it/s]"
          ],
          "name": "stderr"
        },
        {
          "output_type": "stream",
          "text": [
            "Loss after 27000 steps: 0.0016951976576820016\n"
          ],
          "name": "stdout"
        },
        {
          "output_type": "stream",
          "text": [
            "Training:   3%|▎         | 204/6725 [00:11<06:03, 17.94it/s]"
          ],
          "name": "stderr"
        },
        {
          "output_type": "stream",
          "text": [
            "Loss after 27100 steps: 0.0013147034915164113\n"
          ],
          "name": "stdout"
        },
        {
          "output_type": "stream",
          "text": [
            "Training:   5%|▍         | 304/6725 [00:16<05:56, 18.02it/s]"
          ],
          "name": "stderr"
        },
        {
          "output_type": "stream",
          "text": [
            "Loss after 27200 steps: 0.0021093450486660004\n"
          ],
          "name": "stdout"
        },
        {
          "output_type": "stream",
          "text": [
            "Training:   6%|▌         | 402/6725 [00:22<05:52, 17.95it/s]"
          ],
          "name": "stderr"
        },
        {
          "output_type": "stream",
          "text": [
            "Loss after 27300 steps: 0.06417319923639297\n"
          ],
          "name": "stdout"
        },
        {
          "output_type": "stream",
          "text": [
            "Training:   7%|▋         | 504/6725 [00:28<05:46, 17.95it/s]"
          ],
          "name": "stderr"
        },
        {
          "output_type": "stream",
          "text": [
            "Loss after 27400 steps: 6.160955672385171e-05\n"
          ],
          "name": "stdout"
        },
        {
          "output_type": "stream",
          "text": [
            "Training:   9%|▉         | 602/6725 [00:33<05:40, 17.97it/s]"
          ],
          "name": "stderr"
        },
        {
          "output_type": "stream",
          "text": [
            "Loss after 27500 steps: 0.00013264871085993946\n"
          ],
          "name": "stdout"
        },
        {
          "output_type": "stream",
          "text": [
            "Training:  10%|█         | 704/6725 [00:39<05:33, 18.04it/s]"
          ],
          "name": "stderr"
        },
        {
          "output_type": "stream",
          "text": [
            "Loss after 27600 steps: 0.0017632723320275545\n"
          ],
          "name": "stdout"
        },
        {
          "output_type": "stream",
          "text": [
            "Training:  12%|█▏        | 804/6725 [00:44<05:27, 18.06it/s]"
          ],
          "name": "stderr"
        },
        {
          "output_type": "stream",
          "text": [
            "Loss after 27700 steps: 1.9186558347428218e-05\n"
          ],
          "name": "stdout"
        },
        {
          "output_type": "stream",
          "text": [
            "Training:  13%|█▎        | 904/6725 [00:50<05:23, 18.01it/s]"
          ],
          "name": "stderr"
        },
        {
          "output_type": "stream",
          "text": [
            "Loss after 27800 steps: 5.5113810958573595e-05\n"
          ],
          "name": "stdout"
        },
        {
          "output_type": "stream",
          "text": [
            "Training:  15%|█▍        | 1004/6725 [00:55<05:19, 17.92it/s]"
          ],
          "name": "stderr"
        },
        {
          "output_type": "stream",
          "text": [
            "Loss after 27900 steps: 0.0008505030418746173\n"
          ],
          "name": "stdout"
        },
        {
          "output_type": "stream",
          "text": [
            "Training:  16%|█▋        | 1104/6725 [01:01<05:10, 18.10it/s]"
          ],
          "name": "stderr"
        },
        {
          "output_type": "stream",
          "text": [
            "Loss after 28000 steps: 0.006259190384298563\n"
          ],
          "name": "stdout"
        },
        {
          "output_type": "stream",
          "text": [
            "Training:  18%|█▊        | 1204/6725 [01:07<05:06, 18.00it/s]"
          ],
          "name": "stderr"
        },
        {
          "output_type": "stream",
          "text": [
            "Loss after 28100 steps: 0.00056636449880898\n"
          ],
          "name": "stdout"
        },
        {
          "output_type": "stream",
          "text": [
            "Training:  19%|█▉        | 1302/6725 [01:12<05:03, 17.89it/s]"
          ],
          "name": "stderr"
        },
        {
          "output_type": "stream",
          "text": [
            "Loss after 28200 steps: 2.6863019229494967e-05\n"
          ],
          "name": "stdout"
        },
        {
          "output_type": "stream",
          "text": [
            "Training:  21%|██        | 1404/6725 [01:18<04:56, 17.97it/s]"
          ],
          "name": "stderr"
        },
        {
          "output_type": "stream",
          "text": [
            "Loss after 28300 steps: 0.0002672978152986616\n"
          ],
          "name": "stdout"
        },
        {
          "output_type": "stream",
          "text": [
            "Training:  22%|██▏       | 1504/6725 [01:23<04:50, 17.97it/s]"
          ],
          "name": "stderr"
        },
        {
          "output_type": "stream",
          "text": [
            "Loss after 28400 steps: 0.003793819108977914\n"
          ],
          "name": "stdout"
        },
        {
          "output_type": "stream",
          "text": [
            "Training:  24%|██▍       | 1604/6725 [01:29<04:45, 17.94it/s]"
          ],
          "name": "stderr"
        },
        {
          "output_type": "stream",
          "text": [
            "Loss after 28500 steps: 0.005432515405118465\n"
          ],
          "name": "stdout"
        },
        {
          "output_type": "stream",
          "text": [
            "Training:  25%|██▌       | 1704/6725 [01:34<04:40, 17.91it/s]"
          ],
          "name": "stderr"
        },
        {
          "output_type": "stream",
          "text": [
            "Loss after 28600 steps: 4.707097104983404e-05\n"
          ],
          "name": "stdout"
        },
        {
          "output_type": "stream",
          "text": [
            "Training:  27%|██▋       | 1804/6725 [01:40<04:34, 17.96it/s]"
          ],
          "name": "stderr"
        },
        {
          "output_type": "stream",
          "text": [
            "Loss after 28700 steps: 1.3764104551228229e-05\n"
          ],
          "name": "stdout"
        },
        {
          "output_type": "stream",
          "text": [
            "Training:  28%|██▊       | 1904/6725 [01:46<04:28, 17.93it/s]"
          ],
          "name": "stderr"
        },
        {
          "output_type": "stream",
          "text": [
            "Loss after 28800 steps: 0.009047919884324074\n"
          ],
          "name": "stdout"
        },
        {
          "output_type": "stream",
          "text": [
            "Training:  30%|██▉       | 2004/6725 [01:51<04:24, 17.87it/s]"
          ],
          "name": "stderr"
        },
        {
          "output_type": "stream",
          "text": [
            "Loss after 28900 steps: 0.0003454331017564982\n"
          ],
          "name": "stdout"
        },
        {
          "output_type": "stream",
          "text": [
            "Training:  31%|███▏      | 2102/6725 [01:57<04:17, 17.93it/s]"
          ],
          "name": "stderr"
        },
        {
          "output_type": "stream",
          "text": [
            "Loss after 29000 steps: 0.00024812796618789434\n"
          ],
          "name": "stdout"
        },
        {
          "output_type": "stream",
          "text": [
            "Training:  33%|███▎      | 2204/6725 [02:02<04:11, 17.96it/s]"
          ],
          "name": "stderr"
        },
        {
          "output_type": "stream",
          "text": [
            "Loss after 29100 steps: 0.0010868479730561376\n"
          ],
          "name": "stdout"
        },
        {
          "output_type": "stream",
          "text": [
            "Training:  34%|███▍      | 2302/6725 [02:08<04:05, 17.98it/s]"
          ],
          "name": "stderr"
        },
        {
          "output_type": "stream",
          "text": [
            "Loss after 29200 steps: 0.0027644424699246883\n"
          ],
          "name": "stdout"
        },
        {
          "output_type": "stream",
          "text": [
            "Training:  36%|███▌      | 2404/6725 [02:13<03:59, 18.02it/s]"
          ],
          "name": "stderr"
        },
        {
          "output_type": "stream",
          "text": [
            "Loss after 29300 steps: 9.634060552343726e-05\n"
          ],
          "name": "stdout"
        },
        {
          "output_type": "stream",
          "text": [
            "Training:  37%|███▋      | 2502/6725 [02:19<03:54, 18.04it/s]"
          ],
          "name": "stderr"
        },
        {
          "output_type": "stream",
          "text": [
            "Loss after 29400 steps: 1.0470839697518386e-05\n"
          ],
          "name": "stdout"
        },
        {
          "output_type": "stream",
          "text": [
            "Training:  39%|███▊      | 2602/6725 [02:24<03:50, 17.90it/s]"
          ],
          "name": "stderr"
        },
        {
          "output_type": "stream",
          "text": [
            "Loss after 29500 steps: 0.0004458219918888062\n"
          ],
          "name": "stdout"
        },
        {
          "output_type": "stream",
          "text": [
            "Training:  40%|████      | 2704/6725 [02:30<03:43, 17.97it/s]"
          ],
          "name": "stderr"
        },
        {
          "output_type": "stream",
          "text": [
            "Loss after 29600 steps: 0.00022665523283649236\n"
          ],
          "name": "stdout"
        },
        {
          "output_type": "stream",
          "text": [
            "Training:  42%|████▏     | 2804/6725 [02:36<03:36, 18.11it/s]"
          ],
          "name": "stderr"
        },
        {
          "output_type": "stream",
          "text": [
            "Loss after 29700 steps: 1.3246735761640593e-05\n"
          ],
          "name": "stdout"
        },
        {
          "output_type": "stream",
          "text": [
            "Training:  43%|████▎     | 2902/6725 [02:41<03:31, 18.04it/s]"
          ],
          "name": "stderr"
        },
        {
          "output_type": "stream",
          "text": [
            "Loss after 29800 steps: 1.6225414583459496e-05\n"
          ],
          "name": "stdout"
        },
        {
          "output_type": "stream",
          "text": [
            "Training:  45%|████▍     | 3004/6725 [02:47<03:26, 18.01it/s]"
          ],
          "name": "stderr"
        },
        {
          "output_type": "stream",
          "text": [
            "Loss after 29900 steps: 0.0004096348420716822\n"
          ],
          "name": "stdout"
        },
        {
          "output_type": "stream",
          "text": [
            "Training:  46%|████▌     | 3102/6725 [02:52<03:24, 17.70it/s]"
          ],
          "name": "stderr"
        },
        {
          "output_type": "stream",
          "text": [
            "Loss after 30000 steps: 9.912373570841737e-06\n"
          ],
          "name": "stdout"
        },
        {
          "output_type": "stream",
          "text": [
            "Training:  48%|████▊     | 3204/6725 [02:58<03:16, 17.92it/s]"
          ],
          "name": "stderr"
        },
        {
          "output_type": "stream",
          "text": [
            "Loss after 30100 steps: 0.000516402127686888\n"
          ],
          "name": "stdout"
        },
        {
          "output_type": "stream",
          "text": [
            "Training:  49%|████▉     | 3304/6725 [03:04<03:10, 17.99it/s]"
          ],
          "name": "stderr"
        },
        {
          "output_type": "stream",
          "text": [
            "Loss after 30200 steps: 3.7413748941617087e-05\n"
          ],
          "name": "stdout"
        },
        {
          "output_type": "stream",
          "text": [
            "Training:  51%|█████     | 3404/6725 [03:09<03:05, 17.92it/s]"
          ],
          "name": "stderr"
        },
        {
          "output_type": "stream",
          "text": [
            "Loss after 30300 steps: 0.000240809575188905\n"
          ],
          "name": "stdout"
        },
        {
          "output_type": "stream",
          "text": [
            "Training:  52%|█████▏    | 3504/6725 [03:15<02:59, 17.96it/s]"
          ],
          "name": "stderr"
        },
        {
          "output_type": "stream",
          "text": [
            "Loss after 30400 steps: 7.318985444726422e-05\n"
          ],
          "name": "stdout"
        },
        {
          "output_type": "stream",
          "text": [
            "Training:  54%|█████▎    | 3604/6725 [03:20<02:55, 17.74it/s]"
          ],
          "name": "stderr"
        },
        {
          "output_type": "stream",
          "text": [
            "Loss after 30500 steps: 0.004099059384316206\n"
          ],
          "name": "stdout"
        },
        {
          "output_type": "stream",
          "text": [
            "Training:  55%|█████▌    | 3702/6725 [03:26<02:50, 17.77it/s]"
          ],
          "name": "stderr"
        },
        {
          "output_type": "stream",
          "text": [
            "Loss after 30600 steps: 8.983346197055653e-05\n"
          ],
          "name": "stdout"
        },
        {
          "output_type": "stream",
          "text": [
            "Training:  57%|█████▋    | 3804/6725 [03:32<02:42, 18.02it/s]"
          ],
          "name": "stderr"
        },
        {
          "output_type": "stream",
          "text": [
            "Loss after 30700 steps: 0.004127446562051773\n"
          ],
          "name": "stdout"
        },
        {
          "output_type": "stream",
          "text": [
            "Training:  58%|█████▊    | 3904/6725 [03:37<02:37, 17.89it/s]"
          ],
          "name": "stderr"
        },
        {
          "output_type": "stream",
          "text": [
            "Loss after 30800 steps: 0.003726177616044879\n"
          ],
          "name": "stdout"
        },
        {
          "output_type": "stream",
          "text": [
            "Training:  60%|█████▉    | 4004/6725 [03:43<02:31, 17.99it/s]"
          ],
          "name": "stderr"
        },
        {
          "output_type": "stream",
          "text": [
            "Loss after 30900 steps: 0.00010945891699520871\n"
          ],
          "name": "stdout"
        },
        {
          "output_type": "stream",
          "text": [
            "Training:  61%|██████    | 4104/6725 [03:48<02:25, 17.96it/s]"
          ],
          "name": "stderr"
        },
        {
          "output_type": "stream",
          "text": [
            "Loss after 31000 steps: 0.0001470826391596347\n"
          ],
          "name": "stdout"
        },
        {
          "output_type": "stream",
          "text": [
            "Training:  63%|██████▎   | 4204/6725 [03:54<02:20, 17.90it/s]"
          ],
          "name": "stderr"
        },
        {
          "output_type": "stream",
          "text": [
            "Loss after 31100 steps: 0.0001215436786878854\n"
          ],
          "name": "stdout"
        },
        {
          "output_type": "stream",
          "text": [
            "Training:  64%|██████▍   | 4304/6725 [03:59<02:15, 17.85it/s]"
          ],
          "name": "stderr"
        },
        {
          "output_type": "stream",
          "text": [
            "Loss after 31200 steps: 0.00013858627062290907\n"
          ],
          "name": "stdout"
        },
        {
          "output_type": "stream",
          "text": [
            "Training:  65%|██████▌   | 4404/6725 [04:05<02:10, 17.79it/s]"
          ],
          "name": "stderr"
        },
        {
          "output_type": "stream",
          "text": [
            "Loss after 31300 steps: 0.014274387620389462\n"
          ],
          "name": "stdout"
        },
        {
          "output_type": "stream",
          "text": [
            "Training:  67%|██████▋   | 4502/6725 [04:11<02:05, 17.77it/s]"
          ],
          "name": "stderr"
        },
        {
          "output_type": "stream",
          "text": [
            "Loss after 31400 steps: 0.017637217417359352\n"
          ],
          "name": "stdout"
        },
        {
          "output_type": "stream",
          "text": [
            "Training:  68%|██████▊   | 4604/6725 [04:16<01:57, 17.98it/s]"
          ],
          "name": "stderr"
        },
        {
          "output_type": "stream",
          "text": [
            "Loss after 31500 steps: 1.4536432900058571e-05\n"
          ],
          "name": "stdout"
        },
        {
          "output_type": "stream",
          "text": [
            "Training:  70%|██████▉   | 4704/6725 [04:22<01:53, 17.84it/s]"
          ],
          "name": "stderr"
        },
        {
          "output_type": "stream",
          "text": [
            "Loss after 31600 steps: 0.03391076251864433\n"
          ],
          "name": "stdout"
        },
        {
          "output_type": "stream",
          "text": [
            "Training:  71%|███████▏  | 4804/6725 [04:27<01:46, 17.99it/s]"
          ],
          "name": "stderr"
        },
        {
          "output_type": "stream",
          "text": [
            "Loss after 31700 steps: 0.0009416056564077735\n"
          ],
          "name": "stdout"
        },
        {
          "output_type": "stream",
          "text": [
            "Training:  73%|███████▎  | 4904/6725 [04:33<01:41, 17.88it/s]"
          ],
          "name": "stderr"
        },
        {
          "output_type": "stream",
          "text": [
            "Loss after 31800 steps: 0.0001812747650546953\n"
          ],
          "name": "stdout"
        },
        {
          "output_type": "stream",
          "text": [
            "Training:  74%|███████▍  | 5004/6725 [04:39<01:36, 17.83it/s]"
          ],
          "name": "stderr"
        },
        {
          "output_type": "stream",
          "text": [
            "Loss after 31900 steps: 1.5683648598496802e-05\n"
          ],
          "name": "stdout"
        },
        {
          "output_type": "stream",
          "text": [
            "Training:  76%|███████▌  | 5104/6725 [04:44<01:30, 17.93it/s]"
          ],
          "name": "stderr"
        },
        {
          "output_type": "stream",
          "text": [
            "Loss after 32000 steps: 0.05142488703131676\n"
          ],
          "name": "stdout"
        },
        {
          "output_type": "stream",
          "text": [
            "Training:  77%|███████▋  | 5204/6725 [04:50<01:24, 17.92it/s]"
          ],
          "name": "stderr"
        },
        {
          "output_type": "stream",
          "text": [
            "Loss after 32100 steps: 0.000898897007573396\n"
          ],
          "name": "stdout"
        },
        {
          "output_type": "stream",
          "text": [
            "Training:  79%|███████▉  | 5304/6725 [04:55<01:19, 17.87it/s]"
          ],
          "name": "stderr"
        },
        {
          "output_type": "stream",
          "text": [
            "Loss after 32200 steps: 0.0005667443037964404\n"
          ],
          "name": "stdout"
        },
        {
          "output_type": "stream",
          "text": [
            "Training:  80%|████████  | 5404/6725 [05:01<01:13, 18.04it/s]"
          ],
          "name": "stderr"
        },
        {
          "output_type": "stream",
          "text": [
            "Loss after 32300 steps: 4.03728372475598e-05\n"
          ],
          "name": "stdout"
        },
        {
          "output_type": "stream",
          "text": [
            "Training:  82%|████████▏ | 5504/6725 [05:07<01:08, 17.95it/s]"
          ],
          "name": "stderr"
        },
        {
          "output_type": "stream",
          "text": [
            "Loss after 32400 steps: 5.617627175524831e-05\n"
          ],
          "name": "stdout"
        },
        {
          "output_type": "stream",
          "text": [
            "Training:  83%|████████▎ | 5604/6725 [05:12<01:02, 17.92it/s]"
          ],
          "name": "stderr"
        },
        {
          "output_type": "stream",
          "text": [
            "Loss after 32500 steps: 0.001176602323539555\n"
          ],
          "name": "stdout"
        },
        {
          "output_type": "stream",
          "text": [
            "Training:  85%|████████▍ | 5704/6725 [05:18<00:56, 17.91it/s]"
          ],
          "name": "stderr"
        },
        {
          "output_type": "stream",
          "text": [
            "Loss after 32600 steps: 0.012118673883378506\n"
          ],
          "name": "stdout"
        },
        {
          "output_type": "stream",
          "text": [
            "Training:  86%|████████▋ | 5804/6725 [05:23<00:51, 17.87it/s]"
          ],
          "name": "stderr"
        },
        {
          "output_type": "stream",
          "text": [
            "Loss after 32700 steps: 4.262957736500539e-05\n"
          ],
          "name": "stdout"
        },
        {
          "output_type": "stream",
          "text": [
            "Training:  88%|████████▊ | 5904/6725 [05:29<00:45, 17.86it/s]"
          ],
          "name": "stderr"
        },
        {
          "output_type": "stream",
          "text": [
            "Loss after 32800 steps: 7.591421763208928e-06\n"
          ],
          "name": "stdout"
        },
        {
          "output_type": "stream",
          "text": [
            "Training:  89%|████████▉ | 6004/6725 [05:34<00:40, 17.78it/s]"
          ],
          "name": "stderr"
        },
        {
          "output_type": "stream",
          "text": [
            "Loss after 32900 steps: 0.0003915780398529023\n"
          ],
          "name": "stdout"
        },
        {
          "output_type": "stream",
          "text": [
            "Training:  91%|█████████ | 6104/6725 [05:40<00:34, 17.87it/s]"
          ],
          "name": "stderr"
        },
        {
          "output_type": "stream",
          "text": [
            "Loss after 33000 steps: 5.6177002988988534e-05\n"
          ],
          "name": "stdout"
        },
        {
          "output_type": "stream",
          "text": [
            "Training:  92%|█████████▏| 6202/6725 [05:45<00:29, 17.94it/s]"
          ],
          "name": "stderr"
        },
        {
          "output_type": "stream",
          "text": [
            "Loss after 33100 steps: 0.02193005010485649\n"
          ],
          "name": "stdout"
        },
        {
          "output_type": "stream",
          "text": [
            "Training:  94%|█████████▎| 6304/6725 [05:51<00:23, 17.99it/s]"
          ],
          "name": "stderr"
        },
        {
          "output_type": "stream",
          "text": [
            "Loss after 33200 steps: 0.02481694333255291\n"
          ],
          "name": "stdout"
        },
        {
          "output_type": "stream",
          "text": [
            "Training:  95%|█████████▌| 6404/6725 [05:57<00:18, 17.83it/s]"
          ],
          "name": "stderr"
        },
        {
          "output_type": "stream",
          "text": [
            "Loss after 33300 steps: 0.013806079514324665\n"
          ],
          "name": "stdout"
        },
        {
          "output_type": "stream",
          "text": [
            "Training:  97%|█████████▋| 6504/6725 [06:02<00:12, 17.97it/s]"
          ],
          "name": "stderr"
        },
        {
          "output_type": "stream",
          "text": [
            "Loss after 33400 steps: 0.000421592645579949\n"
          ],
          "name": "stdout"
        },
        {
          "output_type": "stream",
          "text": [
            "Training:  98%|█████████▊| 6604/6725 [06:08<00:06, 17.91it/s]"
          ],
          "name": "stderr"
        },
        {
          "output_type": "stream",
          "text": [
            "Loss after 33500 steps: 0.00023849711578805\n"
          ],
          "name": "stdout"
        },
        {
          "output_type": "stream",
          "text": [
            "Training: 100%|█████████▉| 6704/6725 [06:14<00:01, 18.01it/s]"
          ],
          "name": "stderr"
        },
        {
          "output_type": "stream",
          "text": [
            "Loss after 33600 steps: 0.00045290275011211634\n"
          ],
          "name": "stdout"
        },
        {
          "output_type": "stream",
          "text": [
            "Training: 100%|██████████| 6725/6725 [06:15<00:00, 17.92it/s]\n"
          ],
          "name": "stderr"
        }
      ]
    },
    {
      "cell_type": "markdown",
      "metadata": {
        "id": "xPYoJ1jUQk7w"
      },
      "source": [
        "# Evaluation"
      ]
    },
    {
      "cell_type": "code",
      "metadata": {
        "id": "hfLodbQQWjET",
        "colab": {
          "base_uri": "https://localhost:8080/"
        },
        "outputId": "cbc171b2-c066-433f-d3d7-8168ea116d75"
      },
      "source": [
        "! pip install seqeval"
      ],
      "execution_count": null,
      "outputs": [
        {
          "output_type": "stream",
          "text": [
            "Requirement already satisfied: seqeval in /usr/local/lib/python3.7/dist-packages (1.2.2)\n",
            "Requirement already satisfied: numpy>=1.14.0 in /usr/local/lib/python3.7/dist-packages (from seqeval) (1.19.5)\n",
            "Requirement already satisfied: scikit-learn>=0.21.3 in /usr/local/lib/python3.7/dist-packages (from seqeval) (0.22.2.post1)\n",
            "Requirement already satisfied: joblib>=0.11 in /usr/local/lib/python3.7/dist-packages (from scikit-learn>=0.21.3->seqeval) (1.0.1)\n",
            "Requirement already satisfied: scipy>=0.17.0 in /usr/local/lib/python3.7/dist-packages (from scikit-learn>=0.21.3->seqeval) (1.4.1)\n"
          ],
          "name": "stdout"
        }
      ]
    },
    {
      "cell_type": "code",
      "metadata": {
        "id": "pIx-DgpEVNA0",
        "colab": {
          "base_uri": "https://localhost:8080/"
        },
        "outputId": "1e42cd73-af12-45af-cb45-8e0405e48a29"
      },
      "source": [
        "!gsutil cp gs://capestone-benchmark-data/apm/metadata/002a10c4-8733-4462-9c29-2b059e193683.json apm/val/metadata/eg2.json\n",
        "!gsutil cp gs://capestone-benchmark-data/apm/box/002a10c4-8733-4462-9c29-2b059e193683.csv apm/val/annotations/eg2.csv\n",
        "!gsutil cp gs://capestone-benchmark-data/apm/img/002a10c4-8733-4462-9c29-2b059e193683.png apm/val/images/eg2.png\n",
        "\n",
        "!gsutil cp gs://capestone-benchmark-data/apm/metadata/0008d0c7-9aa1-4d0e-ad0c-fa11456a646c.json apm/val/metadata/eg1.json\n",
        "!gsutil cp gs://capestone-benchmark-data/apm/box/0008d0c7-9aa1-4d0e-ad0c-fa11456a646c.csv apm/val/annotations/eg1.csv\n",
        "!gsutil cp gs://capestone-benchmark-data/apm/img/0008d0c7-9aa1-4d0e-ad0c-fa11456a646c.png apm/val/images/eg1.png"
      ],
      "execution_count": null,
      "outputs": [
        {
          "output_type": "stream",
          "text": [
            "Copying gs://capestone-benchmark-data/apm/metadata/002a10c4-8733-4462-9c29-2b059e193683.json...\n",
            "/ [1 files][  210.0 B/  210.0 B]                                                \n",
            "Operation completed over 1 objects/210.0 B.                                      \n",
            "Copying gs://capestone-benchmark-data/apm/box/002a10c4-8733-4462-9c29-2b059e193683.csv...\n",
            "/ [1 files][ 11.1 KiB/ 11.1 KiB]                                                \n",
            "Operation completed over 1 objects/11.1 KiB.                                     \n",
            "Copying gs://capestone-benchmark-data/apm/img/002a10c4-8733-4462-9c29-2b059e193683.png...\n",
            "/ [1 files][139.5 KiB/139.5 KiB]                                                \n",
            "Operation completed over 1 objects/139.5 KiB.                                    \n",
            "Copying gs://capestone-benchmark-data/apm/metadata/0008d0c7-9aa1-4d0e-ad0c-fa11456a646c.json...\n",
            "/ [1 files][  227.0 B/  227.0 B]                                                \n",
            "Operation completed over 1 objects/227.0 B.                                      \n",
            "Copying gs://capestone-benchmark-data/apm/box/0008d0c7-9aa1-4d0e-ad0c-fa11456a646c.csv...\n",
            "/ [1 files][ 12.1 KiB/ 12.1 KiB]                                                \n",
            "Operation completed over 1 objects/12.1 KiB.                                     \n",
            "Copying gs://capestone-benchmark-data/apm/img/0008d0c7-9aa1-4d0e-ad0c-fa11456a646c.png...\n",
            "/ [1 files][402.3 KiB/402.3 KiB]                                                \n",
            "Operation completed over 1 objects/402.3 KiB.                                    \n"
          ],
          "name": "stdout"
        }
      ]
    },
    {
      "cell_type": "code",
      "metadata": {
        "id": "bvXiBtOZT0p0"
      },
      "source": [
        "# root_directory = \"./apm/val\"\n",
        "# root_directory = \"./apm\"\n",
        "# invoice_dataset = InvoiceDataset(root_directory)\n",
        "# eval_dataloader = DataLoader(invoice_dataset, batch_size=1)\n",
        "\n",
        "# counter = 0\n",
        "# for batch in eval_dataloader:\n",
        "#     print(counter)\n",
        "#     counter += 1\n",
        "#     print(batch[1])\n",
        "    "
      ],
      "execution_count": null,
      "outputs": []
    },
    {
      "cell_type": "code",
      "metadata": {
        "colab": {
          "base_uri": "https://localhost:8080/"
        },
        "id": "x0a-HMaH0rOq",
        "outputId": "93e291e7-5498-4dbe-b8e6-314d586e64e7"
      },
      "source": [
        "from torch.nn import CrossEntropyLoss\n",
        "\n",
        "labels = [\"other\", \"total\"]\n",
        "label_map = {i: label for i, label in enumerate(labels)}\n",
        "pad_token_label_id = CrossEntropyLoss().ignore_index\n",
        "print(labels, label_map, pad_token_label_id)"
      ],
      "execution_count": null,
      "outputs": [
        {
          "output_type": "stream",
          "text": [
            "['other', 'total'] {0: 'other', 1: 'total'} -100\n"
          ],
          "name": "stdout"
        }
      ]
    },
    {
      "cell_type": "code",
      "metadata": {
        "id": "fe4VSx0zSo8_",
        "colab": {
          "base_uri": "https://localhost:8080/"
        },
        "outputId": "a7cce1ca-f45d-44d2-9e11-1a690f3062fe"
      },
      "source": [
        "import numpy as np\n",
        "from seqeval.metrics import (\n",
        "    classification_report,\n",
        "    f1_score,\n",
        "    precision_score,\n",
        "    recall_score,\n",
        ")\n",
        "eval_loss = 0.0\n",
        "nb_eval_steps = 0\n",
        "preds = None\n",
        "out_label_ids = None\n",
        "# put model in evaluation mode\n",
        "model.eval()\n",
        "for batch in tqdm(train_dataloader, desc=\"Evaluating\"):\n",
        "    with torch.no_grad():\n",
        "        input_ids = batch[0].to(device)\n",
        "        token_type_ids = batch[1].to(device)\n",
        "        attention_mask = batch[2].to(device)\n",
        "        token_labels = batch[3].to(device)\n",
        "        bbox = batch[4].to(device)\n",
        "        outputs = model(input_ids = input_ids.squeeze(0), token_type_ids = token_type_ids.squeeze(0), attention_mask = attention_mask.squeeze(0), labels = token_labels.squeeze(0))\n",
        "        # get the loss and logits\n",
        "        tmp_eval_loss = outputs.loss\n",
        "        logits = outputs.logits\n",
        "        eval_loss += tmp_eval_loss.item()\n",
        "        nb_eval_steps += 1\n",
        "        # compute the predictions\n",
        "        if preds is None:\n",
        "            preds = logits.detach().cpu().numpy()\n",
        "            out_label_ids = token_labels.detach().cpu().numpy()\n",
        "        else:\n",
        "            preds = np.append(preds, logits.detach().cpu().numpy(), axis=0)\n",
        "            out_label_ids = np.append(out_label_ids, token_labels.detach().cpu().numpy(), axis=0)\n",
        "# compute average evaluation loss\n",
        "eval_loss = eval_loss / nb_eval_steps\n",
        "print(eval_loss)\n",
        "preds = np.argmax(preds, axis=2)\n",
        "print('\\n',out_label_ids.squeeze(1).shape, '\\n',out_label_ids.squeeze(1))\n",
        "out_label_list = [[] for _ in range(out_label_ids.shape[0])]\n",
        "preds_list = [[] for _ in range(out_label_ids.shape[0])]\n",
        "\n",
        "out_label_ids = out_label_ids.squeeze(1)\n",
        "for i in range(out_label_ids.shape[0]): #for each invoice\n",
        "    for j in range(out_label_ids.shape[1]): #for each point in the invoice\n",
        "        # print(\"Out label ids: \", out_label_ids[i][j])\n",
        "        if (out_label_ids[i][j] != pad_token_label_id):\n",
        "            out_label_list[i].append(label_map[out_label_ids[i][j]])\n",
        "            preds_list[i].append(label_map[preds[i][j]])\n",
        "\n",
        "results = {\n",
        "    \"loss\": eval_loss,\n",
        "    \"precision\": precision_score(out_label_list, preds_list), \n",
        "    \"recall\": recall_score(out_label_list, preds_list),\n",
        "    \"f1\": f1_score(out_label_list, preds_list),\n",
        "}\n",
        "print(results)\n",
        "# print(preds)\n",
        "print(eval_loss)\n",
        "# print(classification_report(out_label_list, preds_list))"
      ],
      "execution_count": null,
      "outputs": [
        {
          "output_type": "stream",
          "text": [
            "Evaluating: 100%|██████████| 6725/6725 [02:37<00:00, 42.62it/s]\n"
          ],
          "name": "stderr"
        },
        {
          "output_type": "stream",
          "text": [
            "0.003708934170694172\n",
            "\n",
            " (6725, 512) \n",
            " [[-100    0    0 ...    0    0 -100]\n",
            " [-100    0    0 ... -100 -100 -100]\n",
            " [-100    0    0 ... -100 -100 -100]\n",
            " ...\n",
            " [-100    0    0 ... -100 -100 -100]\n",
            " [-100    0    0 ...    0    0 -100]\n",
            " [-100    0    0 ... -100 -100 -100]]\n"
          ],
          "name": "stdout"
        },
        {
          "output_type": "stream",
          "text": [
            "/usr/local/lib/python3.7/dist-packages/seqeval/metrics/sequence_labeling.py:171: UserWarning: other seems not to be NE tag.\n",
            "  warnings.warn('{} seems not to be NE tag.'.format(chunk))\n",
            "/usr/local/lib/python3.7/dist-packages/seqeval/metrics/sequence_labeling.py:171: UserWarning: total seems not to be NE tag.\n",
            "  warnings.warn('{} seems not to be NE tag.'.format(chunk))\n"
          ],
          "name": "stderr"
        },
        {
          "output_type": "stream",
          "text": [
            "{'loss': 0.003708934170694172, 'precision': 0.873073563801313, 'recall': 0.936731054079381, 'f1': 0.9037827748126113}\n",
            "0.003708934170694172\n"
          ],
          "name": "stdout"
        }
      ]
    },
    {
      "cell_type": "code",
      "metadata": {
        "id": "VRBO6LQ4vQ3t"
      },
      "source": [
        "# print(preds_list)\n",
        "# print(out_label_list)\n",
        "total = 0\n",
        "num_correct = 0\n",
        "for i in range(out_label_ids.shape[0]): #for each invoice\n",
        "    for j in range(out_label_ids.shape[1]): #for each point in the invoice\n",
        "        # print(\"Out label ids: \", out_label_ids[i][j])\n",
        "        if (out_label_ids[i][j] != pad_token_label_id):\n",
        "            total += 1\n",
        "            if out_label_ids[i][j] == preds[i][j]:\n",
        "                num_correct += 1\n",
        "\n",
        "print(num_correct, total, num_correct/total)"
      ],
      "execution_count": null,
      "outputs": []
    },
    {
      "cell_type": "code",
      "metadata": {
        "colab": {
          "base_uri": "https://localhost:8080/"
        },
        "id": "suxV4qFVRLbK",
        "outputId": "db752f09-5ff1-4d32-b741-f15862cb9248"
      },
      "source": [
        "print(outputs.logits.shape)"
      ],
      "execution_count": null,
      "outputs": [
        {
          "output_type": "stream",
          "text": [
            "torch.Size([1, 512, 2])\n"
          ],
          "name": "stdout"
        }
      ]
    },
    {
      "cell_type": "code",
      "metadata": {
        "id": "dvQ4WP-mhZXF",
        "colab": {
          "base_uri": "https://localhost:8080/"
        },
        "outputId": "a81a74c8-45a7-4038-e087-f38d7e58564b"
      },
      "source": [
        "print(np.any(preds == 1))\n",
        "temp = np.array([[0,0,0,0], [1,1,1,1]])\n",
        "np.any(temp == 1)\n",
        "print(out_label_ids, pad_token_label_id)\n",
        "print(np.any(out_label_ids == 1))\n",
        "print(preds.shape)\n",
        "print(preds[0].shape)\n"
      ],
      "execution_count": null,
      "outputs": [
        {
          "output_type": "stream",
          "text": [
            "True\n",
            "[[-100    0    0 ...    0    0 -100]\n",
            " [-100    0    0 ... -100 -100 -100]\n",
            " [-100    0    0 ... -100 -100 -100]\n",
            " ...\n",
            " [-100    0    0 ... -100 -100 -100]\n",
            " [-100    0    0 ...    0    0 -100]\n",
            " [-100    0    0 ... -100 -100 -100]] -100\n",
            "True\n",
            "(6725, 512)\n",
            "(512,)\n"
          ],
          "name": "stdout"
        }
      ]
    },
    {
      "cell_type": "markdown",
      "metadata": {
        "id": "AVTS0zYw5jEg"
      },
      "source": [
        "# Legacy Code"
      ]
    },
    {
      "cell_type": "code",
      "metadata": {
        "id": "xFsxyYAlROV5",
        "colab": {
          "base_uri": "https://localhost:8080/",
          "height": 439
        },
        "outputId": "8aa0698b-5917-4424-cb22-5a5ccc662455"
      },
      "source": [
        "def preprocess_indiv_files(annotation, metadata):\n",
        "        ann = annotation.copy()\n",
        "        ann = ann.rename(columns={\"confidence\": \"label\"})\n",
        "        for i in ann.index:\n",
        "            if ann.loc[i,'content'] == str(metadata[\"AMOUNT\"]):\n",
        "              ann.loc[i,'label'] = \"Total\"\n",
        "            else:\n",
        "              ann.loc[i,'label'] = \"other\"\n",
        "        return ann\n",
        "\n",
        "\n",
        "def preprocess(annotations_folder, metadata_folder):\n",
        "        '''\n",
        "        input: annotations_folder_path, metadata_folder_path\n",
        "        assumes that the corresponding annotations and metadata are present and have the same order in their directories\n",
        "        '''\n",
        "        annotations_files = sorted(glob(annotations_folder + '/*.csv'))\n",
        "        metadata_files = sorted(glob(metadata_folder + '/*.json'))\n",
        "\n",
        "        colnames = pd.read_csv(annotations_files[0], index_col=0).columns.values\n",
        "        annotations = pd.DataFrame(columns = colnames)\n",
        "        annotations = annotations.rename(columns={\"confidence\": \"label\"})\n",
        "\n",
        "        for idx, csv in enumerate(annotations_files):\n",
        "            annotation = pd.read_csv(csv, index_col=0)\n",
        "            metadata = json.load(open(metadata_files[idx], \"r\"))\n",
        "            annotation = preprocess_indiv_files(annotation, metadata)\n",
        "            \n",
        "            annotations = annotations.append(annotation, ignore_index=True)\n",
        "        return annotations\n",
        "\n",
        "\n",
        "temp = preprocess('./apm/annotations', './apm/metadata')\n",
        "temp"
      ],
      "execution_count": null,
      "outputs": [
        {
          "output_type": "execute_result",
          "data": {
            "text/html": [
              "<div>\n",
              "<style scoped>\n",
              "    .dataframe tbody tr th:only-of-type {\n",
              "        vertical-align: middle;\n",
              "    }\n",
              "\n",
              "    .dataframe tbody tr th {\n",
              "        vertical-align: top;\n",
              "    }\n",
              "\n",
              "    .dataframe thead th {\n",
              "        text-align: right;\n",
              "    }\n",
              "</style>\n",
              "<table border=\"1\" class=\"dataframe\">\n",
              "  <thead>\n",
              "    <tr style=\"text-align: right;\">\n",
              "      <th></th>\n",
              "      <th>x0</th>\n",
              "      <th>x2</th>\n",
              "      <th>y0</th>\n",
              "      <th>y2</th>\n",
              "      <th>page_width</th>\n",
              "      <th>page_height</th>\n",
              "      <th>content</th>\n",
              "      <th>label</th>\n",
              "      <th>space</th>\n",
              "    </tr>\n",
              "  </thead>\n",
              "  <tbody>\n",
              "    <tr>\n",
              "      <th>0</th>\n",
              "      <td>160</td>\n",
              "      <td>301</td>\n",
              "      <td>58</td>\n",
              "      <td>113</td>\n",
              "      <td>2123</td>\n",
              "      <td>2726</td>\n",
              "      <td>TXU</td>\n",
              "      <td>other</td>\n",
              "      <td>\\n</td>\n",
              "    </tr>\n",
              "    <tr>\n",
              "      <th>1</th>\n",
              "      <td>162</td>\n",
              "      <td>288</td>\n",
              "      <td>112</td>\n",
              "      <td>151</td>\n",
              "      <td>2123</td>\n",
              "      <td>2726</td>\n",
              "      <td>energy</td>\n",
              "      <td>other</td>\n",
              "      <td>\\n</td>\n",
              "    </tr>\n",
              "    <tr>\n",
              "      <th>2</th>\n",
              "      <td>1813</td>\n",
              "      <td>1965</td>\n",
              "      <td>109</td>\n",
              "      <td>138</td>\n",
              "      <td>2123</td>\n",
              "      <td>2726</td>\n",
              "      <td>11/02/2020</td>\n",
              "      <td>other</td>\n",
              "      <td>\\n</td>\n",
              "    </tr>\n",
              "    <tr>\n",
              "      <th>3</th>\n",
              "      <td>198</td>\n",
              "      <td>230</td>\n",
              "      <td>214</td>\n",
              "      <td>250</td>\n",
              "      <td>2123</td>\n",
              "      <td>2726</td>\n",
              "      <td>MB</td>\n",
              "      <td>other</td>\n",
              "      <td></td>\n",
              "    </tr>\n",
              "    <tr>\n",
              "      <th>4</th>\n",
              "      <td>249</td>\n",
              "      <td>274</td>\n",
              "      <td>214</td>\n",
              "      <td>250</td>\n",
              "      <td>2123</td>\n",
              "      <td>2726</td>\n",
              "      <td>01</td>\n",
              "      <td>other</td>\n",
              "      <td></td>\n",
              "    </tr>\n",
              "    <tr>\n",
              "      <th>...</th>\n",
              "      <td>...</td>\n",
              "      <td>...</td>\n",
              "      <td>...</td>\n",
              "      <td>...</td>\n",
              "      <td>...</td>\n",
              "      <td>...</td>\n",
              "      <td>...</td>\n",
              "      <td>...</td>\n",
              "      <td>...</td>\n",
              "    </tr>\n",
              "    <tr>\n",
              "      <th>686</th>\n",
              "      <td>253</td>\n",
              "      <td>719</td>\n",
              "      <td>2643</td>\n",
              "      <td>2675</td>\n",
              "      <td>1942</td>\n",
              "      <td>2748</td>\n",
              "      <td>www.homedepot.com/survey</td>\n",
              "      <td>other</td>\n",
              "      <td>\\n</td>\n",
              "    </tr>\n",
              "    <tr>\n",
              "      <th>687</th>\n",
              "      <td>1691</td>\n",
              "      <td>1749</td>\n",
              "      <td>2717</td>\n",
              "      <td>2743</td>\n",
              "      <td>1942</td>\n",
              "      <td>2748</td>\n",
              "      <td>Page</td>\n",
              "      <td>other</td>\n",
              "      <td></td>\n",
              "    </tr>\n",
              "    <tr>\n",
              "      <th>688</th>\n",
              "      <td>1760</td>\n",
              "      <td>1767</td>\n",
              "      <td>2715</td>\n",
              "      <td>2742</td>\n",
              "      <td>1942</td>\n",
              "      <td>2748</td>\n",
              "      <td>1</td>\n",
              "      <td>other</td>\n",
              "      <td></td>\n",
              "    </tr>\n",
              "    <tr>\n",
              "      <th>689</th>\n",
              "      <td>1780</td>\n",
              "      <td>1801</td>\n",
              "      <td>2714</td>\n",
              "      <td>2740</td>\n",
              "      <td>1942</td>\n",
              "      <td>2748</td>\n",
              "      <td>of</td>\n",
              "      <td>other</td>\n",
              "      <td></td>\n",
              "    </tr>\n",
              "    <tr>\n",
              "      <th>690</th>\n",
              "      <td>1811</td>\n",
              "      <td>1818</td>\n",
              "      <td>2714</td>\n",
              "      <td>2741</td>\n",
              "      <td>1942</td>\n",
              "      <td>2748</td>\n",
              "      <td>1</td>\n",
              "      <td>other</td>\n",
              "      <td>\\n</td>\n",
              "    </tr>\n",
              "  </tbody>\n",
              "</table>\n",
              "<p>691 rows × 9 columns</p>\n",
              "</div>"
            ],
            "text/plain": [
              "       x0    x2    y0    y2  ... page_height                   content  label space\n",
              "0     160   301    58   113  ...        2726                       TXU  other    \\n\n",
              "1     162   288   112   151  ...        2726                    energy  other    \\n\n",
              "2    1813  1965   109   138  ...        2726                11/02/2020  other    \\n\n",
              "3     198   230   214   250  ...        2726                        MB  other      \n",
              "4     249   274   214   250  ...        2726                        01  other      \n",
              "..    ...   ...   ...   ...  ...         ...                       ...    ...   ...\n",
              "686   253   719  2643  2675  ...        2748  www.homedepot.com/survey  other    \\n\n",
              "687  1691  1749  2717  2743  ...        2748                      Page  other      \n",
              "688  1760  1767  2715  2742  ...        2748                         1  other      \n",
              "689  1780  1801  2714  2740  ...        2748                        of  other      \n",
              "690  1811  1818  2714  2741  ...        2748                         1  other    \\n\n",
              "\n",
              "[691 rows x 9 columns]"
            ]
          },
          "metadata": {
            "tags": []
          },
          "execution_count": 10
        }
      ]
    },
    {
      "cell_type": "code",
      "metadata": {
        "id": "oXWE6Kr72DLw"
      },
      "source": [
        " #updated dataloader\n",
        "from torch.utils.data import Dataset, DataLoader\n",
        "import pandas as pd\n",
        "import torch\n",
        "from torch.nn.functional import pad\n",
        "import json\n",
        "from glob import glob\n",
        "# Define pytorch Dataset\n",
        "\n",
        "class InvoiceDataset(Dataset):\n",
        "\n",
        "    def __init__(self, root_directory):\n",
        "        self.annotations_folder = root_directory + '/annotations/'\n",
        "        self.metadata_folder = root_directory + '/metadata/'\n",
        "        \n",
        "        self.annotations = preprocess(self.annotations_folder, self.metadata_folder)\n",
        "        # self.metadata = json.load(open(metadata, \"r\"))\n",
        "        self.sequence_length = 512\n",
        "              \n",
        "\n",
        "    def __len__(self):\n",
        "        return len(self.annotations)\n",
        "    \n",
        "\n",
        "    def __getitem__(self, idx):\n",
        "\n",
        "        x = self.annotations.iloc[idx,:].values\n",
        "        try:\n",
        "            encoding = tokenizer(x[6], padding=\"max_length\", truncation=True, return_tensors=\"pt\")\n",
        "        except:\n",
        "            encoding = tokenizer('nan', padding=\"max_length\", truncation=True, return_tensors=\"pt\")\n",
        "\n",
        "        label = torch.tensor([1] * self.sequence_length) if x[7] == \"Total\" else torch.tensor([0] * self.sequence_length)\n",
        "        # label = torch.tensor([1]) if x[7] == \"total\" else torch.tensor([0])\n",
        "        bbox = [self.normalize_bbox(x[:4], x[4], x[5])] * (self.sequence_length - 2)\n",
        "        bbox = [[0,0,0,0]] + bbox + [[0,0,0,0]] * (self.sequence_length-2) \n",
        "        bbox = torch.tensor(bbox, dtype=torch.long)\n",
        "\n",
        "        return encoding['input_ids'], encoding['token_type_ids'], encoding['attention_mask'], label, bbox\n",
        "\n",
        "    def normalize_bbox(self, bbox, width, height):\n",
        "        # Width and height correspond to those of the original image\n",
        "        return [\n",
        "            int(1000 * (bbox[0] / width)),\n",
        "            int(1000 * (bbox[2] / height)),\n",
        "            int(1000 * (bbox[1] / width)),\n",
        "            int(1000 * (bbox[3] / height)),\n",
        "        ]\n"
      ],
      "execution_count": null,
      "outputs": []
    },
    {
      "cell_type": "code",
      "metadata": {
        "colab": {
          "base_uri": "https://localhost:8080/",
          "height": 373,
          "referenced_widgets": [
            "1c17621dd64349408238b9cba073728e",
            "2a1a235c5f374a61a6805d8c251f5844",
            "22cb3cb8a12f45aca800d74724ebff00",
            "135b0066dfb24f37bc0ff09effb06ceb",
            "8d64bf0302ac477f8f05f4a6d185d84c",
            "8b74048a501542ad8902c824e5789c21",
            "fa8fea11271d4edc84ceac645f3d4d34",
            "e593bdcfc17f42929cd1e04893d32fc9",
            "6c343913eac441238c140cbad1ecac76",
            "f8fcc5aab49e41a3b268d2f88d66c621",
            "376ffa6e494045bd97b7b88ebe7c56ab",
            "b1182a521d2640b59dfee6fe8eba2018",
            "8e8623b0e8e844c89188620369cdbdda",
            "e3d671b2e74a43148611c9427bcbc158",
            "b1e6587d32ca4f539979400ff341f665",
            "d3c58aa9997c41d5b6eb3f061924b73d"
          ]
        },
        "id": "3oSKbdtu-Lsu",
        "outputId": "359fb508-1598-4496-c98d-9a7ff3126f9f"
      },
      "source": [
        "# Trying stuff for new DataLoader\n",
        "# class one_example:\n",
        "#     self.encoding \n",
        "#     self.bbox\n",
        "#     self.token_labels \n",
        "# [one_example1, one_example2, ...., one_exampleN] where N is the number of invoices\n",
        "\n",
        "print(temp.shape, type(temp))\n",
        "temp_arr = temp.to_numpy()\n",
        "print(temp_arr)\n",
        "token_boxes = []\n",
        "token_labels = [0] # CLS token\n",
        "labels = [\"O\", \"B-TOTAL\"]\n",
        "words = []\n",
        "for row in temp_arr[:301]:\n",
        "    words.append(row[6])\n",
        "    word_tokens = tokenizer.tokenize(row[6]) # Content\n",
        "    width = row[4]\n",
        "    height = row[5]\n",
        "    box = [int(row[0]/width*1000), int(row[2]/height*1000), int(row[1]/width*1000), int(row[3]/height*1000)]\n",
        "    token_boxes.extend([box] * len(word_tokens))\n",
        "    token_labels.extend([1 if row[7]==\"total\" else 0] * len(word_tokens))\n",
        "\n",
        "token_labels.append(0) # SEP token\n",
        "# add bounding boxes of cls + sep tokens\n",
        "token_boxes = [[0, 0, 0, 0]] + token_boxes + [[1000, 1000, 1000, 1000]]\n",
        "encoding = tokenizer(' '.join(words), return_tensors=\"pt\")\n",
        "input_ids = encoding[\"input_ids\"]\n",
        "attention_mask = encoding[\"attention_mask\"]\n",
        "token_type_ids = encoding[\"token_type_ids\"]\n",
        "bbox = torch.tensor([token_boxes])\n",
        "token_labels = torch.tensor([token_labels])\n",
        "\n",
        "print(bbox.shape, token_labels.shape, input_ids.shape, attention_mask.shape, token_type_ids.shape)\n",
        "from transformers import LayoutLMForTokenClassification\n",
        "model = LayoutLMForTokenClassification.from_pretrained('microsoft/layoutlm-base-uncased')\n",
        "outputs = model(input_ids=input_ids, bbox=bbox, attention_mask=attention_mask, token_type_ids=token_type_ids,\n",
        "                labels=token_labels)"
      ],
      "execution_count": null,
      "outputs": [
        {
          "output_type": "stream",
          "text": [
            "(691, 9) <class 'pandas.core.frame.DataFrame'>\n",
            "[[160 301 58 ... 'TXU' 'other' '\\n']\n",
            " [162 288 112 ... 'energy' 'other' '\\n']\n",
            " [1813 1965 109 ... '11/02/2020' 'other' '\\n']\n",
            " ...\n",
            " [1760 1767 2715 ... '1' 'other' ' ']\n",
            " [1780 1801 2714 ... 'of' 'other' ' ']\n",
            " [1811 1818 2714 ... '1' 'other' '\\n']]\n",
            "torch.Size([1, 512, 4]) torch.Size([1, 512]) torch.Size([1, 512]) torch.Size([1, 512]) torch.Size([1, 512])\n"
          ],
          "name": "stdout"
        },
        {
          "output_type": "display_data",
          "data": {
            "application/vnd.jupyter.widget-view+json": {
              "model_id": "1c17621dd64349408238b9cba073728e",
              "version_minor": 0,
              "version_major": 2
            },
            "text/plain": [
              "HBox(children=(FloatProgress(value=0.0, description='Downloading', max=606.0, style=ProgressStyle(description_…"
            ]
          },
          "metadata": {
            "tags": []
          }
        },
        {
          "output_type": "stream",
          "text": [
            "\n"
          ],
          "name": "stdout"
        },
        {
          "output_type": "display_data",
          "data": {
            "application/vnd.jupyter.widget-view+json": {
              "model_id": "6c343913eac441238c140cbad1ecac76",
              "version_minor": 0,
              "version_major": 2
            },
            "text/plain": [
              "HBox(children=(FloatProgress(value=0.0, description='Downloading', max=453093832.0, style=ProgressStyle(descri…"
            ]
          },
          "metadata": {
            "tags": []
          }
        },
        {
          "output_type": "stream",
          "text": [
            "\n"
          ],
          "name": "stdout"
        },
        {
          "output_type": "stream",
          "text": [
            "Some weights of the model checkpoint at microsoft/layoutlm-base-uncased were not used when initializing LayoutLMForTokenClassification: ['cls.predictions.bias', 'cls.predictions.transform.dense.weight', 'cls.predictions.transform.dense.bias', 'cls.predictions.transform.LayerNorm.weight', 'cls.predictions.transform.LayerNorm.bias', 'cls.predictions.decoder.weight', 'cls.predictions.decoder.bias']\n",
            "- This IS expected if you are initializing LayoutLMForTokenClassification from the checkpoint of a model trained on another task or with another architecture (e.g. initializing a BertForSequenceClassification model from a BertForPreTraining model).\n",
            "- This IS NOT expected if you are initializing LayoutLMForTokenClassification from the checkpoint of a model that you expect to be exactly identical (initializing a BertForSequenceClassification model from a BertForSequenceClassification model).\n",
            "Some weights of LayoutLMForTokenClassification were not initialized from the model checkpoint at microsoft/layoutlm-base-uncased and are newly initialized: ['classifier.weight', 'classifier.bias']\n",
            "You should probably TRAIN this model on a down-stream task to be able to use it for predictions and inference.\n"
          ],
          "name": "stderr"
        }
      ]
    },
    {
      "cell_type": "code",
      "metadata": {
        "id": "dx9uR1NGHvM2"
      },
      "source": [
        "# Continuation of experiments for new DataLoader\n",
        "tokens = tokenizer.tokenize(tokenizer.decode(tokenizer.encode(' '.join(words))))\n",
        "logits = outputs.logits\n",
        "print(outputs.logits)\n",
        "preds = torch.argmax(logits, dim=2)\n",
        "print(\"Predictions from model:\\n\")\n",
        "for token, pred in zip(tokens, preds[0].numpy()):\n",
        "    print(token, pred, labels[pred])\n",
        "\n",
        "print(\"Actual labels:\\n\")\n",
        "for token, label in zip(tokens, token_labels[0].numpy()):\n",
        "    print(token, label, labels[label])"
      ],
      "execution_count": null,
      "outputs": []
    },
    {
      "cell_type": "code",
      "metadata": {
        "id": "J_ynFjLVSlD8"
      },
      "source": [
        "# import seaborn as sns\n",
        "# from glob import glob\n",
        "\n",
        "# ann = preprocess('./apm/annotations', './apm/metadata')\n",
        "# # ann.iloc[:,4:-1]\n"
      ],
      "execution_count": null,
      "outputs": []
    },
    {
      "cell_type": "code",
      "metadata": {
        "id": "JNFV42eHSmPd"
      },
      "source": [
        "# ax = sns.distplot(ann['page_height'])\n",
        "# ax.set_title('Heights of Images in Appfolio Dataset', fontsize=15)\n",
        "# ax.set_ylabel('Density', fontsize=13)\n",
        "# ax.set_xlabel('Height size', fontsize=13)"
      ],
      "execution_count": null,
      "outputs": []
    },
    {
      "cell_type": "code",
      "metadata": {
        "id": "A-U0M8ahTTIy"
      },
      "source": [
        "# bx = sns.distplot(ann['page_width'])\n",
        "# bx.set_title('Widths of Images in Appfolio Dataset', fontsize=15)\n",
        "# bx.set_ylabel('Density', fontsize=13)\n",
        "# bx.set_xlabel('Height size', fontsize=13)"
      ],
      "execution_count": null,
      "outputs": []
    },
    {
      "cell_type": "code",
      "metadata": {
        "id": "rh86s-_M5k_G"
      },
      "source": [
        "coordinates = [50, 80, 70, 100]\n",
        "sequence = \"total\"\n",
        "metadata = {\"UID\":\"0002cf94-5d45-48ef-9ca9-14c7e85ecef1\",\"AMOUNT\":52.62,\"WO_NUM\":None,\"IMI_REFERENCE\":\"100072514116\",\"INVOICE_CHECK_MEMO\":\"100072514116\",\"TXN_REFERENCE\":None,\"VHOST\":\"butlerpropertycompany\",\"CREATED_AT\":\"2020-11-06 21:48\"}\n",
        "metadata['AMOUNT']"
      ],
      "execution_count": null,
      "outputs": []
    },
    {
      "cell_type": "markdown",
      "metadata": {
        "id": "_eXDCUcHeRnp"
      },
      "source": [
        ""
      ]
    },
    {
      "cell_type": "code",
      "metadata": {
        "id": "89pgzbSTaZzv"
      },
      "source": [
        "from torch.nn.functional import pad\n",
        "\n",
        "sequence_length = 32\n",
        "\n",
        "labels = torch.tensor([[1, 0, 0, 0]])\n",
        "labels\n",
        "print(labels.shape)\n",
        "# m = ConstantPad1d(32,0)\n",
        "# m(labels)\n",
        "\n",
        "labels = pad(labels, pad=(0, sequence_length - labels.shape[1]))\n",
        "print(labels.shape)\n",
        "print(labels)\n"
      ],
      "execution_count": null,
      "outputs": []
    },
    {
      "cell_type": "code",
      "metadata": {
        "id": "xVzT1v7w26Tt"
      },
      "source": [
        "# #updated dataloader\n",
        "# from torch.utils.data import Dataset, DataLoader\n",
        "# import pandas as pd\n",
        "# import torch\n",
        "# from torch.nn.functional import pad\n",
        "# import json\n",
        "# from glob import glob\n",
        "# # Define pytorch Dataset\n",
        "\n",
        "# class InvoiceDataset(Dataset):\n",
        "\n",
        "#     def __init__(self, root_directory):\n",
        "#         self.annotations_folder = root_directory + '/annotations/'\n",
        "#         self.metadata_folder = root_directory + '/metadata/'\n",
        "        \n",
        "#         self.annotations = preprocess(self.annotations_folder, self.metadata_folder)\n",
        "#         # self.metadata = json.load(open(metadata, \"r\"))\n",
        "#         self.sequence_length = 64\n",
        "              \n",
        "\n",
        "#     def __len__(self):\n",
        "#         return len(self.annotations)\n",
        "    \n",
        "\n",
        "#     def __getitem__(self, idx):\n",
        "\n",
        "#         x = self.annotations.iloc[idx,:].values\n",
        "#         try:\n",
        "#             temp = tokenizer(x[6])\n",
        "#         except:\n",
        "#             temp = tokenizer('nan')\n",
        "        \n",
        "#         input_id = temp['input_ids']\n",
        "#         # input_id = pad(input_id, pad=(0, self.sequence_length - len(input_ids)))\n",
        "#         input_id.extend([0] * (self.sequence_length - len(temp['input_ids'])))\n",
        "#         input_id = torch.tensor(input_id, dtype=torch.long)\n",
        "#         label = torch.tensor([1] * self.sequence_length) if x[7] == \"total\" else torch.tensor([0] * self.sequence_length, dtype=torch.long)\n",
        "#         # label = torch.tensor([1]) if x[7] == \"total\" else torch.tensor([0])\n",
        "#         bbox = [self.normalize_bbox(x[:4], x[4], x[5])] * (self.sequence_length - 2)\n",
        "#         bbox = [[0,0,0,0]] + bbox + [[1000,1000,1000,1000]] # cls + sep tokens\n",
        "#         bbox = torch.tensor(bbox, dtype=torch.long)\n",
        "\n",
        "#         return input_id, label, bbox\n",
        "\n",
        "#     def normalize_bbox(self, bbox, width, height):\n",
        "#         # Width and height correspond to those of the original image\n",
        "#         return [\n",
        "#             int(1000 * (bbox[0] / width)),\n",
        "#             int(1000 * (bbox[2] / height)),\n",
        "#             int(1000 * (bbox[1] / width)),\n",
        "#             int(1000 * (bbox[3] / height)),\n",
        "#         ]\n",
        "\n"
      ],
      "execution_count": null,
      "outputs": []
    },
    {
      "cell_type": "code",
      "metadata": {
        "id": "jeNLnDDYbMet"
      },
      "source": [
        "with open()"
      ],
      "execution_count": null,
      "outputs": []
    },
    {
      "cell_type": "code",
      "metadata": {
        "id": "wSEmxpH8flms"
      },
      "source": [
        "import json\n",
        "import csv\n",
        "import pandas as pd\n",
        "with open(\"metadata.json\") as json_file:\n",
        "    data = json.load(json_file)\n",
        "with open(\"annotation.csv\") as csv_file:\n",
        "    rows = {}\n",
        "    rows['form'] = []\n",
        "    csv_reader = csv.reader(csv_file, delimiter=',')\n",
        "    for row in csv_reader:\n",
        "        continue\n",
        "        # print(row)\n",
        "df = pd.read_csv(\"annotation.csv\", index_col=0)"
      ],
      "execution_count": null,
      "outputs": []
    },
    {
      "cell_type": "code",
      "metadata": {
        "id": "IAXxWVs1hP2_"
      },
      "source": [
        "df_arr = df.to_numpy()\n",
        "df_arr\n",
        "for index, row in enumerate(df_arr):\n",
        "    if row[6] == data[\"AMOUNT\"]:\n",
        "        df_arr[index][7] = \"total\"\n",
        "    else:\n",
        "        df_arr[index][7] = \"other\"\n",
        "# df_arr[5]\n",
        "x = df_arr[1]\n",
        "sequence_length = 32\n",
        "temp = tokenizer(x[6])\n",
        "input_id = temp['input_ids']\n",
        "input_id.extend([0] * (32 - len(temp['input_ids'])))\n",
        "print(input_id)\n",
        "input_id = torch.tensor([input_id], dtype=torch.long)\n",
        "print(input_id.shape)\n",
        "asd = torch.tensor([[1] * sequence_length])\n",
        "print(input_id.shape, asd.shape)\n",
        "out = model(input_ids = input_id, labels = asd)\n"
      ],
      "execution_count": null,
      "outputs": []
    },
    {
      "cell_type": "code",
      "metadata": {
        "id": "TC8EYmr3PbIS"
      },
      "source": [
        "# Try forward pass with a single example\n",
        "sequence_length = 500\n",
        "bbox = [160, 301, 58, 113]\n",
        "content = \"TXU\"\n",
        "label = \"Other\"\n",
        "\n",
        "# bbox_pad = torch.zeros(4)\n",
        "bbox = normalize_bbox([160,301,58,13], 2000, 2600)\n",
        "bbox=[[[1,2,3,5], [1,2,45,2], [6,5,42,1], [7,52,12,9]]]\n",
        "\n",
        "bbox = torch.tensor(bbox, dtype=torch.long)\n",
        "# bbox_pad[:4] = bbox\n",
        "print(\"bbox: \",bbox)\n",
        "temp = tokenizer(content)\n",
        "print(tokenizer.decode(temp['input_ids']))\n",
        "print(\"type input_ids = \", type(temp['input_ids']))\n",
        "input_ids = torch.tensor([temp['input_ids']], dtype=torch.long)\n",
        "print('input_ids: ', input_ids, input_ids.shape)\n",
        "token_type_ids = torch.tensor([temp['token_type_ids']], dtype=torch.long)\n",
        "labels = torch.tensor([[1,0,0,0]])\n",
        "print(\"labels: \",labels, labels.shape)\n",
        "attention_mask = torch.tensor([temp['attention_mask']], dtype=torch.long)\n",
        "print(input_ids, token_type_ids, labels, attention_mask)\n",
        "\n",
        "print(bbox.shape, input_ids.shape, attention_mask.shape, token_type_ids.shape, labels.shape)\n",
        "# out = model(input_ids=input_ids, bbox=bbox, attention_mask=attention_mask, token_type_ids=token_type_ids, labels=labels)\n",
        "out = model(input_ids = input_ids, labels = labels)\n",
        "print(\"out\", out)"
      ],
      "execution_count": null,
      "outputs": []
    },
    {
      "cell_type": "code",
      "metadata": {
        "id": "Mx76fljeWyLa"
      },
      "source": [
        "# Try forward pass with a example of 32 padding\n",
        "sequence_length = 32\n",
        "bbox = [160, 301, 58, 113]\n",
        "content = \"TXU\"\n",
        "label = \"Other\"\n",
        "width = 2000\n",
        "height = 2600\n",
        "\n",
        "bbox = normalize_bbox(bbox, width, height)\n",
        "bbox = torch.tensor(bbox, dtype=torch.long)\n",
        "print(bbox)\n",
        "\n",
        "temp = tokenizer(content)\n",
        "print(temp)"
      ],
      "execution_count": null,
      "outputs": []
    },
    {
      "cell_type": "code",
      "metadata": {
        "id": "fI-ZxThVcpOR"
      },
      "source": [
        "\n",
        "words = [\"worthless\", \"world\"]\n",
        "normalized_word_boxes = [637, 773, 693, 782], [698, 773, 733, 782]\n",
        "token_boxes = []\n",
        "for word, box in zip(words, normalized_word_boxes): \n",
        "    word_tokens = tokenizer.tokenize(word)\n",
        "    print(len(word_tokens))\n",
        "    token_boxes.extend([box] * len(word_tokens))\n",
        "# add bounding boxes of cls + sep tokens\n",
        "token_boxes = [[0, 0, 0, 0]] + token_boxes + [[1000, 1000, 1000, 1000]]\n",
        "encoding = tokenizer(' '.join(words), return_tensors=\"pt\")\n",
        "input_ids = encoding[\"input_ids\"]\n",
        "attention_mask = encoding[\"attention_mask\"]\n",
        "token_type_ids = encoding[\"token_type_ids\"]\n",
        "bbox = torch.tensor([token_boxes])\n",
        "outputs = model(input_ids=input_ids, bbox=bbox, attention_mask=attention_mask, token_type_ids=token_type_ids)\n",
        "# last_hidden_states = outputs.last_hidden_state\n",
        "print(bbox, input_ids.shape, attention_mask, labels.shape)\n",
        "print(word_tokens)\n",
        "print(outputs)\n"
      ],
      "execution_count": null,
      "outputs": []
    },
    {
      "cell_type": "code",
      "metadata": {
        "id": "RshGZTkIh-7H"
      },
      "source": [
        "# trying stuff\n",
        "def normalize_bbox(bbox, width, height):\n",
        "    # Width and height correspond to those of the original image\n",
        "    return [\n",
        "        int(1000 * (bbox[0] / width)),\n",
        "        int(1000 * (bbox[2] / height)),\n",
        "        int(1000 * (bbox[1] / width)),\n",
        "        int(1000 * (bbox[3] / height)),\n",
        "    ]\n",
        "\n",
        "x = [160, 301, 58, 113, 2123, 2726, \"TXU\", 0.98]\n",
        "temp = tokenizer(x[6], padding=True, truncation=True, return_tensors=\"pt\")\n",
        "sequence_length = 64\n",
        "a = normalize_bbox(x[:4], x[4], x[5])\n",
        "b = normalize_bbox(x[:4], x[4], x[5]).extend(a)\n",
        "c = [a]*62\n",
        "c = [[0,0,0,0]] + c + [[1000, 1000, 1000, 1000]]\n",
        "# print(torch.tensor([a.copy()]*62))\n",
        "\n",
        "# print(torch.tensor(c))\n",
        "# print(torch.tensor(c).shape)\n",
        "for batch in train_dataloader:\n",
        "    print(batch)\n",
        "    input_ids = batch[0].to(device)\n",
        "    token_id = batch[1].to(device)\n",
        "    attention_mask = batch[2].to(device)\n",
        "    labels = batch[3].to(device)\n",
        "    bbox = batch[4].to(device)\n",
        "    print(input_ids.shape, token_id.shape, attention_mask.shape, labels.shape)\n",
        "    print(labels.shape, input_ids.shape)\n",
        "    # outputs = model(input_ids = input_ids, token_type_ids = token_id, attention_mask=attention_mask, labels = labels)\n",
        "    labels = torch.tensor([[-100, 1, 1, -1000]])\n",
        "    outputs = model(input_ids = input_ids, labels = labels)\n",
        "    print(outputs.logits)\n",
        "    break"
      ],
      "execution_count": null,
      "outputs": []
    },
    {
      "cell_type": "code",
      "metadata": {
        "id": "dBFz-vf5WzzY"
      },
      "source": [
        "x = [160, 301, 58, 113, 2123, 2726, \"TXU\", 0.98]\n",
        "\n",
        "a = [\"TXU\"]\n",
        "tokenizer = LayoutLMTokenizer.from_pretrained(\"microsoft/layoutlm-base-uncased\")\n",
        "temp = tokenizer(a, padding=\"longest\", truncation=True, return_tensors=\"pt\")\n",
        "temp\n",
        "# encoding = tokenizer(' '.join(a), return_tensors=\"pt\")\n",
        "# encoding\n",
        "print(temp['input_ids'].shape, torch.tensor([-100, 1,1,-100]).shape)\n",
        "model(input_ids = temp['input_ids'].to(device), labels = torch.tensor([-100, 1,1,-100]).to(device))"
      ],
      "execution_count": null,
      "outputs": []
    },
    {
      "cell_type": "code",
      "metadata": {
        "id": "kHiXwtzKkdj6"
      },
      "source": [
        ""
      ],
      "execution_count": null,
      "outputs": []
    },
    {
      "cell_type": "code",
      "metadata": {
        "id": "si0ko8xcfFqJ"
      },
      "source": [
        "#copy of dataloader code box - working on it to create InvoiceDataset\n",
        "import torch \n",
        "import torchvision\n",
        "from torch.utils.data import Dataset, DataLoader\n",
        "import numpy as np\n",
        "import math\n",
        "\n",
        "\n",
        "\n",
        "# Define pytorch Dataset\n",
        "\n",
        "class InvoiceDataset(Dataset):\n",
        "\n",
        "    def __init__(self, root_dir, transform = None):\n",
        "        self.annotations = __get_data__(root_dir + '/box')\n",
        "        self.root_dir = root_dir # Directory with all the images\n",
        "\n",
        "    def __get_data_one_file__(path):\n",
        "      #using path to annotations\n",
        "      invoice = pd.read_csv(path,header=0)\n",
        "      invoice = invoice[['x0','x2','y0','y2','page_width','page_height','content']]\n",
        "      invoice_df = []\n",
        "      for i in invoice:\n",
        "        invoice_df.extend([normalize_bbox([i['x0'],i['x2'],i['y0'],i['y2']], i['page_width'], i['page_height']), i['content']])\n",
        "      return invoice_df\n",
        "\n",
        "    def __get_data__(root_dir_annotations):\n",
        "      annotation_files = sorted(glob(root_dir_annotations+'/*.csv'))\n",
        "\n",
        "      all_invoices_annotations = []\n",
        "\n",
        "      for i in annotation_files:\n",
        "        invoice_df = get_data_one_file(i)\n",
        "        all_invoices_annotations = pd.concat([all_invoices, invoice_df], axis=0, ignore_index = True)\n",
        "        \n",
        "      return(all_invoices_annotations)\n",
        "\n",
        "    def __len__(self):\n",
        "        return (self.annotations).shape[0]\n",
        "    \n",
        "    def __getitem__(self, idx):\n",
        "        return self.annotations[i]\n",
        "\n",
        "\n",
        "        \n",
        "def normalize_bbox(bbox, width, height):\n",
        "     # Width and height correspond to those of the original image\n",
        "     return [\n",
        "         int(1000 * (bbox[0] / width)),\n",
        "         int(1000 * (bbox[1] / height)),\n",
        "         int(1000 * (bbox[2] / width)),\n",
        "         int(1000 * (bbox[3] / height)),\n",
        "     ]\n",
        "\n",
        "# # idx = 0\n",
        "# # bbox = normalize_bbox([df.loc[idx,'x0'],df.loc[idx,'x2'],df.loc[idx,'y0'],df.loc[idx,'y2']], df.loc[idx,'page_width'], df.loc[idx,'page_height'])\n",
        "\n",
        "# path_to_datasets = ...\n",
        "# data_sets = datasets.DatasetFolder(path_to_datasets, loader=get_data_one_file, extensions=['.csv'])\n",
        "# train_loader = torch.utils.data.DataLoader(data_sets, batch_size=32, shuffle=False, num_workers=4)"
      ],
      "execution_count": null,
      "outputs": []
    },
    {
      "cell_type": "code",
      "metadata": {
        "id": "P2d0EJDaG5NQ"
      },
      "source": [
        "from transformers import BertTokenizer\n",
        "\n",
        "tokenizer = BertTokenizer.from_pretrained(\"bert-base-uncased\", model_max_length=16)\n",
        "tokenizer(\"I have a new GPU!\", padding='max_length')"
      ],
      "execution_count": null,
      "outputs": []
    },
    {
      "cell_type": "code",
      "metadata": {
        "id": "xnQgh99cG_9W"
      },
      "source": [
        ""
      ],
      "execution_count": null,
      "outputs": []
    }
  ]
}