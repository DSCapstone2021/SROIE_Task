{
 "cells": [
  {
   "cell_type": "code",
   "execution_count": 1,
   "metadata": {},
   "outputs": [],
   "source": [
    "import json\n",
    "import pandas as pd\n",
    "import numpy as np\n",
    "import matplotlib.pyplot as plt\n",
    "from glob import glob\n",
    "import copy\n",
    "import re\n",
    "from sklearn.metrics import accuracy_score\n",
    "import torch\n",
    "from re import sub\n",
    "from decimal import Decimal"
   ]
  },
  {
   "cell_type": "code",
   "execution_count": 2,
   "metadata": {},
   "outputs": [],
   "source": [
    "def json_to_df(txtfile):\n",
    "    \"\"\"returns json extraction from a txt file.\n",
    "    \"\"\"\n",
    "    with open(txtfile, \"r\") as file:\n",
    "        data = json.load(file)\n",
    "    return(data)"
   ]
  },
  {
   "cell_type": "code",
   "execution_count": 6,
   "metadata": {},
   "outputs": [],
   "source": [
    "def conv_array_float(arr):\n",
    "    '''\n",
    "    input: an array of strings that can be converted to float\n",
    "    output: a copy of the orginal array in the form of a float array\n",
    "    '''\n",
    "    arr1 = arr.copy()\n",
    "    try:\n",
    "        for i,x in enumerate(arr1): \n",
    "            if(x == \"\"):\n",
    "                arr1[i] = -1.0\n",
    "            else: \n",
    "                arr1[i] = float(Decimal(sub(r'[^\\d.]', '', x)))\n",
    "            # print(arr1[i])\n",
    "        return arr1\n",
    "\n",
    "    except ValueError:\n",
    "        print('Cannot convert the string array to float array')\n",
    "        return"
   ]
  },
  {
   "cell_type": "code",
   "execution_count": 3,
   "metadata": {},
   "outputs": [],
   "source": [
    "def reduce_filename(f_list):\n",
    "    \"\"\"\n",
    "    Removes directory names from input filename and returns result\n",
    "    \n",
    "    \"\"\"\n",
    "    out = []\n",
    "    for f in f_list:\n",
    "        m = re.search(r'[a-zA-Z0-9\\(\\)]*\\.txt$', f)\n",
    "        if m:\n",
    "            out.append(m.group(0))\n",
    "    return out"
   ]
  },
  {
   "cell_type": "code",
   "execution_count": 4,
   "metadata": {},
   "outputs": [],
   "source": [
    "def intersection(lst1, lst2): \n",
    "    \"\"\"\n",
    "    Given two lists, returns the elements in the intersection.\n",
    "    \n",
    "    \"\"\"\n",
    "    lst3 = [value for value in lst1 if value in lst2] \n",
    "    return lst3 "
   ]
  },
  {
   "cell_type": "code",
   "execution_count": 5,
   "metadata": {},
   "outputs": [],
   "source": [
    "def find_intersections(file1, file2):\n",
    "    \"\"\"\n",
    "    Given two lists of files, finds all common files.\n",
    "    Used for ensuring that we have a validation for all the files we use\n",
    "    \n",
    "    \"\"\"\n",
    "    file1_reduced = reduce_filename(file1)\n",
    "    file2_reduced = reduce_filename(file2)\n",
    "    inter = intersection(file1_reduced, file2_reduced)\n",
    "    out1 = [f for f in file1 if len(reduce_filename([f])) and (reduce_filename([f])[0] in inter)]\n",
    "    out2 = [f for f in file2 if len(reduce_filename([f])) and (reduce_filename([f])[0] in inter)]\n",
    "    return out1, out2"
   ]
  }
 ],
 "metadata": {
  "kernelspec": {
   "display_name": "Python 3.7.4 64-bit",
   "language": "python",
   "name": "python37464bit9ab3a3d76c514951b70314e27eb549c4"
  },
  "language_info": {
   "codemirror_mode": {
    "name": "ipython",
    "version": 3
   },
   "file_extension": ".py",
   "mimetype": "text/x-python",
   "name": "python",
   "nbconvert_exporter": "python",
   "pygments_lexer": "ipython3",
   "version": "3.7.4"
  }
 },
 "nbformat": 4,
 "nbformat_minor": 4
}
